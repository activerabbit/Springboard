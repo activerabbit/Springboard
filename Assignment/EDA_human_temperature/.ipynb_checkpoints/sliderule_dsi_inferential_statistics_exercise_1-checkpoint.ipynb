{
 "cells": [
  {
   "cell_type": "markdown",
   "metadata": {
    "deletable": true,
    "editable": true
   },
   "source": [
    "# What is the True Normal Human Body Temperature? \n",
    "\n",
    "#### Background\n",
    "\n",
    "The mean normal body temperature was held to be 37$^{\\circ}$C or 98.6$^{\\circ}$F for more than 120 years since it was first conceptualized and reported by Carl Wunderlich in a famous 1868 book. But, is this value statistically correct?"
   ]
  },
  {
   "cell_type": "markdown",
   "metadata": {
    "deletable": true,
    "editable": true
   },
   "source": [
    "<h3>Exercises</h3>\n",
    "\n",
    "<p>In this exercise, you will analyze a dataset of human body temperatures and employ the concepts of hypothesis testing, confidence intervals, and statistical significance.</p>\n",
    "\n",
    "<p>Answer the following questions <b>in this notebook below and submit to your Github account</b>.</p> \n",
    "\n",
    "<ol>\n",
    "<li>  Is the distribution of body temperatures normal? \n",
    "    <ul>\n",
    "    <li> Although this is not a requirement for the Central Limit Theorem to hold (read the introduction on Wikipedia's page about the CLT carefully: https://en.wikipedia.org/wiki/Central_limit_theorem), it gives us some peace of mind that the population may also be normally distributed if we assume that this sample is representative of the population.\n",
    "    <li> Think about the way you're going to check for the normality of the distribution. Graphical methods are usually used first, but there are also other ways: https://en.wikipedia.org/wiki/Normality_test\n",
    "    </ul>\n",
    "<li>  Is the sample size large? Are the observations independent?\n",
    "    <ul>\n",
    "    <li> Remember that this is a condition for the Central Limit Theorem, and hence the statistical tests we are using, to apply.\n",
    "    </ul>\n",
    "<li>  Is the true population mean really 98.6 degrees F?\n",
    "    <ul>\n",
    "    <li> First, try a bootstrap hypothesis test.\n",
    "    <li> Now, let's try frequentist statistical testing. Would you use a one-sample or two-sample test? Why?\n",
    "    <li> In this situation, is it appropriate to use the $t$ or $z$ statistic? \n",
    "    <li> Now try using the other test. How is the result be different? Why?\n",
    "    </ul>\n",
    "<li>  Draw a small sample of size 10 from the data and repeat both frequentist tests. \n",
    "    <ul>\n",
    "    <li> Which one is the correct one to use? \n",
    "    <li> What do you notice? What does this tell you about the difference in application of the $t$ and $z$ statistic?\n",
    "    </ul>\n",
    "<li>  At what temperature should we consider someone's temperature to be \"abnormal\"?\n",
    "    <ul>\n",
    "    <li> As in the previous example, try calculating everything using the boostrap approach, as well as the frequentist approach.\n",
    "    <li> Start by computing the margin of error and confidence interval. When calculating the confidence interval, keep in mind that you should use the appropriate formula for one draw, and not N draws.\n",
    "    </ul>\n",
    "<li>  Is there a significant difference between males and females in normal temperature?\n",
    "    <ul>\n",
    "    <li> What testing approach did you use and why?\n",
    "    <li> Write a story with your conclusion in the context of the original problem.\n",
    "    </ul>\n",
    "</ol>\n",
    "\n",
    "You can include written notes in notebook cells using Markdown: \n",
    "   - In the control panel at the top, choose Cell > Cell Type > Markdown\n",
    "   - Markdown syntax: http://nestacms.com/docs/creating-content/markdown-cheat-sheet\n",
    "\n",
    "#### Resources\n",
    "\n",
    "+ Information and data sources: http://www.amstat.org/publications/jse/datasets/normtemp.txt, http://www.amstat.org/publications/jse/jse_data_archive.htm\n",
    "+ Markdown syntax: http://nestacms.com/docs/creating-content/markdown-cheat-sheet\n",
    "\n",
    "****"
   ]
  },
  {
   "cell_type": "code",
   "execution_count": 1,
   "metadata": {
    "collapsed": true,
    "deletable": true,
    "editable": true
   },
   "outputs": [],
   "source": [
    "import pandas as pd\n",
    "import matplotlib.pyplot as plt\n",
    "import numpy as np\n",
    "from scipy import stats\n",
    "\n",
    "df = pd.read_csv('data/human_body_temperature.csv')"
   ]
  },
  {
   "cell_type": "code",
   "execution_count": 2,
   "metadata": {
    "collapsed": false,
    "deletable": true,
    "editable": true
   },
   "outputs": [
    {
     "name": "stdout",
     "output_type": "stream",
     "text": [
      "<class 'pandas.core.frame.DataFrame'>\n",
      "RangeIndex: 130 entries, 0 to 129\n",
      "Data columns (total 3 columns):\n",
      "temperature    130 non-null float64\n",
      "gender         130 non-null object\n",
      "heart_rate     130 non-null float64\n",
      "dtypes: float64(2), object(1)\n",
      "memory usage: 3.1+ KB\n"
     ]
    },
    {
     "data": {
      "text/html": [
       "<div>\n",
       "<style scoped>\n",
       "    .dataframe tbody tr th:only-of-type {\n",
       "        vertical-align: middle;\n",
       "    }\n",
       "\n",
       "    .dataframe tbody tr th {\n",
       "        vertical-align: top;\n",
       "    }\n",
       "\n",
       "    .dataframe thead th {\n",
       "        text-align: right;\n",
       "    }\n",
       "</style>\n",
       "<table border=\"1\" class=\"dataframe\">\n",
       "  <thead>\n",
       "    <tr style=\"text-align: right;\">\n",
       "      <th></th>\n",
       "      <th>temperature</th>\n",
       "      <th>heart_rate</th>\n",
       "    </tr>\n",
       "  </thead>\n",
       "  <tbody>\n",
       "    <tr>\n",
       "      <th>count</th>\n",
       "      <td>130.000000</td>\n",
       "      <td>130.000000</td>\n",
       "    </tr>\n",
       "    <tr>\n",
       "      <th>mean</th>\n",
       "      <td>98.249231</td>\n",
       "      <td>73.761538</td>\n",
       "    </tr>\n",
       "    <tr>\n",
       "      <th>std</th>\n",
       "      <td>0.733183</td>\n",
       "      <td>7.062077</td>\n",
       "    </tr>\n",
       "    <tr>\n",
       "      <th>min</th>\n",
       "      <td>96.300000</td>\n",
       "      <td>57.000000</td>\n",
       "    </tr>\n",
       "    <tr>\n",
       "      <th>25%</th>\n",
       "      <td>97.800000</td>\n",
       "      <td>69.000000</td>\n",
       "    </tr>\n",
       "    <tr>\n",
       "      <th>50%</th>\n",
       "      <td>98.300000</td>\n",
       "      <td>74.000000</td>\n",
       "    </tr>\n",
       "    <tr>\n",
       "      <th>75%</th>\n",
       "      <td>98.700000</td>\n",
       "      <td>79.000000</td>\n",
       "    </tr>\n",
       "    <tr>\n",
       "      <th>max</th>\n",
       "      <td>100.800000</td>\n",
       "      <td>89.000000</td>\n",
       "    </tr>\n",
       "  </tbody>\n",
       "</table>\n",
       "</div>"
      ],
      "text/plain": [
       "       temperature  heart_rate\n",
       "count   130.000000  130.000000\n",
       "mean     98.249231   73.761538\n",
       "std       0.733183    7.062077\n",
       "min      96.300000   57.000000\n",
       "25%      97.800000   69.000000\n",
       "50%      98.300000   74.000000\n",
       "75%      98.700000   79.000000\n",
       "max     100.800000   89.000000"
      ]
     },
     "execution_count": 2,
     "metadata": {},
     "output_type": "execute_result"
    }
   ],
   "source": [
    "#explore data\n",
    "df.info()\n",
    "df.describe()"
   ]
  },
  {
   "cell_type": "code",
   "execution_count": 3,
   "metadata": {
    "collapsed": false,
    "deletable": true,
    "editable": true
   },
   "outputs": [
    {
     "data": {
      "text/html": [
       "<div>\n",
       "<style scoped>\n",
       "    .dataframe tbody tr th:only-of-type {\n",
       "        vertical-align: middle;\n",
       "    }\n",
       "\n",
       "    .dataframe tbody tr th {\n",
       "        vertical-align: top;\n",
       "    }\n",
       "\n",
       "    .dataframe thead th {\n",
       "        text-align: right;\n",
       "    }\n",
       "</style>\n",
       "<table border=\"1\" class=\"dataframe\">\n",
       "  <thead>\n",
       "    <tr style=\"text-align: right;\">\n",
       "      <th></th>\n",
       "      <th>temperature</th>\n",
       "      <th>gender</th>\n",
       "      <th>heart_rate</th>\n",
       "    </tr>\n",
       "  </thead>\n",
       "  <tbody>\n",
       "    <tr>\n",
       "      <th>0</th>\n",
       "      <td>99.3</td>\n",
       "      <td>F</td>\n",
       "      <td>68.0</td>\n",
       "    </tr>\n",
       "    <tr>\n",
       "      <th>1</th>\n",
       "      <td>98.4</td>\n",
       "      <td>F</td>\n",
       "      <td>81.0</td>\n",
       "    </tr>\n",
       "    <tr>\n",
       "      <th>2</th>\n",
       "      <td>97.8</td>\n",
       "      <td>M</td>\n",
       "      <td>73.0</td>\n",
       "    </tr>\n",
       "    <tr>\n",
       "      <th>3</th>\n",
       "      <td>99.2</td>\n",
       "      <td>F</td>\n",
       "      <td>66.0</td>\n",
       "    </tr>\n",
       "    <tr>\n",
       "      <th>4</th>\n",
       "      <td>98.0</td>\n",
       "      <td>F</td>\n",
       "      <td>73.0</td>\n",
       "    </tr>\n",
       "  </tbody>\n",
       "</table>\n",
       "</div>"
      ],
      "text/plain": [
       "   temperature gender  heart_rate\n",
       "0         99.3      F        68.0\n",
       "1         98.4      F        81.0\n",
       "2         97.8      M        73.0\n",
       "3         99.2      F        66.0\n",
       "4         98.0      F        73.0"
      ]
     },
     "execution_count": 3,
     "metadata": {},
     "output_type": "execute_result"
    }
   ],
   "source": [
    "df.head()"
   ]
  },
  {
   "cell_type": "code",
   "execution_count": 4,
   "metadata": {
    "collapsed": true,
    "deletable": true,
    "editable": true
   },
   "outputs": [],
   "source": [
    "np_temp = df['temperature'].values\n",
    "temp_mean = np.mean(np_temp)\n",
    "temp_std = np.std(np_temp)"
   ]
  },
  {
   "cell_type": "markdown",
   "metadata": {
    "deletable": true,
    "editable": true
   },
   "source": [
    "## 1. Is the distribution of body temperatures normal?\n",
    "An exploration of the dataset with normal distribution and CDF should provide an graphical solution "
   ]
  },
  {
   "cell_type": "code",
   "execution_count": 5,
   "metadata": {
    "collapsed": false,
    "deletable": true,
    "editable": true
   },
   "outputs": [
    {
     "data": {
      "image/png": "[encoded data removed]",
      "text/plain": [
       "<matplotlib.figure.Figure at 0x185e473cf98>"
      ]
     },
     "metadata": {},
     "output_type": "display_data"
    }
   ],
   "source": [
    "#looking at the histogram, the data appears to be slightly left skewed. But pretty normalized\n",
    "norm_dis130 = np.random.normal(temp_mean, temp_std, size = 130)\n",
    "norm_dis10000 = np.random.normal(temp_mean, temp_std, size = 10000)\n",
    "\n",
    "plt.figure(figsize = [10, 8])\n",
    "plt.subplot(2, 1, 1)\n",
    "_ = plt.hist(df['temperature'], bins = 15, normed = True, histtype = 'step')\n",
    "_ = plt.hist(norm_dis130, bins = 15, histtype = 'step', normed = True)\n",
    "plt.xlabel('Temperature (F)')\n",
    "plt.title('Human Body Temperature Profile')\n",
    "plt.ylabel('PDF')\n",
    "plt.legend(('Data', 'Normal Distribution 130'), loc = 'upper right')\n",
    "\n",
    "plt.subplot(2, 1, 2)\n",
    "_ = plt.hist(df['temperature'], bins = 15, normed = True, histtype = 'step')\n",
    "_ = plt.hist(norm_dis10000, bins = 15, histtype = 'step', normed = True)\n",
    "plt.xlabel('Temperature (F)')\n",
    "plt.title('Human Body Temperature Profile')\n",
    "plt.ylabel('PDF')\n",
    "plt.legend(('Data', 'Normal Distribution 10000'), loc = 'upper right')\n",
    "plt.tight_layout()"
   ]
  },
  {
   "cell_type": "code",
   "execution_count": 6,
   "metadata": {
    "collapsed": false,
    "deletable": true,
    "editable": true
   },
   "outputs": [],
   "source": [
    "#define ecdf\n",
    "def ecdf(data):\n",
    "    x = np.sort(data)\n",
    "    y = np.arange(1, 1 + len(data))/len(data)\n",
    "    return x, y"
   ]
  },
  {
   "cell_type": "code",
   "execution_count": 7,
   "metadata": {
    "collapsed": false,
    "deletable": true,
    "editable": true
   },
   "outputs": [
    {
     "data": {
      "image/png": "[encoded data removed]",
      "text/plain": [
       "<matplotlib.figure.Figure at 0x185e4768518>"
      ]
     },
     "metadata": {},
     "output_type": "display_data"
    }
   ],
   "source": [
    "#Plot the cdf of normal distribution based on mean and std of dataset and graph it to the cdf of body temperature data\n",
    "ecdf_x, ecdf_y = ecdf(np_temp)\n",
    "ecdf_norm130x, ecdf_norm130y = ecdf(norm_dis130)\n",
    "ecdf_norm10000x, ecdf_norm10000y = ecdf(norm_dis10000)\n",
    "\n",
    "plt.figure(figsize = [9, 8])\n",
    "plt.subplot(2, 1, 1)\n",
    "_ = plt.plot(ecdf_x, ecdf_y, marker = '.', linestyle = 'none', color = 'red')\n",
    "_ = plt.plot(ecdf_norm130x, ecdf_norm130y, color = 'blue')\n",
    "plt.xlabel('Temperature (F)')\n",
    "plt.ylabel('CDF')\n",
    "plt.title('Graphical Comparison of Normal Distribution and Body Temperature Data')\n",
    "plt.legend(('Body Temperature Data', 'Normal Distribution 130'), loc = 'lower right')\n",
    "\n",
    "plt.subplot(2, 1, 2)\n",
    "_ = plt.plot(ecdf_x, ecdf_y, marker = '.', linestyle = 'none', color = 'red')\n",
    "_ = plt.plot(ecdf_norm10000x, ecdf_norm10000y, color = 'blue')\n",
    "plt.xlabel('Temperature (F)')\n",
    "plt.ylabel('F(Temperature)')\n",
    "plt.title('Graphical Comparison of Normal Distribution and Body Temperature Data')\n",
    "plt.legend(('Body Temperature Data', 'Normal Distribution 10000'), loc = 'lower right')\n",
    "plt.tight_layout()"
   ]
  },
  {
   "cell_type": "markdown",
   "metadata": {
    "deletable": true,
    "editable": true
   },
   "source": [
    "From the observed random normal distribution for 130 and 10000 samples clearly shows 10000 is more normally distributed. Since the dataset only have 130 sample size, it more realistic to compare the similar sample size to determine whether the sample is normalize. Both PDF and CDF comparison for 130 sample size shows clear choppiness but maintain structural integrity for normal distribution"
   ]
  },
  {
   "cell_type": "markdown",
   "metadata": {
    "deletable": true,
    "editable": true
   },
   "source": [
    "## 2. Is the sample size large? Are the observations independent?\n",
    "\n",
    "Exploration of the sample size and idea of population size would resolve the question"
   ]
  },
  {
   "cell_type": "code",
   "execution_count": 8,
   "metadata": {
    "collapsed": false,
    "deletable": true,
    "editable": true
   },
   "outputs": [
    {
     "name": "stdout",
     "output_type": "stream",
     "text": [
      "Dataset size: n = 130\n"
     ]
    }
   ],
   "source": [
    "print('Dataset size: n = ' + str(len(np_temp)))"
   ]
  },
  {
   "cell_type": "markdown",
   "metadata": {
    "deletable": true,
    "editable": true
   },
   "source": [
    "We have 130 samples of data from a pool of world population, which fullfills the criteria of n > 30 for normal distributed sample population. The sample is large enough and can be considered independent by the < 10% rule"
   ]
  },
  {
   "cell_type": "markdown",
   "metadata": {
    "deletable": true,
    "editable": true
   },
   "source": [
    "## 3. Is the true population mean really 98.6 degrees F\n",
    "First, try a bootstrap hypothesis test\n",
    "<br>Now, let's try frequentist statistical testing. Would you use a one-sample or two-sample test? Why?\n",
    "<br>In this situation, is it appropriate to use the  t  or  z  statistic?\n",
    "<br>Now try using the other test. How is the result be different? Why?\n",
    "\n",
    "\n",
    "<br> I would use one-sample test because the problem is comparing 98.6F to 98.2F found in the dataset.\n",
    "<br>H0: mean = 98.6F \n",
    "<br>Ha: mean < 98.6F\n",
    "\n",
    "<br> Both t or z statistic would work fine in this sample. Personally z-statistic would be more intuitive and easier since the degrees of freedom is large. "
   ]
  },
  {
   "cell_type": "code",
   "execution_count": 9,
   "metadata": {
    "collapsed": false,
    "deletable": true,
    "editable": true
   },
   "outputs": [
    {
     "data": {
      "text/plain": [
       "<matplotlib.text.Text at 0x185e4b9b320>"
      ]
     },
     "execution_count": 9,
     "metadata": {},
     "output_type": "execute_result"
    },
    {
     "data": {
      "image/png": "[encoded data removed]",
      "text/plain": [
       "<matplotlib.figure.Figure at 0x185e4aace80>"
      ]
     },
     "metadata": {},
     "output_type": "display_data"
    }
   ],
   "source": [
    "###bootstrap the sample after adjusting the mean to 98.6\n",
    "new_np_temp = np_temp - np.mean(np_temp) + 98.6\n",
    "boot_10000 = []\n",
    "for x in range(10000):\n",
    "    sample = np.random.choice(new_np_temp, size = len(np_temp))\n",
    "    mean = np.mean(sample)\n",
    "    boot_10000.append(mean)\n",
    "boot_10000 = np.array(boot_10000)\n",
    "_ = plt.hist(boot_10000, bins = 25, normed = True)\n",
    "plt.xlabel('Temperature (F)')\n",
    "plt.ylabel('PDF')\n",
    "plt.title('Bootstrap Distribution')"
   ]
  },
  {
   "cell_type": "code",
   "execution_count": 10,
   "metadata": {
    "collapsed": false,
    "deletable": true,
    "editable": true
   },
   "outputs": [
    {
     "name": "stdout",
     "output_type": "stream",
     "text": [
      "p-value is 0.0\n"
     ]
    }
   ],
   "source": [
    "###evaluate p-value\n",
    "under_mean = boot_10000[boot_10000 < np.mean(np_temp)]\n",
    "p_value = sum(under_mean)/len(boot_10000)\n",
    "print('p-value is ' + str(p_value))"
   ]
  },
  {
   "cell_type": "markdown",
   "metadata": {
    "deletable": true,
    "editable": true
   },
   "source": [
    "Bootstrap testing shows no occurence of 98.2F in the bootstrap model; as a result, we reject the null hypothesis and accepts the alternative hypothesis that the true mean is less than 98.2F."
   ]
  },
  {
   "cell_type": "code",
   "execution_count": 11,
   "metadata": {
    "collapsed": false,
    "deletable": true,
    "editable": true
   },
   "outputs": [
    {
     "name": "stdout",
     "output_type": "stream",
     "text": [
      "The p-value is 0.0\n"
     ]
    }
   ],
   "source": [
    "z_score = (98.6-temp_mean)/(temp_std/np.sqrt(130))\n",
    "p_value = 1 - stats.norm.cdf(z_score)\n",
    "print('The p-value is ' + str(round(p_value, 2)))"
   ]
  },
  {
   "cell_type": "markdown",
   "metadata": {
    "deletable": true,
    "editable": true
   },
   "source": [
    "The z-score yield practically 0 for p-value for both t-statistics and z-statistics and thus rejecting the null hypothesis that p = 98.6F."
   ]
  },
  {
   "cell_type": "markdown",
   "metadata": {
    "deletable": true,
    "editable": true
   },
   "source": [
    "## 4. Draw a small sample of size 10 from the data and repeat both frequentist tests.\n",
    "We should use t-statistics for this because a draw of 10 points from the data is less than 30 and cannot be approximated as a normal distribution"
   ]
  },
  {
   "cell_type": "code",
   "execution_count": 12,
   "metadata": {
    "collapsed": false,
    "deletable": true,
    "editable": true
   },
   "outputs": [],
   "source": [
    "sample10 = np.random.choice(new_np_temp, size = 10)"
   ]
  },
  {
   "cell_type": "code",
   "execution_count": 13,
   "metadata": {
    "collapsed": false,
    "deletable": true,
    "editable": true
   },
   "outputs": [],
   "source": [
    "sample10_mean = np.mean(sample10)\n",
    "sample10_std = np.std(sample10)"
   ]
  },
  {
   "cell_type": "code",
   "execution_count": 14,
   "metadata": {
    "collapsed": false,
    "deletable": true,
    "editable": true
   },
   "outputs": [
    {
     "name": "stdout",
     "output_type": "stream",
     "text": [
      "The p-value is 0.878 using t-test\n"
     ]
    }
   ],
   "source": [
    "z_score = (98.6 - sample10_mean)/(sample10_std/np.sqrt(10))\n",
    "p_value = 1- stats.t.cdf(z_score, 9)\n",
    "print('The p-value is ' + str(round(p_value, 3)) + ' using t-test')"
   ]
  },
  {
   "cell_type": "code",
   "execution_count": 15,
   "metadata": {
    "collapsed": false,
    "deletable": true,
    "editable": true
   },
   "outputs": [
    {
     "name": "stdout",
     "output_type": "stream",
     "text": [
      "The p-value is 0.893 using z-test\n"
     ]
    }
   ],
   "source": [
    "p_value = 1 - stats.norm.cdf(z_score)\n",
    "print('The p-value is ' + str(round(p_value, 3)) + ' using z-test')"
   ]
  },
  {
   "cell_type": "markdown",
   "metadata": {
    "deletable": true,
    "editable": true
   },
   "source": [
    "The p-value for t-statistic is determined to be 0.878 and we failed to reject the null hypothesis. The p-value for z-statistic is 0.878 and again failed to reject the null hypothesis. Although the final results ended up failing to reject the null hypothesis, the p-values evaluated for z-statistics is clearly more generous. t-statistics should be used for n < 30"
   ]
  },
  {
   "cell_type": "markdown",
   "metadata": {
    "deletable": true,
    "editable": true
   },
   "source": [
    "## 5. At what temperature should we consider someone's temperature to be \"abnormal\"?\n",
    "A evaluation of the margin of error and the confidence interval should determine abnormality. A p-value of 5% would be consider abnormal and should be treated as such."
   ]
  },
  {
   "cell_type": "code",
   "execution_count": 16,
   "metadata": {
    "collapsed": false,
    "deletable": true,
    "editable": true
   },
   "outputs": [
    {
     "name": "stdout",
     "output_type": "stream",
     "text": [
      "The mean of the margin error is 1.42\n"
     ]
    },
    {
     "data": {
      "image/png": "[encoded data removed]",
      "text/plain": [
       "<matplotlib.figure.Figure at 0x185e4c2a438>"
      ]
     },
     "metadata": {},
     "output_type": "display_data"
    }
   ],
   "source": [
    "#bootstrap taking the margin of error as samples\n",
    "boot_10000 = []\n",
    "\n",
    "for i in range(10000):\n",
    "    rand_boot = np.random.choice(np_temp, size = 130)\n",
    "    mar_err = 1.96*np.std(rand_boot)\n",
    "    boot_10000.append(mar_err)\n",
    "\n",
    "boot_10000 = np.array(boot_10000)\n",
    "_ = plt.hist(boot_10000, bins = 25, normed = True)\n",
    "plt.xlabel('Temperature (F)')\n",
    "plt.ylabel('PDF')\n",
    "plt.title('Distribution for Margin of Error of 95%')\n",
    "\n",
    "print('The mean of the margin error is ' + str(round(np.mean(boot_10000), 2)))"
   ]
  },
  {
   "cell_type": "code",
   "execution_count": 17,
   "metadata": {
    "collapsed": false,
    "deletable": true,
    "editable": true
   },
   "outputs": [
    {
     "name": "stdout",
     "output_type": "stream",
     "text": [
      "The data shows a 95% confidence interval of temperature between 96.8F and 99.7F with an average margin of error of 1.4F\n"
     ]
    }
   ],
   "source": [
    "print('The data shows a 95% confidence interval of temperature between ' + \n",
    "      str(round(temp_mean - np.mean(boot_10000), 1)) + 'F' +\n",
    "      ' and ' + str(round(temp_mean + np.mean(boot_10000),1)) + \n",
    "      'F' + ' with an average margin of error of 1.4F')"
   ]
  },
  {
   "cell_type": "code",
   "execution_count": 18,
   "metadata": {
    "collapsed": false
   },
   "outputs": [
    {
     "name": "stdout",
     "output_type": "stream",
     "text": [
      "The data shows a 95% confidence interval of temperature between 96.7F and 99.5F with an average margin of error of 1.4F.\n"
     ]
    }
   ],
   "source": [
    "LowerCI, UpperCI = np.percentile(np_temp, [2.5, 97.5])\n",
    "MOE = (UpperCI - LowerCI)/2\n",
    "print('The data shows a 95% confidence interval of temperature between ' \n",
    "      + str(round(LowerCI, 1)) + 'F and ' + str(round(UpperCI, 1)) + \n",
    "      'F with an average margin of error of ' + str(round(MOE, 1)) + 'F.' )"
   ]
  },
  {
   "cell_type": "markdown",
   "metadata": {
    "deletable": true,
    "editable": true
   },
   "source": [
    "## 6. Is there a significant difference between males and females in normal temperature?\n",
    "known popularly now a days, females tend to have slightly higher body temperature than males. An exploration of the second feature on the body temperature would reveal if the margin is statistically significant\n",
    "<br> First the data can be represented by CDF of the given data to visually sight differences\n",
    "<br> Then a bootstrap approach using permutation on the mean and take the difference of mean. Then conduct an hypothesis test with a significant level of 0.05\n",
    "<br> Ho: temp(F) = temp(M)\n",
    "<br> Ha: temp(F) > temp(M)"
   ]
  },
  {
   "cell_type": "code",
   "execution_count": 19,
   "metadata": {
    "collapsed": true,
    "deletable": true,
    "editable": true
   },
   "outputs": [],
   "source": [
    "# data wrangle the male and female temp\n",
    "male_temp = df[df['gender'] == 'M']['temperature']\n",
    "female_temp = df[df['gender'] == 'F']['temperature']"
   ]
  },
  {
   "cell_type": "code",
   "execution_count": 20,
   "metadata": {
    "collapsed": false,
    "deletable": true,
    "editable": true
   },
   "outputs": [
    {
     "data": {
      "text/plain": [
       "count    65.000000\n",
       "mean     98.104615\n",
       "std       0.698756\n",
       "min      96.300000\n",
       "25%      97.600000\n",
       "50%      98.100000\n",
       "75%      98.600000\n",
       "max      99.500000\n",
       "Name: temperature, dtype: float64"
      ]
     },
     "execution_count": 20,
     "metadata": {},
     "output_type": "execute_result"
    }
   ],
   "source": [
    "male_temp.describe()"
   ]
  },
  {
   "cell_type": "code",
   "execution_count": 21,
   "metadata": {
    "collapsed": false,
    "deletable": true,
    "editable": true
   },
   "outputs": [
    {
     "data": {
      "text/plain": [
       "count     65.000000\n",
       "mean      98.393846\n",
       "std        0.743488\n",
       "min       96.400000\n",
       "25%       98.000000\n",
       "50%       98.400000\n",
       "75%       98.800000\n",
       "max      100.800000\n",
       "Name: temperature, dtype: float64"
      ]
     },
     "execution_count": 21,
     "metadata": {},
     "output_type": "execute_result"
    }
   ],
   "source": [
    "female_temp.describe()"
   ]
  },
  {
   "cell_type": "code",
   "execution_count": 22,
   "metadata": {
    "collapsed": false,
    "deletable": true,
    "editable": true
   },
   "outputs": [
    {
     "data": {
      "text/plain": [
       "<matplotlib.legend.Legend at 0x185e4acf828>"
      ]
     },
     "execution_count": 22,
     "metadata": {},
     "output_type": "execute_result"
    },
    {
     "data": {
      "image/png": "[encoded data removed]",
      "text/plain": [
       "<matplotlib.figure.Figure at 0x185e4c8c6a0>"
      ]
     },
     "metadata": {},
     "output_type": "display_data"
    }
   ],
   "source": [
    "#graph ecdf\n",
    "male_norm = np.random.normal(np.mean(male_temp), np.std(male_temp), size = 10000)\n",
    "female_norm = np.random.normal(np.mean(female_temp), np.std(female_temp), size = 10000)\n",
    "male_normx, male_normy = ecdf(male_norm)\n",
    "female_normx, female_normy = ecdf(female_norm)\n",
    "temp_malex, temp_maley = ecdf(male_temp)\n",
    "temp_femalex, temp_femaley = ecdf(female_temp)\n",
    "\n",
    "_ = plt.plot(temp_malex, temp_maley, marker = '.', linestyle = 'none', color = 'red')\n",
    "_ = plt.plot(temp_femalex, temp_femaley, marker = '.', linestyle = 'none', color = 'blue')\n",
    "_ = plt.plot(male_normx, male_normy)\n",
    "_ = plt.plot(female_normx, female_normy)\n",
    "plt.xlabel('Temperature (F)')\n",
    "plt.ylabel('CDF')\n",
    "plt.title('Body Temperature of Female and Male')\n",
    "plt.legend(('Male', 'Female'), loc = 'lower right')"
   ]
  },
  {
   "cell_type": "code",
   "execution_count": 23,
   "metadata": {
    "collapsed": false,
    "deletable": true,
    "editable": true
   },
   "outputs": [
    {
     "data": {
      "text/plain": [
       "<matplotlib.text.Text at 0x185e49f5160>"
      ]
     },
     "execution_count": 23,
     "metadata": {},
     "output_type": "execute_result"
    },
    {
     "data": {
      "image/png": "[encoded data removed]",
      "text/plain": [
       "<matplotlib.figure.Figure at 0x185e4744e80>"
      ]
     },
     "metadata": {},
     "output_type": "display_data"
    }
   ],
   "source": [
    "##bootstrap approach\n",
    "diff = np.mean(male_norm) - np.mean(female_norm)\n",
    "indx = np.arange(130)\n",
    "bootm_10000 = []\n",
    "for i in range(10000):\n",
    "    boot_indx = np.random.choice(indx, size = 130)\n",
    "    boot = df.iloc[boot_indx]\n",
    "    boot_female_mean = np.mean(boot[boot['gender'] == 'F'].temperature)\n",
    "    boot_male_mean = np.mean(boot[boot['gender'] == 'M'].temperature)\n",
    "    difference = boot_male_mean - boot_female_mean\n",
    "    bootm_10000.append(difference)\n",
    "bootm_10000 = np.array(bootm_10000)\n",
    "_ = plt.hist(bootm_10000, bins = 25, normed = True)\n",
    "plt.xlabel('Temperature (F)')\n",
    "plt.ylabel('PDF')\n",
    "plt.title('Bootstrap Distribution')"
   ]
  },
  {
   "cell_type": "code",
   "execution_count": 24,
   "metadata": {
    "collapsed": false,
    "deletable": true,
    "editable": true
   },
   "outputs": [
    {
     "name": "stdout",
     "output_type": "stream",
     "text": [
      "The p-value is 0.47\n"
     ]
    }
   ],
   "source": [
    "crit_bootm = bootm_10000 <= diff\n",
    "p_value = np.sum(crit_bootm)/len(bootm_10000)\n",
    "print('The p-value is ' + str(round(p_value, 2)))"
   ]
  },
  {
   "cell_type": "markdown",
   "metadata": {
    "deletable": true,
    "editable": true
   },
   "source": [
    "The bootstrap hypothesis test fail to reject the null hypthothesis with p-value of 0.51. \n",
    "\n",
    "Since from the graphical observation of the female temperature depicts an approximate normal distribution and n > 30, the the p-value yield 0.51 and again failed to reject the null hypothesis. \n",
    "\n",
    "In terms of the context of the assignment, the data does not show enough evidence that the gender is correlated to body temperature."
   ]
  },
  {
   "cell_type": "code",
   "execution_count": null,
   "metadata": {
    "collapsed": true,
    "deletable": true,
    "editable": true
   },
   "outputs": [],
   "source": []
  }
 ],
 "metadata": {
  "kernelspec": {
   "display_name": "Python 3",
   "language": "python",
   "name": "python3"
  },
  "language_info": {
   "codemirror_mode": {
    "name": "ipython",
    "version": 3
   },
   "file_extension": ".py",
   "mimetype": "text/x-python",
   "name": "python",
   "nbconvert_exporter": "python",
   "pygments_lexer": "ipython3",
   "version": "3.5.2"
  }
 },
 "nbformat": 4,
 "nbformat_minor": 1
}
