{
 "cells": [
  {
   "cell_type": "markdown",
   "metadata": {
    "deletable": true,
    "editable": true
   },
   "source": [
    "This exercise will require you to pull some data from the Qunadl API. Qaundl is currently the most widely used aggregator of financial market data."
   ]
  },
  {
   "cell_type": "markdown",
   "metadata": {
    "deletable": true,
    "editable": true
   },
   "source": [
    "As a first step, you will need to register a free account on the http://www.quandl.com website."
   ]
  },
  {
   "cell_type": "markdown",
   "metadata": {
    "deletable": true,
    "editable": true
   },
   "source": [
    "After you register, you will be provided with a unique API key, that you should store:"
   ]
  },
  {
   "cell_type": "code",
   "execution_count": 1,
   "metadata": {
    "collapsed": true,
    "deletable": true,
    "editable": true
   },
   "outputs": [],
   "source": [
    "# Store the API key as a string - according to PEP8, constants are always named in all upper case\n",
    "API_KEY = 'J5FP1fJzqoU94XCqxFqa'"
   ]
  },
  {
   "cell_type": "markdown",
   "metadata": {
    "deletable": true,
    "editable": true
   },
   "source": [
    "Qaundl has a large number of data sources, but, unfortunately, most of them require a Premium subscription. Still, there are also a good number of free datasets."
   ]
  },
  {
   "cell_type": "markdown",
   "metadata": {
    "deletable": true,
    "editable": true
   },
   "source": [
    "For this mini project, we will focus on equities data from the Frankfurt Stock Exhange (FSE), which is available for free. We'll try and analyze the stock prices of a company called Carl Zeiss Meditec, which manufactures tools for eye examinations, as well as medical lasers for laser eye surgery: https://www.zeiss.com/meditec/int/home.html. The company is listed under the stock ticker AFX_X."
   ]
  },
  {
   "cell_type": "markdown",
   "metadata": {
    "deletable": true,
    "editable": true
   },
   "source": [
    "You can find the detailed Quandl API instructions here: https://docs.quandl.com/docs/time-series"
   ]
  },
  {
   "cell_type": "markdown",
   "metadata": {
    "deletable": true,
    "editable": true
   },
   "source": [
    "While there is a dedicated Python package for connecting to the Quandl API, we would prefer that you use the *requests* package, which can be easily downloaded using *pip* or *conda*. You can find the documentation for the package here: http://docs.python-requests.org/en/master/ "
   ]
  },
  {
   "cell_type": "markdown",
   "metadata": {
    "deletable": true,
    "editable": true
   },
   "source": [
    "Finally, apart from the *requests* package, you are encouraged to not use any third party Python packages, such as *pandas*, and instead focus on what's available in the Python Standard Library (the *collections* module might come in handy: https://pymotw.com/3/collections/).\n",
    "Also, since you won't have access to DataFrames, you are encouraged to us Python's native data structures - preferably dictionaries, though some questions can also be answered using lists.\n",
    "You can read more on these data structures here: https://docs.python.org/3/tutorial/datastructures.html"
   ]
  },
  {
   "cell_type": "markdown",
   "metadata": {
    "deletable": true,
    "editable": true
   },
   "source": [
    "Keep in mind that the JSON responses you will be getting from the API map almost one-to-one to Python's dictionaries. Unfortunately, they can be very nested, so make sure you read up on indexing dictionaries in the documentation provided above."
   ]
  },
  {
   "cell_type": "code",
   "execution_count": 2,
   "metadata": {
    "collapsed": true,
    "deletable": true,
    "editable": true
   },
   "outputs": [],
   "source": [
    "# First, import the relevant modules\n",
    "import requests as re\n",
    "import collections"
   ]
  },
  {
   "cell_type": "code",
   "execution_count": 3,
   "metadata": {
    "collapsed": false,
    "deletable": true,
    "editable": true
   },
   "outputs": [],
   "source": [
    "# Now, call the Quandl API and pull out a small sample of the data (only one day) to get a glimpse\n",
    "# into the JSON structure that will be returned\n",
    "r = re.get(\"https://www.quandl.com/api/v3/datasets/FSE/AFX_X.json?start_date=2019-02-26&api_key=J5FP1fJzqoU94XCqxFqa\")"
   ]
  },
  {
   "cell_type": "code",
   "execution_count": 4,
   "metadata": {
    "collapsed": false,
    "deletable": true,
    "editable": true
   },
   "outputs": [
    {
     "data": {
      "text/plain": [
       "{'dataset': {'collapse': None,\n",
       "  'column_index': None,\n",
       "  'column_names': ['Date',\n",
       "   'Open',\n",
       "   'High',\n",
       "   'Low',\n",
       "   'Close',\n",
       "   'Change',\n",
       "   'Traded Volume',\n",
       "   'Turnover',\n",
       "   'Last Price of the Day',\n",
       "   'Daily Traded Units',\n",
       "   'Daily Turnover'],\n",
       "  'data': [['2019-03-18',\n",
       "    None,\n",
       "    79.65,\n",
       "    78.05,\n",
       "    78.8,\n",
       "    None,\n",
       "    92351.0,\n",
       "    7278947.0,\n",
       "    None,\n",
       "    None,\n",
       "    None],\n",
       "   ['2019-03-15',\n",
       "    None,\n",
       "    79.05,\n",
       "    78.0,\n",
       "    78.7,\n",
       "    None,\n",
       "    115466.0,\n",
       "    9084069.0,\n",
       "    None,\n",
       "    None,\n",
       "    None],\n",
       "   ['2019-03-14',\n",
       "    None,\n",
       "    78.75,\n",
       "    77.45,\n",
       "    78.0,\n",
       "    None,\n",
       "    74833.0,\n",
       "    5838347.0,\n",
       "    None,\n",
       "    None,\n",
       "    None],\n",
       "   ['2019-03-13',\n",
       "    None,\n",
       "    78.15,\n",
       "    77.25,\n",
       "    78.15,\n",
       "    None,\n",
       "    66050.0,\n",
       "    5149125.0,\n",
       "    None,\n",
       "    None,\n",
       "    None],\n",
       "   ['2019-03-12',\n",
       "    None,\n",
       "    78.45,\n",
       "    77.45,\n",
       "    77.5,\n",
       "    None,\n",
       "    67232.0,\n",
       "    5225497.0,\n",
       "    None,\n",
       "    None,\n",
       "    None],\n",
       "   ['2019-03-11',\n",
       "    None,\n",
       "    77.8,\n",
       "    76.35,\n",
       "    77.65,\n",
       "    None,\n",
       "    61032.0,\n",
       "    4722675.0,\n",
       "    None,\n",
       "    None,\n",
       "    None],\n",
       "   ['2019-03-08',\n",
       "    None,\n",
       "    77.6,\n",
       "    76.0,\n",
       "    76.35,\n",
       "    None,\n",
       "    67055.0,\n",
       "    5130767.0,\n",
       "    None,\n",
       "    None,\n",
       "    None],\n",
       "   ['2019-03-07',\n",
       "    None,\n",
       "    77.55,\n",
       "    75.85,\n",
       "    77.45,\n",
       "    None,\n",
       "    106513.0,\n",
       "    8189444.0,\n",
       "    None,\n",
       "    None,\n",
       "    None],\n",
       "   ['2019-03-06',\n",
       "    None,\n",
       "    78.25,\n",
       "    77.3,\n",
       "    77.4,\n",
       "    None,\n",
       "    78443.0,\n",
       "    6093803.0,\n",
       "    None,\n",
       "    None,\n",
       "    None],\n",
       "   ['2019-03-05',\n",
       "    None,\n",
       "    77.95,\n",
       "    76.0,\n",
       "    77.6,\n",
       "    None,\n",
       "    103819.0,\n",
       "    8011592.0,\n",
       "    None,\n",
       "    None,\n",
       "    None],\n",
       "   ['2019-03-04',\n",
       "    None,\n",
       "    77.1,\n",
       "    76.0,\n",
       "    76.55,\n",
       "    None,\n",
       "    77502.0,\n",
       "    5942532.0,\n",
       "    None,\n",
       "    None,\n",
       "    None],\n",
       "   ['2019-03-01',\n",
       "    None,\n",
       "    75.7,\n",
       "    74.5,\n",
       "    75.6,\n",
       "    None,\n",
       "    82127.0,\n",
       "    6184411.0,\n",
       "    None,\n",
       "    None,\n",
       "    None],\n",
       "   ['2019-02-28',\n",
       "    None,\n",
       "    75.0,\n",
       "    73.8,\n",
       "    75.0,\n",
       "    None,\n",
       "    106203.0,\n",
       "    7931125.0,\n",
       "    None,\n",
       "    None,\n",
       "    None],\n",
       "   ['2019-02-27',\n",
       "    None,\n",
       "    76.4,\n",
       "    74.4,\n",
       "    74.5,\n",
       "    None,\n",
       "    90852.0,\n",
       "    6797813.0,\n",
       "    None,\n",
       "    None,\n",
       "    None],\n",
       "   ['2019-02-26',\n",
       "    None,\n",
       "    76.8,\n",
       "    74.85,\n",
       "    76.25,\n",
       "    None,\n",
       "    118344.0,\n",
       "    9005952.0,\n",
       "    None,\n",
       "    None,\n",
       "    None]],\n",
       "  'database_code': 'FSE',\n",
       "  'database_id': 6129,\n",
       "  'dataset_code': 'AFX_X',\n",
       "  'description': 'Stock Prices for Carl Zeiss Meditec (AFX) from the Frankfurt Stock Exchange.<br><br>Trading System: Xetra<br><br>ISIN: DE0005313704',\n",
       "  'end_date': '2019-03-18',\n",
       "  'frequency': 'daily',\n",
       "  'id': 10095370,\n",
       "  'limit': None,\n",
       "  'name': 'Carl Zeiss Meditec (AFX_X)',\n",
       "  'newest_available_date': '2019-03-18',\n",
       "  'oldest_available_date': '2000-06-07',\n",
       "  'order': None,\n",
       "  'premium': False,\n",
       "  'refreshed_at': '2019-03-18T22:33:07.958Z',\n",
       "  'start_date': '2019-02-26',\n",
       "  'transform': None,\n",
       "  'type': 'Time Series'}}"
      ]
     },
     "execution_count": 4,
     "metadata": {},
     "output_type": "execute_result"
    }
   ],
   "source": [
    "# Inspect the JSON structure of the object you created, and take note of how nested it is,\n",
    "# as well as the overall structure\n",
    "r.json()"
   ]
  },
  {
   "cell_type": "markdown",
   "metadata": {
    "deletable": true,
    "editable": true
   },
   "source": [
    "These are your tasks for this mini project:\n",
    "\n",
    "1. Collect data from the Franfurt Stock Exchange, for the ticker AFX_X, for the whole year 2017 (keep in mind that the date format is YYYY-MM-DD).\n",
    "2. Convert the returned JSON object into a Python dictionary.\n",
    "3. Calculate what the highest and lowest opening prices were for the stock in this period.\n",
    "4. What was the largest change in any one day (based on High and Low price)?\n",
    "5. What was the largest change between any two days (based on Closing Price)?\n",
    "6. What was the average daily trading volume during this year?\n",
    "7. (Optional) What was the median trading volume during this year. (Note: you may need to implement your own function for calculating the median.)"
   ]
  },
  {
   "cell_type": "markdown",
   "metadata": {},
   "source": [
    "## 1. Collect data from the Franfurt Stock Exchange, for the ticker AFX_X, for the whole year 2017"
   ]
  },
  {
   "cell_type": "code",
   "execution_count": 5,
   "metadata": {
    "collapsed": false,
    "deletable": true,
    "editable": true
   },
   "outputs": [],
   "source": [
    "# Get the data from quandl\n",
    "r = re.get(\"https://www.quandl.com/api/v3/datasets/FSE/AFX_X.json?start_date=2017-01-01&end_date=2017-12-31&api_key=J5FP1fJzqoU94XCqxFqa\")"
   ]
  },
  {
   "cell_type": "markdown",
   "metadata": {},
   "source": [
    "## 2. Convert the returned JSON object into a Python dictionary"
   ]
  },
  {
   "cell_type": "code",
   "execution_count": 6,
   "metadata": {
    "collapsed": false,
    "deletable": true,
    "editable": true
   },
   "outputs": [
    {
     "data": {
      "text/plain": [
       "dict"
      ]
     },
     "execution_count": 6,
     "metadata": {},
     "output_type": "execute_result"
    }
   ],
   "source": [
    "# convert the json file to dictionary\n",
    "dict_file = r.json()\n",
    "type(dict_file)"
   ]
  },
  {
   "cell_type": "markdown",
   "metadata": {},
   "source": [
    "## 3. Calculate what the highest and lowest opening prices were for the stock in this period"
   ]
  },
  {
   "cell_type": "code",
   "execution_count": 7,
   "metadata": {
    "collapsed": false,
    "deletable": true,
    "editable": true
   },
   "outputs": [],
   "source": [
    "AFX_X_data = dict_file['dataset']['data']"
   ]
  },
  {
   "cell_type": "code",
   "execution_count": 8,
   "metadata": {
    "collapsed": false,
    "deletable": true,
    "editable": true
   },
   "outputs": [],
   "source": [
    "#extract the opening price from AXF_X_data into as long as the value is a float\n",
    "list_open= [row[1] for row in AFX_X_data if row[1] != None]"
   ]
  },
  {
   "cell_type": "code",
   "execution_count": 9,
   "metadata": {
    "collapsed": false,
    "deletable": true,
    "editable": true
   },
   "outputs": [],
   "source": [
    "sorted_list_open = sorted(list_open)"
   ]
  },
  {
   "cell_type": "code",
   "execution_count": 26,
   "metadata": {
    "collapsed": false,
    "deletable": true,
    "editable": true
   },
   "outputs": [
    {
     "name": "stdout",
     "output_type": "stream",
     "text": [
      "Lowest opening price is $34.0\n"
     ]
    }
   ],
   "source": [
    "# index lowest opening price for AFX_X\n",
    "lowest = sorted_list_open[0]\n",
    "print('Lowest opening price is $' + str(lowest))"
   ]
  },
  {
   "cell_type": "code",
   "execution_count": 27,
   "metadata": {
    "collapsed": false,
    "deletable": true,
    "editable": true
   },
   "outputs": [
    {
     "name": "stdout",
     "output_type": "stream",
     "text": [
      "Highest opening price is $53.11\n"
     ]
    }
   ],
   "source": [
    "#3b. index the highest opening price for AFX_X\n",
    "highest = sorted_list_open[-1]\n",
    "print('Highest opening price is $' + str(highest))"
   ]
  },
  {
   "cell_type": "markdown",
   "metadata": {},
   "source": [
    "## 4. What was the largest change in any one day (based on High and Low price)?"
   ]
  },
  {
   "cell_type": "code",
   "execution_count": 12,
   "metadata": {
    "collapsed": false,
    "deletable": true,
    "editable": true
   },
   "outputs": [],
   "source": [
    "#create a list pair after filtering out the pair of values if not both are float \n",
    "list_pair = [[row[2],row[3]] for row in AFX_X_data if row[2] != None and row[3] != None]"
   ]
  },
  {
   "cell_type": "code",
   "execution_count": 13,
   "metadata": {
    "collapsed": false,
    "deletable": true,
    "editable": true
   },
   "outputs": [],
   "source": [
    "#create a list for change with the following formula\n",
    "change = [(high-low)/low for high, low in list_pair]"
   ]
  },
  {
   "cell_type": "code",
   "execution_count": 14,
   "metadata": {
    "collapsed": true,
    "deletable": true,
    "editable": true
   },
   "outputs": [],
   "source": [
    "sorted_change = sorted(change)"
   ]
  },
  {
   "cell_type": "code",
   "execution_count": 30,
   "metadata": {
    "collapsed": false,
    "deletable": true,
    "editable": true
   },
   "outputs": [
    {
     "name": "stdout",
     "output_type": "stream",
     "text": [
      "Largest change given any one day is 6.5%\n"
     ]
    }
   ],
   "source": [
    "#index the largest change for any given day\n",
    "largest_change = sorted_change[-1]\n",
    "print('Largest change given any one day is ' + str(round(largest_change*100,2)) + '%')"
   ]
  },
  {
   "cell_type": "markdown",
   "metadata": {},
   "source": [
    "## 5. What was the largest change between any two days (based on Closing Price)?"
   ]
  },
  {
   "cell_type": "code",
   "execution_count": 16,
   "metadata": {
    "collapsed": false,
    "deletable": true,
    "editable": true
   },
   "outputs": [],
   "source": [
    "#create a list for closing price\n",
    "closing = [row[4] for row in AFX_X_data if row[4] != None]"
   ]
  },
  {
   "cell_type": "code",
   "execution_count": 17,
   "metadata": {
    "collapsed": false,
    "deletable": true,
    "editable": true
   },
   "outputs": [],
   "source": [
    "#creating a list for the absolute change between 2nd day close to the 1st for closing days\n",
    "closing_change = [abs((closing[indx+1]-closing[indx]))/closing[indx] for indx in range(len(closing)-1)]"
   ]
  },
  {
   "cell_type": "code",
   "execution_count": 18,
   "metadata": {
    "collapsed": false,
    "deletable": true,
    "editable": true
   },
   "outputs": [],
   "source": [
    "sorted_closing_change = sorted(closing_change)"
   ]
  },
  {
   "cell_type": "code",
   "execution_count": 31,
   "metadata": {
    "collapsed": false,
    "deletable": true,
    "editable": true
   },
   "outputs": [
    {
     "name": "stdout",
     "output_type": "stream",
     "text": [
      "Largest change given any two day is 6.12%\n"
     ]
    }
   ],
   "source": [
    "#index the largest 2 day difference \n",
    "two_day_change = sorted_closing_change[-1]\n",
    "print('Largest change given any two day is ' + str(round(two_day_change*100,2)) + '%')"
   ]
  },
  {
   "cell_type": "markdown",
   "metadata": {},
   "source": [
    "## 6. What was the average daily trading volume during this year?"
   ]
  },
  {
   "cell_type": "code",
   "execution_count": 20,
   "metadata": {
    "collapsed": true,
    "deletable": true,
    "editable": true
   },
   "outputs": [],
   "source": [
    "volume = [row[6] for row in AFX_X_data if row[6] != None]"
   ]
  },
  {
   "cell_type": "code",
   "execution_count": 21,
   "metadata": {
    "collapsed": false,
    "deletable": true,
    "editable": true
   },
   "outputs": [
    {
     "data": {
      "text/plain": [
       "89124.33725490196"
      ]
     },
     "execution_count": 21,
     "metadata": {},
     "output_type": "execute_result"
    }
   ],
   "source": [
    "#average daily volume ignoring NoneType values\n",
    "avg_vol = sum(volume)/len(volume)\n",
    "print('The daily average volume is ' + str(What was the median trading volume during this year))"
   ]
  },
  {
   "cell_type": "markdown",
   "metadata": {},
   "source": [
    "## 7. What was the median trading volume during this year?"
   ]
  },
  {
   "cell_type": "code",
   "execution_count": 22,
   "metadata": {
    "collapsed": true,
    "deletable": true,
    "editable": true
   },
   "outputs": [],
   "source": [
    "sorted_volume = sorted(volume)"
   ]
  },
  {
   "cell_type": "code",
   "execution_count": 23,
   "metadata": {
    "collapsed": false,
    "deletable": true,
    "editable": true
   },
   "outputs": [
    {
     "data": {
      "text/plain": [
       "255"
      ]
     },
     "execution_count": 23,
     "metadata": {},
     "output_type": "execute_result"
    }
   ],
   "source": [
    "#find the length to index the middle\n",
    "len(sorted_volume)"
   ]
  },
  {
   "cell_type": "code",
   "execution_count": 32,
   "metadata": {
    "collapsed": false,
    "deletable": true,
    "editable": true
   },
   "outputs": [
    {
     "name": "stdout",
     "output_type": "stream",
     "text": [
      "Median Trading volume this year is 76286.0\n"
     ]
    }
   ],
   "source": [
    "#7. volume ignoring NoneType values\n",
    "median = sorted_volume[(255//2)]\n",
    "print('Median Trading volume this year is ' + str(median))"
   ]
  },
  {
   "cell_type": "code",
   "execution_count": null,
   "metadata": {
    "collapsed": true,
    "deletable": true,
    "editable": true
   },
   "outputs": [],
   "source": []
  }
 ],
 "metadata": {
  "kernelspec": {
   "display_name": "Python 3",
   "language": "python",
   "name": "python3"
  },
  "language_info": {
   "codemirror_mode": {
    "name": "ipython",
    "version": 3
   },
   "file_extension": ".py",
   "mimetype": "text/x-python",
   "name": "python",
   "nbconvert_exporter": "python",
   "pygments_lexer": "ipython3",
   "version": "3.5.2"
  }
 },
 "nbformat": 4,
 "nbformat_minor": 2
}
