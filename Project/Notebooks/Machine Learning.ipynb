{
 "cells": [
  {
   "cell_type": "markdown",
   "metadata": {},
   "source": [
    "# Finding Dogs a Home \n",
    "## Table of Contents\n",
    "3. Machine Learning<br>\n",
    "3a. [Machine Learning Models](#Models)<br>\n",
    "3b. [Machine Learning on Louisville](#Louis)<br>\n",
    "3c. [Machine Learning on Dallas](#Dallas)<br>\n",
    "3d. [Machine Learning Austin](#Models)<br>\n",
    "3e. [Machine Learning Sonoma](#Models)<br>\n",
    "3f. [Remarks on the Learning Models](#Remarks)<br><br>\n",
    "\n",
    "4. [Future Work](#Future)"
   ]
  },
  {
   "cell_type": "markdown",
   "metadata": {},
   "source": [
    "<a id='Data_wrangling'></a>"
   ]
  },
  {
   "cell_type": "code",
   "execution_count": 1,
   "metadata": {},
   "outputs": [
    {
     "name": "stderr",
     "output_type": "stream",
     "text": [
      "Using TensorFlow backend.\n",
      "C:\\Users\\sadmin\\Anaconda3\\lib\\site-packages\\tensorflow\\python\\framework\\dtypes.py:516: FutureWarning: Passing (type, 1) or '1type' as a synonym of type is deprecated; in a future version of numpy, it will be understood as (type, (1,)) / '(1,)type'.\n",
      "  _np_qint8 = np.dtype([(\"qint8\", np.int8, 1)])\n",
      "C:\\Users\\sadmin\\Anaconda3\\lib\\site-packages\\tensorflow\\python\\framework\\dtypes.py:517: FutureWarning: Passing (type, 1) or '1type' as a synonym of type is deprecated; in a future version of numpy, it will be understood as (type, (1,)) / '(1,)type'.\n",
      "  _np_quint8 = np.dtype([(\"quint8\", np.uint8, 1)])\n",
      "C:\\Users\\sadmin\\Anaconda3\\lib\\site-packages\\tensorflow\\python\\framework\\dtypes.py:518: FutureWarning: Passing (type, 1) or '1type' as a synonym of type is deprecated; in a future version of numpy, it will be understood as (type, (1,)) / '(1,)type'.\n",
      "  _np_qint16 = np.dtype([(\"qint16\", np.int16, 1)])\n",
      "C:\\Users\\sadmin\\Anaconda3\\lib\\site-packages\\tensorflow\\python\\framework\\dtypes.py:519: FutureWarning: Passing (type, 1) or '1type' as a synonym of type is deprecated; in a future version of numpy, it will be understood as (type, (1,)) / '(1,)type'.\n",
      "  _np_quint16 = np.dtype([(\"quint16\", np.uint16, 1)])\n",
      "C:\\Users\\sadmin\\Anaconda3\\lib\\site-packages\\tensorflow\\python\\framework\\dtypes.py:520: FutureWarning: Passing (type, 1) or '1type' as a synonym of type is deprecated; in a future version of numpy, it will be understood as (type, (1,)) / '(1,)type'.\n",
      "  _np_qint32 = np.dtype([(\"qint32\", np.int32, 1)])\n",
      "C:\\Users\\sadmin\\Anaconda3\\lib\\site-packages\\tensorflow\\python\\framework\\dtypes.py:525: FutureWarning: Passing (type, 1) or '1type' as a synonym of type is deprecated; in a future version of numpy, it will be understood as (type, (1,)) / '(1,)type'.\n",
      "  np_resource = np.dtype([(\"resource\", np.ubyte, 1)])\n",
      "C:\\Users\\sadmin\\Anaconda3\\lib\\site-packages\\tensorboard\\compat\\tensorflow_stub\\dtypes.py:541: FutureWarning: Passing (type, 1) or '1type' as a synonym of type is deprecated; in a future version of numpy, it will be understood as (type, (1,)) / '(1,)type'.\n",
      "  _np_qint8 = np.dtype([(\"qint8\", np.int8, 1)])\n",
      "C:\\Users\\sadmin\\Anaconda3\\lib\\site-packages\\tensorboard\\compat\\tensorflow_stub\\dtypes.py:542: FutureWarning: Passing (type, 1) or '1type' as a synonym of type is deprecated; in a future version of numpy, it will be understood as (type, (1,)) / '(1,)type'.\n",
      "  _np_quint8 = np.dtype([(\"quint8\", np.uint8, 1)])\n",
      "C:\\Users\\sadmin\\Anaconda3\\lib\\site-packages\\tensorboard\\compat\\tensorflow_stub\\dtypes.py:543: FutureWarning: Passing (type, 1) or '1type' as a synonym of type is deprecated; in a future version of numpy, it will be understood as (type, (1,)) / '(1,)type'.\n",
      "  _np_qint16 = np.dtype([(\"qint16\", np.int16, 1)])\n",
      "C:\\Users\\sadmin\\Anaconda3\\lib\\site-packages\\tensorboard\\compat\\tensorflow_stub\\dtypes.py:544: FutureWarning: Passing (type, 1) or '1type' as a synonym of type is deprecated; in a future version of numpy, it will be understood as (type, (1,)) / '(1,)type'.\n",
      "  _np_quint16 = np.dtype([(\"quint16\", np.uint16, 1)])\n",
      "C:\\Users\\sadmin\\Anaconda3\\lib\\site-packages\\tensorboard\\compat\\tensorflow_stub\\dtypes.py:545: FutureWarning: Passing (type, 1) or '1type' as a synonym of type is deprecated; in a future version of numpy, it will be understood as (type, (1,)) / '(1,)type'.\n",
      "  _np_qint32 = np.dtype([(\"qint32\", np.int32, 1)])\n",
      "C:\\Users\\sadmin\\Anaconda3\\lib\\site-packages\\tensorboard\\compat\\tensorflow_stub\\dtypes.py:550: FutureWarning: Passing (type, 1) or '1type' as a synonym of type is deprecated; in a future version of numpy, it will be understood as (type, (1,)) / '(1,)type'.\n",
      "  np_resource = np.dtype([(\"resource\", np.ubyte, 1)])\n"
     ]
    }
   ],
   "source": [
    "import pandas as pd\n",
    "import numpy as np\n",
    "import matplotlib.pyplot as plt\n",
    "import seaborn as sns\n",
    "from scipy import stats\n",
    "from datetime import datetime as dt\n",
    "from sklearn.preprocessing import StandardScaler, OneHotEncoder\n",
    "from sklearn.metrics import classification_report\n",
    "from sklearn.neighbors import KNeighborsClassifier\n",
    "from sklearn.linear_model import LogisticRegression\n",
    "from sklearn.ensemble import RandomForestClassifier\n",
    "from sklearn.naive_bayes import BernoulliNB\n",
    "from sklearn.svm import SVC\n",
    "from sklearn.model_selection import RandomizedSearchCV, GridSearchCV, train_test_split\n",
    "from sklearn.metrics import confusion_matrix, accuracy_score\n",
    "from keras import Sequential\n",
    "from keras.layers import BatchNormalization, Dropout, Dense, Activation"
   ]
  },
  {
   "cell_type": "markdown",
   "metadata": {},
   "source": [
    "# 3. Machine Learning\n",
    "Machine learning algorithms were conducted on the four datasets separately. Features not native to the original dataset was removed and all null values were removed. Color and pattern features were drop because they fail to predict the adoption/foster and euthanization rates. Age column was scaled to speed up learning. All the categorical features were converted to binary representation for learning with OneHotEncoding. "
   ]
  },
  {
   "cell_type": "markdown",
   "metadata": {},
   "source": [
    "## 3a. Machine Learning Models\n",
    "<a id='Models'></a>"
   ]
  },
  {
   "cell_type": "markdown",
   "metadata": {},
   "source": [
    "Naïve Bayes Bernoulli: From the Naïve Bayes algorithms Bernoulli was chosen because it natively deals with categorical dataset. Since almost all features in the dataset was categorical, therefore this was an obvious choice. Age was converted to young, old and middle aged to fit the categorical setting of Bernoulli. Randomized search 3-fold cross validation was used to reduce variance and alpha was hypertuned to improve accuracy. The scoring metric was set for accuracy.<br><br>\n",
    "Logistic Regression: Logistic regression was performed with solver set to lbfgs and multi class set to one vs rest. Randomized search cross validation 3-fold was used to reduce variance and regularizer (C) was hypertuned to improve accuracy. The scoring metric was set for accuracy<br><br>\n",
    "Support Vector Machine: kernel was set to Linear for faster learning and randomized search cross 3-fold validation was used to reduce variance. C was hypertuned to improve accuracy and the scoring metric was set for accuracy<br><br>\n",
    "K Nearest Neighbors:  The weights were set to uniform for faster learning. Randomized search cross 3-fold validation was used to reduce overfitting and n neighbors was hypertuned to improve accuracy. The scoring metric was set for accuracy.<br><br>\n",
    "Random Forest: Grid search 3-fold cross validation was used to improve overfitting and the number of trees was hypertuned. The scoring metrics was set to accuracy.<br><br>\n",
    "Deep learning: 6 hidden layers with a final layer of softmax with 5 nodes for classification. Dropout was used every other layer to reduce variance and batch normalization was used on layers without Dropout to avoid conflict and speed up learning and remove the risk of vanishing gradient or exploding gradient. Relu was used for all the activation layers.<br><br>\n",
    "All models presented weren’t hypertuned entirely with all available parameters and it could be done for future work and study.\n"
   ]
  },
  {
   "cell_type": "code",
   "execution_count": 2,
   "metadata": {},
   "outputs": [
    {
     "name": "stderr",
     "output_type": "stream",
     "text": [
      "C:\\Users\\sadmin\\Anaconda3\\lib\\site-packages\\IPython\\core\\interactiveshell.py:3058: DtypeWarning: Columns (2,4,6,7,8) have mixed types. Specify dtype option on import or set low_memory=False.\n",
      "  interactivity=interactivity, compiler=compiler, result=result)\n"
     ]
    }
   ],
   "source": [
    "merge_data = pd.read_csv('../Data/Processed/Processed_Data.csv')"
   ]
  },
  {
   "cell_type": "code",
   "execution_count": 3,
   "metadata": {},
   "outputs": [
    {
     "name": "stdout",
     "output_type": "stream",
     "text": [
      "<class 'pandas.core.frame.DataFrame'>\n",
      "RangeIndex: 166985 entries, 0 to 166984\n",
      "Data columns (total 20 columns):\n",
      "Unnamed: 0        166985 non-null int64\n",
      "Breed             166985 non-null object\n",
      "Chip_Status       26043 non-null object\n",
      "Color             166985 non-null object\n",
      "Health            110972 non-null object\n",
      "Intake_Date       166985 non-null object\n",
      "Intake_Status     76753 non-null object\n",
      "Intake_Subtype    107727 non-null object\n",
      "Intake_Type       111931 non-null object\n",
      "Location          166985 non-null object\n",
      "Outcome_Date      166985 non-null object\n",
      "Outcome_Type      166985 non-null object\n",
      "Sex               140941 non-null object\n",
      "Neutered/Spay     166985 non-null object\n",
      "Pure/Mix          166985 non-null object\n",
      "Pattern           166985 non-null object\n",
      "Age               116138 non-null float64\n",
      "Outcome_Month     166808 non-null float64\n",
      "Outcome_Year      166808 non-null float64\n",
      "Intake_month      111931 non-null float64\n",
      "dtypes: float64(4), int64(1), object(15)\n",
      "memory usage: 25.5+ MB\n"
     ]
    }
   ],
   "source": [
    "merge_data.info()"
   ]
  },
  {
   "cell_type": "code",
   "execution_count": 4,
   "metadata": {},
   "outputs": [],
   "source": [
    "#remove other from outcome because those dogs at shelter indicates they went missing or ran away. \n",
    "#Since missing and running away are randomized factors, we like to eliminate it\n",
    "merge_data = (merge_data[merge_data.Outcome_Type != 'Other']\n",
    "              .drop(columns = ['Intake_Type', 'Outcome_Year', \n",
    "                               'Intake_Date', 'Outcome_Date', \n",
    "                               'Outcome_Year', 'Color', 'Pattern',\n",
    "                               'Unnamed: 0']))\n",
    "\n",
    "#convert outcome_month and intake_month as string\n",
    "merge_data['Outcome_Month'] = merge_data['Outcome_Month'].astype(str)\n",
    "merge_data['Intake_month'] = merge_data['Intake_month'].astype(str)"
   ]
  },
  {
   "cell_type": "code",
   "execution_count": 5,
   "metadata": {},
   "outputs": [],
   "source": [
    "df_louis = merge_data[merge_data.Location == 'Louisville']\n",
    "df_dalla = merge_data[merge_data.Location == 'Dallas']\n",
    "df_aust = merge_data[merge_data.Location == 'Austin']\n",
    "df_sonoma = merge_data[merge_data.Location == 'Sonoma']"
   ]
  },
  {
   "cell_type": "markdown",
   "metadata": {},
   "source": [
    "## Machine Learning on Louisville\n",
    "<a id='Louis'></a>"
   ]
  },
  {
   "cell_type": "code",
   "execution_count": 6,
   "metadata": {},
   "outputs": [
    {
     "name": "stdout",
     "output_type": "stream",
     "text": [
      "<class 'pandas.core.frame.DataFrame'>\n",
      "Int64Index: 73561 entries, 55054 to 131806\n",
      "Data columns (total 13 columns):\n",
      "Breed             73561 non-null object\n",
      "Chip_Status       0 non-null object\n",
      "Health            73555 non-null object\n",
      "Intake_Status     73561 non-null object\n",
      "Intake_Subtype    73011 non-null object\n",
      "Location          73561 non-null object\n",
      "Outcome_Type      73561 non-null object\n",
      "Sex               73561 non-null object\n",
      "Neutered/Spay     73561 non-null object\n",
      "Pure/Mix          73561 non-null object\n",
      "Age               50809 non-null float64\n",
      "Outcome_Month     73561 non-null object\n",
      "Intake_month      73561 non-null object\n",
      "dtypes: float64(1), object(12)\n",
      "memory usage: 7.9+ MB\n"
     ]
    }
   ],
   "source": [
    "df_louis.info()"
   ]
  },
  {
   "cell_type": "code",
   "execution_count": 7,
   "metadata": {},
   "outputs": [],
   "source": [
    "#fill na with average for age and drop unused columns\n",
    "mean = np.mean(merge_data['Age'])\n",
    "df_louis = df_louis.fillna(value = {'Age': mean})\n",
    "df_louis = df_louis.drop(columns = ['Chip_Status', 'Location'])\n",
    "df_louis = df_louis.dropna()"
   ]
  },
  {
   "cell_type": "code",
   "execution_count": 8,
   "metadata": {},
   "outputs": [
    {
     "name": "stdout",
     "output_type": "stream",
     "text": [
      "<class 'pandas.core.frame.DataFrame'>\n",
      "Int64Index: 73005 entries, 55054 to 131806\n",
      "Data columns (total 11 columns):\n",
      "Breed             73005 non-null object\n",
      "Health            73005 non-null object\n",
      "Intake_Status     73005 non-null object\n",
      "Intake_Subtype    73005 non-null object\n",
      "Outcome_Type      73005 non-null object\n",
      "Sex               73005 non-null object\n",
      "Neutered/Spay     73005 non-null object\n",
      "Pure/Mix          73005 non-null object\n",
      "Age               73005 non-null float64\n",
      "Outcome_Month     73005 non-null object\n",
      "Intake_month      73005 non-null object\n",
      "dtypes: float64(1), object(10)\n",
      "memory usage: 6.7+ MB\n"
     ]
    }
   ],
   "source": [
    "df_louis.info()"
   ]
  },
  {
   "cell_type": "code",
   "execution_count": 9,
   "metadata": {},
   "outputs": [],
   "source": [
    "#categorize age for bernoulli naive bayes\n",
    "def categorize(data):\n",
    "    low = data.quantile(.25)\n",
    "    high = data.quantile(.75)\n",
    "    output = []\n",
    "    for value in data:\n",
    "        if value <= low:\n",
    "            output.append('Low')\n",
    "        elif value >= high:\n",
    "            output.append('High')\n",
    "        else:\n",
    "            output.append('Medium')\n",
    "    return output\n",
    "# create temp dataframe to encode\n",
    "temp1 = categorize(df_louis.Age)\n",
    "cat_df_louis = df_louis.drop(columns = ['Age', 'Outcome_Type'])\n",
    "cat_df_louis['Age'] = temp1\n",
    "\n",
    "#initialize onehotencoder and scaler\n",
    "ohe = OneHotEncoder(sparse = False, drop = 'first')\n",
    "\n",
    "#transform and concatenate data\n",
    "cat_df_louis = ohe.fit_transform(cat_df_louis)\n",
    "\n",
    "#assigning target and features\n",
    "y = df_louis.Outcome_Type\n",
    "X = cat_df_louis\n",
    "\n",
    "X_train, X_test, y_train, y_test = train_test_split(X,y, random_state = 10, test_size = .3)"
   ]
  },
  {
   "cell_type": "code",
   "execution_count": 10,
   "metadata": {},
   "outputs": [
    {
     "name": "stdout",
     "output_type": "stream",
     "text": [
      "Fitting 3 folds for each of 10 candidates, totalling 30 fits\n"
     ]
    },
    {
     "name": "stderr",
     "output_type": "stream",
     "text": [
      "[Parallel(n_jobs=4)]: Using backend LokyBackend with 4 concurrent workers.\n",
      "[Parallel(n_jobs=4)]: Done   1 tasks      | elapsed:    5.2s\n",
      "[Parallel(n_jobs=4)]: Done   2 tasks      | elapsed:    5.2s\n",
      "[Parallel(n_jobs=4)]: Done   3 tasks      | elapsed:    5.3s\n",
      "[Parallel(n_jobs=4)]: Done   4 tasks      | elapsed:    5.4s\n",
      "[Parallel(n_jobs=4)]: Done   5 tasks      | elapsed:    6.0s\n",
      "[Parallel(n_jobs=4)]: Done   6 tasks      | elapsed:    6.0s\n",
      "[Parallel(n_jobs=4)]: Done   7 tasks      | elapsed:    6.2s\n",
      "[Parallel(n_jobs=4)]: Done   8 tasks      | elapsed:    6.2s\n",
      "[Parallel(n_jobs=4)]: Done   9 tasks      | elapsed:    6.9s\n",
      "[Parallel(n_jobs=4)]: Done  10 tasks      | elapsed:    6.9s\n",
      "[Parallel(n_jobs=4)]: Done  11 tasks      | elapsed:    7.0s\n",
      "[Parallel(n_jobs=4)]: Done  12 tasks      | elapsed:    7.1s\n",
      "[Parallel(n_jobs=4)]: Done  13 tasks      | elapsed:    7.8s\n",
      "[Parallel(n_jobs=4)]: Done  14 tasks      | elapsed:    7.8s\n",
      "[Parallel(n_jobs=4)]: Done  15 tasks      | elapsed:    8.0s\n",
      "[Parallel(n_jobs=4)]: Done  16 tasks      | elapsed:    8.0s\n",
      "[Parallel(n_jobs=4)]: Done  17 tasks      | elapsed:    8.7s\n",
      "[Parallel(n_jobs=4)]: Done  18 tasks      | elapsed:    8.7s\n",
      "[Parallel(n_jobs=4)]: Done  19 tasks      | elapsed:    8.8s\n",
      "[Parallel(n_jobs=4)]: Done  20 tasks      | elapsed:    8.8s\n",
      "[Parallel(n_jobs=4)]: Done  21 tasks      | elapsed:    9.6s\n",
      "[Parallel(n_jobs=4)]: Done  22 tasks      | elapsed:    9.6s\n",
      "[Parallel(n_jobs=4)]: Done  23 tasks      | elapsed:    9.6s\n",
      "[Parallel(n_jobs=4)]: Done  26 out of  30 | elapsed:   10.5s remaining:    1.5s\n",
      "[Parallel(n_jobs=4)]: Done  30 out of  30 | elapsed:   11.2s finished\n"
     ]
    },
    {
     "data": {
      "text/plain": [
       "RandomizedSearchCV(cv=3, error_score='raise-deprecating',\n",
       "                   estimator=BernoulliNB(alpha=1.0, binarize=0.0,\n",
       "                                         class_prior=None, fit_prior=True),\n",
       "                   iid='warn', n_iter=10, n_jobs=4,\n",
       "                   param_distributions={'alpha': array([0.001     , 0.0011514 , 0.00132571, 0.00152642, 0.00175751,\n",
       "       0.00202359, 0.00232995, 0.0026827 , 0.00308884, 0.00355648,\n",
       "       0.00409492, 0.00471487, 0.00542868, 0.00625055, 0.0...\n",
       "       0.03393222, 0.0390694 , 0.04498433, 0.05179475, 0.05963623,\n",
       "       0.06866488, 0.07906043, 0.09102982, 0.10481131, 0.12067926,\n",
       "       0.13894955, 0.15998587, 0.184207  , 0.21209509, 0.24420531,\n",
       "       0.28117687, 0.32374575, 0.37275937, 0.42919343, 0.49417134,\n",
       "       0.5689866 , 0.65512856, 0.75431201, 0.86851137, 1.        ])},\n",
       "                   pre_dispatch='2*n_jobs', random_state=12, refit=True,\n",
       "                   return_train_score=False, scoring='accuracy', verbose=15)"
      ]
     },
     "execution_count": 10,
     "metadata": {},
     "output_type": "execute_result"
    }
   ],
   "source": [
    "#run bernullli naive bayes with random search cross validation with hyperparametering tuning\n",
    "NB = BernoulliNB()\n",
    "param_grid = {'alpha': np.logspace(-3,0, num = 50)}\n",
    "NB_cv = RandomizedSearchCV(NB, param_grid, cv = 3, verbose = 15, n_iter = 10, \n",
    "                           scoring = 'accuracy', random_state = 12, n_jobs = 4)\n",
    "NB_cv.fit(X_train, y_train)"
   ]
  },
  {
   "cell_type": "code",
   "execution_count": 11,
   "metadata": {},
   "outputs": [
    {
     "name": "stdout",
     "output_type": "stream",
     "text": [
      "Best alpha: {'alpha': 0.655128556859551}\n"
     ]
    }
   ],
   "source": [
    "print('Best alpha:', NB_cv.best_params_)"
   ]
  },
  {
   "cell_type": "code",
   "execution_count": 12,
   "metadata": {},
   "outputs": [
    {
     "name": "stdout",
     "output_type": "stream",
     "text": [
      "Best Score: 0.6318220065358198\n"
     ]
    }
   ],
   "source": [
    "print('Best Score:', NB_cv.best_score_)"
   ]
  },
  {
   "cell_type": "code",
   "execution_count": 13,
   "metadata": {},
   "outputs": [
    {
     "name": "stdout",
     "output_type": "stream",
     "text": [
      "Performance of naive bayes on test: 0.6305360241073874\n"
     ]
    }
   ],
   "source": [
    "print('Performance of naive bayes on test:', NB_cv.score(X_test, y_test))"
   ]
  },
  {
   "cell_type": "code",
   "execution_count": 14,
   "metadata": {},
   "outputs": [
    {
     "data": {
      "text/plain": [
       "array([[3535,    6,  231,  839,  234],\n",
       "       [  12,  371,  121,   10,   24],\n",
       "       [ 428,   83, 7596,  356,  463],\n",
       "       [ 973,    6, 1049, 1617,  205],\n",
       "       [1237,   10, 1138,  667,  691]], dtype=int64)"
      ]
     },
     "execution_count": 14,
     "metadata": {},
     "output_type": "execute_result"
    }
   ],
   "source": [
    "y_pred = NB_cv.predict(X_test)\n",
    "confusion_matrix(y_test, y_pred)"
   ]
  },
  {
   "cell_type": "code",
   "execution_count": 15,
   "metadata": {},
   "outputs": [
    {
     "name": "stdout",
     "output_type": "stream",
     "text": [
      "                 precision    recall  f1-score   support\n",
      "\n",
      "Adoption/Foster       0.57      0.73      0.64      4845\n",
      "           Died       0.78      0.69      0.73       538\n",
      "           Euth       0.75      0.85      0.80      8926\n",
      "            Rto       0.46      0.42      0.44      3850\n",
      "       Transfer       0.43      0.18      0.26      3743\n",
      "\n",
      "       accuracy                           0.63     21902\n",
      "      macro avg       0.60      0.57      0.57     21902\n",
      "   weighted avg       0.61      0.63      0.61     21902\n",
      "\n"
     ]
    }
   ],
   "source": [
    "print(classification_report(y_test, y_pred))"
   ]
  },
  {
   "cell_type": "code",
   "execution_count": 16,
   "metadata": {},
   "outputs": [],
   "source": [
    "# create temp dataframe to encode and scale\n",
    "temp1 = df_louis.Age.values.reshape(-1,1)\n",
    "temp2 = df_louis.drop(columns=['Age', 'Outcome_Type'])\n",
    "\n",
    "#initialize onehotencoder and scaler\n",
    "ohe = OneHotEncoder(sparse = False)\n",
    "scaler = StandardScaler()\n",
    "\n",
    "#transform and concatenate data\n",
    "temp1 = scaler.fit_transform(temp1)\n",
    "temp2 = ohe.fit_transform(temp2)\n",
    "\n",
    "#assigning target and features\n",
    "y = df_louis.Outcome_Type\n",
    "X = np.concatenate((temp1,temp2), axis = 1)\n",
    "\n",
    "X_train, X_test, y_train, y_test = train_test_split(X,y, random_state = 10, test_size = .3)"
   ]
  },
  {
   "cell_type": "code",
   "execution_count": 17,
   "metadata": {
    "scrolled": false
   },
   "outputs": [
    {
     "name": "stdout",
     "output_type": "stream",
     "text": [
      "Fitting 3 folds for each of 10 candidates, totalling 30 fits\n"
     ]
    },
    {
     "name": "stderr",
     "output_type": "stream",
     "text": [
      "[Parallel(n_jobs=4)]: Using backend LokyBackend with 4 concurrent workers.\n",
      "[Parallel(n_jobs=4)]: Done   1 tasks      | elapsed:   17.2s\n",
      "[Parallel(n_jobs=4)]: Done   2 tasks      | elapsed:   17.5s\n",
      "[Parallel(n_jobs=4)]: Done   3 tasks      | elapsed:   17.5s\n",
      "[Parallel(n_jobs=4)]: Done   4 tasks      | elapsed:   22.0s\n",
      "[Parallel(n_jobs=4)]: Done   5 tasks      | elapsed:   22.7s\n",
      "[Parallel(n_jobs=4)]: Done   6 tasks      | elapsed:   26.9s\n",
      "[Parallel(n_jobs=4)]: Done   7 tasks      | elapsed:   27.4s\n",
      "[Parallel(n_jobs=4)]: Done   8 tasks      | elapsed:   34.8s\n",
      "[Parallel(n_jobs=4)]: Done   9 tasks      | elapsed:   35.3s\n",
      "[Parallel(n_jobs=4)]: Done  10 tasks      | elapsed:   44.7s\n",
      "[Parallel(n_jobs=4)]: Done  11 tasks      | elapsed:   45.0s\n",
      "[Parallel(n_jobs=4)]: Done  12 tasks      | elapsed:   51.5s\n",
      "[Parallel(n_jobs=4)]: Done  13 tasks      | elapsed:   51.5s\n",
      "[Parallel(n_jobs=4)]: Done  14 tasks      | elapsed:   59.3s\n",
      "[Parallel(n_jobs=4)]: Done  15 tasks      | elapsed:   59.9s\n",
      "[Parallel(n_jobs=4)]: Done  16 tasks      | elapsed:  1.1min\n",
      "[Parallel(n_jobs=4)]: Done  17 tasks      | elapsed:  1.1min\n",
      "[Parallel(n_jobs=4)]: Done  18 tasks      | elapsed:  1.1min\n",
      "[Parallel(n_jobs=4)]: Done  19 tasks      | elapsed:  1.2min\n",
      "[Parallel(n_jobs=4)]: Done  20 tasks      | elapsed:  1.2min\n",
      "[Parallel(n_jobs=4)]: Done  21 tasks      | elapsed:  1.2min\n",
      "[Parallel(n_jobs=4)]: Done  22 tasks      | elapsed:  1.3min\n",
      "[Parallel(n_jobs=4)]: Done  23 tasks      | elapsed:  1.4min\n",
      "[Parallel(n_jobs=4)]: Done  26 out of  30 | elapsed:  1.5min remaining:   13.4s\n",
      "[Parallel(n_jobs=4)]: Done  30 out of  30 | elapsed:  1.5min finished\n",
      "C:\\Users\\sadmin\\Anaconda3\\lib\\site-packages\\sklearn\\linear_model\\logistic.py:947: ConvergenceWarning: lbfgs failed to converge. Increase the number of iterations.\n",
      "  \"of iterations.\", ConvergenceWarning)\n",
      "C:\\Users\\sadmin\\Anaconda3\\lib\\site-packages\\sklearn\\linear_model\\logistic.py:947: ConvergenceWarning: lbfgs failed to converge. Increase the number of iterations.\n",
      "  \"of iterations.\", ConvergenceWarning)\n",
      "C:\\Users\\sadmin\\Anaconda3\\lib\\site-packages\\sklearn\\linear_model\\logistic.py:947: ConvergenceWarning: lbfgs failed to converge. Increase the number of iterations.\n",
      "  \"of iterations.\", ConvergenceWarning)\n",
      "C:\\Users\\sadmin\\Anaconda3\\lib\\site-packages\\sklearn\\linear_model\\logistic.py:947: ConvergenceWarning: lbfgs failed to converge. Increase the number of iterations.\n",
      "  \"of iterations.\", ConvergenceWarning)\n",
      "C:\\Users\\sadmin\\Anaconda3\\lib\\site-packages\\sklearn\\linear_model\\logistic.py:947: ConvergenceWarning: lbfgs failed to converge. Increase the number of iterations.\n",
      "  \"of iterations.\", ConvergenceWarning)\n"
     ]
    },
    {
     "data": {
      "text/plain": [
       "RandomizedSearchCV(cv=3, error_score='raise-deprecating',\n",
       "                   estimator=LogisticRegression(C=1.0, class_weight=None,\n",
       "                                                dual=False, fit_intercept=True,\n",
       "                                                intercept_scaling=1,\n",
       "                                                l1_ratio=None, max_iter=100,\n",
       "                                                multi_class='ovr', n_jobs=None,\n",
       "                                                penalty='l2', random_state=None,\n",
       "                                                solver='lbfgs', tol=0.0001,\n",
       "                                                verbose=0, warm_start=False),\n",
       "                   iid='warn', n_iter=10, n_jobs=4,\n",
       "                   param_distributions...\n",
       "       0.03393222, 0.0390694 , 0.04498433, 0.05179475, 0.05963623,\n",
       "       0.06866488, 0.07906043, 0.09102982, 0.10481131, 0.12067926,\n",
       "       0.13894955, 0.15998587, 0.184207  , 0.21209509, 0.24420531,\n",
       "       0.28117687, 0.32374575, 0.37275937, 0.42919343, 0.49417134,\n",
       "       0.5689866 , 0.65512856, 0.75431201, 0.86851137, 1.        ])},\n",
       "                   pre_dispatch='2*n_jobs', random_state=12, refit=True,\n",
       "                   return_train_score=False, scoring='accuracy', verbose=15)"
      ]
     },
     "execution_count": 17,
     "metadata": {},
     "output_type": "execute_result"
    }
   ],
   "source": [
    "#run logistic regression with random search cross validation and hypertuning\n",
    "lm = LogisticRegression(solver = 'lbfgs', multi_class = 'ovr')\n",
    "param_grid = {'C': np.logspace(-3, 0, num = 50)}\n",
    "lm_cv = RandomizedSearchCV(lm, param_grid, cv = 3, verbose = 15, n_iter = 10, \n",
    "                           scoring = 'accuracy', n_jobs = 4, random_state = 12)\n",
    "lm_cv.fit(X_train, y_train)"
   ]
  },
  {
   "cell_type": "code",
   "execution_count": 18,
   "metadata": {
    "scrolled": false
   },
   "outputs": [
    {
     "name": "stdout",
     "output_type": "stream",
     "text": [
      "Best C: {'C': 0.655128556859551}\n"
     ]
    }
   ],
   "source": [
    "print('Best C:', lm_cv.best_params_)"
   ]
  },
  {
   "cell_type": "code",
   "execution_count": 19,
   "metadata": {},
   "outputs": [
    {
     "name": "stdout",
     "output_type": "stream",
     "text": [
      "Best Score: 0.6518991057276481\n"
     ]
    }
   ],
   "source": [
    "print('Best Score:', lm_cv.best_score_)"
   ]
  },
  {
   "cell_type": "code",
   "execution_count": 20,
   "metadata": {},
   "outputs": [
    {
     "name": "stdout",
     "output_type": "stream",
     "text": [
      "Performance of logistic regression on test: 0.6481143274586796\n"
     ]
    }
   ],
   "source": [
    "print('Performance of logistic regression on test:', lm_cv.score(X_test,y_test))"
   ]
  },
  {
   "cell_type": "code",
   "execution_count": 21,
   "metadata": {},
   "outputs": [
    {
     "data": {
      "text/plain": [
       "array([[4075,    0,  204,  498,   68],\n",
       "       [  13,  363,  138,    8,   16],\n",
       "       [ 458,   56, 8019,  285,  108],\n",
       "       [1174,    1, 1168, 1400,  107],\n",
       "       [1399,    5, 1467,  534,  338]], dtype=int64)"
      ]
     },
     "execution_count": 21,
     "metadata": {},
     "output_type": "execute_result"
    }
   ],
   "source": [
    "y_pred = lm_cv.predict(X_test)\n",
    "confusion_matrix(y_test, y_pred)"
   ]
  },
  {
   "cell_type": "code",
   "execution_count": 22,
   "metadata": {},
   "outputs": [
    {
     "name": "stdout",
     "output_type": "stream",
     "text": [
      "                 precision    recall  f1-score   support\n",
      "\n",
      "Adoption/Foster       0.57      0.84      0.68      4845\n",
      "           Died       0.85      0.67      0.75       538\n",
      "           Euth       0.73      0.90      0.81      8926\n",
      "            Rto       0.51      0.36      0.43      3850\n",
      "       Transfer       0.53      0.09      0.15      3743\n",
      "\n",
      "       accuracy                           0.65     21902\n",
      "      macro avg       0.64      0.57      0.56     21902\n",
      "   weighted avg       0.63      0.65      0.60     21902\n",
      "\n"
     ]
    }
   ],
   "source": [
    "print(classification_report(y_test, y_pred))"
   ]
  },
  {
   "cell_type": "code",
   "execution_count": 23,
   "metadata": {
    "scrolled": false
   },
   "outputs": [
    {
     "name": "stdout",
     "output_type": "stream",
     "text": [
      "Fitting 3 folds for each of 8 candidates, totalling 24 fits\n"
     ]
    },
    {
     "name": "stderr",
     "output_type": "stream",
     "text": [
      "[Parallel(n_jobs=4)]: Using backend LokyBackend with 4 concurrent workers.\n",
      "[Parallel(n_jobs=4)]: Done   1 tasks      | elapsed: 12.0min\n",
      "[Parallel(n_jobs=4)]: Done   2 tasks      | elapsed: 12.0min\n",
      "[Parallel(n_jobs=4)]: Done   3 tasks      | elapsed: 12.1min\n",
      "[Parallel(n_jobs=4)]: Done   4 tasks      | elapsed: 12.7min\n",
      "[Parallel(n_jobs=4)]: Done   5 tasks      | elapsed: 24.5min\n",
      "[Parallel(n_jobs=4)]: Done   6 tasks      | elapsed: 25.1min\n",
      "[Parallel(n_jobs=4)]: Done   7 tasks      | elapsed: 25.2min\n",
      "[Parallel(n_jobs=4)]: Done   8 tasks      | elapsed: 25.3min\n",
      "[Parallel(n_jobs=4)]: Done   9 tasks      | elapsed: 38.0min\n",
      "[Parallel(n_jobs=4)]: Done  10 tasks      | elapsed: 38.2min\n",
      "[Parallel(n_jobs=4)]: Done  11 tasks      | elapsed: 38.4min\n",
      "[Parallel(n_jobs=4)]: Done  12 tasks      | elapsed: 38.6min\n",
      "[Parallel(n_jobs=4)]: Done  13 tasks      | elapsed: 52.0min\n",
      "[Parallel(n_jobs=4)]: Done  14 tasks      | elapsed: 52.4min\n",
      "[Parallel(n_jobs=4)]: Done  15 tasks      | elapsed: 52.6min\n",
      "[Parallel(n_jobs=4)]: Done  16 tasks      | elapsed: 52.7min\n",
      "[Parallel(n_jobs=4)]: Done  17 tasks      | elapsed: 66.2min\n",
      "[Parallel(n_jobs=4)]: Done  19 out of  24 | elapsed: 70.5min remaining: 18.5min\n",
      "[Parallel(n_jobs=4)]: Done  21 out of  24 | elapsed: 79.6min remaining: 11.4min\n",
      "[Parallel(n_jobs=4)]: Done  24 out of  24 | elapsed: 83.3min finished\n"
     ]
    },
    {
     "data": {
      "text/plain": [
       "RandomizedSearchCV(cv=3, error_score='raise-deprecating',\n",
       "                   estimator=SVC(C=1.0, cache_size=200, class_weight=None,\n",
       "                                 coef0=0.0, decision_function_shape='ovr',\n",
       "                                 degree=3, gamma='auto_deprecated',\n",
       "                                 kernel='linear', max_iter=-1,\n",
       "                                 probability=False, random_state=None,\n",
       "                                 shrinking=True, tol=0.001, verbose=False),\n",
       "                   iid='warn', n_iter=8, n_jobs=4,\n",
       "                   param_distributions={'C': array([0.0...\n",
       "       0.03393222, 0.0390694 , 0.04498433, 0.05179475, 0.05963623,\n",
       "       0.06866488, 0.07906043, 0.09102982, 0.10481131, 0.12067926,\n",
       "       0.13894955, 0.15998587, 0.184207  , 0.21209509, 0.24420531,\n",
       "       0.28117687, 0.32374575, 0.37275937, 0.42919343, 0.49417134,\n",
       "       0.5689866 , 0.65512856, 0.75431201, 0.86851137, 1.        ])},\n",
       "                   pre_dispatch='2*n_jobs', random_state=10, refit=True,\n",
       "                   return_train_score=False, scoring='accuracy', verbose=15)"
      ]
     },
     "execution_count": 23,
     "metadata": {},
     "output_type": "execute_result"
    }
   ],
   "source": [
    "svm = SVC(kernel = 'linear')\n",
    "param_grid = {'C': np.logspace(-3,0, num = 50)}\n",
    "svm_cv = RandomizedSearchCV(svm, param_grid, cv = 3, verbose = 15, n_jobs = 4,\n",
    "                            random_state = 10, scoring = 'accuracy', n_iter = 8)\n",
    "svm_cv.fit(X_train, y_train)"
   ]
  },
  {
   "cell_type": "code",
   "execution_count": 24,
   "metadata": {
    "scrolled": false
   },
   "outputs": [
    {
     "name": "stdout",
     "output_type": "stream",
     "text": [
      "Best parameters: {'C': 0.7543120063354615}\n"
     ]
    }
   ],
   "source": [
    "print('Best parameters:', svm_cv.best_params_)"
   ]
  },
  {
   "cell_type": "code",
   "execution_count": 25,
   "metadata": {},
   "outputs": [
    {
     "name": "stdout",
     "output_type": "stream",
     "text": [
      "Best Score: 0.6458133573371426\n"
     ]
    }
   ],
   "source": [
    "print('Best Score:', svm_cv.best_score_)"
   ]
  },
  {
   "cell_type": "code",
   "execution_count": 26,
   "metadata": {},
   "outputs": [
    {
     "name": "stdout",
     "output_type": "stream",
     "text": [
      "Performance of SVM on test: 0.639758926125468\n"
     ]
    }
   ],
   "source": [
    "print('Performance of SVM on test:', svm_cv.score(X_test,y_test))"
   ]
  },
  {
   "cell_type": "code",
   "execution_count": 27,
   "metadata": {},
   "outputs": [
    {
     "data": {
      "text/plain": [
       "array([[4301,    0,  182,  290,   72],\n",
       "       [  15,  352,  137,    5,   29],\n",
       "       [ 571,   54, 7943,  191,  167],\n",
       "       [1512,    1, 1192, 1060,   85],\n",
       "       [1640,    0, 1433,  314,  356]], dtype=int64)"
      ]
     },
     "execution_count": 27,
     "metadata": {},
     "output_type": "execute_result"
    }
   ],
   "source": [
    "y_pred = svm_cv.predict(X_test)\n",
    "confusion_matrix(y_test, y_pred)"
   ]
  },
  {
   "cell_type": "code",
   "execution_count": 28,
   "metadata": {},
   "outputs": [
    {
     "name": "stdout",
     "output_type": "stream",
     "text": [
      "                 precision    recall  f1-score   support\n",
      "\n",
      "Adoption/Foster       0.54      0.89      0.67      4845\n",
      "           Died       0.86      0.65      0.74       538\n",
      "           Euth       0.73      0.89      0.80      8926\n",
      "            Rto       0.57      0.28      0.37      3850\n",
      "       Transfer       0.50      0.10      0.16      3743\n",
      "\n",
      "       accuracy                           0.64     21902\n",
      "      macro avg       0.64      0.56      0.55     21902\n",
      "   weighted avg       0.62      0.64      0.59     21902\n",
      "\n"
     ]
    }
   ],
   "source": [
    "print(classification_report(y_test, y_pred))"
   ]
  },
  {
   "cell_type": "code",
   "execution_count": 29,
   "metadata": {
    "scrolled": false
   },
   "outputs": [
    {
     "name": "stdout",
     "output_type": "stream",
     "text": [
      "Fitting 3 folds for each of 6 candidates, totalling 18 fits\n"
     ]
    },
    {
     "name": "stderr",
     "output_type": "stream",
     "text": [
      "[Parallel(n_jobs=4)]: Using backend LokyBackend with 4 concurrent workers.\n",
      "[Parallel(n_jobs=4)]: Done   1 tasks      | elapsed:  6.3min\n",
      "[Parallel(n_jobs=4)]: Done   2 tasks      | elapsed:  6.4min\n",
      "[Parallel(n_jobs=4)]: Done   3 tasks      | elapsed:  6.4min\n",
      "[Parallel(n_jobs=4)]: Done   4 tasks      | elapsed:  6.6min\n",
      "[Parallel(n_jobs=4)]: Done   5 tasks      | elapsed: 11.6min\n",
      "[Parallel(n_jobs=4)]: Done   6 tasks      | elapsed: 11.7min\n",
      "[Parallel(n_jobs=4)]: Done   7 tasks      | elapsed: 12.7min\n",
      "[Parallel(n_jobs=4)]: Done   8 tasks      | elapsed: 12.7min\n",
      "[Parallel(n_jobs=4)]: Done   9 tasks      | elapsed: 16.6min\n",
      "[Parallel(n_jobs=4)]: Done  10 tasks      | elapsed: 17.6min\n",
      "[Parallel(n_jobs=4)]: Done  11 tasks      | elapsed: 18.5min\n",
      "[Parallel(n_jobs=4)]: Done  13 out of  18 | elapsed: 22.1min remaining:  8.5min\n",
      "[Parallel(n_jobs=4)]: Done  15 out of  18 | elapsed: 23.9min remaining:  4.8min\n",
      "[Parallel(n_jobs=4)]: Done  18 out of  18 | elapsed: 26.8min finished\n"
     ]
    },
    {
     "data": {
      "text/plain": [
       "RandomizedSearchCV(cv=3, error_score='raise-deprecating',\n",
       "                   estimator=KNeighborsClassifier(algorithm='kd_tree',\n",
       "                                                  leaf_size=30,\n",
       "                                                  metric='minkowski',\n",
       "                                                  metric_params=None,\n",
       "                                                  n_jobs=None, n_neighbors=5,\n",
       "                                                  p=2, weights='uniform'),\n",
       "                   iid='warn', n_iter=6, n_jobs=4,\n",
       "                   param_distributions={'n_neighbors': array([ 1,  2,  3,  4,  5,  6,  7,  8,  9, 10, 11, 12, 13, 14, 15, 16, 17,\n",
       "       18, 19, 20, 21, 22, 23, 24])},\n",
       "                   pre_dispatch='2*n_jobs', random_state=12, refit=True,\n",
       "                   return_train_score=False, scoring='accuracy', verbose=15)"
      ]
     },
     "execution_count": 29,
     "metadata": {},
     "output_type": "execute_result"
    }
   ],
   "source": [
    "#run kNN classifier \n",
    "knn = KNeighborsClassifier(weights = 'uniform', algorithm = 'kd_tree')\n",
    "param_grid = {'n_neighbors': np.arange(1,25)}\n",
    "knn_cv = RandomizedSearchCV(knn, param_grid, cv = 3, verbose = 15, random_state =12, \n",
    "                            n_jobs = 4, n_iter = 6, scoring = 'accuracy')\n",
    "knn_cv.fit(X_train,y_train)"
   ]
  },
  {
   "cell_type": "code",
   "execution_count": 30,
   "metadata": {},
   "outputs": [
    {
     "name": "stdout",
     "output_type": "stream",
     "text": [
      "Best k neighbors: {'n_neighbors': 24}\n"
     ]
    }
   ],
   "source": [
    "print('Best k neighbors:', knn_cv.best_params_)"
   ]
  },
  {
   "cell_type": "code",
   "execution_count": 31,
   "metadata": {},
   "outputs": [
    {
     "name": "stdout",
     "output_type": "stream",
     "text": [
      "Best Score: 0.6372815685967556\n"
     ]
    }
   ],
   "source": [
    "print('Best Score:', knn_cv.best_score_)"
   ]
  },
  {
   "cell_type": "code",
   "execution_count": 32,
   "metadata": {},
   "outputs": [
    {
     "name": "stdout",
     "output_type": "stream",
     "text": [
      "Performance of k nearest neighbor: 0.6383435302712082\n"
     ]
    }
   ],
   "source": [
    "print('Performance of k nearest neighbor:', knn_cv.score(X_test, y_test))"
   ]
  },
  {
   "cell_type": "code",
   "execution_count": 33,
   "metadata": {},
   "outputs": [
    {
     "data": {
      "text/plain": [
       "array([[3855,    0,  222,  612,  156],\n",
       "       [  34,  147,  286,   44,   27],\n",
       "       [ 489,    4, 7920,  397,  116],\n",
       "       [ 867,    1, 1153, 1702,  127],\n",
       "       [1364,    2, 1485,  535,  357]], dtype=int64)"
      ]
     },
     "execution_count": 33,
     "metadata": {},
     "output_type": "execute_result"
    }
   ],
   "source": [
    "y_pred = knn_cv.predict(X_test)\n",
    "confusion_matrix(y_test, y_pred)"
   ]
  },
  {
   "cell_type": "code",
   "execution_count": 34,
   "metadata": {},
   "outputs": [
    {
     "name": "stdout",
     "output_type": "stream",
     "text": [
      "                 precision    recall  f1-score   support\n",
      "\n",
      "Adoption/Foster       0.58      0.80      0.67      4845\n",
      "           Died       0.95      0.27      0.42       538\n",
      "           Euth       0.72      0.89      0.79      8926\n",
      "            Rto       0.52      0.44      0.48      3850\n",
      "       Transfer       0.46      0.10      0.16      3743\n",
      "\n",
      "       accuracy                           0.64     21902\n",
      "      macro avg       0.65      0.50      0.50     21902\n",
      "   weighted avg       0.61      0.64      0.59     21902\n",
      "\n"
     ]
    }
   ],
   "source": [
    "print(classification_report(y_test, y_pred))"
   ]
  },
  {
   "cell_type": "code",
   "execution_count": 35,
   "metadata": {},
   "outputs": [
    {
     "name": "stdout",
     "output_type": "stream",
     "text": [
      "Fitting 3 folds for each of 6 candidates, totalling 18 fits\n"
     ]
    },
    {
     "name": "stderr",
     "output_type": "stream",
     "text": [
      "[Parallel(n_jobs=4)]: Using backend LokyBackend with 4 concurrent workers.\n",
      "[Parallel(n_jobs=4)]: Done   1 tasks      | elapsed:   26.4s\n",
      "[Parallel(n_jobs=4)]: Done   2 tasks      | elapsed:   26.9s\n",
      "[Parallel(n_jobs=4)]: Done   3 tasks      | elapsed:   27.0s\n",
      "[Parallel(n_jobs=4)]: Done   4 tasks      | elapsed:   48.9s\n",
      "[Parallel(n_jobs=4)]: Done   5 tasks      | elapsed:  1.2min\n",
      "[Parallel(n_jobs=4)]: Done   6 tasks      | elapsed:  1.2min\n",
      "[Parallel(n_jobs=4)]: Done   7 tasks      | elapsed:  2.0min\n",
      "[Parallel(n_jobs=4)]: Done   8 tasks      | elapsed:  2.4min\n",
      "[Parallel(n_jobs=4)]: Done   9 tasks      | elapsed:  2.8min\n",
      "[Parallel(n_jobs=4)]: Done  10 tasks      | elapsed:  3.6min\n",
      "[Parallel(n_jobs=4)]: Done  11 tasks      | elapsed:  4.3min\n",
      "[Parallel(n_jobs=4)]: Done  13 out of  18 | elapsed:  5.9min remaining:  2.3min\n",
      "[Parallel(n_jobs=4)]: Done  15 out of  18 | elapsed:  7.4min remaining:  1.5min\n",
      "[Parallel(n_jobs=4)]: Done  18 out of  18 | elapsed:  9.4min finished\n"
     ]
    },
    {
     "data": {
      "text/plain": [
       "GridSearchCV(cv=3, error_score='raise-deprecating',\n",
       "             estimator=RandomForestClassifier(bootstrap=True, class_weight=None,\n",
       "                                              criterion='gini', max_depth=None,\n",
       "                                              max_features='auto',\n",
       "                                              max_leaf_nodes=None,\n",
       "                                              min_impurity_decrease=0.0,\n",
       "                                              min_impurity_split=None,\n",
       "                                              min_samples_leaf=1,\n",
       "                                              min_samples_split=2,\n",
       "                                              min_weight_fraction_leaf=0.0,\n",
       "                                              n_estimators='warn', n_jobs=None,\n",
       "                                              oob_score=False, random_state=10,\n",
       "                                              verbose=0, warm_start=False),\n",
       "             iid='warn', n_jobs=4,\n",
       "             param_grid={'n_estimators': [100, 200, 400, 600, 800, 1000]},\n",
       "             pre_dispatch='2*n_jobs', refit=True, return_train_score=False,\n",
       "             scoring='accuracy', verbose=15)"
      ]
     },
     "execution_count": 35,
     "metadata": {},
     "output_type": "execute_result"
    }
   ],
   "source": [
    "#run random Forest with Grid Search with hyperparameter tuning\n",
    "RF = RandomForestClassifier(random_state = 10)\n",
    "param_grid = {'n_estimators': [100, 200, 400, 600, 800, 1000]}\n",
    "RF_cv = GridSearchCV(RF, param_grid, cv = 3, verbose = 15, scoring = 'accuracy', n_jobs = 4)\n",
    "RF_cv.fit(X_train, y_train)"
   ]
  },
  {
   "cell_type": "code",
   "execution_count": 36,
   "metadata": {},
   "outputs": [
    {
     "name": "stdout",
     "output_type": "stream",
     "text": [
      "Best # of trees in a forest: {'n_estimators': 800}\n"
     ]
    }
   ],
   "source": [
    "print('Best # of trees in a forest:', RF_cv.best_params_)"
   ]
  },
  {
   "cell_type": "code",
   "execution_count": 37,
   "metadata": {},
   "outputs": [
    {
     "name": "stdout",
     "output_type": "stream",
     "text": [
      "Best Score: 0.6472809815470716\n"
     ]
    }
   ],
   "source": [
    "print('Best Score:', RF_cv.best_score_)"
   ]
  },
  {
   "cell_type": "code",
   "execution_count": 38,
   "metadata": {},
   "outputs": [
    {
     "name": "stdout",
     "output_type": "stream",
     "text": [
      "Performance of random forest:  0.6490274860743311\n"
     ]
    }
   ],
   "source": [
    "print('Performance of random forest: ', RF_cv.score(X_test,y_test))"
   ]
  },
  {
   "cell_type": "code",
   "execution_count": 39,
   "metadata": {},
   "outputs": [
    {
     "data": {
      "text/plain": [
       "array([[3292,   10,  289,  599,  655],\n",
       "       [  12,  359,  124,    9,   34],\n",
       "       [ 292,   34, 7576,  525,  499],\n",
       "       [ 652,    4,  902, 1844,  448],\n",
       "       [ 963,   12, 1039,  585, 1144]], dtype=int64)"
      ]
     },
     "execution_count": 39,
     "metadata": {},
     "output_type": "execute_result"
    }
   ],
   "source": [
    "y_pred = RF_cv.predict(X_test)\n",
    "confusion_matrix(y_test, y_pred)"
   ]
  },
  {
   "cell_type": "code",
   "execution_count": 40,
   "metadata": {},
   "outputs": [
    {
     "name": "stdout",
     "output_type": "stream",
     "text": [
      "                 precision    recall  f1-score   support\n",
      "\n",
      "Adoption/Foster       0.63      0.68      0.65      4845\n",
      "           Died       0.86      0.67      0.75       538\n",
      "           Euth       0.76      0.85      0.80      8926\n",
      "            Rto       0.52      0.48      0.50      3850\n",
      "       Transfer       0.41      0.31      0.35      3743\n",
      "\n",
      "       accuracy                           0.65     21902\n",
      "      macro avg       0.64      0.60      0.61     21902\n",
      "   weighted avg       0.63      0.65      0.64     21902\n",
      "\n"
     ]
    }
   ],
   "source": [
    "print(classification_report(y_test, y_pred))"
   ]
  },
  {
   "cell_type": "code",
   "execution_count": 41,
   "metadata": {},
   "outputs": [],
   "source": [
    "#encode the y_train \n",
    "y_train_deep = OneHotEncoder().fit_transform(y_train.values.reshape(-1,1))\n",
    "\n",
    "#define X_train shape\n",
    "in_dim = X_train.shape[1]"
   ]
  },
  {
   "cell_type": "code",
   "execution_count": 42,
   "metadata": {},
   "outputs": [
    {
     "name": "stdout",
     "output_type": "stream",
     "text": [
      "WARNING:tensorflow:From C:\\Users\\sadmin\\Anaconda3\\lib\\site-packages\\keras\\backend\\tensorflow_backend.py:74: The name tf.get_default_graph is deprecated. Please use tf.compat.v1.get_default_graph instead.\n",
      "\n",
      "WARNING:tensorflow:From C:\\Users\\sadmin\\Anaconda3\\lib\\site-packages\\keras\\backend\\tensorflow_backend.py:517: The name tf.placeholder is deprecated. Please use tf.compat.v1.placeholder instead.\n",
      "\n",
      "WARNING:tensorflow:From C:\\Users\\sadmin\\Anaconda3\\lib\\site-packages\\keras\\backend\\tensorflow_backend.py:4138: The name tf.random_uniform is deprecated. Please use tf.random.uniform instead.\n",
      "\n",
      "WARNING:tensorflow:From C:\\Users\\sadmin\\Anaconda3\\lib\\site-packages\\keras\\backend\\tensorflow_backend.py:133: The name tf.placeholder_with_default is deprecated. Please use tf.compat.v1.placeholder_with_default instead.\n",
      "\n",
      "WARNING:tensorflow:From C:\\Users\\sadmin\\Anaconda3\\lib\\site-packages\\keras\\backend\\tensorflow_backend.py:3445: calling dropout (from tensorflow.python.ops.nn_ops) with keep_prob is deprecated and will be removed in a future version.\n",
      "Instructions for updating:\n",
      "Please use `rate` instead of `keep_prob`. Rate should be set to `rate = 1 - keep_prob`.\n",
      "WARNING:tensorflow:From C:\\Users\\sadmin\\Anaconda3\\lib\\site-packages\\keras\\optimizers.py:790: The name tf.train.Optimizer is deprecated. Please use tf.compat.v1.train.Optimizer instead.\n",
      "\n",
      "WARNING:tensorflow:From C:\\Users\\sadmin\\Anaconda3\\lib\\site-packages\\keras\\backend\\tensorflow_backend.py:3295: The name tf.log is deprecated. Please use tf.math.log instead.\n",
      "\n",
      "WARNING:tensorflow:From C:\\Users\\sadmin\\Anaconda3\\lib\\site-packages\\tensorflow\\python\\ops\\math_grad.py:1250: add_dispatch_support.<locals>.wrapper (from tensorflow.python.ops.array_ops) is deprecated and will be removed in a future version.\n",
      "Instructions for updating:\n",
      "Use tf.where in 2.0, which has the same broadcast rule as np.where\n",
      "Train on 35772 samples, validate on 15331 samples\n",
      "Epoch 1/50\n",
      " - 7s - loss: 1.2749 - acc: 0.5194 - val_loss: 1.0212 - val_acc: 0.6182\n",
      "Epoch 2/50\n",
      " - 4s - loss: 1.0074 - acc: 0.6223 - val_loss: 0.9250 - val_acc: 0.6506\n",
      "Epoch 3/50\n",
      " - 3s - loss: 0.9450 - acc: 0.6423 - val_loss: 0.8918 - val_acc: 0.6615\n",
      "Epoch 4/50\n",
      " - 4s - loss: 0.9125 - acc: 0.6527 - val_loss: 0.8728 - val_acc: 0.6701\n",
      "Epoch 5/50\n",
      " - 4s - loss: 0.8931 - acc: 0.6640 - val_loss: 0.8641 - val_acc: 0.6713\n",
      "Epoch 6/50\n",
      " - 3s - loss: 0.8816 - acc: 0.6647 - val_loss: 0.8494 - val_acc: 0.6772\n",
      "Epoch 7/50\n",
      " - 3s - loss: 0.8664 - acc: 0.6713 - val_loss: 0.8424 - val_acc: 0.6788\n",
      "Epoch 8/50\n",
      " - 4s - loss: 0.8578 - acc: 0.6736 - val_loss: 0.8394 - val_acc: 0.6808\n",
      "Epoch 9/50\n",
      " - 3s - loss: 0.8510 - acc: 0.6747 - val_loss: 0.8354 - val_acc: 0.6807\n",
      "Epoch 10/50\n",
      " - 4s - loss: 0.8413 - acc: 0.6792 - val_loss: 0.8349 - val_acc: 0.6828\n",
      "Epoch 11/50\n",
      " - 3s - loss: 0.8326 - acc: 0.6804 - val_loss: 0.8290 - val_acc: 0.6844\n",
      "Epoch 12/50\n",
      " - 3s - loss: 0.8312 - acc: 0.6851 - val_loss: 0.8310 - val_acc: 0.6825\n",
      "Epoch 13/50\n",
      " - 3s - loss: 0.8229 - acc: 0.6854 - val_loss: 0.8287 - val_acc: 0.6855\n",
      "Epoch 14/50\n",
      " - 4s - loss: 0.8190 - acc: 0.6872 - val_loss: 0.8290 - val_acc: 0.6839\n",
      "Epoch 15/50\n",
      " - 4s - loss: 0.8146 - acc: 0.6900 - val_loss: 0.8265 - val_acc: 0.6839\n",
      "Epoch 16/50\n",
      " - 3s - loss: 0.8062 - acc: 0.6914 - val_loss: 0.8279 - val_acc: 0.6820\n",
      "Epoch 17/50\n",
      " - 4s - loss: 0.8095 - acc: 0.6921 - val_loss: 0.8278 - val_acc: 0.6839\n",
      "Epoch 18/50\n",
      " - 4s - loss: 0.8052 - acc: 0.6911 - val_loss: 0.8302 - val_acc: 0.6833\n",
      "Epoch 19/50\n",
      " - 4s - loss: 0.7958 - acc: 0.6978 - val_loss: 0.8253 - val_acc: 0.6863\n",
      "Epoch 20/50\n",
      " - 4s - loss: 0.7924 - acc: 0.6978 - val_loss: 0.8310 - val_acc: 0.6829\n",
      "Epoch 21/50\n",
      " - 3s - loss: 0.7896 - acc: 0.7012 - val_loss: 0.8263 - val_acc: 0.6831\n",
      "Epoch 22/50\n",
      " - 3s - loss: 0.7827 - acc: 0.7013 - val_loss: 0.8266 - val_acc: 0.6852\n",
      "Epoch 23/50\n",
      " - 3s - loss: 0.7845 - acc: 0.7021 - val_loss: 0.8309 - val_acc: 0.6831\n",
      "Epoch 24/50\n",
      " - 4s - loss: 0.7779 - acc: 0.7028 - val_loss: 0.8269 - val_acc: 0.6866\n",
      "Epoch 25/50\n",
      " - 3s - loss: 0.7763 - acc: 0.7027 - val_loss: 0.8268 - val_acc: 0.6860\n",
      "Epoch 26/50\n",
      " - 4s - loss: 0.7735 - acc: 0.7044 - val_loss: 0.8294 - val_acc: 0.6852\n",
      "Epoch 27/50\n",
      " - 3s - loss: 0.7689 - acc: 0.7085 - val_loss: 0.8337 - val_acc: 0.6858\n",
      "Epoch 28/50\n",
      " - 4s - loss: 0.7675 - acc: 0.7076 - val_loss: 0.8337 - val_acc: 0.6833\n",
      "Epoch 29/50\n",
      " - 4s - loss: 0.7587 - acc: 0.7095 - val_loss: 0.8358 - val_acc: 0.6846\n",
      "Epoch 30/50\n",
      " - 4s - loss: 0.7602 - acc: 0.7108 - val_loss: 0.8384 - val_acc: 0.6820\n",
      "Epoch 31/50\n",
      " - 4s - loss: 0.7584 - acc: 0.7097 - val_loss: 0.8394 - val_acc: 0.6829\n",
      "Epoch 32/50\n",
      " - 4s - loss: 0.7575 - acc: 0.7108 - val_loss: 0.8382 - val_acc: 0.6831\n",
      "Epoch 33/50\n",
      " - 4s - loss: 0.7531 - acc: 0.7132 - val_loss: 0.8412 - val_acc: 0.6816\n",
      "Epoch 34/50\n",
      " - 4s - loss: 0.7496 - acc: 0.7146 - val_loss: 0.8425 - val_acc: 0.6818\n",
      "Epoch 35/50\n",
      " - 4s - loss: 0.7463 - acc: 0.7146 - val_loss: 0.8441 - val_acc: 0.6784\n",
      "Epoch 36/50\n",
      " - 4s - loss: 0.7457 - acc: 0.7147 - val_loss: 0.8388 - val_acc: 0.6809\n",
      "Epoch 37/50\n",
      " - 4s - loss: 0.7373 - acc: 0.7182 - val_loss: 0.8471 - val_acc: 0.6778\n",
      "Epoch 38/50\n",
      " - 4s - loss: 0.7381 - acc: 0.7162 - val_loss: 0.8487 - val_acc: 0.6836\n",
      "Epoch 39/50\n",
      " - 3s - loss: 0.7391 - acc: 0.7186 - val_loss: 0.8415 - val_acc: 0.6806\n",
      "Epoch 40/50\n",
      " - 3s - loss: 0.7345 - acc: 0.7190 - val_loss: 0.8482 - val_acc: 0.6815\n",
      "Epoch 41/50\n",
      " - 4s - loss: 0.7292 - acc: 0.7203 - val_loss: 0.8524 - val_acc: 0.6781\n",
      "Epoch 42/50\n",
      " - 4s - loss: 0.7250 - acc: 0.7203 - val_loss: 0.8556 - val_acc: 0.6786\n",
      "Epoch 43/50\n",
      " - 4s - loss: 0.7249 - acc: 0.7215 - val_loss: 0.8560 - val_acc: 0.6795\n",
      "Epoch 44/50\n",
      " - 4s - loss: 0.7202 - acc: 0.7238 - val_loss: 0.8554 - val_acc: 0.6790\n",
      "Epoch 45/50\n",
      " - 4s - loss: 0.7179 - acc: 0.7258 - val_loss: 0.8556 - val_acc: 0.6779\n",
      "Epoch 46/50\n",
      " - 4s - loss: 0.7212 - acc: 0.7252 - val_loss: 0.8590 - val_acc: 0.6775\n",
      "Epoch 47/50\n",
      " - 4s - loss: 0.7164 - acc: 0.7244 - val_loss: 0.8587 - val_acc: 0.6796\n",
      "Epoch 48/50\n",
      " - 4s - loss: 0.7167 - acc: 0.7264 - val_loss: 0.8581 - val_acc: 0.6816\n",
      "Epoch 49/50\n",
      " - 4s - loss: 0.7108 - acc: 0.7250 - val_loss: 0.8622 - val_acc: 0.6803\n",
      "Epoch 50/50\n",
      " - 4s - loss: 0.7102 - acc: 0.7277 - val_loss: 0.8631 - val_acc: 0.6807\n"
     ]
    }
   ],
   "source": [
    "DNN = Sequential()\n",
    "\n",
    "DNN.add(Dense(512, input_shape = (in_dim,)))\n",
    "DNN.add(Dropout(0.4))\n",
    "DNN.add(Activation('relu'))\n",
    "\n",
    "DNN.add(Dense(256))\n",
    "DNN.add(BatchNormalization())\n",
    "DNN.add(Activation('relu'))\n",
    "\n",
    "DNN.add(Dense(128))\n",
    "DNN.add(Dropout(0.4))\n",
    "DNN.add(Activation('relu'))\n",
    "\n",
    "DNN.add(Dense(64))\n",
    "DNN.add(BatchNormalization())\n",
    "DNN.add(Activation('relu'))\n",
    "\n",
    "DNN.add(Dense(32))\n",
    "DNN.add(Dropout(0.4))\n",
    "DNN.add(Activation('relu'))\n",
    "    \n",
    "DNN.add(Dense(16))\n",
    "DNN.add(BatchNormalization())\n",
    "DNN.add(Activation('relu'))\n",
    "\n",
    "DNN.add(Dense(5))\n",
    "DNN.add(Activation('softmax'))\n",
    "    \n",
    "DNN.compile(optimizer = 'Adam', loss = 'categorical_crossentropy', metrics = ['accuracy'])\n",
    "hist = DNN.fit(X_train, y_train_deep, validation_split = 0.3, batch_size = 256, epochs = 50, verbose = 2)"
   ]
  },
  {
   "cell_type": "code",
   "execution_count": 43,
   "metadata": {},
   "outputs": [
    {
     "data": {
      "text/plain": [
       "<matplotlib.legend.Legend at 0x1e2b82a3848>"
      ]
     },
     "execution_count": 43,
     "metadata": {},
     "output_type": "execute_result"
    },
    {
     "data": {
      "image/png": "[encoded data removed]",
      "text/plain": [
       "<Figure size 432x288 with 1 Axes>"
      ]
     },
     "metadata": {
      "needs_background": "light"
     },
     "output_type": "display_data"
    }
   ],
   "source": [
    "plt.plot(hist.history['acc'])\n",
    "plt.plot(hist.history['val_acc'])\n",
    "plt.ylabel('Accuracy')\n",
    "plt.xlabel('Epoch')\n",
    "plt.title('Model Accurcy')\n",
    "plt.legend(['Train', 'Validation'])"
   ]
  },
  {
   "cell_type": "markdown",
   "metadata": {},
   "source": [
    "Model seems to have high variance as train data accuracy deviates from test case. Early stop at around 30 epoch prevent the model from overfitting or add activity regularizer. Cross validation may help to improve variance without significantly changing the architecture of the model, however, it's an expensive technique to use"
   ]
  },
  {
   "cell_type": "code",
   "execution_count": 44,
   "metadata": {},
   "outputs": [
    {
     "name": "stdout",
     "output_type": "stream",
     "text": [
      "_________________________________________________________________\n",
      "Layer (type)                 Output Shape              Param #   \n",
      "=================================================================\n",
      "dense_1 (Dense)              (None, 512)               53248     \n",
      "_________________________________________________________________\n",
      "dropout_1 (Dropout)          (None, 512)               0         \n",
      "_________________________________________________________________\n",
      "activation_1 (Activation)    (None, 512)               0         \n",
      "_________________________________________________________________\n",
      "dense_2 (Dense)              (None, 256)               131328    \n",
      "_________________________________________________________________\n",
      "batch_normalization_1 (Batch (None, 256)               1024      \n",
      "_________________________________________________________________\n",
      "activation_2 (Activation)    (None, 256)               0         \n",
      "_________________________________________________________________\n",
      "dense_3 (Dense)              (None, 128)               32896     \n",
      "_________________________________________________________________\n",
      "dropout_2 (Dropout)          (None, 128)               0         \n",
      "_________________________________________________________________\n",
      "activation_3 (Activation)    (None, 128)               0         \n",
      "_________________________________________________________________\n",
      "dense_4 (Dense)              (None, 64)                8256      \n",
      "_________________________________________________________________\n",
      "batch_normalization_2 (Batch (None, 64)                256       \n",
      "_________________________________________________________________\n",
      "activation_4 (Activation)    (None, 64)                0         \n",
      "_________________________________________________________________\n",
      "dense_5 (Dense)              (None, 32)                2080      \n",
      "_________________________________________________________________\n",
      "dropout_3 (Dropout)          (None, 32)                0         \n",
      "_________________________________________________________________\n",
      "activation_5 (Activation)    (None, 32)                0         \n",
      "_________________________________________________________________\n",
      "dense_6 (Dense)              (None, 16)                528       \n",
      "_________________________________________________________________\n",
      "batch_normalization_3 (Batch (None, 16)                64        \n",
      "_________________________________________________________________\n",
      "activation_6 (Activation)    (None, 16)                0         \n",
      "_________________________________________________________________\n",
      "dense_7 (Dense)              (None, 5)                 85        \n",
      "_________________________________________________________________\n",
      "activation_7 (Activation)    (None, 5)                 0         \n",
      "=================================================================\n",
      "Total params: 229,765\n",
      "Trainable params: 229,093\n",
      "Non-trainable params: 672\n",
      "_________________________________________________________________\n"
     ]
    }
   ],
   "source": [
    "DNN.summary()"
   ]
  },
  {
   "cell_type": "code",
   "execution_count": 45,
   "metadata": {},
   "outputs": [],
   "source": [
    "#write function to reverse encode\n",
    "def ReverseEncode(y_train, y_train_deep):\n",
    "    check = {}\n",
    "    y_train = y_train.reset_index()\n",
    "    for ind, i in enumerate(y_train_deep):\n",
    "        if len(check) != 5:\n",
    "            if np.argmax(i) not in check:\n",
    "                check[np.argmax(i)]= y_train.iloc[ind,1]\n",
    "        else:\n",
    "            break\n",
    "    return check\n",
    "\n",
    "#reverse encode the y_train\n",
    "check = ReverseEncode(y_train, y_train_deep)"
   ]
  },
  {
   "cell_type": "code",
   "execution_count": 46,
   "metadata": {},
   "outputs": [],
   "source": [
    "#predict test case\n",
    "predict = DNN.predict(X_test)"
   ]
  },
  {
   "cell_type": "code",
   "execution_count": 47,
   "metadata": {},
   "outputs": [],
   "source": [
    "#change numerical categories to readable categories\n",
    "def readable_predict(predict, check):\n",
    "    predict_str = []\n",
    "    for i in predict:\n",
    "        ind = np.argmax(i)\n",
    "        predict_str.append(check[ind])\n",
    "    return predict_str\n",
    "\n",
    "#transforming predict to original category\n",
    "predict_str = readable_predict(predict, check)"
   ]
  },
  {
   "cell_type": "code",
   "execution_count": 48,
   "metadata": {},
   "outputs": [
    {
     "name": "stdout",
     "output_type": "stream",
     "text": [
      "Accuracy of Neural Network: 0.678\n"
     ]
    }
   ],
   "source": [
    "print('Accuracy of Neural Network:', round(accuracy_score(y_test, predict_str), 3))"
   ]
  },
  {
   "cell_type": "markdown",
   "metadata": {},
   "source": [
    "The accuracy of the neural network aligns well within the range of the score achieved from val_acc"
   ]
  },
  {
   "cell_type": "code",
   "execution_count": 49,
   "metadata": {},
   "outputs": [
    {
     "name": "stdout",
     "output_type": "stream",
     "text": [
      "[[3891    0  161  562  231]\n",
      " [  15  358  127    9   29]\n",
      " [ 363   39 7727  466  331]\n",
      " [ 677    1  910 2040  222]\n",
      " [1279    0 1081  542  841]]\n"
     ]
    }
   ],
   "source": [
    "print(confusion_matrix(y_test, predict_str))"
   ]
  },
  {
   "cell_type": "code",
   "execution_count": 50,
   "metadata": {},
   "outputs": [
    {
     "name": "stdout",
     "output_type": "stream",
     "text": [
      "                 precision    recall  f1-score   support\n",
      "\n",
      "Adoption/Foster       0.63      0.80      0.70      4845\n",
      "           Died       0.90      0.67      0.76       538\n",
      "           Euth       0.77      0.87      0.82      8926\n",
      "            Rto       0.56      0.53      0.55      3850\n",
      "       Transfer       0.51      0.22      0.31      3743\n",
      "\n",
      "       accuracy                           0.68     21902\n",
      "      macro avg       0.67      0.62      0.63     21902\n",
      "   weighted avg       0.66      0.68      0.66     21902\n",
      "\n"
     ]
    }
   ],
   "source": [
    "print(classification_report(y_test, predict_str))"
   ]
  },
  {
   "cell_type": "markdown",
   "metadata": {},
   "source": [
    "Deep learning achieved the highest score for Louisville dataset with an accuracy of 67.8%, highest euthanization precisiion at 0.77 and highest precision of euthanization is 0.63. The highest euthanization recall is at 0.89 with naive bayes."
   ]
  },
  {
   "cell_type": "markdown",
   "metadata": {},
   "source": [
    "## Machine Learning on Dallas\n",
    "<a id='Dallas'></a>"
   ]
  },
  {
   "cell_type": "code",
   "execution_count": 51,
   "metadata": {},
   "outputs": [
    {
     "name": "stdout",
     "output_type": "stream",
     "text": [
      "<class 'pandas.core.frame.DataFrame'>\n",
      "Int64Index: 25072 entries, 131807 to 157849\n",
      "Data columns (total 13 columns):\n",
      "Breed             25072 non-null object\n",
      "Chip_Status       25072 non-null object\n",
      "Health            24819 non-null object\n",
      "Intake_Status     0 non-null object\n",
      "Intake_Subtype    24704 non-null object\n",
      "Location          25072 non-null object\n",
      "Outcome_Type      25072 non-null object\n",
      "Sex               0 non-null object\n",
      "Neutered/Spay     25072 non-null object\n",
      "Pure/Mix          25072 non-null object\n",
      "Age               0 non-null float64\n",
      "Outcome_Month     25072 non-null object\n",
      "Intake_month      25072 non-null object\n",
      "dtypes: float64(1), object(12)\n",
      "memory usage: 2.7+ MB\n"
     ]
    }
   ],
   "source": [
    "#isolate the dallas dataset\n",
    "df_dalla.info()"
   ]
  },
  {
   "cell_type": "code",
   "execution_count": 52,
   "metadata": {},
   "outputs": [],
   "source": [
    "#drop unused columns\n",
    "df_dalla = df_dalla.drop(columns = ['Sex', 'Neutered/Spay', 'Age', 'Location', 'Intake_Status'])"
   ]
  },
  {
   "cell_type": "code",
   "execution_count": 53,
   "metadata": {},
   "outputs": [
    {
     "name": "stdout",
     "output_type": "stream",
     "text": [
      "<class 'pandas.core.frame.DataFrame'>\n",
      "Int64Index: 24669 entries, 131807 to 157849\n",
      "Data columns (total 8 columns):\n",
      "Breed             24669 non-null object\n",
      "Chip_Status       24669 non-null object\n",
      "Health            24669 non-null object\n",
      "Intake_Subtype    24669 non-null object\n",
      "Outcome_Type      24669 non-null object\n",
      "Pure/Mix          24669 non-null object\n",
      "Outcome_Month     24669 non-null object\n",
      "Intake_month      24669 non-null object\n",
      "dtypes: object(8)\n",
      "memory usage: 1.7+ MB\n"
     ]
    }
   ],
   "source": [
    "df_dalla = df_dalla.dropna()\n",
    "df_dalla.info()"
   ]
  },
  {
   "cell_type": "code",
   "execution_count": 54,
   "metadata": {},
   "outputs": [],
   "source": [
    "#split data into train and test\n",
    "X = df_dalla.drop(columns = ['Outcome_Type'])\n",
    "y = df_dalla.Outcome_Type\n",
    "\n",
    "#encode categories\n",
    "ohe = OneHotEncoder()\n",
    "X = ohe.fit_transform(X)\n",
    "\n",
    "#split dataset to train and test\n",
    "X_train, X_test, y_train, y_test = train_test_split(X, y, random_state = 12, test_size = 0.3)"
   ]
  },
  {
   "cell_type": "code",
   "execution_count": 55,
   "metadata": {},
   "outputs": [
    {
     "name": "stdout",
     "output_type": "stream",
     "text": [
      "Fitting 3 folds for each of 10 candidates, totalling 30 fits\n"
     ]
    },
    {
     "name": "stderr",
     "output_type": "stream",
     "text": [
      "[Parallel(n_jobs=4)]: Using backend LokyBackend with 4 concurrent workers.\n",
      "[Parallel(n_jobs=4)]: Done   1 tasks      | elapsed:    8.4s\n",
      "[Parallel(n_jobs=4)]: Done   2 tasks      | elapsed:    8.4s\n",
      "[Parallel(n_jobs=4)]: Done   3 tasks      | elapsed:    8.4s\n",
      "[Parallel(n_jobs=4)]: Done   4 tasks      | elapsed:    8.4s\n",
      "[Parallel(n_jobs=4)]: Done   5 tasks      | elapsed:    8.6s\n",
      "[Parallel(n_jobs=4)]: Done   6 tasks      | elapsed:    8.6s\n",
      "[Parallel(n_jobs=4)]: Done   7 tasks      | elapsed:    8.6s\n",
      "[Parallel(n_jobs=4)]: Done   8 tasks      | elapsed:    8.6s\n",
      "[Parallel(n_jobs=4)]: Done   9 tasks      | elapsed:    8.8s\n",
      "[Parallel(n_jobs=4)]: Done  10 tasks      | elapsed:    8.8s\n",
      "[Parallel(n_jobs=4)]: Done  11 tasks      | elapsed:    8.8s\n",
      "[Parallel(n_jobs=4)]: Done  12 tasks      | elapsed:    8.8s\n",
      "[Parallel(n_jobs=4)]: Done  13 tasks      | elapsed:    8.9s\n",
      "[Parallel(n_jobs=4)]: Done  14 tasks      | elapsed:    8.9s\n",
      "[Parallel(n_jobs=4)]: Done  15 tasks      | elapsed:    8.9s\n",
      "[Parallel(n_jobs=4)]: Done  16 tasks      | elapsed:    9.0s\n",
      "[Parallel(n_jobs=4)]: Done  17 tasks      | elapsed:    9.1s\n",
      "[Parallel(n_jobs=4)]: Done  18 tasks      | elapsed:    9.1s\n",
      "[Parallel(n_jobs=4)]: Done  19 tasks      | elapsed:    9.1s\n",
      "[Parallel(n_jobs=4)]: Done  20 tasks      | elapsed:    9.1s\n",
      "[Parallel(n_jobs=4)]: Done  21 tasks      | elapsed:    9.2s\n",
      "[Parallel(n_jobs=4)]: Done  22 tasks      | elapsed:    9.2s\n",
      "[Parallel(n_jobs=4)]: Done  23 tasks      | elapsed:    9.2s\n",
      "[Parallel(n_jobs=4)]: Done  26 out of  30 | elapsed:    9.4s remaining:    1.4s\n",
      "[Parallel(n_jobs=4)]: Done  30 out of  30 | elapsed:    9.4s finished\n"
     ]
    },
    {
     "data": {
      "text/plain": [
       "RandomizedSearchCV(cv=3, error_score='raise-deprecating',\n",
       "                   estimator=BernoulliNB(alpha=1.0, binarize=0.0,\n",
       "                                         class_prior=None, fit_prior=True),\n",
       "                   iid='warn', n_iter=10, n_jobs=4,\n",
       "                   param_distributions={'alpha': array([0.001     , 0.0011514 , 0.00132571, 0.00152642, 0.00175751,\n",
       "       0.00202359, 0.00232995, 0.0026827 , 0.00308884, 0.00355648,\n",
       "       0.00409492, 0.00471487, 0.00542868, 0.00625055, 0.0...\n",
       "       0.03393222, 0.0390694 , 0.04498433, 0.05179475, 0.05963623,\n",
       "       0.06866488, 0.07906043, 0.09102982, 0.10481131, 0.12067926,\n",
       "       0.13894955, 0.15998587, 0.184207  , 0.21209509, 0.24420531,\n",
       "       0.28117687, 0.32374575, 0.37275937, 0.42919343, 0.49417134,\n",
       "       0.5689866 , 0.65512856, 0.75431201, 0.86851137, 1.        ])},\n",
       "                   pre_dispatch='2*n_jobs', random_state=12, refit=True,\n",
       "                   return_train_score=False, scoring='accuracy', verbose=15)"
      ]
     },
     "execution_count": 55,
     "metadata": {},
     "output_type": "execute_result"
    }
   ],
   "source": [
    "NB = BernoulliNB()\n",
    "param_grid = {'alpha': np.logspace(-3,0, num = 50)}\n",
    "NB_cv = RandomizedSearchCV(NB, param_grid, cv = 3, verbose = 15, n_iter = 10, \n",
    "                           scoring = 'accuracy', random_state = 12, n_jobs =4)\n",
    "NB_cv.fit(X_train, y_train)"
   ]
  },
  {
   "cell_type": "code",
   "execution_count": 56,
   "metadata": {
    "scrolled": true
   },
   "outputs": [
    {
     "name": "stdout",
     "output_type": "stream",
     "text": [
      "Best alpha: {'alpha': 0.868511373751352}\n"
     ]
    }
   ],
   "source": [
    "print('Best alpha:', NB_cv.best_params_)"
   ]
  },
  {
   "cell_type": "code",
   "execution_count": 57,
   "metadata": {},
   "outputs": [
    {
     "name": "stdout",
     "output_type": "stream",
     "text": [
      "Best Score: 0.5187051192958073\n"
     ]
    }
   ],
   "source": [
    "print('Best Score:', NB_cv.best_score_)"
   ]
  },
  {
   "cell_type": "code",
   "execution_count": 58,
   "metadata": {},
   "outputs": [
    {
     "name": "stdout",
     "output_type": "stream",
     "text": [
      "Performance of naive bayes on test: 0.5197946223483313\n"
     ]
    }
   ],
   "source": [
    "print('Performance of naive bayes on test:', NB_cv.score(X_test, y_test))"
   ]
  },
  {
   "cell_type": "code",
   "execution_count": 59,
   "metadata": {},
   "outputs": [
    {
     "data": {
      "text/plain": [
       "array([[1808,    0,   73,  166,  559],\n",
       "       [   2,   68,   27,    0,    2],\n",
       "       [ 523,    0, 1008,   54,  103],\n",
       "       [ 412,    0,  169,  382,  346],\n",
       "       [ 818,    0,  163,  137,  581]], dtype=int64)"
      ]
     },
     "execution_count": 59,
     "metadata": {},
     "output_type": "execute_result"
    }
   ],
   "source": [
    "y_pred = NB_cv.predict(X_test)\n",
    "confusion_matrix(y_test, y_pred)"
   ]
  },
  {
   "cell_type": "code",
   "execution_count": 60,
   "metadata": {},
   "outputs": [
    {
     "name": "stdout",
     "output_type": "stream",
     "text": [
      "                 precision    recall  f1-score   support\n",
      "\n",
      "Adoption/Foster       0.51      0.69      0.59      2606\n",
      "           Died       1.00      0.69      0.81        99\n",
      "           Euth       0.70      0.60      0.64      1688\n",
      "            Rto       0.52      0.29      0.37      1309\n",
      "       Transfer       0.37      0.34      0.35      1699\n",
      "\n",
      "       accuracy                           0.52      7401\n",
      "      macro avg       0.62      0.52      0.55      7401\n",
      "   weighted avg       0.53      0.52      0.51      7401\n",
      "\n"
     ]
    }
   ],
   "source": [
    "print(classification_report(y_test, y_pred))"
   ]
  },
  {
   "cell_type": "code",
   "execution_count": 61,
   "metadata": {
    "scrolled": true
   },
   "outputs": [
    {
     "name": "stdout",
     "output_type": "stream",
     "text": [
      "Fitting 3 folds for each of 10 candidates, totalling 30 fits\n"
     ]
    },
    {
     "name": "stderr",
     "output_type": "stream",
     "text": [
      "[Parallel(n_jobs=4)]: Using backend LokyBackend with 4 concurrent workers.\n",
      "[Parallel(n_jobs=4)]: Done   1 tasks      | elapsed:    5.3s\n",
      "[Parallel(n_jobs=4)]: Done   2 tasks      | elapsed:    5.4s\n",
      "[Parallel(n_jobs=4)]: Done   3 tasks      | elapsed:    5.4s\n",
      "[Parallel(n_jobs=4)]: Done   4 tasks      | elapsed:    5.9s\n",
      "[Parallel(n_jobs=4)]: Done   5 tasks      | elapsed:    6.4s\n",
      "[Parallel(n_jobs=4)]: Done   6 tasks      | elapsed:    6.7s\n",
      "[Parallel(n_jobs=4)]: Done   7 tasks      | elapsed:    6.8s\n",
      "[Parallel(n_jobs=4)]: Done   8 tasks      | elapsed:    7.2s\n",
      "[Parallel(n_jobs=4)]: Done   9 tasks      | elapsed:    7.3s\n",
      "[Parallel(n_jobs=4)]: Done  10 tasks      | elapsed:    8.2s\n",
      "[Parallel(n_jobs=4)]: Done  11 tasks      | elapsed:    8.3s\n",
      "[Parallel(n_jobs=4)]: Done  12 tasks      | elapsed:    8.5s\n",
      "[Parallel(n_jobs=4)]: Done  13 tasks      | elapsed:    8.7s\n",
      "[Parallel(n_jobs=4)]: Done  14 tasks      | elapsed:    9.3s\n",
      "[Parallel(n_jobs=4)]: Done  15 tasks      | elapsed:    9.4s\n",
      "[Parallel(n_jobs=4)]: Done  16 tasks      | elapsed:    9.5s\n",
      "[Parallel(n_jobs=4)]: Done  17 tasks      | elapsed:    9.6s\n",
      "[Parallel(n_jobs=4)]: Done  18 tasks      | elapsed:   10.0s\n",
      "[Parallel(n_jobs=4)]: Done  19 tasks      | elapsed:   10.1s\n",
      "[Parallel(n_jobs=4)]: Done  20 tasks      | elapsed:   10.1s\n",
      "[Parallel(n_jobs=4)]: Done  21 tasks      | elapsed:   10.2s\n",
      "[Parallel(n_jobs=4)]: Done  22 tasks      | elapsed:   10.7s\n",
      "[Parallel(n_jobs=4)]: Done  23 tasks      | elapsed:   11.2s\n",
      "[Parallel(n_jobs=4)]: Done  26 out of  30 | elapsed:   11.8s remaining:    1.7s\n",
      "[Parallel(n_jobs=4)]: Done  30 out of  30 | elapsed:   12.1s finished\n",
      "C:\\Users\\sadmin\\Anaconda3\\lib\\site-packages\\sklearn\\linear_model\\logistic.py:947: ConvergenceWarning: lbfgs failed to converge. Increase the number of iterations.\n",
      "  \"of iterations.\", ConvergenceWarning)\n",
      "C:\\Users\\sadmin\\Anaconda3\\lib\\site-packages\\sklearn\\linear_model\\logistic.py:947: ConvergenceWarning: lbfgs failed to converge. Increase the number of iterations.\n",
      "  \"of iterations.\", ConvergenceWarning)\n",
      "C:\\Users\\sadmin\\Anaconda3\\lib\\site-packages\\sklearn\\linear_model\\logistic.py:947: ConvergenceWarning: lbfgs failed to converge. Increase the number of iterations.\n",
      "  \"of iterations.\", ConvergenceWarning)\n",
      "C:\\Users\\sadmin\\Anaconda3\\lib\\site-packages\\sklearn\\linear_model\\logistic.py:947: ConvergenceWarning: lbfgs failed to converge. Increase the number of iterations.\n",
      "  \"of iterations.\", ConvergenceWarning)\n"
     ]
    },
    {
     "data": {
      "text/plain": [
       "RandomizedSearchCV(cv=3, error_score='raise-deprecating',\n",
       "                   estimator=LogisticRegression(C=1.0, class_weight=None,\n",
       "                                                dual=False, fit_intercept=True,\n",
       "                                                intercept_scaling=1,\n",
       "                                                l1_ratio=None, max_iter=100,\n",
       "                                                multi_class='ovr', n_jobs=None,\n",
       "                                                penalty='l2', random_state=None,\n",
       "                                                solver='lbfgs', tol=0.0001,\n",
       "                                                verbose=0, warm_start=False),\n",
       "                   iid='warn', n_iter=10, n_jobs=4,\n",
       "                   param_distributions...\n",
       "       0.03393222, 0.0390694 , 0.04498433, 0.05179475, 0.05963623,\n",
       "       0.06866488, 0.07906043, 0.09102982, 0.10481131, 0.12067926,\n",
       "       0.13894955, 0.15998587, 0.184207  , 0.21209509, 0.24420531,\n",
       "       0.28117687, 0.32374575, 0.37275937, 0.42919343, 0.49417134,\n",
       "       0.5689866 , 0.65512856, 0.75431201, 0.86851137, 1.        ])},\n",
       "                   pre_dispatch='2*n_jobs', random_state=12, refit=True,\n",
       "                   return_train_score=False, scoring='accuracy', verbose=15)"
      ]
     },
     "execution_count": 61,
     "metadata": {},
     "output_type": "execute_result"
    }
   ],
   "source": [
    "#run logistic regression with random search cross validation and hypertuning\n",
    "lm = LogisticRegression(solver = 'lbfgs', multi_class = 'ovr')\n",
    "param_grid = {'C': np.logspace(-3, 0, num = 50)}\n",
    "lm_cv = RandomizedSearchCV(lm, param_grid, cv = 3, verbose = 15, n_iter = 10, n_jobs = 4,\n",
    "                           scoring = 'accuracy', random_state = 12)\n",
    "lm_cv.fit(X_train, y_train)"
   ]
  },
  {
   "cell_type": "code",
   "execution_count": 62,
   "metadata": {},
   "outputs": [
    {
     "name": "stdout",
     "output_type": "stream",
     "text": [
      "Best C: {'C': 0.655128556859551}\n"
     ]
    }
   ],
   "source": [
    "print('Best C:', lm_cv.best_params_)"
   ]
  },
  {
   "cell_type": "code",
   "execution_count": 63,
   "metadata": {},
   "outputs": [
    {
     "name": "stdout",
     "output_type": "stream",
     "text": [
      "Best Score: 0.5331248552235348\n"
     ]
    }
   ],
   "source": [
    "print('Best Score:', lm_cv.best_score_)"
   ]
  },
  {
   "cell_type": "code",
   "execution_count": 64,
   "metadata": {},
   "outputs": [
    {
     "name": "stdout",
     "output_type": "stream",
     "text": [
      "Performance of logistic regression on test: 0.5379002837454399\n"
     ]
    }
   ],
   "source": [
    "print('Performance of logistic regression on test:', lm_cv.score(X_test,y_test))"
   ]
  },
  {
   "cell_type": "code",
   "execution_count": 65,
   "metadata": {},
   "outputs": [
    {
     "data": {
      "text/plain": [
       "array([[2109,    0,   99,  170,  228],\n",
       "       [   4,   68,   27,    0,    0],\n",
       "       [ 562,    0,  999,   89,   38],\n",
       "       [ 561,    0,  112,  492,  144],\n",
       "       [1078,    0,  158,  150,  313]], dtype=int64)"
      ]
     },
     "execution_count": 65,
     "metadata": {},
     "output_type": "execute_result"
    }
   ],
   "source": [
    "y_pred = lm_cv.predict(X_test)\n",
    "confusion_matrix(y_test, y_pred)"
   ]
  },
  {
   "cell_type": "code",
   "execution_count": 66,
   "metadata": {
    "scrolled": false
   },
   "outputs": [
    {
     "name": "stdout",
     "output_type": "stream",
     "text": [
      "                 precision    recall  f1-score   support\n",
      "\n",
      "Adoption/Foster       0.49      0.81      0.61      2606\n",
      "           Died       1.00      0.69      0.81        99\n",
      "           Euth       0.72      0.59      0.65      1688\n",
      "            Rto       0.55      0.38      0.45      1309\n",
      "       Transfer       0.43      0.18      0.26      1699\n",
      "\n",
      "       accuracy                           0.54      7401\n",
      "      macro avg       0.64      0.53      0.56      7401\n",
      "   weighted avg       0.54      0.54      0.51      7401\n",
      "\n"
     ]
    }
   ],
   "source": [
    "print(classification_report(y_test, y_pred))"
   ]
  },
  {
   "cell_type": "code",
   "execution_count": 67,
   "metadata": {
    "scrolled": true
   },
   "outputs": [
    {
     "name": "stdout",
     "output_type": "stream",
     "text": [
      "Fitting 3 folds for each of 6 candidates, totalling 18 fits\n"
     ]
    },
    {
     "name": "stderr",
     "output_type": "stream",
     "text": [
      "[Parallel(n_jobs=4)]: Using backend LokyBackend with 4 concurrent workers.\n",
      "[Parallel(n_jobs=4)]: Done   1 tasks      | elapsed:   29.0s\n",
      "[Parallel(n_jobs=4)]: Done   2 tasks      | elapsed:   29.3s\n",
      "[Parallel(n_jobs=4)]: Done   3 tasks      | elapsed:   29.6s\n",
      "[Parallel(n_jobs=4)]: Done   4 tasks      | elapsed:   30.4s\n",
      "[Parallel(n_jobs=4)]: Done   5 tasks      | elapsed:   55.5s\n",
      "[Parallel(n_jobs=4)]: Done   6 tasks      | elapsed:   55.6s\n",
      "[Parallel(n_jobs=4)]: Done   7 tasks      | elapsed:   56.0s\n",
      "[Parallel(n_jobs=4)]: Done   8 tasks      | elapsed:   56.8s\n",
      "[Parallel(n_jobs=4)]: Done   9 tasks      | elapsed:  1.4min\n",
      "[Parallel(n_jobs=4)]: Done  10 tasks      | elapsed:  1.4min\n",
      "[Parallel(n_jobs=4)]: Done  11 tasks      | elapsed:  1.4min\n",
      "[Parallel(n_jobs=4)]: Done  13 out of  18 | elapsed:  1.8min remaining:   41.2s\n",
      "[Parallel(n_jobs=4)]: Done  15 out of  18 | elapsed:  1.8min remaining:   21.5s\n",
      "[Parallel(n_jobs=4)]: Done  18 out of  18 | elapsed:  2.1min finished\n"
     ]
    },
    {
     "data": {
      "text/plain": [
       "RandomizedSearchCV(cv=3, error_score='raise-deprecating',\n",
       "                   estimator=SVC(C=1.0, cache_size=200, class_weight=None,\n",
       "                                 coef0=0.0, decision_function_shape='ovr',\n",
       "                                 degree=3, gamma='auto_deprecated',\n",
       "                                 kernel='linear', max_iter=-1,\n",
       "                                 probability=False, random_state=None,\n",
       "                                 shrinking=True, tol=0.001, verbose=False),\n",
       "                   iid='warn', n_iter=6, n_jobs=4,\n",
       "                   param_distributions={'C': array([0.0...\n",
       "       0.03393222, 0.0390694 , 0.04498433, 0.05179475, 0.05963623,\n",
       "       0.06866488, 0.07906043, 0.09102982, 0.10481131, 0.12067926,\n",
       "       0.13894955, 0.15998587, 0.184207  , 0.21209509, 0.24420531,\n",
       "       0.28117687, 0.32374575, 0.37275937, 0.42919343, 0.49417134,\n",
       "       0.5689866 , 0.65512856, 0.75431201, 0.86851137, 1.        ])},\n",
       "                   pre_dispatch='2*n_jobs', random_state=10, refit=True,\n",
       "                   return_train_score=False, scoring='accuracy', verbose=15)"
      ]
     },
     "execution_count": 67,
     "metadata": {},
     "output_type": "execute_result"
    }
   ],
   "source": [
    "svm = SVC(kernel = 'linear')\n",
    "param_grid = {'C': np.logspace(-3,0, num = 50)}\n",
    "svm_cv = RandomizedSearchCV(svm, param_grid, cv = 3, verbose = 15, random_state = 10, \n",
    "                            scoring = 'accuracy', n_iter = 6, n_jobs = 4)\n",
    "svm_cv.fit(X_train, y_train)"
   ]
  },
  {
   "cell_type": "code",
   "execution_count": 68,
   "metadata": {
    "scrolled": false
   },
   "outputs": [
    {
     "name": "stdout",
     "output_type": "stream",
     "text": [
      "Best parameters: {'C': 0.3727593720314938}\n"
     ]
    }
   ],
   "source": [
    "print('Best parameters:', svm_cv.best_params_)"
   ]
  },
  {
   "cell_type": "code",
   "execution_count": 69,
   "metadata": {},
   "outputs": [
    {
     "name": "stdout",
     "output_type": "stream",
     "text": [
      "Best Score: 0.5227009497336113\n"
     ]
    }
   ],
   "source": [
    "print('Best Score:', svm_cv.best_score_)"
   ]
  },
  {
   "cell_type": "code",
   "execution_count": 70,
   "metadata": {},
   "outputs": [
    {
     "name": "stdout",
     "output_type": "stream",
     "text": [
      "Performance of SVM on test: 0.5230374273746791\n"
     ]
    }
   ],
   "source": [
    "print('Performance of SVM on test:', svm_cv.score(X_test,y_test))"
   ]
  },
  {
   "cell_type": "code",
   "execution_count": 71,
   "metadata": {},
   "outputs": [
    {
     "data": {
      "text/plain": [
       "array([[2403,    0,   32,  140,   31],\n",
       "       [   4,   68,   27,    0,    0],\n",
       "       [ 663,    0,  905,   84,   36],\n",
       "       [ 797,    0,   83,  399,   30],\n",
       "       [1383,    0,  110,  110,   96]], dtype=int64)"
      ]
     },
     "execution_count": 71,
     "metadata": {},
     "output_type": "execute_result"
    }
   ],
   "source": [
    "y_pred = svm_cv.predict(X_test)\n",
    "confusion_matrix(y_test, y_pred)"
   ]
  },
  {
   "cell_type": "code",
   "execution_count": 72,
   "metadata": {},
   "outputs": [
    {
     "name": "stdout",
     "output_type": "stream",
     "text": [
      "                 precision    recall  f1-score   support\n",
      "\n",
      "Adoption/Foster       0.46      0.92      0.61      2606\n",
      "           Died       1.00      0.69      0.81        99\n",
      "           Euth       0.78      0.54      0.64      1688\n",
      "            Rto       0.54      0.30      0.39      1309\n",
      "       Transfer       0.50      0.06      0.10      1699\n",
      "\n",
      "       accuracy                           0.52      7401\n",
      "      macro avg       0.66      0.50      0.51      7401\n",
      "   weighted avg       0.56      0.52      0.46      7401\n",
      "\n"
     ]
    }
   ],
   "source": [
    "print(classification_report(y_test, y_pred))"
   ]
  },
  {
   "cell_type": "code",
   "execution_count": 73,
   "metadata": {
    "scrolled": false
   },
   "outputs": [
    {
     "name": "stdout",
     "output_type": "stream",
     "text": [
      "Fitting 3 folds for each of 8 candidates, totalling 24 fits\n"
     ]
    },
    {
     "name": "stderr",
     "output_type": "stream",
     "text": [
      "[Parallel(n_jobs=4)]: Using backend LokyBackend with 4 concurrent workers.\n",
      "[Parallel(n_jobs=4)]: Done  24 out of  24 | elapsed:  1.5min finished\n",
      "C:\\Users\\sadmin\\Anaconda3\\lib\\site-packages\\sklearn\\neighbors\\base.py:216: UserWarning: cannot use tree with sparse input: using brute force\n",
      "  warnings.warn(\"cannot use tree with sparse input: \"\n"
     ]
    },
    {
     "data": {
      "text/plain": [
       "RandomizedSearchCV(cv=3, error_score='raise-deprecating',\n",
       "                   estimator=KNeighborsClassifier(algorithm='kd_tree',\n",
       "                                                  leaf_size=30,\n",
       "                                                  metric='minkowski',\n",
       "                                                  metric_params=None,\n",
       "                                                  n_jobs=None, n_neighbors=5,\n",
       "                                                  p=2, weights='uniform'),\n",
       "                   iid='warn', n_iter=8, n_jobs=4,\n",
       "                   param_distributions={'n_neighbors': array([ 1,  2,  3,  4,  5,  6,  7,  8,  9, 10, 11, 12, 13, 14, 15, 16, 17,\n",
       "       18, 19, 20, 21, 22, 23, 24])},\n",
       "                   pre_dispatch='2*n_jobs', random_state=12, refit=True,\n",
       "                   return_train_score=False, scoring='accuracy', verbose=2)"
      ]
     },
     "execution_count": 73,
     "metadata": {},
     "output_type": "execute_result"
    }
   ],
   "source": [
    "#run kNN classifier \n",
    "knn = KNeighborsClassifier(weights = 'uniform', algorithm = 'kd_tree')\n",
    "param_grid = {'n_neighbors': np.arange(1,25)}\n",
    "knn_cv = RandomizedSearchCV(knn, param_grid, cv = 3, n_jobs = 4, \n",
    "                            verbose = 2, random_state =12, n_iter = 8, scoring = 'accuracy')\n",
    "knn_cv.fit(X_train,y_train)"
   ]
  },
  {
   "cell_type": "code",
   "execution_count": 74,
   "metadata": {},
   "outputs": [
    {
     "name": "stdout",
     "output_type": "stream",
     "text": [
      "Best k neighbors: {'n_neighbors': 24}\n"
     ]
    }
   ],
   "source": [
    "print('Best k neighbors:', knn_cv.best_params_)"
   ]
  },
  {
   "cell_type": "code",
   "execution_count": 75,
   "metadata": {},
   "outputs": [
    {
     "name": "stdout",
     "output_type": "stream",
     "text": [
      "Best Score: 0.5180101922631457\n"
     ]
    }
   ],
   "source": [
    "print('Best Score:', knn_cv.best_score_)"
   ]
  },
  {
   "cell_type": "code",
   "execution_count": 76,
   "metadata": {},
   "outputs": [
    {
     "name": "stdout",
     "output_type": "stream",
     "text": [
      "Performance of k nearest neighbor: 0.5243885961356574\n"
     ]
    }
   ],
   "source": [
    "print('Performance of k nearest neighbor:', knn_cv.score(X_test, y_test))"
   ]
  },
  {
   "cell_type": "code",
   "execution_count": 77,
   "metadata": {},
   "outputs": [
    {
     "data": {
      "text/plain": [
       "array([[1878,    0,  149,  223,  356],\n",
       "       [   3,    4,   90,    0,    2],\n",
       "       [ 492,    0, 1038,   82,   76],\n",
       "       [ 512,    0,  161,  522,  114],\n",
       "       [ 928,    0,  153,  179,  439]], dtype=int64)"
      ]
     },
     "execution_count": 77,
     "metadata": {},
     "output_type": "execute_result"
    }
   ],
   "source": [
    "y_pred = knn_cv.predict(X_test)\n",
    "confusion_matrix(y_test, y_pred)"
   ]
  },
  {
   "cell_type": "code",
   "execution_count": 78,
   "metadata": {},
   "outputs": [
    {
     "name": "stdout",
     "output_type": "stream",
     "text": [
      "                 precision    recall  f1-score   support\n",
      "\n",
      "Adoption/Foster       0.49      0.72      0.59      2606\n",
      "           Died       1.00      0.04      0.08        99\n",
      "           Euth       0.65      0.61      0.63      1688\n",
      "            Rto       0.52      0.40      0.45      1309\n",
      "       Transfer       0.44      0.26      0.33      1699\n",
      "\n",
      "       accuracy                           0.52      7401\n",
      "      macro avg       0.62      0.41      0.41      7401\n",
      "   weighted avg       0.53      0.52      0.51      7401\n",
      "\n"
     ]
    }
   ],
   "source": [
    "print(classification_report(y_test, y_pred))"
   ]
  },
  {
   "cell_type": "code",
   "execution_count": 79,
   "metadata": {},
   "outputs": [
    {
     "name": "stdout",
     "output_type": "stream",
     "text": [
      "Fitting 3 folds for each of 6 candidates, totalling 18 fits\n"
     ]
    },
    {
     "name": "stderr",
     "output_type": "stream",
     "text": [
      "[Parallel(n_jobs=4)]: Using backend LokyBackend with 4 concurrent workers.\n",
      "[Parallel(n_jobs=4)]: Done   1 tasks      | elapsed:   23.5s\n",
      "[Parallel(n_jobs=4)]: Done   2 tasks      | elapsed:   23.9s\n",
      "[Parallel(n_jobs=4)]: Done   3 tasks      | elapsed:   23.9s\n",
      "[Parallel(n_jobs=4)]: Done   4 tasks      | elapsed:   38.3s\n",
      "[Parallel(n_jobs=4)]: Done   5 tasks      | elapsed:   52.1s\n",
      "[Parallel(n_jobs=4)]: Done   6 tasks      | elapsed:   53.1s\n",
      "[Parallel(n_jobs=4)]: Done   7 tasks      | elapsed:  1.4min\n",
      "[Parallel(n_jobs=4)]: Done   8 tasks      | elapsed:  1.6min\n",
      "[Parallel(n_jobs=4)]: Done   9 tasks      | elapsed:  1.8min\n",
      "[Parallel(n_jobs=4)]: Done  10 tasks      | elapsed:  2.3min\n",
      "[Parallel(n_jobs=4)]: Done  11 tasks      | elapsed:  2.8min\n",
      "[Parallel(n_jobs=4)]: Done  13 out of  18 | elapsed:  3.8min remaining:  1.4min\n",
      "[Parallel(n_jobs=4)]: Done  15 out of  18 | elapsed:  4.7min remaining:   56.6s\n",
      "[Parallel(n_jobs=4)]: Done  18 out of  18 | elapsed:  6.1min finished\n"
     ]
    },
    {
     "data": {
      "text/plain": [
       "GridSearchCV(cv=3, error_score='raise-deprecating',\n",
       "             estimator=RandomForestClassifier(bootstrap=True, class_weight=None,\n",
       "                                              criterion='gini', max_depth=None,\n",
       "                                              max_features='auto',\n",
       "                                              max_leaf_nodes=None,\n",
       "                                              min_impurity_decrease=0.0,\n",
       "                                              min_impurity_split=None,\n",
       "                                              min_samples_leaf=1,\n",
       "                                              min_samples_split=2,\n",
       "                                              min_weight_fraction_leaf=0.0,\n",
       "                                              n_estimators='warn', n_jobs=None,\n",
       "                                              oob_score=False, random_state=10,\n",
       "                                              verbose=0, warm_start=False),\n",
       "             iid='warn', n_jobs=4,\n",
       "             param_grid={'n_estimators': [100, 200, 400, 600, 800, 1000]},\n",
       "             pre_dispatch='2*n_jobs', refit=True, return_train_score=False,\n",
       "             scoring='accuracy', verbose=15)"
      ]
     },
     "execution_count": 79,
     "metadata": {},
     "output_type": "execute_result"
    }
   ],
   "source": [
    "#run random Forest with Grid Search with hyperparameter tuning\n",
    "RF = RandomForestClassifier(random_state = 10)\n",
    "param_grid = {'n_estimators': [100, 200, 400, 600, 800, 1000]}\n",
    "RF_cv = GridSearchCV(RF, param_grid, cv = 3, verbose = 15, n_jobs = 4, scoring = 'accuracy')\n",
    "RF_cv.fit(X_train, y_train)"
   ]
  },
  {
   "cell_type": "code",
   "execution_count": 80,
   "metadata": {
    "scrolled": false
   },
   "outputs": [
    {
     "name": "stdout",
     "output_type": "stream",
     "text": [
      "Best # of trees in a forest: {'n_estimators': 800}\n"
     ]
    }
   ],
   "source": [
    "print('Best # of trees in a forest:', RF_cv.best_params_)"
   ]
  },
  {
   "cell_type": "code",
   "execution_count": 81,
   "metadata": {
    "scrolled": true
   },
   "outputs": [
    {
     "name": "stdout",
     "output_type": "stream",
     "text": [
      "Best Score: 0.5424484595784109\n"
     ]
    }
   ],
   "source": [
    "print('Best Score:', RF_cv.best_score_)"
   ]
  },
  {
   "cell_type": "code",
   "execution_count": 82,
   "metadata": {},
   "outputs": [
    {
     "name": "stdout",
     "output_type": "stream",
     "text": [
      "Performance of random forest:  0.5472233481961897\n"
     ]
    }
   ],
   "source": [
    "print('Performance of random forest: ', RF_cv.score(X_test,y_test))"
   ]
  },
  {
   "cell_type": "code",
   "execution_count": 83,
   "metadata": {},
   "outputs": [
    {
     "data": {
      "text/plain": [
       "array([[1732,    4,  192,  261,  417],\n",
       "       [   4,   68,   24,    0,    3],\n",
       "       [ 423,    4, 1048,   95,  118],\n",
       "       [ 381,    0,  125,  673,  130],\n",
       "       [ 816,    3,  147,  204,  529]], dtype=int64)"
      ]
     },
     "execution_count": 83,
     "metadata": {},
     "output_type": "execute_result"
    }
   ],
   "source": [
    "y_pred = RF_cv.predict(X_test)\n",
    "confusion_matrix(y_test, y_pred)"
   ]
  },
  {
   "cell_type": "code",
   "execution_count": 84,
   "metadata": {},
   "outputs": [
    {
     "name": "stdout",
     "output_type": "stream",
     "text": [
      "                 precision    recall  f1-score   support\n",
      "\n",
      "Adoption/Foster       0.52      0.66      0.58      2606\n",
      "           Died       0.86      0.69      0.76        99\n",
      "           Euth       0.68      0.62      0.65      1688\n",
      "            Rto       0.55      0.51      0.53      1309\n",
      "       Transfer       0.44      0.31      0.37      1699\n",
      "\n",
      "       accuracy                           0.55      7401\n",
      "      macro avg       0.61      0.56      0.58      7401\n",
      "   weighted avg       0.55      0.55      0.54      7401\n",
      "\n"
     ]
    }
   ],
   "source": [
    "print(classification_report(y_test, y_pred))"
   ]
  },
  {
   "cell_type": "code",
   "execution_count": 85,
   "metadata": {},
   "outputs": [],
   "source": [
    "#encode the y_train \n",
    "y_train_deep = OneHotEncoder().fit_transform(y_train.values.reshape(-1,1))\n",
    "\n",
    "#define X_train shape\n",
    "in_dim = X_train.shape[1]"
   ]
  },
  {
   "cell_type": "code",
   "execution_count": 86,
   "metadata": {},
   "outputs": [
    {
     "name": "stdout",
     "output_type": "stream",
     "text": [
      "Train on 12087 samples, validate on 5181 samples\n",
      "Epoch 1/50\n",
      " - 6s - loss: 1.5696 - acc: 0.3230 - val_loss: 1.4133 - val_acc: 0.4028\n",
      "Epoch 2/50\n",
      " - 2s - loss: 1.3146 - acc: 0.4524 - val_loss: 1.2555 - val_acc: 0.4802\n",
      "Epoch 3/50\n",
      " - 2s - loss: 1.2380 - acc: 0.4814 - val_loss: 1.1780 - val_acc: 0.5022\n",
      "Epoch 4/50\n",
      " - 2s - loss: 1.1893 - acc: 0.4962 - val_loss: 1.1312 - val_acc: 0.5163\n",
      "Epoch 5/50\n",
      " - 2s - loss: 1.1543 - acc: 0.5042 - val_loss: 1.1094 - val_acc: 0.5252\n",
      "Epoch 6/50\n",
      " - 2s - loss: 1.1354 - acc: 0.5114 - val_loss: 1.0893 - val_acc: 0.5294\n",
      "Epoch 7/50\n",
      " - 2s - loss: 1.1201 - acc: 0.5187 - val_loss: 1.0815 - val_acc: 0.5283\n",
      "Epoch 8/50\n",
      " - 2s - loss: 1.1100 - acc: 0.5190 - val_loss: 1.0734 - val_acc: 0.5323\n",
      "Epoch 9/50\n",
      " - 1s - loss: 1.0973 - acc: 0.5243 - val_loss: 1.0672 - val_acc: 0.5368\n",
      "Epoch 10/50\n",
      " - 1s - loss: 1.0864 - acc: 0.5259 - val_loss: 1.0652 - val_acc: 0.5327\n",
      "Epoch 11/50\n",
      " - 1s - loss: 1.0790 - acc: 0.5315 - val_loss: 1.0622 - val_acc: 0.5327\n",
      "Epoch 12/50\n",
      " - 1s - loss: 1.0728 - acc: 0.5329 - val_loss: 1.0532 - val_acc: 0.5370\n",
      "Epoch 13/50\n",
      " - 1s - loss: 1.0616 - acc: 0.5390 - val_loss: 1.0515 - val_acc: 0.5435\n",
      "Epoch 14/50\n",
      " - 1s - loss: 1.0558 - acc: 0.5417 - val_loss: 1.0443 - val_acc: 0.5424\n",
      "Epoch 15/50\n",
      " - 1s - loss: 1.0516 - acc: 0.5421 - val_loss: 1.0408 - val_acc: 0.5431\n",
      "Epoch 16/50\n",
      " - 1s - loss: 1.0472 - acc: 0.5408 - val_loss: 1.0380 - val_acc: 0.5437\n",
      "Epoch 17/50\n",
      " - 1s - loss: 1.0372 - acc: 0.5474 - val_loss: 1.0354 - val_acc: 0.5512\n",
      "Epoch 18/50\n",
      " - 1s - loss: 1.0316 - acc: 0.5490 - val_loss: 1.0321 - val_acc: 0.5526\n",
      "Epoch 19/50\n",
      " - 1s - loss: 1.0296 - acc: 0.5516 - val_loss: 1.0288 - val_acc: 0.5565\n",
      "Epoch 20/50\n",
      " - 1s - loss: 1.0263 - acc: 0.5508 - val_loss: 1.0264 - val_acc: 0.5549\n",
      "Epoch 21/50\n",
      " - 1s - loss: 1.0206 - acc: 0.5529 - val_loss: 1.0313 - val_acc: 0.5524\n",
      "Epoch 22/50\n",
      " - 1s - loss: 1.0153 - acc: 0.5577 - val_loss: 1.0276 - val_acc: 0.5595\n",
      "Epoch 23/50\n",
      " - 1s - loss: 1.0057 - acc: 0.5599 - val_loss: 1.0293 - val_acc: 0.5565\n",
      "Epoch 24/50\n",
      " - 1s - loss: 1.0082 - acc: 0.5607 - val_loss: 1.0293 - val_acc: 0.5528\n",
      "Epoch 25/50\n",
      " - 1s - loss: 1.0032 - acc: 0.5620 - val_loss: 1.0255 - val_acc: 0.5547\n",
      "Epoch 26/50\n",
      " - 1s - loss: 0.9952 - acc: 0.5658 - val_loss: 1.0250 - val_acc: 0.5561\n",
      "Epoch 27/50\n",
      " - 1s - loss: 0.9943 - acc: 0.5623 - val_loss: 1.0246 - val_acc: 0.5539\n",
      "Epoch 28/50\n",
      " - 1s - loss: 0.9930 - acc: 0.5636 - val_loss: 1.0268 - val_acc: 0.5539\n",
      "Epoch 29/50\n",
      " - 1s - loss: 0.9929 - acc: 0.5643 - val_loss: 1.0256 - val_acc: 0.5619\n",
      "Epoch 30/50\n",
      " - 1s - loss: 0.9879 - acc: 0.5733 - val_loss: 1.0252 - val_acc: 0.5584\n",
      "Epoch 31/50\n",
      " - 1s - loss: 0.9838 - acc: 0.5732 - val_loss: 1.0246 - val_acc: 0.5574\n",
      "Epoch 32/50\n",
      " - 1s - loss: 0.9827 - acc: 0.5788 - val_loss: 1.0284 - val_acc: 0.5539\n",
      "Epoch 33/50\n",
      " - 1s - loss: 0.9755 - acc: 0.5794 - val_loss: 1.0310 - val_acc: 0.5576\n",
      "Epoch 34/50\n",
      " - 1s - loss: 0.9741 - acc: 0.5752 - val_loss: 1.0288 - val_acc: 0.5566\n",
      "Epoch 35/50\n",
      " - 1s - loss: 0.9751 - acc: 0.5780 - val_loss: 1.0323 - val_acc: 0.5570\n",
      "Epoch 36/50\n",
      " - 1s - loss: 0.9705 - acc: 0.5782 - val_loss: 1.0362 - val_acc: 0.5545\n",
      "Epoch 37/50\n",
      " - 1s - loss: 0.9709 - acc: 0.5753 - val_loss: 1.0363 - val_acc: 0.5555\n",
      "Epoch 38/50\n",
      " - 1s - loss: 0.9673 - acc: 0.5790 - val_loss: 1.0369 - val_acc: 0.5597\n",
      "Epoch 39/50\n",
      " - 1s - loss: 0.9719 - acc: 0.5747 - val_loss: 1.0361 - val_acc: 0.5584\n",
      "Epoch 40/50\n",
      " - 1s - loss: 0.9625 - acc: 0.5824 - val_loss: 1.0389 - val_acc: 0.5565\n",
      "Epoch 41/50\n",
      " - 1s - loss: 0.9569 - acc: 0.5819 - val_loss: 1.0440 - val_acc: 0.5586\n",
      "Epoch 42/50\n",
      " - 1s - loss: 0.9549 - acc: 0.5805 - val_loss: 1.0465 - val_acc: 0.5539\n",
      "Epoch 43/50\n",
      " - 1s - loss: 0.9581 - acc: 0.5813 - val_loss: 1.0460 - val_acc: 0.5586\n",
      "Epoch 44/50\n",
      " - 1s - loss: 0.9586 - acc: 0.5843 - val_loss: 1.0469 - val_acc: 0.5543\n",
      "Epoch 45/50\n",
      " - 1s - loss: 0.9492 - acc: 0.5887 - val_loss: 1.0527 - val_acc: 0.5547\n",
      "Epoch 46/50\n",
      " - 1s - loss: 0.9500 - acc: 0.5897 - val_loss: 1.0493 - val_acc: 0.5499\n",
      "Epoch 47/50\n",
      " - 1s - loss: 0.9436 - acc: 0.5863 - val_loss: 1.0478 - val_acc: 0.5518\n",
      "Epoch 48/50\n",
      " - 1s - loss: 0.9489 - acc: 0.5853 - val_loss: 1.0497 - val_acc: 0.5539\n",
      "Epoch 49/50\n",
      " - 1s - loss: 0.9453 - acc: 0.5898 - val_loss: 1.0545 - val_acc: 0.5530\n",
      "Epoch 50/50\n",
      " - 1s - loss: 0.9402 - acc: 0.5923 - val_loss: 1.0512 - val_acc: 0.5549\n"
     ]
    }
   ],
   "source": [
    "DNN = Sequential()\n",
    "\n",
    "DNN.add(Dense(512, input_shape = (in_dim,)))\n",
    "DNN.add(Dropout(0.4))\n",
    "DNN.add(Activation('relu'))\n",
    "\n",
    "DNN.add(Dense(256))\n",
    "DNN.add(BatchNormalization())\n",
    "DNN.add(Activation('relu'))\n",
    "\n",
    "DNN.add(Dense(128))\n",
    "DNN.add(Dropout(0.4))\n",
    "DNN.add(Activation('relu'))\n",
    "\n",
    "DNN.add(Dense(64))\n",
    "DNN.add(BatchNormalization())\n",
    "DNN.add(Activation('relu'))\n",
    "\n",
    "DNN.add(Dense(32))\n",
    "DNN.add(Dropout(0.4))\n",
    "DNN.add(Activation('relu'))\n",
    "    \n",
    "DNN.add(Dense(16))\n",
    "DNN.add(BatchNormalization())\n",
    "DNN.add(Activation('relu'))\n",
    "\n",
    "DNN.add(Dense(5))\n",
    "DNN.add(Activation('softmax'))\n",
    "    \n",
    "DNN.compile(optimizer = 'Adam', loss = 'categorical_crossentropy', metrics = ['accuracy'])\n",
    "hist = DNN.fit(X_train, y_train_deep, validation_split = 0.3, batch_size = 256, epochs = 50, verbose = 2)"
   ]
  },
  {
   "cell_type": "code",
   "execution_count": 87,
   "metadata": {},
   "outputs": [
    {
     "data": {
      "text/plain": [
       "<matplotlib.legend.Legend at 0x1e3998e5408>"
      ]
     },
     "execution_count": 87,
     "metadata": {},
     "output_type": "execute_result"
    },
    {
     "data": {
      "image/png": "[encoded data removed]",
      "text/plain": [
       "<Figure size 432x288 with 1 Axes>"
      ]
     },
     "metadata": {
      "needs_background": "light"
     },
     "output_type": "display_data"
    }
   ],
   "source": [
    "plt.plot(hist.history['acc'])\n",
    "plt.plot(hist.history['val_acc'])\n",
    "plt.ylabel('Accuracy')\n",
    "plt.xlabel('Epoch')\n",
    "plt.title('Model Accurcy')\n",
    "plt.legend(['Train', 'Validation'])"
   ]
  },
  {
   "cell_type": "code",
   "execution_count": 88,
   "metadata": {},
   "outputs": [
    {
     "name": "stdout",
     "output_type": "stream",
     "text": [
      "_________________________________________________________________\n",
      "Layer (type)                 Output Shape              Param #   \n",
      "=================================================================\n",
      "dense_8 (Dense)              (None, 512)               30720     \n",
      "_________________________________________________________________\n",
      "dropout_4 (Dropout)          (None, 512)               0         \n",
      "_________________________________________________________________\n",
      "activation_8 (Activation)    (None, 512)               0         \n",
      "_________________________________________________________________\n",
      "dense_9 (Dense)              (None, 256)               131328    \n",
      "_________________________________________________________________\n",
      "batch_normalization_4 (Batch (None, 256)               1024      \n",
      "_________________________________________________________________\n",
      "activation_9 (Activation)    (None, 256)               0         \n",
      "_________________________________________________________________\n",
      "dense_10 (Dense)             (None, 128)               32896     \n",
      "_________________________________________________________________\n",
      "dropout_5 (Dropout)          (None, 128)               0         \n",
      "_________________________________________________________________\n",
      "activation_10 (Activation)   (None, 128)               0         \n",
      "_________________________________________________________________\n",
      "dense_11 (Dense)             (None, 64)                8256      \n",
      "_________________________________________________________________\n",
      "batch_normalization_5 (Batch (None, 64)                256       \n",
      "_________________________________________________________________\n",
      "activation_11 (Activation)   (None, 64)                0         \n",
      "_________________________________________________________________\n",
      "dense_12 (Dense)             (None, 32)                2080      \n",
      "_________________________________________________________________\n",
      "dropout_6 (Dropout)          (None, 32)                0         \n",
      "_________________________________________________________________\n",
      "activation_12 (Activation)   (None, 32)                0         \n",
      "_________________________________________________________________\n",
      "dense_13 (Dense)             (None, 16)                528       \n",
      "_________________________________________________________________\n",
      "batch_normalization_6 (Batch (None, 16)                64        \n",
      "_________________________________________________________________\n",
      "activation_13 (Activation)   (None, 16)                0         \n",
      "_________________________________________________________________\n",
      "dense_14 (Dense)             (None, 5)                 85        \n",
      "_________________________________________________________________\n",
      "activation_14 (Activation)   (None, 5)                 0         \n",
      "=================================================================\n",
      "Total params: 207,237\n",
      "Trainable params: 206,565\n",
      "Non-trainable params: 672\n",
      "_________________________________________________________________\n"
     ]
    }
   ],
   "source": [
    "DNN.summary()"
   ]
  },
  {
   "cell_type": "code",
   "execution_count": 89,
   "metadata": {},
   "outputs": [],
   "source": [
    "#reverse encode the y_train\n",
    "check = ReverseEncode(y_train, y_train_deep)"
   ]
  },
  {
   "cell_type": "code",
   "execution_count": 90,
   "metadata": {},
   "outputs": [],
   "source": [
    "#predict test case\n",
    "predict = DNN.predict(X_test)"
   ]
  },
  {
   "cell_type": "code",
   "execution_count": 91,
   "metadata": {},
   "outputs": [],
   "source": [
    "predict_str = readable_predict(predict, check)"
   ]
  },
  {
   "cell_type": "code",
   "execution_count": 92,
   "metadata": {},
   "outputs": [
    {
     "name": "stdout",
     "output_type": "stream",
     "text": [
      "Accuracy of Neural Network: 0.56\n"
     ]
    }
   ],
   "source": [
    "print('Accuracy of Neural Network:', round(accuracy_score( y_test, predict_str), 3))"
   ]
  },
  {
   "cell_type": "code",
   "execution_count": 93,
   "metadata": {},
   "outputs": [
    {
     "name": "stdout",
     "output_type": "stream",
     "text": [
      "[[1931    4  105  321  245]\n",
      " [   3   68   25    2    1]\n",
      " [ 506    4 1002  103   73]\n",
      " [ 370    1  101  748   89]\n",
      " [ 945    2  123  231  398]]\n"
     ]
    }
   ],
   "source": [
    "print(confusion_matrix(y_test, predict_str))"
   ]
  },
  {
   "cell_type": "code",
   "execution_count": 94,
   "metadata": {},
   "outputs": [
    {
     "name": "stdout",
     "output_type": "stream",
     "text": [
      "                 precision    recall  f1-score   support\n",
      "\n",
      "Adoption/Foster       0.51      0.74      0.61      2606\n",
      "           Died       0.86      0.69      0.76        99\n",
      "           Euth       0.74      0.59      0.66      1688\n",
      "            Rto       0.53      0.57      0.55      1309\n",
      "       Transfer       0.49      0.23      0.32      1699\n",
      "\n",
      "       accuracy                           0.56      7401\n",
      "      macro avg       0.63      0.57      0.58      7401\n",
      "   weighted avg       0.57      0.56      0.54      7401\n",
      "\n"
     ]
    }
   ],
   "source": [
    "print(classification_report(y_test, predict_str))"
   ]
  },
  {
   "cell_type": "markdown",
   "metadata": {},
   "source": [
    "Deep learning have overall the best accuracy at 56% and Random forest has the best euthanization recall at 0.65. SVM has the highest precision of euthanization at 0.78. Random Forest has the best adoption precision at 0.52."
   ]
  },
  {
   "cell_type": "markdown",
   "metadata": {},
   "source": [
    "## Machine Learning on Austin\n",
    "<a id='Aust'></a>"
   ]
  },
  {
   "cell_type": "code",
   "execution_count": 95,
   "metadata": {},
   "outputs": [
    {
     "name": "stdout",
     "output_type": "stream",
     "text": [
      "<class 'pandas.core.frame.DataFrame'>\n",
      "Int64Index: 55035 entries, 0 to 55053\n",
      "Data columns (total 13 columns):\n",
      "Breed             55035 non-null object\n",
      "Chip_Status       0 non-null object\n",
      "Health            0 non-null object\n",
      "Intake_Status     0 non-null object\n",
      "Intake_Subtype    0 non-null object\n",
      "Location          55035 non-null object\n",
      "Outcome_Type      55035 non-null object\n",
      "Sex               55034 non-null object\n",
      "Neutered/Spay     55035 non-null object\n",
      "Pure/Mix          55035 non-null object\n",
      "Age               55035 non-null float64\n",
      "Outcome_Month     55035 non-null object\n",
      "Intake_month      55035 non-null object\n",
      "dtypes: float64(1), object(12)\n",
      "memory usage: 5.9+ MB\n"
     ]
    }
   ],
   "source": [
    "df_aust.info()"
   ]
  },
  {
   "cell_type": "code",
   "execution_count": 96,
   "metadata": {},
   "outputs": [],
   "source": [
    "#set features and target variables\n",
    "df_aust = df_aust.drop(columns = ['Health', 'Chip_Status', 'Intake_Status', 'Location', 'Intake_Subtype'])\n",
    "df_aust = df_aust.dropna()\n",
    "y = df_aust.Outcome_Type"
   ]
  },
  {
   "cell_type": "code",
   "execution_count": 97,
   "metadata": {},
   "outputs": [
    {
     "name": "stdout",
     "output_type": "stream",
     "text": [
      "<class 'pandas.core.frame.DataFrame'>\n",
      "Int64Index: 55034 entries, 0 to 55053\n",
      "Data columns (total 8 columns):\n",
      "Breed            55034 non-null object\n",
      "Outcome_Type     55034 non-null object\n",
      "Sex              55034 non-null object\n",
      "Neutered/Spay    55034 non-null object\n",
      "Pure/Mix         55034 non-null object\n",
      "Age              55034 non-null float64\n",
      "Outcome_Month    55034 non-null object\n",
      "Intake_month     55034 non-null object\n",
      "dtypes: float64(1), object(7)\n",
      "memory usage: 3.8+ MB\n"
     ]
    }
   ],
   "source": [
    "df_aust.info()"
   ]
  },
  {
   "cell_type": "code",
   "execution_count": 98,
   "metadata": {},
   "outputs": [],
   "source": [
    "#convert categorical features to numerical\n",
    "# create temp dataframe to encode\n",
    "temp1 = categorize(df_aust.Age)\n",
    "cat_df_aust = df_aust.drop(columns = ['Age', 'Outcome_Type'])\n",
    "cat_df_aust['Age'] = temp1\n",
    "\n",
    "#initialize onehotencoder and scaler\n",
    "ohe = OneHotEncoder(sparse = False)\n",
    "\n",
    "#transform and concatenate data\n",
    "cat_df_aust = ohe.fit_transform(cat_df_aust)\n",
    "\n",
    "#assigning target and features\n",
    "X = cat_df_aust\n",
    "\n",
    "X_train, X_test, y_train, y_test = train_test_split(X,y, random_state = 10, test_size = .3)"
   ]
  },
  {
   "cell_type": "code",
   "execution_count": 99,
   "metadata": {
    "scrolled": false
   },
   "outputs": [
    {
     "name": "stdout",
     "output_type": "stream",
     "text": [
      "Fitting 3 folds for each of 10 candidates, totalling 30 fits\n"
     ]
    },
    {
     "name": "stderr",
     "output_type": "stream",
     "text": [
      "[Parallel(n_jobs=4)]: Using backend LokyBackend with 4 concurrent workers.\n",
      "[Parallel(n_jobs=4)]: Done   1 tasks      | elapsed:    4.7s\n",
      "[Parallel(n_jobs=4)]: Done   2 tasks      | elapsed:    4.8s\n",
      "[Parallel(n_jobs=4)]: Done   3 tasks      | elapsed:    4.9s\n",
      "[Parallel(n_jobs=4)]: Done   4 tasks      | elapsed:    5.2s\n",
      "[Parallel(n_jobs=4)]: Done   5 tasks      | elapsed:    5.3s\n",
      "[Parallel(n_jobs=4)]: Done   6 tasks      | elapsed:    5.3s\n",
      "[Parallel(n_jobs=4)]: Done   7 tasks      | elapsed:    5.4s\n",
      "[Parallel(n_jobs=4)]: Done   8 tasks      | elapsed:    5.7s\n",
      "[Parallel(n_jobs=4)]: Done   9 tasks      | elapsed:    5.7s\n",
      "[Parallel(n_jobs=4)]: Done  10 tasks      | elapsed:    5.8s\n",
      "[Parallel(n_jobs=4)]: Done  11 tasks      | elapsed:    5.8s\n",
      "[Parallel(n_jobs=4)]: Done  12 tasks      | elapsed:    6.1s\n",
      "[Parallel(n_jobs=4)]: Done  13 tasks      | elapsed:    6.2s\n",
      "[Parallel(n_jobs=4)]: Done  14 tasks      | elapsed:    6.2s\n",
      "[Parallel(n_jobs=4)]: Done  15 tasks      | elapsed:    6.2s\n",
      "[Parallel(n_jobs=4)]: Done  16 tasks      | elapsed:    6.5s\n",
      "[Parallel(n_jobs=4)]: Done  17 tasks      | elapsed:    6.6s\n",
      "[Parallel(n_jobs=4)]: Done  18 tasks      | elapsed:    6.7s\n",
      "[Parallel(n_jobs=4)]: Done  19 tasks      | elapsed:    6.7s\n",
      "[Parallel(n_jobs=4)]: Done  20 tasks      | elapsed:    7.0s\n",
      "[Parallel(n_jobs=4)]: Done  21 tasks      | elapsed:    7.1s\n",
      "[Parallel(n_jobs=4)]: Done  22 tasks      | elapsed:    7.1s\n",
      "[Parallel(n_jobs=4)]: Done  23 tasks      | elapsed:    7.1s\n",
      "[Parallel(n_jobs=4)]: Done  26 out of  30 | elapsed:    7.5s remaining:    1.1s\n",
      "[Parallel(n_jobs=4)]: Done  30 out of  30 | elapsed:    7.9s finished\n"
     ]
    },
    {
     "data": {
      "text/plain": [
       "RandomizedSearchCV(cv=3, error_score='raise-deprecating',\n",
       "                   estimator=BernoulliNB(alpha=1.0, binarize=0.0,\n",
       "                                         class_prior=None, fit_prior=True),\n",
       "                   iid='warn', n_iter=10, n_jobs=4,\n",
       "                   param_distributions={'alpha': array([0.001     , 0.0011514 , 0.00132571, 0.00152642, 0.00175751,\n",
       "       0.00202359, 0.00232995, 0.0026827 , 0.00308884, 0.00355648,\n",
       "       0.00409492, 0.00471487, 0.00542868, 0.00625055, 0.0...\n",
       "       0.03393222, 0.0390694 , 0.04498433, 0.05179475, 0.05963623,\n",
       "       0.06866488, 0.07906043, 0.09102982, 0.10481131, 0.12067926,\n",
       "       0.13894955, 0.15998587, 0.184207  , 0.21209509, 0.24420531,\n",
       "       0.28117687, 0.32374575, 0.37275937, 0.42919343, 0.49417134,\n",
       "       0.5689866 , 0.65512856, 0.75431201, 0.86851137, 1.        ])},\n",
       "                   pre_dispatch='2*n_jobs', random_state=12, refit=True,\n",
       "                   return_train_score=False, scoring='accuracy', verbose=15)"
      ]
     },
     "execution_count": 99,
     "metadata": {},
     "output_type": "execute_result"
    }
   ],
   "source": [
    "NB = BernoulliNB()\n",
    "param_grid = {'alpha': np.logspace(-3, 0, num = 50)}\n",
    "NB_cv = RandomizedSearchCV(NB, param_grid, verbose = 15, n_jobs = 4, \n",
    "                           cv = 3, n_iter = 10, random_state = 12, scoring = 'accuracy')\n",
    "NB_cv.fit(X_train, y_train)"
   ]
  },
  {
   "cell_type": "code",
   "execution_count": 100,
   "metadata": {
    "scrolled": true
   },
   "outputs": [
    {
     "name": "stdout",
     "output_type": "stream",
     "text": [
      "Best alpha: {'alpha': 0.05963623316594643}\n"
     ]
    }
   ],
   "source": [
    "print('Best alpha:', NB_cv.best_params_)"
   ]
  },
  {
   "cell_type": "code",
   "execution_count": 101,
   "metadata": {},
   "outputs": [
    {
     "name": "stdout",
     "output_type": "stream",
     "text": [
      "Best Score: 0.5778885341224723\n"
     ]
    }
   ],
   "source": [
    "print('Best Score:', NB_cv.best_score_)"
   ]
  },
  {
   "cell_type": "code",
   "execution_count": 102,
   "metadata": {},
   "outputs": [
    {
     "name": "stdout",
     "output_type": "stream",
     "text": [
      "Performance of naive bayes on test: 0.5792501968384713\n"
     ]
    }
   ],
   "source": [
    "print('Performance of naive bayes on test:', NB_cv.score(X_test, y_test))"
   ]
  },
  {
   "cell_type": "code",
   "execution_count": 103,
   "metadata": {},
   "outputs": [
    {
     "data": {
      "text/plain": [
       "array([[6585,    0,    2,  852,  189],\n",
       "       [  10,    1,    0,    8,   39],\n",
       "       [ 147,    1,    6,  158,  185],\n",
       "       [2334,    0,   17, 1464,  990],\n",
       "       [1431,    7,   11,  566, 1508]], dtype=int64)"
      ]
     },
     "execution_count": 103,
     "metadata": {},
     "output_type": "execute_result"
    }
   ],
   "source": [
    "y_pred = NB_cv.predict(X_test)\n",
    "confusion_matrix(y_test, y_pred)"
   ]
  },
  {
   "cell_type": "code",
   "execution_count": 104,
   "metadata": {},
   "outputs": [
    {
     "name": "stdout",
     "output_type": "stream",
     "text": [
      "                 precision    recall  f1-score   support\n",
      "\n",
      "Adoption/Foster       0.63      0.86      0.73      7628\n",
      "           Died       0.11      0.02      0.03        58\n",
      "           Euth       0.17      0.01      0.02       497\n",
      "            Rto       0.48      0.30      0.37      4805\n",
      "       Transfer       0.52      0.43      0.47      3523\n",
      "\n",
      "       accuracy                           0.58     16511\n",
      "      macro avg       0.38      0.33      0.32     16511\n",
      "   weighted avg       0.55      0.58      0.54     16511\n",
      "\n"
     ]
    }
   ],
   "source": [
    "print(classification_report(y_test, y_pred))"
   ]
  },
  {
   "cell_type": "code",
   "execution_count": 105,
   "metadata": {},
   "outputs": [],
   "source": [
    "# create temp dataframe to encode and scale\n",
    "temp1 = df_aust.Age.values.reshape(-1,1)\n",
    "temp2 = df_aust.drop(columns=['Age', 'Outcome_Type'])\n",
    "\n",
    "#initialize onehotencoder and scaler\n",
    "ohe = OneHotEncoder(sparse = False)\n",
    "scaler = StandardScaler()\n",
    "\n",
    "#transform and concatenate data\n",
    "temp1 = scaler.fit_transform(temp1)\n",
    "temp2 = ohe.fit_transform(temp2)\n",
    "\n",
    "#assigning target and features\n",
    "y = df_aust.Outcome_Type\n",
    "X = np.concatenate((temp1,temp2), axis = 1)\n",
    "\n",
    "X_train, X_test, y_train, y_test = train_test_split(X,y, random_state = 10, test_size = .3)"
   ]
  },
  {
   "cell_type": "code",
   "execution_count": 106,
   "metadata": {},
   "outputs": [
    {
     "name": "stdout",
     "output_type": "stream",
     "text": [
      "Fitting 3 folds for each of 10 candidates, totalling 30 fits\n"
     ]
    },
    {
     "name": "stderr",
     "output_type": "stream",
     "text": [
      "[Parallel(n_jobs=4)]: Using backend LokyBackend with 4 concurrent workers.\n",
      "[Parallel(n_jobs=4)]: Done   1 tasks      | elapsed:    6.6s\n",
      "[Parallel(n_jobs=4)]: Done   2 tasks      | elapsed:    6.6s\n",
      "[Parallel(n_jobs=4)]: Done   3 tasks      | elapsed:    6.6s\n",
      "[Parallel(n_jobs=4)]: Done   4 tasks      | elapsed:    7.3s\n",
      "[Parallel(n_jobs=4)]: Done   5 tasks      | elapsed:    8.1s\n",
      "[Parallel(n_jobs=4)]: Done   6 tasks      | elapsed:    8.8s\n",
      "[Parallel(n_jobs=4)]: Done   7 tasks      | elapsed:    9.1s\n",
      "[Parallel(n_jobs=4)]: Done   8 tasks      | elapsed:    9.4s\n",
      "[Parallel(n_jobs=4)]: Done   9 tasks      | elapsed:    9.4s\n",
      "[Parallel(n_jobs=4)]: Done  10 tasks      | elapsed:   11.6s\n",
      "[Parallel(n_jobs=4)]: Done  11 tasks      | elapsed:   11.6s\n",
      "[Parallel(n_jobs=4)]: Done  12 tasks      | elapsed:   11.9s\n",
      "[Parallel(n_jobs=4)]: Done  13 tasks      | elapsed:   11.9s\n",
      "[Parallel(n_jobs=4)]: Done  14 tasks      | elapsed:   13.9s\n",
      "[Parallel(n_jobs=4)]: Done  15 tasks      | elapsed:   13.9s\n",
      "[Parallel(n_jobs=4)]: Done  16 tasks      | elapsed:   14.0s\n",
      "[Parallel(n_jobs=4)]: Done  17 tasks      | elapsed:   14.1s\n",
      "[Parallel(n_jobs=4)]: Done  18 tasks      | elapsed:   15.9s\n",
      "[Parallel(n_jobs=4)]: Done  19 tasks      | elapsed:   16.0s\n",
      "[Parallel(n_jobs=4)]: Done  20 tasks      | elapsed:   16.1s\n",
      "[Parallel(n_jobs=4)]: Done  21 tasks      | elapsed:   16.2s\n",
      "[Parallel(n_jobs=4)]: Done  22 tasks      | elapsed:   18.3s\n",
      "[Parallel(n_jobs=4)]: Done  23 tasks      | elapsed:   18.5s\n",
      "[Parallel(n_jobs=4)]: Done  26 out of  30 | elapsed:   20.1s remaining:    3.0s\n",
      "[Parallel(n_jobs=4)]: Done  30 out of  30 | elapsed:   20.9s finished\n"
     ]
    },
    {
     "data": {
      "text/plain": [
       "RandomizedSearchCV(cv=3, error_score='raise-deprecating',\n",
       "                   estimator=LogisticRegression(C=1.0, class_weight=None,\n",
       "                                                dual=False, fit_intercept=True,\n",
       "                                                intercept_scaling=1,\n",
       "                                                l1_ratio=None, max_iter=100,\n",
       "                                                multi_class='ovr', n_jobs=None,\n",
       "                                                penalty='l2', random_state=None,\n",
       "                                                solver='lbfgs', tol=0.0001,\n",
       "                                                verbose=0, warm_start=False),\n",
       "                   iid='warn', n_iter=10, n_jobs=4,\n",
       "                   param_distributions...\n",
       "       0.03393222, 0.0390694 , 0.04498433, 0.05179475, 0.05963623,\n",
       "       0.06866488, 0.07906043, 0.09102982, 0.10481131, 0.12067926,\n",
       "       0.13894955, 0.15998587, 0.184207  , 0.21209509, 0.24420531,\n",
       "       0.28117687, 0.32374575, 0.37275937, 0.42919343, 0.49417134,\n",
       "       0.5689866 , 0.65512856, 0.75431201, 0.86851137, 1.        ])},\n",
       "                   pre_dispatch='2*n_jobs', random_state=12, refit=True,\n",
       "                   return_train_score=False, scoring='accuracy', verbose=15)"
      ]
     },
     "execution_count": 106,
     "metadata": {},
     "output_type": "execute_result"
    }
   ],
   "source": [
    "#run logistic regression with random search cross validation and hypertuning\n",
    "lm = LogisticRegression(solver = 'lbfgs', multi_class = 'ovr')\n",
    "param_grid = {'C': np.logspace(-3, 0, num = 50)}\n",
    "lm_cv = RandomizedSearchCV(lm, param_grid, cv = 3, verbose = 15, n_jobs = 4,\n",
    "                           n_iter = 10, scoring = 'accuracy', random_state = 12)\n",
    "lm_cv.fit(X_train, y_train)"
   ]
  },
  {
   "cell_type": "code",
   "execution_count": 107,
   "metadata": {},
   "outputs": [
    {
     "name": "stdout",
     "output_type": "stream",
     "text": [
      "Best C: {'C': 0.655128556859551}\n"
     ]
    }
   ],
   "source": [
    "print('Best C:', lm_cv.best_params_)"
   ]
  },
  {
   "cell_type": "code",
   "execution_count": 108,
   "metadata": {},
   "outputs": [
    {
     "name": "stdout",
     "output_type": "stream",
     "text": [
      "Best Score: 0.5901669132725904\n"
     ]
    }
   ],
   "source": [
    "print('Best Score:', lm_cv.best_score_)"
   ]
  },
  {
   "cell_type": "code",
   "execution_count": 109,
   "metadata": {},
   "outputs": [
    {
     "name": "stdout",
     "output_type": "stream",
     "text": [
      "Performance of logistic regression on test: 0.5900914541820604\n"
     ]
    }
   ],
   "source": [
    "print('Performance of logistic regression on test:', lm_cv.score(X_test,y_test))"
   ]
  },
  {
   "cell_type": "code",
   "execution_count": 110,
   "metadata": {},
   "outputs": [
    {
     "data": {
      "text/plain": [
       "array([[6787,    0,    0,  666,  175],\n",
       "       [  10,    0,    0,    9,   39],\n",
       "       [ 143,    0,    0,  220,  134],\n",
       "       [2425,    0,    0, 1502,  878],\n",
       "       [1535,    0,    0,  534, 1454]], dtype=int64)"
      ]
     },
     "execution_count": 110,
     "metadata": {},
     "output_type": "execute_result"
    }
   ],
   "source": [
    "y_pred = lm_cv.predict(X_test)\n",
    "confusion_matrix(y_test, y_pred)"
   ]
  },
  {
   "cell_type": "code",
   "execution_count": 111,
   "metadata": {},
   "outputs": [
    {
     "name": "stderr",
     "output_type": "stream",
     "text": [
      "C:\\Users\\sadmin\\Anaconda3\\lib\\site-packages\\sklearn\\metrics\\classification.py:1437: UndefinedMetricWarning: Precision and F-score are ill-defined and being set to 0.0 in labels with no predicted samples.\n",
      "  'precision', 'predicted', average, warn_for)\n"
     ]
    },
    {
     "name": "stdout",
     "output_type": "stream",
     "text": [
      "                 precision    recall  f1-score   support\n",
      "\n",
      "Adoption/Foster       0.62      0.89      0.73      7628\n",
      "           Died       0.00      0.00      0.00        58\n",
      "           Euth       0.00      0.00      0.00       497\n",
      "            Rto       0.51      0.31      0.39      4805\n",
      "       Transfer       0.54      0.41      0.47      3523\n",
      "\n",
      "       accuracy                           0.59     16511\n",
      "      macro avg       0.34      0.32      0.32     16511\n",
      "   weighted avg       0.55      0.59      0.55     16511\n",
      "\n"
     ]
    }
   ],
   "source": [
    "print(classification_report(y_test, y_pred))"
   ]
  },
  {
   "cell_type": "code",
   "execution_count": 112,
   "metadata": {
    "scrolled": false
   },
   "outputs": [
    {
     "name": "stdout",
     "output_type": "stream",
     "text": [
      "Fitting 3 folds for each of 6 candidates, totalling 18 fits\n"
     ]
    },
    {
     "name": "stderr",
     "output_type": "stream",
     "text": [
      "[Parallel(n_jobs=4)]: Using backend LokyBackend with 4 concurrent workers.\n",
      "[Parallel(n_jobs=4)]: Done   1 tasks      | elapsed:  3.6min\n",
      "[Parallel(n_jobs=4)]: Done   2 tasks      | elapsed:  3.7min\n",
      "[Parallel(n_jobs=4)]: Done   3 tasks      | elapsed:  3.7min\n",
      "[Parallel(n_jobs=4)]: Done   4 tasks      | elapsed:  3.7min\n",
      "[Parallel(n_jobs=4)]: Done   5 tasks      | elapsed:  7.0min\n",
      "[Parallel(n_jobs=4)]: Done   6 tasks      | elapsed:  7.2min\n",
      "[Parallel(n_jobs=4)]: Done   7 tasks      | elapsed:  7.4min\n",
      "[Parallel(n_jobs=4)]: Done   8 tasks      | elapsed:  7.4min\n",
      "[Parallel(n_jobs=4)]: Done   9 tasks      | elapsed: 10.7min\n",
      "[Parallel(n_jobs=4)]: Done  10 tasks      | elapsed: 10.8min\n",
      "[Parallel(n_jobs=4)]: Done  11 tasks      | elapsed: 11.0min\n",
      "[Parallel(n_jobs=4)]: Done  13 out of  18 | elapsed: 14.4min remaining:  5.5min\n",
      "[Parallel(n_jobs=4)]: Done  15 out of  18 | elapsed: 14.5min remaining:  2.9min\n",
      "[Parallel(n_jobs=4)]: Done  18 out of  18 | elapsed: 16.4min finished\n"
     ]
    },
    {
     "data": {
      "text/plain": [
       "RandomizedSearchCV(cv=3, error_score='raise-deprecating',\n",
       "                   estimator=SVC(C=1.0, cache_size=200, class_weight=None,\n",
       "                                 coef0=0.0, decision_function_shape='ovr',\n",
       "                                 degree=3, gamma='auto_deprecated',\n",
       "                                 kernel='linear', max_iter=-1,\n",
       "                                 probability=False, random_state=None,\n",
       "                                 shrinking=True, tol=0.001, verbose=False),\n",
       "                   iid='warn', n_iter=6, n_jobs=4,\n",
       "                   param_distributions={'C': array([0.0...\n",
       "       0.03393222, 0.0390694 , 0.04498433, 0.05179475, 0.05963623,\n",
       "       0.06866488, 0.07906043, 0.09102982, 0.10481131, 0.12067926,\n",
       "       0.13894955, 0.15998587, 0.184207  , 0.21209509, 0.24420531,\n",
       "       0.28117687, 0.32374575, 0.37275937, 0.42919343, 0.49417134,\n",
       "       0.5689866 , 0.65512856, 0.75431201, 0.86851137, 1.        ])},\n",
       "                   pre_dispatch='2*n_jobs', random_state=10, refit=True,\n",
       "                   return_train_score=False, scoring='accuracy', verbose=15)"
      ]
     },
     "execution_count": 112,
     "metadata": {},
     "output_type": "execute_result"
    }
   ],
   "source": [
    "svm = SVC(kernel = 'linear')\n",
    "param_grid = {'C': np.logspace(-3,0, num = 50)}\n",
    "svm_cv = RandomizedSearchCV(svm, param_grid, cv = 3, n_jobs = 4,\n",
    "                            verbose = 15, random_state = 10, scoring = 'accuracy', n_iter = 6)\n",
    "svm_cv.fit(X_train, y_train)"
   ]
  },
  {
   "cell_type": "code",
   "execution_count": 113,
   "metadata": {
    "scrolled": false
   },
   "outputs": [
    {
     "name": "stdout",
     "output_type": "stream",
     "text": [
      "Best parameters: {'C': 0.016768329368110083}\n"
     ]
    }
   ],
   "source": [
    "print('Best parameters:', svm_cv.best_params_)"
   ]
  },
  {
   "cell_type": "code",
   "execution_count": 114,
   "metadata": {},
   "outputs": [
    {
     "name": "stdout",
     "output_type": "stream",
     "text": [
      "Best Score: 0.5767204007995224\n"
     ]
    }
   ],
   "source": [
    "print('Best Score:', svm_cv.best_score_)"
   ]
  },
  {
   "cell_type": "code",
   "execution_count": 115,
   "metadata": {},
   "outputs": [
    {
     "name": "stdout",
     "output_type": "stream",
     "text": [
      "Performance of SVM on test: 0.5801586820907274\n"
     ]
    }
   ],
   "source": [
    "print('Performance of SVM on test:', svm_cv.score(X_test,y_test))"
   ]
  },
  {
   "cell_type": "code",
   "execution_count": 116,
   "metadata": {},
   "outputs": [
    {
     "data": {
      "text/plain": [
       "array([[6916,    0,    0,  514,  198],\n",
       "       [  10,    0,    0,    5,   43],\n",
       "       [ 164,    0,    0,  124,  209],\n",
       "       [2556,    0,    0, 1058, 1191],\n",
       "       [1581,    0,    0,  337, 1605]], dtype=int64)"
      ]
     },
     "execution_count": 116,
     "metadata": {},
     "output_type": "execute_result"
    }
   ],
   "source": [
    "y_pred = svm_cv.predict(X_test)\n",
    "confusion_matrix(y_test, y_pred)"
   ]
  },
  {
   "cell_type": "code",
   "execution_count": 117,
   "metadata": {},
   "outputs": [
    {
     "name": "stderr",
     "output_type": "stream",
     "text": [
      "C:\\Users\\sadmin\\Anaconda3\\lib\\site-packages\\sklearn\\metrics\\classification.py:1437: UndefinedMetricWarning: Precision and F-score are ill-defined and being set to 0.0 in labels with no predicted samples.\n",
      "  'precision', 'predicted', average, warn_for)\n"
     ]
    },
    {
     "name": "stdout",
     "output_type": "stream",
     "text": [
      "                 precision    recall  f1-score   support\n",
      "\n",
      "Adoption/Foster       0.62      0.91      0.73      7628\n",
      "           Died       0.00      0.00      0.00        58\n",
      "           Euth       0.00      0.00      0.00       497\n",
      "            Rto       0.52      0.22      0.31      4805\n",
      "       Transfer       0.49      0.46      0.47      3523\n",
      "\n",
      "       accuracy                           0.58     16511\n",
      "      macro avg       0.33      0.32      0.30     16511\n",
      "   weighted avg       0.54      0.58      0.53     16511\n",
      "\n"
     ]
    }
   ],
   "source": [
    "print(classification_report(y_test, y_pred))"
   ]
  },
  {
   "cell_type": "code",
   "execution_count": 118,
   "metadata": {
    "scrolled": true
   },
   "outputs": [
    {
     "name": "stdout",
     "output_type": "stream",
     "text": [
      "Fitting 3 folds for each of 8 candidates, totalling 24 fits\n"
     ]
    },
    {
     "name": "stderr",
     "output_type": "stream",
     "text": [
      "[Parallel(n_jobs=4)]: Using backend LokyBackend with 4 concurrent workers.\n",
      "[Parallel(n_jobs=4)]: Done   1 tasks      | elapsed:   38.3s\n",
      "[Parallel(n_jobs=4)]: Done   2 tasks      | elapsed:   38.4s\n",
      "[Parallel(n_jobs=4)]: Done   3 tasks      | elapsed:   38.9s\n",
      "[Parallel(n_jobs=4)]: Done   4 tasks      | elapsed:   41.5s\n",
      "[Parallel(n_jobs=4)]: Done   5 tasks      | elapsed:  1.0min\n",
      "[Parallel(n_jobs=4)]: Done   6 tasks      | elapsed:  1.1min\n",
      "[Parallel(n_jobs=4)]: Done   7 tasks      | elapsed:  1.2min\n",
      "[Parallel(n_jobs=4)]: Done   8 tasks      | elapsed:  1.3min\n",
      "[Parallel(n_jobs=4)]: Done   9 tasks      | elapsed:  1.4min\n",
      "[Parallel(n_jobs=4)]: Done  10 tasks      | elapsed:  1.6min\n",
      "[Parallel(n_jobs=4)]: Done  11 tasks      | elapsed:  1.7min\n",
      "[Parallel(n_jobs=4)]: Done  12 tasks      | elapsed:  1.8min\n",
      "[Parallel(n_jobs=4)]: Done  13 tasks      | elapsed:  1.8min\n",
      "[Parallel(n_jobs=4)]: Done  14 tasks      | elapsed:  2.0min\n",
      "[Parallel(n_jobs=4)]: Done  15 tasks      | elapsed:  2.2min\n",
      "[Parallel(n_jobs=4)]: Done  16 tasks      | elapsed:  2.2min\n",
      "[Parallel(n_jobs=4)]: Done  17 tasks      | elapsed:  2.3min\n",
      "[Parallel(n_jobs=4)]: Done  19 out of  24 | elapsed:  2.6min remaining:   40.4s\n",
      "[Parallel(n_jobs=4)]: Done  21 out of  24 | elapsed:  2.7min remaining:   23.0s\n",
      "[Parallel(n_jobs=4)]: Done  24 out of  24 | elapsed:  3.1min finished\n"
     ]
    },
    {
     "data": {
      "text/plain": [
       "RandomizedSearchCV(cv=3, error_score='raise-deprecating',\n",
       "                   estimator=KNeighborsClassifier(algorithm='kd_tree',\n",
       "                                                  leaf_size=30,\n",
       "                                                  metric='minkowski',\n",
       "                                                  metric_params=None,\n",
       "                                                  n_jobs=None, n_neighbors=5,\n",
       "                                                  p=2, weights='uniform'),\n",
       "                   iid='warn', n_iter=8, n_jobs=4,\n",
       "                   param_distributions={'n_neighbors': array([ 1,  2,  3,  4,  5,  6,  7,  8,  9, 10, 11, 12, 13, 14, 15, 16, 17,\n",
       "       18, 19, 20, 21, 22, 23, 24])},\n",
       "                   pre_dispatch='2*n_jobs', random_state=12, refit=True,\n",
       "                   return_train_score=False, scoring='accuracy', verbose=15)"
      ]
     },
     "execution_count": 118,
     "metadata": {},
     "output_type": "execute_result"
    }
   ],
   "source": [
    "#run kNN classifier \n",
    "knn = KNeighborsClassifier(weights = 'uniform', algorithm = 'kd_tree')\n",
    "param_grid = {'n_neighbors': np.arange(1,25)}\n",
    "knn_cv = RandomizedSearchCV(knn, param_grid, cv = 3, n_jobs = 4,\n",
    "                            verbose = 15, random_state =12, n_iter = 8, scoring = 'accuracy')\n",
    "knn_cv.fit(X_train,y_train)"
   ]
  },
  {
   "cell_type": "code",
   "execution_count": 119,
   "metadata": {},
   "outputs": [
    {
     "name": "stdout",
     "output_type": "stream",
     "text": [
      "Best k neighbors: {'n_neighbors': 24}\n"
     ]
    }
   ],
   "source": [
    "print('Best k neighbors:', knn_cv.best_params_)"
   ]
  },
  {
   "cell_type": "code",
   "execution_count": 120,
   "metadata": {},
   "outputs": [
    {
     "name": "stdout",
     "output_type": "stream",
     "text": [
      "Best Score: 0.5928406406562313\n"
     ]
    }
   ],
   "source": [
    "print('Best Score:', knn_cv.best_score_)"
   ]
  },
  {
   "cell_type": "code",
   "execution_count": 121,
   "metadata": {},
   "outputs": [
    {
     "name": "stdout",
     "output_type": "stream",
     "text": [
      "Performance of k nearest neighbor: 0.5928774756223124\n"
     ]
    }
   ],
   "source": [
    "print('Performance of k nearest neighbor:', knn_cv.score(X_test, y_test))"
   ]
  },
  {
   "cell_type": "code",
   "execution_count": 122,
   "metadata": {},
   "outputs": [
    {
     "data": {
      "text/plain": [
       "array([[6532,    0,    0,  922,  174],\n",
       "       [  10,    0,    0,   14,   34],\n",
       "       [ 145,    0,    0,  234,  118],\n",
       "       [2210,    0,    1, 1998,  596],\n",
       "       [1475,    0,    1,  788, 1259]], dtype=int64)"
      ]
     },
     "execution_count": 122,
     "metadata": {},
     "output_type": "execute_result"
    }
   ],
   "source": [
    "y_pred = knn_cv.predict(X_test)\n",
    "confusion_matrix(y_test, y_pred)"
   ]
  },
  {
   "cell_type": "code",
   "execution_count": 123,
   "metadata": {},
   "outputs": [
    {
     "name": "stderr",
     "output_type": "stream",
     "text": [
      "C:\\Users\\sadmin\\Anaconda3\\lib\\site-packages\\sklearn\\metrics\\classification.py:1437: UndefinedMetricWarning: Precision and F-score are ill-defined and being set to 0.0 in labels with no predicted samples.\n",
      "  'precision', 'predicted', average, warn_for)\n"
     ]
    },
    {
     "name": "stdout",
     "output_type": "stream",
     "text": [
      "                 precision    recall  f1-score   support\n",
      "\n",
      "Adoption/Foster       0.63      0.86      0.73      7628\n",
      "           Died       0.00      0.00      0.00        58\n",
      "           Euth       0.00      0.00      0.00       497\n",
      "            Rto       0.51      0.42      0.46      4805\n",
      "       Transfer       0.58      0.36      0.44      3523\n",
      "\n",
      "       accuracy                           0.59     16511\n",
      "      macro avg       0.34      0.33      0.32     16511\n",
      "   weighted avg       0.56      0.59      0.56     16511\n",
      "\n"
     ]
    }
   ],
   "source": [
    "print(classification_report(y_test, y_pred))"
   ]
  },
  {
   "cell_type": "code",
   "execution_count": 124,
   "metadata": {},
   "outputs": [
    {
     "name": "stdout",
     "output_type": "stream",
     "text": [
      "Fitting 3 folds for each of 6 candidates, totalling 18 fits\n"
     ]
    },
    {
     "name": "stderr",
     "output_type": "stream",
     "text": [
      "[Parallel(n_jobs=4)]: Using backend LokyBackend with 4 concurrent workers.\n",
      "[Parallel(n_jobs=4)]: Done   1 tasks      | elapsed:   14.7s\n",
      "[Parallel(n_jobs=4)]: Done   2 tasks      | elapsed:   14.7s\n",
      "[Parallel(n_jobs=4)]: Done   3 tasks      | elapsed:   14.9s\n",
      "[Parallel(n_jobs=4)]: Done   4 tasks      | elapsed:   24.6s\n",
      "[Parallel(n_jobs=4)]: Done   5 tasks      | elapsed:   34.1s\n",
      "[Parallel(n_jobs=4)]: Done   6 tasks      | elapsed:   34.5s\n",
      "[Parallel(n_jobs=4)]: Done   7 tasks      | elapsed:   53.4s\n",
      "[Parallel(n_jobs=4)]: Done   8 tasks      | elapsed:  1.1min\n",
      "[Parallel(n_jobs=4)]: Done   9 tasks      | elapsed:  1.2min\n",
      "[Parallel(n_jobs=4)]: Done  10 tasks      | elapsed:  1.5min\n",
      "[Parallel(n_jobs=4)]: Done  11 tasks      | elapsed:  1.9min\n",
      "[Parallel(n_jobs=4)]: Done  13 out of  18 | elapsed:  2.5min remaining:   57.4s\n",
      "[Parallel(n_jobs=4)]: Done  15 out of  18 | elapsed:  3.2min remaining:   38.5s\n",
      "[Parallel(n_jobs=4)]: Done  18 out of  18 | elapsed:  4.1min finished\n"
     ]
    },
    {
     "data": {
      "text/plain": [
       "GridSearchCV(cv=3, error_score='raise-deprecating',\n",
       "             estimator=RandomForestClassifier(bootstrap=True, class_weight=None,\n",
       "                                              criterion='gini', max_depth=None,\n",
       "                                              max_features='auto',\n",
       "                                              max_leaf_nodes=None,\n",
       "                                              min_impurity_decrease=0.0,\n",
       "                                              min_impurity_split=None,\n",
       "                                              min_samples_leaf=1,\n",
       "                                              min_samples_split=2,\n",
       "                                              min_weight_fraction_leaf=0.0,\n",
       "                                              n_estimators='warn', n_jobs=None,\n",
       "                                              oob_score=False, random_state=10,\n",
       "                                              verbose=0, warm_start=False),\n",
       "             iid='warn', n_jobs=4,\n",
       "             param_grid={'n_estimators': [100, 200, 400, 600, 800, 1000]},\n",
       "             pre_dispatch='2*n_jobs', refit=True, return_train_score=False,\n",
       "             scoring='accuracy', verbose=15)"
      ]
     },
     "execution_count": 124,
     "metadata": {},
     "output_type": "execute_result"
    }
   ],
   "source": [
    "#run random Forest with Grid Search with hyperparameter tuning\n",
    "RF = RandomForestClassifier(random_state = 10)\n",
    "param_grid = {'n_estimators': [100, 200, 400, 600, 800, 1000]}\n",
    "RF_cv = GridSearchCV(RF, param_grid, cv = 3, n_jobs = 4, verbose = 15, scoring = 'accuracy')\n",
    "RF_cv.fit(X_train, y_train)"
   ]
  },
  {
   "cell_type": "code",
   "execution_count": 125,
   "metadata": {},
   "outputs": [
    {
     "name": "stdout",
     "output_type": "stream",
     "text": [
      "Best # of trees in a forest: {'n_estimators': 400}\n"
     ]
    }
   ],
   "source": [
    "print('Best # of trees in a forest:', RF_cv.best_params_)"
   ]
  },
  {
   "cell_type": "code",
   "execution_count": 126,
   "metadata": {},
   "outputs": [
    {
     "name": "stdout",
     "output_type": "stream",
     "text": [
      "Best Score: 0.5373413285569659\n"
     ]
    }
   ],
   "source": [
    "print('Best Score:', RF_cv.best_score_)"
   ]
  },
  {
   "cell_type": "code",
   "execution_count": 127,
   "metadata": {},
   "outputs": [
    {
     "name": "stdout",
     "output_type": "stream",
     "text": [
      "Performance of random forest:  0.5438192720004845\n"
     ]
    }
   ],
   "source": [
    "print('Performance of random forest: ', RF_cv.score(X_test,y_test))"
   ]
  },
  {
   "cell_type": "code",
   "execution_count": 128,
   "metadata": {},
   "outputs": [
    {
     "data": {
      "text/plain": [
       "array([[5167,    8,   82, 1375,  996],\n",
       "       [   6,    3,    4,   20,   25],\n",
       "       [ 116,    2,   28,  220,  131],\n",
       "       [1412,   14,  192, 2352,  835],\n",
       "       [1134,   12,   98,  850, 1429]], dtype=int64)"
      ]
     },
     "execution_count": 128,
     "metadata": {},
     "output_type": "execute_result"
    }
   ],
   "source": [
    "y_pred = RF_cv.predict(X_test)\n",
    "confusion_matrix(y_test, y_pred)"
   ]
  },
  {
   "cell_type": "code",
   "execution_count": 129,
   "metadata": {},
   "outputs": [
    {
     "name": "stdout",
     "output_type": "stream",
     "text": [
      "                 precision    recall  f1-score   support\n",
      "\n",
      "Adoption/Foster       0.66      0.68      0.67      7628\n",
      "           Died       0.08      0.05      0.06        58\n",
      "           Euth       0.07      0.06      0.06       497\n",
      "            Rto       0.49      0.49      0.49      4805\n",
      "       Transfer       0.42      0.41      0.41      3523\n",
      "\n",
      "       accuracy                           0.54     16511\n",
      "      macro avg       0.34      0.34      0.34     16511\n",
      "   weighted avg       0.54      0.54      0.54     16511\n",
      "\n"
     ]
    }
   ],
   "source": [
    "print(classification_report(y_test, y_pred))"
   ]
  },
  {
   "cell_type": "code",
   "execution_count": 130,
   "metadata": {},
   "outputs": [],
   "source": [
    "#encode the y_train \n",
    "y_train_deep = OneHotEncoder().fit_transform(y_train.values.reshape(-1,1))\n",
    "\n",
    "#define X_train shape\n",
    "in_dim = X_train.shape[1]"
   ]
  },
  {
   "cell_type": "code",
   "execution_count": 131,
   "metadata": {},
   "outputs": [
    {
     "name": "stdout",
     "output_type": "stream",
     "text": [
      "Train on 26966 samples, validate on 11557 samples\n",
      "Epoch 1/50\n",
      " - 6s - loss: 1.3466 - acc: 0.4865 - val_loss: 1.1756 - val_acc: 0.5880\n",
      "Epoch 2/50\n",
      " - 3s - loss: 1.0748 - acc: 0.5827 - val_loss: 1.0179 - val_acc: 0.5955\n",
      "Epoch 3/50\n",
      " - 3s - loss: 1.0120 - acc: 0.5897 - val_loss: 0.9880 - val_acc: 0.5963\n",
      "Epoch 4/50\n",
      " - 3s - loss: 0.9926 - acc: 0.5923 - val_loss: 0.9748 - val_acc: 0.5970\n",
      "Epoch 5/50\n",
      " - 3s - loss: 0.9821 - acc: 0.5930 - val_loss: 0.9689 - val_acc: 0.5953\n",
      "Epoch 6/50\n",
      " - 3s - loss: 0.9771 - acc: 0.5948 - val_loss: 0.9654 - val_acc: 0.5974\n",
      "Epoch 7/50\n",
      " - 3s - loss: 0.9729 - acc: 0.5976 - val_loss: 0.9629 - val_acc: 0.5977\n",
      "Epoch 8/50\n",
      " - 3s - loss: 0.9670 - acc: 0.5968 - val_loss: 0.9612 - val_acc: 0.5983\n",
      "Epoch 9/50\n",
      " - 3s - loss: 0.9636 - acc: 0.5985 - val_loss: 0.9593 - val_acc: 0.5985\n",
      "Epoch 10/50\n",
      " - 3s - loss: 0.9628 - acc: 0.5997 - val_loss: 0.9599 - val_acc: 0.5992\n",
      "Epoch 11/50\n",
      " - 3s - loss: 0.9595 - acc: 0.5994 - val_loss: 0.9595 - val_acc: 0.6002\n",
      "Epoch 12/50\n",
      " - 3s - loss: 0.9591 - acc: 0.5978 - val_loss: 0.9595 - val_acc: 0.5990\n",
      "Epoch 13/50\n",
      " - 3s - loss: 0.9556 - acc: 0.6008 - val_loss: 0.9591 - val_acc: 0.6002\n",
      "Epoch 14/50\n",
      " - 3s - loss: 0.9559 - acc: 0.6026 - val_loss: 0.9596 - val_acc: 0.6000\n",
      "Epoch 15/50\n",
      " - 3s - loss: 0.9540 - acc: 0.6023 - val_loss: 0.9589 - val_acc: 0.5985\n",
      "Epoch 16/50\n",
      " - 3s - loss: 0.9520 - acc: 0.6049 - val_loss: 0.9577 - val_acc: 0.6008\n",
      "Epoch 17/50\n",
      " - 3s - loss: 0.9512 - acc: 0.6036 - val_loss: 0.9585 - val_acc: 0.5970\n",
      "Epoch 18/50\n",
      " - 3s - loss: 0.9506 - acc: 0.6032 - val_loss: 0.9562 - val_acc: 0.5996\n",
      "Epoch 19/50\n",
      " - 3s - loss: 0.9495 - acc: 0.6042 - val_loss: 0.9581 - val_acc: 0.6028\n",
      "Epoch 20/50\n",
      " - 3s - loss: 0.9493 - acc: 0.6046 - val_loss: 0.9571 - val_acc: 0.6000\n",
      "Epoch 21/50\n",
      " - 3s - loss: 0.9468 - acc: 0.6067 - val_loss: 0.9615 - val_acc: 0.5931\n",
      "Epoch 22/50\n",
      " - 3s - loss: 0.9450 - acc: 0.6060 - val_loss: 0.9571 - val_acc: 0.5996\n",
      "Epoch 23/50\n",
      " - 3s - loss: 0.9460 - acc: 0.6057 - val_loss: 0.9571 - val_acc: 0.5996\n",
      "Epoch 24/50\n",
      " - 3s - loss: 0.9439 - acc: 0.6068 - val_loss: 0.9568 - val_acc: 0.5996\n",
      "Epoch 25/50\n",
      " - 3s - loss: 0.9430 - acc: 0.6061 - val_loss: 0.9577 - val_acc: 0.5992\n",
      "Epoch 26/50\n",
      " - 3s - loss: 0.9433 - acc: 0.6040 - val_loss: 0.9552 - val_acc: 0.6005\n",
      "Epoch 27/50\n",
      " - 3s - loss: 0.9410 - acc: 0.6081 - val_loss: 0.9586 - val_acc: 0.5976\n",
      "Epoch 28/50\n",
      " - 3s - loss: 0.9436 - acc: 0.6058 - val_loss: 0.9580 - val_acc: 0.5949\n",
      "Epoch 29/50\n",
      " - 3s - loss: 0.9402 - acc: 0.6060 - val_loss: 0.9593 - val_acc: 0.5969\n",
      "Epoch 30/50\n",
      " - 3s - loss: 0.9403 - acc: 0.6077 - val_loss: 0.9590 - val_acc: 0.5972\n",
      "Epoch 31/50\n",
      " - 3s - loss: 0.9399 - acc: 0.6082 - val_loss: 0.9622 - val_acc: 0.5983\n",
      "Epoch 32/50\n",
      " - 3s - loss: 0.9391 - acc: 0.6075 - val_loss: 0.9583 - val_acc: 0.5951\n",
      "Epoch 33/50\n",
      " - 3s - loss: 0.9374 - acc: 0.6077 - val_loss: 0.9583 - val_acc: 0.5962\n",
      "Epoch 34/50\n",
      " - 3s - loss: 0.9349 - acc: 0.6092 - val_loss: 0.9595 - val_acc: 0.5994\n",
      "Epoch 35/50\n",
      " - 3s - loss: 0.9351 - acc: 0.6118 - val_loss: 0.9637 - val_acc: 0.5942\n",
      "Epoch 36/50\n",
      " - 3s - loss: 0.9357 - acc: 0.6106 - val_loss: 0.9611 - val_acc: 0.5948\n",
      "Epoch 37/50\n",
      " - 3s - loss: 0.9348 - acc: 0.6115 - val_loss: 0.9582 - val_acc: 0.5965\n",
      "Epoch 38/50\n",
      " - 3s - loss: 0.9336 - acc: 0.6114 - val_loss: 0.9630 - val_acc: 0.5949\n",
      "Epoch 39/50\n",
      " - 3s - loss: 0.9309 - acc: 0.6095 - val_loss: 0.9619 - val_acc: 0.5952\n",
      "Epoch 40/50\n",
      " - 3s - loss: 0.9312 - acc: 0.6131 - val_loss: 0.9611 - val_acc: 0.5964\n",
      "Epoch 41/50\n",
      " - 3s - loss: 0.9308 - acc: 0.6109 - val_loss: 0.9618 - val_acc: 0.5967\n",
      "Epoch 42/50\n",
      " - 3s - loss: 0.9303 - acc: 0.6121 - val_loss: 0.9622 - val_acc: 0.5944\n",
      "Epoch 43/50\n",
      " - 3s - loss: 0.9291 - acc: 0.6123 - val_loss: 0.9646 - val_acc: 0.5970\n",
      "Epoch 44/50\n",
      " - 3s - loss: 0.9306 - acc: 0.6105 - val_loss: 0.9611 - val_acc: 0.5938\n",
      "Epoch 45/50\n",
      " - 3s - loss: 0.9262 - acc: 0.6129 - val_loss: 0.9632 - val_acc: 0.5955\n",
      "Epoch 46/50\n",
      " - 3s - loss: 0.9273 - acc: 0.6120 - val_loss: 0.9641 - val_acc: 0.5944\n",
      "Epoch 47/50\n",
      " - 3s - loss: 0.9277 - acc: 0.6136 - val_loss: 0.9646 - val_acc: 0.5954\n",
      "Epoch 48/50\n",
      " - 3s - loss: 0.9270 - acc: 0.6151 - val_loss: 0.9636 - val_acc: 0.5958\n",
      "Epoch 49/50\n",
      " - 3s - loss: 0.9295 - acc: 0.6120 - val_loss: 0.9648 - val_acc: 0.5974\n",
      "Epoch 50/50\n",
      " - 3s - loss: 0.9250 - acc: 0.6137 - val_loss: 0.9640 - val_acc: 0.5948\n"
     ]
    }
   ],
   "source": [
    "DNN = Sequential()\n",
    "\n",
    "DNN.add(Dense(512, input_shape = (in_dim,)))\n",
    "DNN.add(Dropout(0.4))\n",
    "DNN.add(Activation('relu'))\n",
    "\n",
    "DNN.add(Dense(256))\n",
    "DNN.add(BatchNormalization())\n",
    "DNN.add(Activation('relu'))\n",
    "\n",
    "DNN.add(Dense(128))\n",
    "DNN.add(Dropout(0.4))\n",
    "DNN.add(Activation('relu'))\n",
    "\n",
    "DNN.add(Dense(64))\n",
    "DNN.add(BatchNormalization())\n",
    "DNN.add(Activation('relu'))\n",
    "\n",
    "DNN.add(Dense(32))\n",
    "DNN.add(Dropout(0.4))\n",
    "DNN.add(Activation('relu'))\n",
    "    \n",
    "DNN.add(Dense(16))\n",
    "DNN.add(BatchNormalization())\n",
    "DNN.add(Activation('relu'))\n",
    "\n",
    "DNN.add(Dense(5))\n",
    "DNN.add(Activation('softmax'))\n",
    "    \n",
    "DNN.compile(optimizer = 'Adam', loss = 'categorical_crossentropy', metrics = ['accuracy'])\n",
    "hist = DNN.fit(X_train, y_train_deep, validation_split = 0.3, batch_size = 256, epochs = 50, verbose = 2)"
   ]
  },
  {
   "cell_type": "code",
   "execution_count": 132,
   "metadata": {},
   "outputs": [
    {
     "data": {
      "text/plain": [
       "<matplotlib.legend.Legend at 0x1e3fa0b7308>"
      ]
     },
     "execution_count": 132,
     "metadata": {},
     "output_type": "execute_result"
    },
    {
     "data": {
      "image/png": "[encoded data removed]",
      "text/plain": [
       "<Figure size 432x288 with 1 Axes>"
      ]
     },
     "metadata": {
      "needs_background": "light"
     },
     "output_type": "display_data"
    }
   ],
   "source": [
    "plt.plot(hist.history['acc'])\n",
    "plt.plot(hist.history['val_acc'])\n",
    "plt.ylabel('Accuracy')\n",
    "plt.xlabel('Epoch')\n",
    "plt.title('Model Accurcy')\n",
    "plt.legend(['Train', 'Validation'])"
   ]
  },
  {
   "cell_type": "markdown",
   "metadata": {},
   "source": [
    "Model seems to have high variance as train data accuracy deviates from test case. Cross validation may help to improve variance without significantly changing the architecture of the model"
   ]
  },
  {
   "cell_type": "code",
   "execution_count": 133,
   "metadata": {},
   "outputs": [
    {
     "name": "stdout",
     "output_type": "stream",
     "text": [
      "_________________________________________________________________\n",
      "Layer (type)                 Output Shape              Param #   \n",
      "=================================================================\n",
      "dense_15 (Dense)             (None, 512)               16384     \n",
      "_________________________________________________________________\n",
      "dropout_7 (Dropout)          (None, 512)               0         \n",
      "_________________________________________________________________\n",
      "activation_15 (Activation)   (None, 512)               0         \n",
      "_________________________________________________________________\n",
      "dense_16 (Dense)             (None, 256)               131328    \n",
      "_________________________________________________________________\n",
      "batch_normalization_7 (Batch (None, 256)               1024      \n",
      "_________________________________________________________________\n",
      "activation_16 (Activation)   (None, 256)               0         \n",
      "_________________________________________________________________\n",
      "dense_17 (Dense)             (None, 128)               32896     \n",
      "_________________________________________________________________\n",
      "dropout_8 (Dropout)          (None, 128)               0         \n",
      "_________________________________________________________________\n",
      "activation_17 (Activation)   (None, 128)               0         \n",
      "_________________________________________________________________\n",
      "dense_18 (Dense)             (None, 64)                8256      \n",
      "_________________________________________________________________\n",
      "batch_normalization_8 (Batch (None, 64)                256       \n",
      "_________________________________________________________________\n",
      "activation_18 (Activation)   (None, 64)                0         \n",
      "_________________________________________________________________\n",
      "dense_19 (Dense)             (None, 32)                2080      \n",
      "_________________________________________________________________\n",
      "dropout_9 (Dropout)          (None, 32)                0         \n",
      "_________________________________________________________________\n",
      "activation_19 (Activation)   (None, 32)                0         \n",
      "_________________________________________________________________\n",
      "dense_20 (Dense)             (None, 16)                528       \n",
      "_________________________________________________________________\n",
      "batch_normalization_9 (Batch (None, 16)                64        \n",
      "_________________________________________________________________\n",
      "activation_20 (Activation)   (None, 16)                0         \n",
      "_________________________________________________________________\n",
      "dense_21 (Dense)             (None, 5)                 85        \n",
      "_________________________________________________________________\n",
      "activation_21 (Activation)   (None, 5)                 0         \n",
      "=================================================================\n",
      "Total params: 192,901\n",
      "Trainable params: 192,229\n",
      "Non-trainable params: 672\n",
      "_________________________________________________________________\n"
     ]
    }
   ],
   "source": [
    "DNN.summary()"
   ]
  },
  {
   "cell_type": "code",
   "execution_count": 134,
   "metadata": {},
   "outputs": [],
   "source": [
    "#reverse encode the y_train\n",
    "check = ReverseEncode(y_train, y_train_deep)"
   ]
  },
  {
   "cell_type": "code",
   "execution_count": 135,
   "metadata": {},
   "outputs": [],
   "source": [
    "#predict test case\n",
    "predict = DNN.predict(X_test)"
   ]
  },
  {
   "cell_type": "code",
   "execution_count": 136,
   "metadata": {},
   "outputs": [],
   "source": [
    "#transforming predict to original category\n",
    "predict_str = readable_predict(predict, check)"
   ]
  },
  {
   "cell_type": "code",
   "execution_count": 137,
   "metadata": {},
   "outputs": [
    {
     "name": "stdout",
     "output_type": "stream",
     "text": [
      "Accuracy of Neural Network: 0.594\n"
     ]
    }
   ],
   "source": [
    "print('Accuracy of Neural Network:', round(accuracy_score(y_test, predict_str), 3))"
   ]
  },
  {
   "cell_type": "markdown",
   "metadata": {},
   "source": [
    "The accuracy of the neural network aligns will within the range of the score achieved from val_acc"
   ]
  },
  {
   "cell_type": "code",
   "execution_count": 138,
   "metadata": {},
   "outputs": [
    {
     "name": "stdout",
     "output_type": "stream",
     "text": [
      "[[6556    0    0  923  149]\n",
      " [   9    0    0   17   32]\n",
      " [ 129    0    0  261  107]\n",
      " [2245    0    0 1973  587]\n",
      " [1473    0    0  772 1278]]\n"
     ]
    }
   ],
   "source": [
    "print(confusion_matrix(y_test, predict_str))"
   ]
  },
  {
   "cell_type": "code",
   "execution_count": 139,
   "metadata": {},
   "outputs": [
    {
     "name": "stderr",
     "output_type": "stream",
     "text": [
      "C:\\Users\\sadmin\\Anaconda3\\lib\\site-packages\\sklearn\\metrics\\classification.py:1437: UndefinedMetricWarning: Precision and F-score are ill-defined and being set to 0.0 in labels with no predicted samples.\n",
      "  'precision', 'predicted', average, warn_for)\n"
     ]
    },
    {
     "name": "stdout",
     "output_type": "stream",
     "text": [
      "                 precision    recall  f1-score   support\n",
      "\n",
      "Adoption/Foster       0.63      0.86      0.73      7628\n",
      "           Died       0.00      0.00      0.00        58\n",
      "           Euth       0.00      0.00      0.00       497\n",
      "            Rto       0.50      0.41      0.45      4805\n",
      "       Transfer       0.59      0.36      0.45      3523\n",
      "\n",
      "       accuracy                           0.59     16511\n",
      "      macro avg       0.34      0.33      0.33     16511\n",
      "   weighted avg       0.56      0.59      0.56     16511\n",
      "\n"
     ]
    }
   ],
   "source": [
    "print(classification_report(y_test, predict_str))"
   ]
  },
  {
   "cell_type": "markdown",
   "metadata": {},
   "source": [
    "Highest accuracy was achieved by deep learning with an accuracy of 0.59 compared to validation accuracy of 0.59.  Highest euthanization precision was achieved by Naive bayes at 0.17. However, the confusion matrix only shows one prediction for euthanization, proving it could be a statistical error. All recall were below 0.1."
   ]
  },
  {
   "cell_type": "markdown",
   "metadata": {},
   "source": [
    "## Machine Learning on Sonoma\n",
    "<a id='Sono'></a>"
   ]
  },
  {
   "cell_type": "code",
   "execution_count": 140,
   "metadata": {},
   "outputs": [
    {
     "name": "stdout",
     "output_type": "stream",
     "text": [
      "<class 'pandas.core.frame.DataFrame'>\n",
      "Int64Index: 9130 entries, 157850 to 166984\n",
      "Data columns (total 13 columns):\n",
      "Breed             9130 non-null object\n",
      "Chip_Status       0 non-null object\n",
      "Health            9101 non-null object\n",
      "Intake_Status     0 non-null object\n",
      "Intake_Subtype    9130 non-null object\n",
      "Location          9130 non-null object\n",
      "Outcome_Type      9130 non-null object\n",
      "Sex               9130 non-null object\n",
      "Neutered/Spay     9130 non-null object\n",
      "Pure/Mix          9130 non-null object\n",
      "Age               7747 non-null float64\n",
      "Outcome_Month     9130 non-null object\n",
      "Intake_month      9130 non-null object\n",
      "dtypes: float64(1), object(12)\n",
      "memory usage: 998.6+ KB\n"
     ]
    }
   ],
   "source": [
    "df_sonoma.info()"
   ]
  },
  {
   "cell_type": "code",
   "execution_count": 141,
   "metadata": {},
   "outputs": [],
   "source": [
    "#set features and target variables\n",
    "df_sonoma = df_sonoma.drop(columns = ['Intake_Status', 'Location', 'Chip_Status'])\n",
    "average = np.mean(df_sonoma.Age)\n",
    "df_sonoma.Age = df_sonoma.Age.fillna(average)\n",
    "df_sonoma = df_sonoma.dropna()\n",
    "y = df_sonoma.Outcome_Type"
   ]
  },
  {
   "cell_type": "code",
   "execution_count": 142,
   "metadata": {},
   "outputs": [
    {
     "name": "stdout",
     "output_type": "stream",
     "text": [
      "<class 'pandas.core.frame.DataFrame'>\n",
      "Int64Index: 9101 entries, 157850 to 166984\n",
      "Data columns (total 10 columns):\n",
      "Breed             9101 non-null object\n",
      "Health            9101 non-null object\n",
      "Intake_Subtype    9101 non-null object\n",
      "Outcome_Type      9101 non-null object\n",
      "Sex               9101 non-null object\n",
      "Neutered/Spay     9101 non-null object\n",
      "Pure/Mix          9101 non-null object\n",
      "Age               9101 non-null float64\n",
      "Outcome_Month     9101 non-null object\n",
      "Intake_month      9101 non-null object\n",
      "dtypes: float64(1), object(9)\n",
      "memory usage: 782.1+ KB\n"
     ]
    }
   ],
   "source": [
    "df_sonoma.info()"
   ]
  },
  {
   "cell_type": "code",
   "execution_count": 143,
   "metadata": {},
   "outputs": [],
   "source": [
    "#convert categorical features to numerical\n",
    "# create temp dataframe to encode\n",
    "temp1 = categorize(df_sonoma.Age)\n",
    "cat_df_sonoma = df_sonoma.drop(columns = ['Age', 'Outcome_Type'])\n",
    "cat_df_sonoma['Age'] = temp1\n",
    "\n",
    "#initialize onehotencoder and scaler\n",
    "ohe = OneHotEncoder(sparse = False)\n",
    "\n",
    "#transform and concatenate data\n",
    "cat_df_sonoma = ohe.fit_transform(cat_df_sonoma)\n",
    "\n",
    "#assigning target and features\n",
    "X = cat_df_sonoma\n",
    "\n",
    "X_train, X_test, y_train, y_test = train_test_split(X,y, random_state = 10, test_size = .3)"
   ]
  },
  {
   "cell_type": "code",
   "execution_count": 144,
   "metadata": {
    "scrolled": false
   },
   "outputs": [
    {
     "name": "stdout",
     "output_type": "stream",
     "text": [
      "Fitting 3 folds for each of 10 candidates, totalling 30 fits\n"
     ]
    },
    {
     "name": "stderr",
     "output_type": "stream",
     "text": [
      "[Parallel(n_jobs=4)]: Using backend LokyBackend with 4 concurrent workers.\n",
      "[Parallel(n_jobs=4)]: Done   1 tasks      | elapsed:    6.9s\n",
      "[Parallel(n_jobs=4)]: Done   2 tasks      | elapsed:    6.9s\n",
      "[Parallel(n_jobs=4)]: Done   3 tasks      | elapsed:    6.9s\n",
      "[Parallel(n_jobs=4)]: Done   4 tasks      | elapsed:    6.9s\n",
      "[Parallel(n_jobs=4)]: Done   5 tasks      | elapsed:    7.1s\n",
      "[Parallel(n_jobs=4)]: Done   6 tasks      | elapsed:    7.1s\n",
      "[Parallel(n_jobs=4)]: Done   7 tasks      | elapsed:    7.1s\n",
      "[Parallel(n_jobs=4)]: Done   8 tasks      | elapsed:    7.1s\n",
      "[Parallel(n_jobs=4)]: Done   9 tasks      | elapsed:    7.2s\n",
      "[Parallel(n_jobs=4)]: Done  10 tasks      | elapsed:    7.2s\n",
      "[Parallel(n_jobs=4)]: Done  11 tasks      | elapsed:    7.2s\n",
      "[Parallel(n_jobs=4)]: Done  12 tasks      | elapsed:    7.2s\n",
      "[Parallel(n_jobs=4)]: Done  13 tasks      | elapsed:    7.2s\n",
      "[Parallel(n_jobs=4)]: Done  14 tasks      | elapsed:    7.3s\n",
      "[Parallel(n_jobs=4)]: Done  15 tasks      | elapsed:    7.3s\n",
      "[Parallel(n_jobs=4)]: Done  16 tasks      | elapsed:    7.3s\n",
      "[Parallel(n_jobs=4)]: Done  17 tasks      | elapsed:    7.3s\n",
      "[Parallel(n_jobs=4)]: Done  18 tasks      | elapsed:    7.4s\n",
      "[Parallel(n_jobs=4)]: Done  19 tasks      | elapsed:    7.4s\n",
      "[Parallel(n_jobs=4)]: Done  20 tasks      | elapsed:    7.4s\n",
      "[Parallel(n_jobs=4)]: Done  21 tasks      | elapsed:    7.4s\n",
      "[Parallel(n_jobs=4)]: Done  22 tasks      | elapsed:    7.4s\n",
      "[Parallel(n_jobs=4)]: Done  23 tasks      | elapsed:    7.5s\n",
      "[Parallel(n_jobs=4)]: Done  26 out of  30 | elapsed:    7.5s remaining:    1.1s\n",
      "[Parallel(n_jobs=4)]: Done  30 out of  30 | elapsed:    7.6s finished\n"
     ]
    },
    {
     "data": {
      "text/plain": [
       "RandomizedSearchCV(cv=3, error_score='raise-deprecating',\n",
       "                   estimator=BernoulliNB(alpha=1.0, binarize=0.0,\n",
       "                                         class_prior=None, fit_prior=True),\n",
       "                   iid='warn', n_iter=10, n_jobs=4,\n",
       "                   param_distributions={'alpha': array([0.001     , 0.0011514 , 0.00132571, 0.00152642, 0.00175751,\n",
       "       0.00202359, 0.00232995, 0.0026827 , 0.00308884, 0.00355648,\n",
       "       0.00409492, 0.00471487, 0.00542868, 0.00625055, 0.0...\n",
       "       0.03393222, 0.0390694 , 0.04498433, 0.05179475, 0.05963623,\n",
       "       0.06866488, 0.07906043, 0.09102982, 0.10481131, 0.12067926,\n",
       "       0.13894955, 0.15998587, 0.184207  , 0.21209509, 0.24420531,\n",
       "       0.28117687, 0.32374575, 0.37275937, 0.42919343, 0.49417134,\n",
       "       0.5689866 , 0.65512856, 0.75431201, 0.86851137, 1.        ])},\n",
       "                   pre_dispatch='2*n_jobs', random_state=12, refit=True,\n",
       "                   return_train_score=False, scoring='accuracy', verbose=15)"
      ]
     },
     "execution_count": 144,
     "metadata": {},
     "output_type": "execute_result"
    }
   ],
   "source": [
    "NB = BernoulliNB()\n",
    "param_grid = {'alpha': np.logspace(-3, 0, num = 50)}\n",
    "NB_cv = RandomizedSearchCV(NB, param_grid, verbose = 15, n_jobs = 4, \n",
    "                           cv = 3, n_iter = 10, random_state = 12, scoring = 'accuracy')\n",
    "NB_cv.fit(X_train, y_train)"
   ]
  },
  {
   "cell_type": "code",
   "execution_count": 145,
   "metadata": {
    "scrolled": true
   },
   "outputs": [
    {
     "name": "stdout",
     "output_type": "stream",
     "text": [
      "Best alpha: {'alpha': 0.0026826957952797246}\n"
     ]
    }
   ],
   "source": [
    "print('Best alpha:', NB_cv.best_params_)"
   ]
  },
  {
   "cell_type": "code",
   "execution_count": 146,
   "metadata": {},
   "outputs": [
    {
     "name": "stdout",
     "output_type": "stream",
     "text": [
      "Best Score: 0.6952904238618525\n"
     ]
    }
   ],
   "source": [
    "print('Best Score:', NB_cv.best_score_)"
   ]
  },
  {
   "cell_type": "code",
   "execution_count": 147,
   "metadata": {},
   "outputs": [
    {
     "name": "stdout",
     "output_type": "stream",
     "text": [
      "Performance of naive bayes on test: 0.7004760161113145\n"
     ]
    }
   ],
   "source": [
    "print('Performance of naive bayes on test:', NB_cv.score(X_test, y_test))"
   ]
  },
  {
   "cell_type": "code",
   "execution_count": 148,
   "metadata": {},
   "outputs": [
    {
     "data": {
      "text/plain": [
       "array([[569,   0,   7, 144,  35],\n",
       "       [  0,   3,   2,   0,   0],\n",
       "       [  4,   1, 284,   4,  31],\n",
       "       [267,   2,  28, 976,  74],\n",
       "       [ 82,   0,  39,  98,  81]], dtype=int64)"
      ]
     },
     "execution_count": 148,
     "metadata": {},
     "output_type": "execute_result"
    }
   ],
   "source": [
    "y_pred = NB_cv.predict(X_test)\n",
    "confusion_matrix(y_test, y_pred)"
   ]
  },
  {
   "cell_type": "code",
   "execution_count": 149,
   "metadata": {},
   "outputs": [
    {
     "name": "stdout",
     "output_type": "stream",
     "text": [
      "                 precision    recall  f1-score   support\n",
      "\n",
      "Adoption/Foster       0.62      0.75      0.68       755\n",
      "           Died       0.50      0.60      0.55         5\n",
      "           Euth       0.79      0.88      0.83       324\n",
      "            Rto       0.80      0.72      0.76      1347\n",
      "       Transfer       0.37      0.27      0.31       300\n",
      "\n",
      "       accuracy                           0.70      2731\n",
      "      macro avg       0.61      0.64      0.63      2731\n",
      "   weighted avg       0.70      0.70      0.70      2731\n",
      "\n"
     ]
    }
   ],
   "source": [
    "print(classification_report(y_test, y_pred))"
   ]
  },
  {
   "cell_type": "code",
   "execution_count": 150,
   "metadata": {},
   "outputs": [],
   "source": [
    "# create temp dataframe to encode and scale\n",
    "temp1 = df_sonoma.Age.values.reshape(-1,1)\n",
    "temp2 = df_sonoma.drop(columns=['Age', 'Outcome_Type'])\n",
    "\n",
    "#initialize onehotencoder and scaler\n",
    "ohe = OneHotEncoder(sparse = False)\n",
    "scaler = StandardScaler()\n",
    "\n",
    "#transform and concatenate data\n",
    "temp1 = scaler.fit_transform(temp1)\n",
    "temp2 = ohe.fit_transform(temp2)\n",
    "\n",
    "#assigning target and features\n",
    "y = df_sonoma.Outcome_Type\n",
    "X = np.concatenate((temp1,temp2), axis = 1)\n",
    "\n",
    "X_train, X_test, y_train, y_test = train_test_split(X,y, random_state = 10, test_size = .3)"
   ]
  },
  {
   "cell_type": "code",
   "execution_count": 151,
   "metadata": {},
   "outputs": [
    {
     "name": "stdout",
     "output_type": "stream",
     "text": [
      "Fitting 3 folds for each of 10 candidates, totalling 30 fits\n"
     ]
    },
    {
     "name": "stderr",
     "output_type": "stream",
     "text": [
      "[Parallel(n_jobs=4)]: Using backend LokyBackend with 4 concurrent workers.\n",
      "[Parallel(n_jobs=4)]: Done   1 tasks      | elapsed:    4.9s\n",
      "[Parallel(n_jobs=4)]: Done   2 tasks      | elapsed:    4.9s\n",
      "[Parallel(n_jobs=4)]: Done   3 tasks      | elapsed:    5.0s\n",
      "[Parallel(n_jobs=4)]: Done   4 tasks      | elapsed:    5.4s\n",
      "[Parallel(n_jobs=4)]: Done   5 tasks      | elapsed:    5.6s\n",
      "[Parallel(n_jobs=4)]: Done   6 tasks      | elapsed:    5.7s\n",
      "[Parallel(n_jobs=4)]: Done   7 tasks      | elapsed:    5.9s\n",
      "[Parallel(n_jobs=4)]: Done   8 tasks      | elapsed:    6.1s\n",
      "[Parallel(n_jobs=4)]: Done   9 tasks      | elapsed:    6.2s\n",
      "[Parallel(n_jobs=4)]: Done  10 tasks      | elapsed:    6.8s\n",
      "[Parallel(n_jobs=4)]: Done  11 tasks      | elapsed:    6.8s\n",
      "[Parallel(n_jobs=4)]: Done  12 tasks      | elapsed:    6.9s\n",
      "[Parallel(n_jobs=4)]: Done  13 tasks      | elapsed:    7.1s\n",
      "[Parallel(n_jobs=4)]: Done  14 tasks      | elapsed:    7.4s\n",
      "[Parallel(n_jobs=4)]: Done  15 tasks      | elapsed:    7.5s\n",
      "[Parallel(n_jobs=4)]: Done  16 tasks      | elapsed:    7.6s\n",
      "[Parallel(n_jobs=4)]: Done  17 tasks      | elapsed:    7.6s\n",
      "[Parallel(n_jobs=4)]: Done  18 tasks      | elapsed:    7.9s\n",
      "[Parallel(n_jobs=4)]: Done  19 tasks      | elapsed:    7.9s\n",
      "[Parallel(n_jobs=4)]: Done  20 tasks      | elapsed:    8.0s\n",
      "[Parallel(n_jobs=4)]: Done  21 tasks      | elapsed:    8.0s\n",
      "[Parallel(n_jobs=4)]: Done  22 tasks      | elapsed:    8.4s\n",
      "[Parallel(n_jobs=4)]: Done  23 tasks      | elapsed:    8.8s\n",
      "[Parallel(n_jobs=4)]: Done  26 out of  30 | elapsed:    9.2s remaining:    1.3s\n",
      "[Parallel(n_jobs=4)]: Done  30 out of  30 | elapsed:    9.4s finished\n",
      "C:\\Users\\sadmin\\Anaconda3\\lib\\site-packages\\sklearn\\linear_model\\logistic.py:947: ConvergenceWarning: lbfgs failed to converge. Increase the number of iterations.\n",
      "  \"of iterations.\", ConvergenceWarning)\n",
      "C:\\Users\\sadmin\\Anaconda3\\lib\\site-packages\\sklearn\\linear_model\\logistic.py:947: ConvergenceWarning: lbfgs failed to converge. Increase the number of iterations.\n",
      "  \"of iterations.\", ConvergenceWarning)\n",
      "C:\\Users\\sadmin\\Anaconda3\\lib\\site-packages\\sklearn\\linear_model\\logistic.py:947: ConvergenceWarning: lbfgs failed to converge. Increase the number of iterations.\n",
      "  \"of iterations.\", ConvergenceWarning)\n"
     ]
    },
    {
     "data": {
      "text/plain": [
       "RandomizedSearchCV(cv=3, error_score='raise-deprecating',\n",
       "                   estimator=LogisticRegression(C=1.0, class_weight=None,\n",
       "                                                dual=False, fit_intercept=True,\n",
       "                                                intercept_scaling=1,\n",
       "                                                l1_ratio=None, max_iter=100,\n",
       "                                                multi_class='ovr', n_jobs=None,\n",
       "                                                penalty='l2', random_state=None,\n",
       "                                                solver='lbfgs', tol=0.0001,\n",
       "                                                verbose=0, warm_start=False),\n",
       "                   iid='warn', n_iter=10, n_jobs=4,\n",
       "                   param_distributions...\n",
       "       0.03393222, 0.0390694 , 0.04498433, 0.05179475, 0.05963623,\n",
       "       0.06866488, 0.07906043, 0.09102982, 0.10481131, 0.12067926,\n",
       "       0.13894955, 0.15998587, 0.184207  , 0.21209509, 0.24420531,\n",
       "       0.28117687, 0.32374575, 0.37275937, 0.42919343, 0.49417134,\n",
       "       0.5689866 , 0.65512856, 0.75431201, 0.86851137, 1.        ])},\n",
       "                   pre_dispatch='2*n_jobs', random_state=12, refit=True,\n",
       "                   return_train_score=False, scoring='accuracy', verbose=15)"
      ]
     },
     "execution_count": 151,
     "metadata": {},
     "output_type": "execute_result"
    }
   ],
   "source": [
    "#run logistic regression with random search cross validation and hypertuning\n",
    "lm = LogisticRegression(solver = 'lbfgs', multi_class = 'ovr')\n",
    "param_grid = {'C': np.logspace(-3, 0, num = 50)}\n",
    "lm_cv = RandomizedSearchCV(lm, param_grid, cv = 3, verbose = 15, n_jobs = 4, \n",
    "                           n_iter = 10, scoring = 'accuracy', random_state = 12)\n",
    "lm_cv.fit(X_train, y_train)"
   ]
  },
  {
   "cell_type": "code",
   "execution_count": 152,
   "metadata": {},
   "outputs": [
    {
     "name": "stdout",
     "output_type": "stream",
     "text": [
      "Best C: {'C': 0.868511373751352}\n"
     ]
    }
   ],
   "source": [
    "print('Best C:', lm_cv.best_params_)"
   ]
  },
  {
   "cell_type": "code",
   "execution_count": 153,
   "metadata": {},
   "outputs": [
    {
     "name": "stdout",
     "output_type": "stream",
     "text": [
      "Best Score: 0.7359497645211931\n"
     ]
    }
   ],
   "source": [
    "print('Best Score:', lm_cv.best_score_)"
   ]
  },
  {
   "cell_type": "code",
   "execution_count": 154,
   "metadata": {},
   "outputs": [
    {
     "name": "stdout",
     "output_type": "stream",
     "text": [
      "Performance of logistic regression on test: 0.7396558037348956\n"
     ]
    }
   ],
   "source": [
    "print('Performance of logistic regression on test:', lm_cv.score(X_test,y_test))"
   ]
  },
  {
   "cell_type": "code",
   "execution_count": 155,
   "metadata": {},
   "outputs": [
    {
     "data": {
      "text/plain": [
       "array([[ 558,    0,    9,  178,   10],\n",
       "       [   0,    4,    1,    0,    0],\n",
       "       [  10,    1,  275,   14,   24],\n",
       "       [ 187,    2,   13, 1127,   18],\n",
       "       [  81,    0,   23,  140,   56]], dtype=int64)"
      ]
     },
     "execution_count": 155,
     "metadata": {},
     "output_type": "execute_result"
    }
   ],
   "source": [
    "y_pred = lm_cv.predict(X_test)\n",
    "confusion_matrix(y_test, y_pred)"
   ]
  },
  {
   "cell_type": "code",
   "execution_count": 156,
   "metadata": {},
   "outputs": [
    {
     "name": "stdout",
     "output_type": "stream",
     "text": [
      "                 precision    recall  f1-score   support\n",
      "\n",
      "Adoption/Foster       0.67      0.74      0.70       755\n",
      "           Died       0.57      0.80      0.67         5\n",
      "           Euth       0.86      0.85      0.85       324\n",
      "            Rto       0.77      0.84      0.80      1347\n",
      "       Transfer       0.52      0.19      0.27       300\n",
      "\n",
      "       accuracy                           0.74      2731\n",
      "      macro avg       0.68      0.68      0.66      2731\n",
      "   weighted avg       0.73      0.74      0.72      2731\n",
      "\n"
     ]
    }
   ],
   "source": [
    "print(classification_report(y_test, y_pred))"
   ]
  },
  {
   "cell_type": "code",
   "execution_count": 157,
   "metadata": {
    "scrolled": false
   },
   "outputs": [
    {
     "name": "stdout",
     "output_type": "stream",
     "text": [
      "Fitting 3 folds for each of 6 candidates, totalling 18 fits\n"
     ]
    },
    {
     "name": "stderr",
     "output_type": "stream",
     "text": [
      "[Parallel(n_jobs=4)]: Using backend LokyBackend with 4 concurrent workers.\n",
      "[Parallel(n_jobs=4)]: Done   1 tasks      | elapsed:    8.7s\n",
      "[Parallel(n_jobs=4)]: Done   2 tasks      | elapsed:    8.8s\n",
      "[Parallel(n_jobs=4)]: Done   3 tasks      | elapsed:    8.9s\n",
      "[Parallel(n_jobs=4)]: Done   4 tasks      | elapsed:    8.9s\n",
      "[Parallel(n_jobs=4)]: Done   5 tasks      | elapsed:   13.3s\n",
      "[Parallel(n_jobs=4)]: Done   6 tasks      | elapsed:   13.6s\n",
      "[Parallel(n_jobs=4)]: Done   7 tasks      | elapsed:   13.6s\n",
      "[Parallel(n_jobs=4)]: Done   8 tasks      | elapsed:   13.6s\n",
      "[Parallel(n_jobs=4)]: Done   9 tasks      | elapsed:   17.8s\n",
      "[Parallel(n_jobs=4)]: Done  10 tasks      | elapsed:   17.9s\n",
      "[Parallel(n_jobs=4)]: Done  11 tasks      | elapsed:   18.0s\n",
      "[Parallel(n_jobs=4)]: Done  13 out of  18 | elapsed:   22.4s remaining:    8.5s\n",
      "[Parallel(n_jobs=4)]: Done  15 out of  18 | elapsed:   22.5s remaining:    4.4s\n",
      "[Parallel(n_jobs=4)]: Done  18 out of  18 | elapsed:   24.9s finished\n"
     ]
    },
    {
     "data": {
      "text/plain": [
       "RandomizedSearchCV(cv=3, error_score='raise-deprecating',\n",
       "                   estimator=SVC(C=1.0, cache_size=200, class_weight=None,\n",
       "                                 coef0=0.0, decision_function_shape='ovr',\n",
       "                                 degree=3, gamma='auto_deprecated',\n",
       "                                 kernel='linear', max_iter=-1,\n",
       "                                 probability=False, random_state=None,\n",
       "                                 shrinking=True, tol=0.001, verbose=False),\n",
       "                   iid='warn', n_iter=6, n_jobs=4,\n",
       "                   param_distributions={'C': array([0.0...\n",
       "       0.03393222, 0.0390694 , 0.04498433, 0.05179475, 0.05963623,\n",
       "       0.06866488, 0.07906043, 0.09102982, 0.10481131, 0.12067926,\n",
       "       0.13894955, 0.15998587, 0.184207  , 0.21209509, 0.24420531,\n",
       "       0.28117687, 0.32374575, 0.37275937, 0.42919343, 0.49417134,\n",
       "       0.5689866 , 0.65512856, 0.75431201, 0.86851137, 1.        ])},\n",
       "                   pre_dispatch='2*n_jobs', random_state=10, refit=True,\n",
       "                   return_train_score=False, scoring='accuracy', verbose=15)"
      ]
     },
     "execution_count": 157,
     "metadata": {},
     "output_type": "execute_result"
    }
   ],
   "source": [
    "svm = SVC(kernel = 'linear')\n",
    "param_grid = {'C': np.logspace(-3,0, num = 50)}\n",
    "svm_cv = RandomizedSearchCV(svm, param_grid, cv = 3, n_jobs = 4, \n",
    "                            verbose = 15, random_state = 10, scoring = 'accuracy', n_iter = 6)\n",
    "svm_cv.fit(X_train, y_train)"
   ]
  },
  {
   "cell_type": "code",
   "execution_count": 158,
   "metadata": {
    "scrolled": false
   },
   "outputs": [
    {
     "name": "stdout",
     "output_type": "stream",
     "text": [
      "Best parameters: {'C': 0.18420699693267165}\n"
     ]
    }
   ],
   "source": [
    "print('Best parameters:', svm_cv.best_params_)"
   ]
  },
  {
   "cell_type": "code",
   "execution_count": 159,
   "metadata": {},
   "outputs": [
    {
     "name": "stdout",
     "output_type": "stream",
     "text": [
      "Best Score: 0.7324960753532183\n"
     ]
    }
   ],
   "source": [
    "print('Best Score:', svm_cv.best_score_)"
   ]
  },
  {
   "cell_type": "code",
   "execution_count": 160,
   "metadata": {},
   "outputs": [
    {
     "name": "stdout",
     "output_type": "stream",
     "text": [
      "Performance of SVM on test: 0.7308678139875503\n"
     ]
    }
   ],
   "source": [
    "print('Performance of SVM on test:', svm_cv.score(X_test,y_test))"
   ]
  },
  {
   "cell_type": "code",
   "execution_count": 161,
   "metadata": {},
   "outputs": [
    {
     "data": {
      "text/plain": [
       "array([[ 591,    0,    9,  155,    0],\n",
       "       [   0,    4,    1,    0,    0],\n",
       "       [  28,    1,  273,    0,   22],\n",
       "       [ 227,    2,   18, 1071,   29],\n",
       "       [ 116,    0,   15,  112,   57]], dtype=int64)"
      ]
     },
     "execution_count": 161,
     "metadata": {},
     "output_type": "execute_result"
    }
   ],
   "source": [
    "y_pred = svm_cv.predict(X_test)\n",
    "confusion_matrix(y_test, y_pred)"
   ]
  },
  {
   "cell_type": "code",
   "execution_count": 162,
   "metadata": {},
   "outputs": [
    {
     "name": "stdout",
     "output_type": "stream",
     "text": [
      "                 precision    recall  f1-score   support\n",
      "\n",
      "Adoption/Foster       0.61      0.78      0.69       755\n",
      "           Died       0.57      0.80      0.67         5\n",
      "           Euth       0.86      0.84      0.85       324\n",
      "            Rto       0.80      0.80      0.80      1347\n",
      "       Transfer       0.53      0.19      0.28       300\n",
      "\n",
      "       accuracy                           0.73      2731\n",
      "      macro avg       0.68      0.68      0.66      2731\n",
      "   weighted avg       0.73      0.73      0.72      2731\n",
      "\n"
     ]
    }
   ],
   "source": [
    "print(classification_report(y_test, y_pred))"
   ]
  },
  {
   "cell_type": "code",
   "execution_count": 163,
   "metadata": {
    "scrolled": true
   },
   "outputs": [
    {
     "name": "stdout",
     "output_type": "stream",
     "text": [
      "Fitting 3 folds for each of 8 candidates, totalling 24 fits\n"
     ]
    },
    {
     "name": "stderr",
     "output_type": "stream",
     "text": [
      "[Parallel(n_jobs=4)]: Using backend LokyBackend with 4 concurrent workers.\n",
      "[Parallel(n_jobs=4)]: Done   1 tasks      | elapsed:    8.2s\n",
      "[Parallel(n_jobs=4)]: Done   2 tasks      | elapsed:    8.2s\n",
      "[Parallel(n_jobs=4)]: Done   3 tasks      | elapsed:    8.3s\n",
      "[Parallel(n_jobs=4)]: Done   4 tasks      | elapsed:    8.4s\n",
      "[Parallel(n_jobs=4)]: Done   5 tasks      | elapsed:   11.8s\n",
      "[Parallel(n_jobs=4)]: Done   6 tasks      | elapsed:   12.0s\n",
      "[Parallel(n_jobs=4)]: Done   7 tasks      | elapsed:   12.1s\n",
      "[Parallel(n_jobs=4)]: Done   8 tasks      | elapsed:   12.1s\n",
      "[Parallel(n_jobs=4)]: Done   9 tasks      | elapsed:   15.2s\n",
      "[Parallel(n_jobs=4)]: Done  10 tasks      | elapsed:   15.7s\n",
      "[Parallel(n_jobs=4)]: Done  11 tasks      | elapsed:   15.8s\n",
      "[Parallel(n_jobs=4)]: Done  12 tasks      | elapsed:   15.9s\n",
      "[Parallel(n_jobs=4)]: Done  13 tasks      | elapsed:   18.7s\n",
      "[Parallel(n_jobs=4)]: Done  14 tasks      | elapsed:   19.2s\n",
      "[Parallel(n_jobs=4)]: Done  15 tasks      | elapsed:   19.3s\n",
      "[Parallel(n_jobs=4)]: Done  16 tasks      | elapsed:   19.5s\n",
      "[Parallel(n_jobs=4)]: Done  17 tasks      | elapsed:   22.3s\n",
      "[Parallel(n_jobs=4)]: Done  19 out of  24 | elapsed:   22.8s remaining:    5.9s\n",
      "[Parallel(n_jobs=4)]: Done  21 out of  24 | elapsed:   25.8s remaining:    3.6s\n",
      "[Parallel(n_jobs=4)]: Done  24 out of  24 | elapsed:   26.5s finished\n"
     ]
    },
    {
     "data": {
      "text/plain": [
       "RandomizedSearchCV(cv=3, error_score='raise-deprecating',\n",
       "                   estimator=KNeighborsClassifier(algorithm='kd_tree',\n",
       "                                                  leaf_size=30,\n",
       "                                                  metric='minkowski',\n",
       "                                                  metric_params=None,\n",
       "                                                  n_jobs=None, n_neighbors=5,\n",
       "                                                  p=2, weights='uniform'),\n",
       "                   iid='warn', n_iter=8, n_jobs=4,\n",
       "                   param_distributions={'n_neighbors': array([ 1,  2,  3,  4,  5,  6,  7,  8,  9, 10, 11, 12, 13, 14, 15, 16, 17,\n",
       "       18, 19, 20, 21, 22, 23, 24])},\n",
       "                   pre_dispatch='2*n_jobs', random_state=12, refit=True,\n",
       "                   return_train_score=False, scoring='accuracy', verbose=15)"
      ]
     },
     "execution_count": 163,
     "metadata": {},
     "output_type": "execute_result"
    }
   ],
   "source": [
    "#run kNN classifier \n",
    "knn = KNeighborsClassifier(weights = 'uniform', algorithm = 'kd_tree')\n",
    "param_grid = {'n_neighbors': np.arange(1,25)}\n",
    "knn_cv = RandomizedSearchCV(knn, param_grid, cv = 3, n_jobs = 4, \n",
    "                            verbose = 15, random_state =12, n_iter = 8, scoring = 'accuracy')\n",
    "knn_cv.fit(X_train,y_train)"
   ]
  },
  {
   "cell_type": "code",
   "execution_count": 164,
   "metadata": {},
   "outputs": [
    {
     "name": "stdout",
     "output_type": "stream",
     "text": [
      "Best k neighbors: {'n_neighbors': 11}\n"
     ]
    }
   ],
   "source": [
    "print('Best k neighbors:', knn_cv.best_params_)"
   ]
  },
  {
   "cell_type": "code",
   "execution_count": 165,
   "metadata": {},
   "outputs": [
    {
     "name": "stdout",
     "output_type": "stream",
     "text": [
      "Best Score: 0.7351648351648352\n"
     ]
    }
   ],
   "source": [
    "print('Best Score:', knn_cv.best_score_)"
   ]
  },
  {
   "cell_type": "code",
   "execution_count": 166,
   "metadata": {},
   "outputs": [
    {
     "name": "stdout",
     "output_type": "stream",
     "text": [
      "Performance of k nearest neighbor: 0.7440497986085682\n"
     ]
    }
   ],
   "source": [
    "print('Performance of k nearest neighbor:', knn_cv.score(X_test, y_test))"
   ]
  },
  {
   "cell_type": "code",
   "execution_count": 167,
   "metadata": {},
   "outputs": [
    {
     "data": {
      "text/plain": [
       "array([[ 560,    0,    8,  178,    9],\n",
       "       [   0,    0,    1,    4,    0],\n",
       "       [  31,    0,  227,   55,   11],\n",
       "       [ 117,    0,    8, 1217,    5],\n",
       "       [ 126,    0,   33,  113,   28]], dtype=int64)"
      ]
     },
     "execution_count": 167,
     "metadata": {},
     "output_type": "execute_result"
    }
   ],
   "source": [
    "y_pred = knn_cv.predict(X_test)\n",
    "confusion_matrix(y_test, y_pred)"
   ]
  },
  {
   "cell_type": "code",
   "execution_count": 168,
   "metadata": {},
   "outputs": [
    {
     "name": "stdout",
     "output_type": "stream",
     "text": [
      "                 precision    recall  f1-score   support\n",
      "\n",
      "Adoption/Foster       0.67      0.74      0.70       755\n",
      "           Died       0.00      0.00      0.00         5\n",
      "           Euth       0.82      0.70      0.76       324\n",
      "            Rto       0.78      0.90      0.84      1347\n",
      "       Transfer       0.53      0.09      0.16       300\n",
      "\n",
      "       accuracy                           0.74      2731\n",
      "      macro avg       0.56      0.49      0.49      2731\n",
      "   weighted avg       0.72      0.74      0.71      2731\n",
      "\n"
     ]
    },
    {
     "name": "stderr",
     "output_type": "stream",
     "text": [
      "C:\\Users\\sadmin\\Anaconda3\\lib\\site-packages\\sklearn\\metrics\\classification.py:1437: UndefinedMetricWarning: Precision and F-score are ill-defined and being set to 0.0 in labels with no predicted samples.\n",
      "  'precision', 'predicted', average, warn_for)\n"
     ]
    }
   ],
   "source": [
    "print(classification_report(y_test, y_pred))"
   ]
  },
  {
   "cell_type": "code",
   "execution_count": 169,
   "metadata": {},
   "outputs": [
    {
     "name": "stdout",
     "output_type": "stream",
     "text": [
      "Fitting 3 folds for each of 6 candidates, totalling 18 fits\n"
     ]
    },
    {
     "name": "stderr",
     "output_type": "stream",
     "text": [
      "[Parallel(n_jobs=4)]: Using backend LokyBackend with 4 concurrent workers.\n",
      "[Parallel(n_jobs=4)]: Done   1 tasks      | elapsed:    6.1s\n",
      "[Parallel(n_jobs=4)]: Done   2 tasks      | elapsed:    6.1s\n",
      "[Parallel(n_jobs=4)]: Done   3 tasks      | elapsed:    6.1s\n",
      "[Parallel(n_jobs=4)]: Done   4 tasks      | elapsed:    7.6s\n",
      "[Parallel(n_jobs=4)]: Done   5 tasks      | elapsed:    9.3s\n",
      "[Parallel(n_jobs=4)]: Done   6 tasks      | elapsed:    9.4s\n",
      "[Parallel(n_jobs=4)]: Done   7 tasks      | elapsed:   12.5s\n",
      "[Parallel(n_jobs=4)]: Done   8 tasks      | elapsed:   14.1s\n",
      "[Parallel(n_jobs=4)]: Done   9 tasks      | elapsed:   15.8s\n",
      "[Parallel(n_jobs=4)]: Done  10 tasks      | elapsed:   18.9s\n",
      "[Parallel(n_jobs=4)]: Done  11 tasks      | elapsed:   22.1s\n",
      "[Parallel(n_jobs=4)]: Done  13 out of  18 | elapsed:   28.5s remaining:   10.9s\n",
      "[Parallel(n_jobs=4)]: Done  15 out of  18 | elapsed:   35.4s remaining:    7.0s\n",
      "[Parallel(n_jobs=4)]: Done  18 out of  18 | elapsed:   44.2s finished\n"
     ]
    },
    {
     "data": {
      "text/plain": [
       "GridSearchCV(cv=3, error_score='raise-deprecating',\n",
       "             estimator=RandomForestClassifier(bootstrap=True, class_weight=None,\n",
       "                                              criterion='gini', max_depth=None,\n",
       "                                              max_features='auto',\n",
       "                                              max_leaf_nodes=None,\n",
       "                                              min_impurity_decrease=0.0,\n",
       "                                              min_impurity_split=None,\n",
       "                                              min_samples_leaf=1,\n",
       "                                              min_samples_split=2,\n",
       "                                              min_weight_fraction_leaf=0.0,\n",
       "                                              n_estimators='warn', n_jobs=None,\n",
       "                                              oob_score=False, random_state=10,\n",
       "                                              verbose=0, warm_start=False),\n",
       "             iid='warn', n_jobs=4,\n",
       "             param_grid={'n_estimators': [100, 200, 400, 600, 800, 1000]},\n",
       "             pre_dispatch='2*n_jobs', refit=True, return_train_score=False,\n",
       "             scoring='accuracy', verbose=15)"
      ]
     },
     "execution_count": 169,
     "metadata": {},
     "output_type": "execute_result"
    }
   ],
   "source": [
    "#run random Forest with Grid Search with hyperparameter tuning\n",
    "RF = RandomForestClassifier(random_state = 10)\n",
    "param_grid = {'n_estimators': [100, 200, 400, 600, 800, 1000]}\n",
    "RF_cv = GridSearchCV(RF, param_grid, cv = 3, verbose = 15, n_jobs = 4, \n",
    "                     scoring = 'accuracy')\n",
    "RF_cv.fit(X_train, y_train)"
   ]
  },
  {
   "cell_type": "code",
   "execution_count": 170,
   "metadata": {},
   "outputs": [
    {
     "name": "stdout",
     "output_type": "stream",
     "text": [
      "Best # of trees in a forest: {'n_estimators': 1000}\n"
     ]
    }
   ],
   "source": [
    "print('Best # of trees in a forest:', RF_cv.best_params_)"
   ]
  },
  {
   "cell_type": "code",
   "execution_count": 171,
   "metadata": {},
   "outputs": [
    {
     "name": "stdout",
     "output_type": "stream",
     "text": [
      "Best Score: 0.7572998430141288\n"
     ]
    }
   ],
   "source": [
    "print('Best Score:', RF_cv.best_score_)"
   ]
  },
  {
   "cell_type": "code",
   "execution_count": 172,
   "metadata": {},
   "outputs": [
    {
     "name": "stdout",
     "output_type": "stream",
     "text": [
      "Performance of random forest:  0.7605272793848408\n"
     ]
    }
   ],
   "source": [
    "print('Performance of random forest: ', RF_cv.score(X_test,y_test))"
   ]
  },
  {
   "cell_type": "code",
   "execution_count": 173,
   "metadata": {},
   "outputs": [
    {
     "data": {
      "text/plain": [
       "array([[ 527,    0,   13,  177,   38],\n",
       "       [   0,    4,    1,    0,    0],\n",
       "       [  12,    1,  279,   10,   22],\n",
       "       [ 114,    2,   16, 1181,   34],\n",
       "       [  94,    0,   20,  100,   86]], dtype=int64)"
      ]
     },
     "execution_count": 173,
     "metadata": {},
     "output_type": "execute_result"
    }
   ],
   "source": [
    "y_pred = RF_cv.predict(X_test)\n",
    "confusion_matrix(y_test, y_pred)"
   ]
  },
  {
   "cell_type": "code",
   "execution_count": 174,
   "metadata": {},
   "outputs": [
    {
     "name": "stdout",
     "output_type": "stream",
     "text": [
      "                 precision    recall  f1-score   support\n",
      "\n",
      "Adoption/Foster       0.71      0.70      0.70       755\n",
      "           Died       0.57      0.80      0.67         5\n",
      "           Euth       0.85      0.86      0.85       324\n",
      "            Rto       0.80      0.88      0.84      1347\n",
      "       Transfer       0.48      0.29      0.36       300\n",
      "\n",
      "       accuracy                           0.76      2731\n",
      "      macro avg       0.68      0.70      0.68      2731\n",
      "   weighted avg       0.75      0.76      0.75      2731\n",
      "\n"
     ]
    }
   ],
   "source": [
    "print(classification_report(y_test, y_pred))"
   ]
  },
  {
   "cell_type": "code",
   "execution_count": 175,
   "metadata": {},
   "outputs": [],
   "source": [
    "#encode the y_train \n",
    "y_train_deep = OneHotEncoder().fit_transform(y_train.values.reshape(-1,1))\n",
    "\n",
    "#define X_train shape\n",
    "in_dim = X_train.shape[1]"
   ]
  },
  {
   "cell_type": "code",
   "execution_count": 176,
   "metadata": {},
   "outputs": [
    {
     "name": "stdout",
     "output_type": "stream",
     "text": [
      "Train on 4459 samples, validate on 1911 samples\n",
      "Epoch 1/50\n",
      " - 6s - loss: 1.6662 - acc: 0.2467 - val_loss: 1.4078 - val_acc: 0.4411\n",
      "Epoch 2/50\n",
      " - 1s - loss: 1.3583 - acc: 0.4519 - val_loss: 1.2458 - val_acc: 0.6222\n",
      "Epoch 3/50\n",
      " - 1s - loss: 1.1600 - acc: 0.6295 - val_loss: 1.0725 - val_acc: 0.7002\n",
      "Epoch 4/50\n",
      " - 1s - loss: 1.0391 - acc: 0.6773 - val_loss: 0.9676 - val_acc: 0.7101\n",
      "Epoch 5/50\n",
      " - 1s - loss: 0.9502 - acc: 0.7028 - val_loss: 0.8539 - val_acc: 0.7305\n",
      "Epoch 6/50\n",
      " - 1s - loss: 0.8715 - acc: 0.7165 - val_loss: 0.7829 - val_acc: 0.7425\n",
      "Epoch 7/50\n",
      " - 1s - loss: 0.8199 - acc: 0.7266 - val_loss: 0.7388 - val_acc: 0.7582\n",
      "Epoch 8/50\n",
      " - 1s - loss: 0.7902 - acc: 0.7340 - val_loss: 0.6946 - val_acc: 0.7724\n",
      "Epoch 9/50\n",
      " - 1s - loss: 0.7536 - acc: 0.7468 - val_loss: 0.6775 - val_acc: 0.7729\n",
      "Epoch 10/50\n",
      " - 1s - loss: 0.7226 - acc: 0.7506 - val_loss: 0.6604 - val_acc: 0.7792\n",
      "Epoch 11/50\n",
      " - 1s - loss: 0.7058 - acc: 0.7524 - val_loss: 0.6450 - val_acc: 0.7786\n",
      "Epoch 12/50\n",
      " - 1s - loss: 0.6737 - acc: 0.7672 - val_loss: 0.6270 - val_acc: 0.7881\n",
      "Epoch 13/50\n",
      " - 1s - loss: 0.6422 - acc: 0.7769 - val_loss: 0.6231 - val_acc: 0.7781\n",
      "Epoch 14/50\n",
      " - 1s - loss: 0.6176 - acc: 0.7854 - val_loss: 0.6043 - val_acc: 0.7860\n",
      "Epoch 15/50\n",
      " - 1s - loss: 0.6099 - acc: 0.7883 - val_loss: 0.5914 - val_acc: 0.7917\n",
      "Epoch 16/50\n",
      " - 1s - loss: 0.5798 - acc: 0.7988 - val_loss: 0.6098 - val_acc: 0.7823\n",
      "Epoch 17/50\n",
      " - 1s - loss: 0.5773 - acc: 0.8002 - val_loss: 0.5854 - val_acc: 0.7902\n",
      "Epoch 18/50\n",
      " - 1s - loss: 0.5600 - acc: 0.8051 - val_loss: 0.5750 - val_acc: 0.7917\n",
      "Epoch 19/50\n",
      " - 1s - loss: 0.5367 - acc: 0.8139 - val_loss: 0.5715 - val_acc: 0.7886\n",
      "Epoch 20/50\n",
      " - 1s - loss: 0.5345 - acc: 0.8076 - val_loss: 0.5752 - val_acc: 0.7792\n",
      "Epoch 21/50\n",
      " - 1s - loss: 0.5100 - acc: 0.8219 - val_loss: 0.5733 - val_acc: 0.7943\n",
      "Epoch 22/50\n",
      " - 1s - loss: 0.5073 - acc: 0.8251 - val_loss: 0.5638 - val_acc: 0.7917\n",
      "Epoch 23/50\n",
      " - 1s - loss: 0.4903 - acc: 0.8269 - val_loss: 0.5770 - val_acc: 0.7923\n",
      "Epoch 24/50\n",
      " - 1s - loss: 0.4820 - acc: 0.8320 - val_loss: 0.5642 - val_acc: 0.7923\n",
      "Epoch 25/50\n",
      " - 1s - loss: 0.4864 - acc: 0.8296 - val_loss: 0.5653 - val_acc: 0.7980\n",
      "Epoch 26/50\n",
      " - 1s - loss: 0.4748 - acc: 0.8296 - val_loss: 0.5697 - val_acc: 0.7964\n",
      "Epoch 27/50\n",
      " - 1s - loss: 0.4571 - acc: 0.8376 - val_loss: 0.5674 - val_acc: 0.7949\n",
      "Epoch 28/50\n",
      " - 1s - loss: 0.4528 - acc: 0.8421 - val_loss: 0.5799 - val_acc: 0.7964\n",
      "Epoch 29/50\n",
      " - 1s - loss: 0.4500 - acc: 0.8459 - val_loss: 0.5692 - val_acc: 0.7954\n",
      "Epoch 30/50\n",
      " - 1s - loss: 0.4368 - acc: 0.8455 - val_loss: 0.5806 - val_acc: 0.7896\n",
      "Epoch 31/50\n",
      " - 1s - loss: 0.4280 - acc: 0.8518 - val_loss: 0.5819 - val_acc: 0.7912\n",
      "Epoch 32/50\n",
      " - 1s - loss: 0.4164 - acc: 0.8502 - val_loss: 0.5770 - val_acc: 0.7954\n",
      "Epoch 33/50\n",
      " - 1s - loss: 0.4144 - acc: 0.8533 - val_loss: 0.5860 - val_acc: 0.7959\n",
      "Epoch 34/50\n",
      " - 1s - loss: 0.4050 - acc: 0.8583 - val_loss: 0.5850 - val_acc: 0.7980\n",
      "Epoch 35/50\n",
      " - 1s - loss: 0.4063 - acc: 0.8540 - val_loss: 0.6028 - val_acc: 0.7875\n",
      "Epoch 36/50\n",
      " - 1s - loss: 0.3886 - acc: 0.8605 - val_loss: 0.5940 - val_acc: 0.7928\n",
      "Epoch 37/50\n",
      " - 1s - loss: 0.3910 - acc: 0.8627 - val_loss: 0.5935 - val_acc: 0.7928\n",
      "Epoch 38/50\n",
      " - 1s - loss: 0.3834 - acc: 0.8654 - val_loss: 0.6101 - val_acc: 0.7875\n",
      "Epoch 39/50\n",
      " - 1s - loss: 0.3742 - acc: 0.8699 - val_loss: 0.6037 - val_acc: 0.7870\n",
      "Epoch 40/50\n",
      " - 1s - loss: 0.3740 - acc: 0.8684 - val_loss: 0.6085 - val_acc: 0.7896\n",
      "Epoch 41/50\n",
      " - 1s - loss: 0.3848 - acc: 0.8632 - val_loss: 0.6167 - val_acc: 0.7886\n",
      "Epoch 42/50\n",
      " - 1s - loss: 0.3714 - acc: 0.8679 - val_loss: 0.6213 - val_acc: 0.7792\n",
      "Epoch 43/50\n",
      " - 1s - loss: 0.3522 - acc: 0.8755 - val_loss: 0.6171 - val_acc: 0.7755\n",
      "Epoch 44/50\n",
      " - 1s - loss: 0.3411 - acc: 0.8773 - val_loss: 0.6218 - val_acc: 0.7802\n",
      "Epoch 45/50\n",
      " - 1s - loss: 0.3396 - acc: 0.8787 - val_loss: 0.6268 - val_acc: 0.7844\n",
      "Epoch 46/50\n",
      " - 1s - loss: 0.3380 - acc: 0.8829 - val_loss: 0.6280 - val_acc: 0.7807\n",
      "Epoch 47/50\n",
      " - 1s - loss: 0.3367 - acc: 0.8771 - val_loss: 0.6245 - val_acc: 0.7896\n",
      "Epoch 48/50\n",
      " - 1s - loss: 0.3410 - acc: 0.8733 - val_loss: 0.6419 - val_acc: 0.7849\n",
      "Epoch 49/50\n",
      " - 1s - loss: 0.3267 - acc: 0.8847 - val_loss: 0.6665 - val_acc: 0.7776\n",
      "Epoch 50/50\n",
      " - 1s - loss: 0.3246 - acc: 0.8767 - val_loss: 0.6638 - val_acc: 0.7823\n"
     ]
    }
   ],
   "source": [
    "DNN = Sequential()\n",
    "\n",
    "DNN.add(Dense(512, input_shape = (in_dim,)))\n",
    "DNN.add(Dropout(0.4))\n",
    "DNN.add(Activation('relu'))\n",
    "\n",
    "DNN.add(Dense(256))\n",
    "DNN.add(BatchNormalization())\n",
    "DNN.add(Activation('relu'))\n",
    "\n",
    "DNN.add(Dense(128))\n",
    "DNN.add(Dropout(0.4))\n",
    "DNN.add(Activation('relu'))\n",
    "\n",
    "DNN.add(Dense(64))\n",
    "DNN.add(BatchNormalization())\n",
    "DNN.add(Activation('relu'))\n",
    "\n",
    "DNN.add(Dense(32))\n",
    "DNN.add(Dropout(0.4))\n",
    "DNN.add(Activation('relu'))\n",
    "    \n",
    "DNN.add(Dense(16))\n",
    "DNN.add(BatchNormalization())\n",
    "DNN.add(Activation('relu'))\n",
    "\n",
    "DNN.add(Dense(5))\n",
    "DNN.add(Activation('softmax'))\n",
    "    \n",
    "DNN.compile(optimizer = 'Adam', loss = 'categorical_crossentropy', metrics = ['accuracy'])\n",
    "hist = DNN.fit(X_train, y_train_deep, validation_split = 0.3, batch_size = 256, epochs = 50, verbose = 2)"
   ]
  },
  {
   "cell_type": "code",
   "execution_count": 177,
   "metadata": {},
   "outputs": [
    {
     "data": {
      "text/plain": [
       "<matplotlib.legend.Legend at 0x1e41971b848>"
      ]
     },
     "execution_count": 177,
     "metadata": {},
     "output_type": "execute_result"
    },
    {
     "data": {
      "image/png": "[encoded data removed]",
      "text/plain": [
       "<Figure size 432x288 with 1 Axes>"
      ]
     },
     "metadata": {
      "needs_background": "light"
     },
     "output_type": "display_data"
    }
   ],
   "source": [
    "plt.plot(hist.history['acc'])\n",
    "plt.plot(hist.history['val_acc'])\n",
    "plt.ylabel('Accuracy')\n",
    "plt.xlabel('Epoch')\n",
    "plt.title('Model Accurcy')\n",
    "plt.legend(['Train', 'Validation'])"
   ]
  },
  {
   "cell_type": "markdown",
   "metadata": {},
   "source": [
    "Model seems to have high variance as train data accuracy deviates from test case. Cross validation may help to improve variance without significantly changing the architecture of the model"
   ]
  },
  {
   "cell_type": "code",
   "execution_count": 178,
   "metadata": {},
   "outputs": [
    {
     "name": "stdout",
     "output_type": "stream",
     "text": [
      "_________________________________________________________________\n",
      "Layer (type)                 Output Shape              Param #   \n",
      "=================================================================\n",
      "dense_22 (Dense)             (None, 512)               32256     \n",
      "_________________________________________________________________\n",
      "dropout_10 (Dropout)         (None, 512)               0         \n",
      "_________________________________________________________________\n",
      "activation_22 (Activation)   (None, 512)               0         \n",
      "_________________________________________________________________\n",
      "dense_23 (Dense)             (None, 256)               131328    \n",
      "_________________________________________________________________\n",
      "batch_normalization_10 (Batc (None, 256)               1024      \n",
      "_________________________________________________________________\n",
      "activation_23 (Activation)   (None, 256)               0         \n",
      "_________________________________________________________________\n",
      "dense_24 (Dense)             (None, 128)               32896     \n",
      "_________________________________________________________________\n",
      "dropout_11 (Dropout)         (None, 128)               0         \n",
      "_________________________________________________________________\n",
      "activation_24 (Activation)   (None, 128)               0         \n",
      "_________________________________________________________________\n",
      "dense_25 (Dense)             (None, 64)                8256      \n",
      "_________________________________________________________________\n",
      "batch_normalization_11 (Batc (None, 64)                256       \n",
      "_________________________________________________________________\n",
      "activation_25 (Activation)   (None, 64)                0         \n",
      "_________________________________________________________________\n",
      "dense_26 (Dense)             (None, 32)                2080      \n",
      "_________________________________________________________________\n",
      "dropout_12 (Dropout)         (None, 32)                0         \n",
      "_________________________________________________________________\n",
      "activation_26 (Activation)   (None, 32)                0         \n",
      "_________________________________________________________________\n",
      "dense_27 (Dense)             (None, 16)                528       \n",
      "_________________________________________________________________\n",
      "batch_normalization_12 (Batc (None, 16)                64        \n",
      "_________________________________________________________________\n",
      "activation_27 (Activation)   (None, 16)                0         \n",
      "_________________________________________________________________\n",
      "dense_28 (Dense)             (None, 5)                 85        \n",
      "_________________________________________________________________\n",
      "activation_28 (Activation)   (None, 5)                 0         \n",
      "=================================================================\n",
      "Total params: 208,773\n",
      "Trainable params: 208,101\n",
      "Non-trainable params: 672\n",
      "_________________________________________________________________\n"
     ]
    }
   ],
   "source": [
    "DNN.summary()"
   ]
  },
  {
   "cell_type": "code",
   "execution_count": 179,
   "metadata": {},
   "outputs": [],
   "source": [
    "#reverse encode the y_train\n",
    "check = ReverseEncode(y_train, y_train_deep)"
   ]
  },
  {
   "cell_type": "code",
   "execution_count": 180,
   "metadata": {},
   "outputs": [],
   "source": [
    "#predict test case\n",
    "predict = DNN.predict(X_test)"
   ]
  },
  {
   "cell_type": "code",
   "execution_count": 181,
   "metadata": {},
   "outputs": [],
   "source": [
    "#transforming predict to original category\n",
    "predict_str = readable_predict(predict, check)"
   ]
  },
  {
   "cell_type": "code",
   "execution_count": 182,
   "metadata": {},
   "outputs": [
    {
     "name": "stdout",
     "output_type": "stream",
     "text": [
      "Accuracy of Neural Network: 0.771\n"
     ]
    }
   ],
   "source": [
    "print('Accuracy of Neural Network:', round(accuracy_score(y_test, predict_str), 3))"
   ]
  },
  {
   "cell_type": "markdown",
   "metadata": {},
   "source": [
    "The accuracy of the neural network aligns will within the range of the score achieved from val_acc"
   ]
  },
  {
   "cell_type": "code",
   "execution_count": 183,
   "metadata": {},
   "outputs": [
    {
     "name": "stdout",
     "output_type": "stream",
     "text": [
      "[[ 537    0   10  161   47]\n",
      " [   0    0    4    1    0]\n",
      " [   6    0  278   16   24]\n",
      " [ 102    0   17 1185   43]\n",
      " [ 104    0   17   73  106]]\n"
     ]
    }
   ],
   "source": [
    "print(confusion_matrix(y_test, predict_str))"
   ]
  },
  {
   "cell_type": "code",
   "execution_count": 184,
   "metadata": {},
   "outputs": [
    {
     "name": "stdout",
     "output_type": "stream",
     "text": [
      "                 precision    recall  f1-score   support\n",
      "\n",
      "Adoption/Foster       0.72      0.71      0.71       755\n",
      "           Died       0.00      0.00      0.00         5\n",
      "           Euth       0.85      0.86      0.86       324\n",
      "            Rto       0.83      0.88      0.85      1347\n",
      "       Transfer       0.48      0.35      0.41       300\n",
      "\n",
      "       accuracy                           0.77      2731\n",
      "      macro avg       0.58      0.56      0.57      2731\n",
      "   weighted avg       0.76      0.77      0.76      2731\n",
      "\n"
     ]
    },
    {
     "name": "stderr",
     "output_type": "stream",
     "text": [
      "C:\\Users\\sadmin\\Anaconda3\\lib\\site-packages\\sklearn\\metrics\\classification.py:1437: UndefinedMetricWarning: Precision and F-score are ill-defined and being set to 0.0 in labels with no predicted samples.\n",
      "  'precision', 'predicted', average, warn_for)\n"
     ]
    }
   ],
   "source": [
    "print(classification_report(y_test, predict_str))"
   ]
  },
  {
   "cell_type": "markdown",
   "metadata": {},
   "source": [
    "Deep learning acheived the highest accuracy at 77.1% compared to validation test of 78%. It also have the highest adoption precision at 0.72. Logistics regression have the highest euthanization precision at 0.86 and naive bayes achived the highest euthanization recall at 0.88."
   ]
  },
  {
   "cell_type": "markdown",
   "metadata": {},
   "source": [
    "<a id='Remarks'></a>"
   ]
  },
  {
   "cell_type": "markdown",
   "metadata": {},
   "source": [
    "## 3f. Remarks on Learning Model\n",
    "Even though for most models, the accuracy is subpar, the models do provide some value. The purpose of this project was to idenfify dogs at risk for euthanization and transfer them to locations with better outcome. The first part could be achieve with high euthanization precision and recall for some location. For example Sonoma, the euthanization precision and recall could be achieve close to 90% with two separate models providing great confidence of which dogs are at risk. However this is not to say we are happy with the models. Adoption rate is a area that needs more work since no models were able to achieve a preciion score of 80%. This is essential to determining the location to send at risk dogs. Also, RTO and Transfer dogs are creating a real problem for predicting adoption and euthanization. According to the confusion matrixes generated in the models, most mistakes made from adoption and euthanization predicted as RTO and Transfer or RTO and transfer predicted as euthanization and adoption. This is the largest area of potential improvement to rectify the model from error and significantly improve the model.\n",
    "\n",
    "Also choosing the right model for the shelters depends on the economic and buisness model of the shelter. For shelters that want to be more humane towards dogs, they can run the model prioritizing euthanization precision to idenfity the predicted dogs at risk. While more economical shelter can use the model with highest recall to be absolutely confident the dog is at risk. Once identify the same features could be run against all locations with models to find the best adoption/foster precision for transfer. \n",
    "\n",
    "However, once the model is chosen, the confusion matrix should be inspected. In this project, one of the most surprising finding was having a 1.0 recall. However, when the confusion matrix was inspected, only one euthanization was predicted for euthanization and was a true positive. Therefore, the recall, although 1.0, is extremely bias and the model shouldn’t be used for predicting euthanization."
   ]
  },
  {
   "cell_type": "markdown",
   "metadata": {},
   "source": [
    "<a id='Future'></a>"
   ]
  },
  {
   "cell_type": "markdown",
   "metadata": {},
   "source": [
    "## 4. Future Work\n",
    "Improve the featuring engineering of Age, Breed and Color <br>\n",
    "\n",
    "Study the effects of features on RTO and Transfer<br>\n",
    "\n",
    "Study the interdependencies of RTO, Transfer, Adoption and Euthanization rates<br>\n",
    "\n",
    "Simplify outcome types with only survived and alive to improve accuracy and better target for euthanized dogs.<br>\n",
    "\n",
    "Cross validate with other hyperparameters to improve accuracy<br>\n",
    "\n",
    "Weight average all the models to create an ensemble model<br>\n",
    "\n",
    "Engineer model to improve accuracy of euthanization rate and adoption rate<br>\n",
    "\n",
    "Use transfer learning <br>"
   ]
  },
  {
   "cell_type": "code",
   "execution_count": null,
   "metadata": {},
   "outputs": [],
   "source": []
  }
 ],
 "metadata": {
  "kernelspec": {
   "display_name": "Python 3",
   "language": "python",
   "name": "python3"
  },
  "language_info": {
   "codemirror_mode": {
    "name": "ipython",
    "version": 3
   },
   "file_extension": ".py",
   "mimetype": "text/x-python",
   "name": "python",
   "nbconvert_exporter": "python",
   "pygments_lexer": "ipython3",
   "version": "3.7.5"
  }
 },
 "nbformat": 4,
 "nbformat_minor": 2
}
