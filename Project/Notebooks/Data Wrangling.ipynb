{
 "cells": [
  {
   "cell_type": "markdown",
   "metadata": {},
   "source": [
    "# Finding Dogs a Home \n",
    "## Table of Contents\n",
    "1. Data Wrangling <br>\n",
    "&emsp; 1a. [Merging the Dataset](#Merge)<br>\n",
    "&emsp; 1b. [Cleaning the Dataset](#Clean)"
   ]
  },
  {
   "cell_type": "markdown",
   "metadata": {},
   "source": [
    "# 1. Data Wrangling Pet Datasets\n",
    "Four pet adoption datasets were found on governmental and adoption websites representing Austin, TX, Louisville, KY, Dallas, TX, and Sonoma, CA. The dataset includes various species of animals and the prime focus of this study is to investigate the different adoption rates in these regions with the purpose of statistically understanding whether regions have preferences to the type of animals that are adopted. Ultimately, we would want to develop a machine learning model to predict the adoption likelihood of potential pets. This can ultimately allow users to effectively allocate resources to endangered animals and improve their chances of adoption. To limit the scope of the project, this would only focus on dog.\n",
    "### Wrangling Approach:\n",
    "The biggest challenge to the data wrangling portion of this project is to effectively merge the datasets. Since there is no universal standard in organizing and collecting data, these datasets were likely collected for the purpose of record keeping instead of data science purposes. Merging the datasets would results in abundance of missing data and important features. The data wrangling process will take a 2 step approach.\n",
    " 1. Merge the datasets\n",
    "         a. universalize the feature names \n",
    "         b. drop unimportant features\n",
    "         c. if necessary feature engineer dataset\n",
    " 2. Clean the merged dataset\n",
    "         a. clean dataset\n",
    "         b. feature engineering"
   ]
  },
  {
   "cell_type": "code",
   "execution_count": 1,
   "metadata": {},
   "outputs": [],
   "source": [
    "import pandas as pd\n",
    "import numpy as np\n",
    "import seaborn as sns\n",
    "from datetime import datetime as dt"
   ]
  },
  {
   "cell_type": "markdown",
   "metadata": {},
   "source": [
    "## 1a. Merging the Dataset\n",
    "<a id='Merge'></a>"
   ]
  },
  {
   "cell_type": "code",
   "execution_count": 2,
   "metadata": {},
   "outputs": [],
   "source": [
    "# import datasets\n",
    "df_Austin = pd.read_csv('../Data/Raw/Austin_Animal_Center_Outcomes.csv', parse_dates = \n",
    "                        ['DateTime', 'MonthYear', 'Date of Birth'])\n",
    "df_Louisville = pd.read_csv('../Data/Raw/Louisville_Kentucky_Animal_IO_Data_5.csv', parse_dates = \n",
    "                            ['IntakeDate', 'DOB', 'OutcomeDate'])\n",
    "df_Dallas = pd.read_csv('../Data/Raw/Dallas_FY_2017_Dallas_Animal_Shelter_Data.csv', parse_dates = \n",
    "                        ['Intake Date', 'Outcome Date'])\n",
    "df_Sonoma = pd.read_csv('../Data/Raw/Sonoma_County_Animal_Shelter_Intake_and_Outcome.csv', parse_dates = \n",
    "                        ['Date Of Birth', 'Intake Date', 'Outcome Date'])"
   ]
  },
  {
   "cell_type": "code",
   "execution_count": 3,
   "metadata": {},
   "outputs": [
    {
     "data": {
      "text/html": [
       "<div>\n",
       "<style scoped>\n",
       "    .dataframe tbody tr th:only-of-type {\n",
       "        vertical-align: middle;\n",
       "    }\n",
       "\n",
       "    .dataframe tbody tr th {\n",
       "        vertical-align: top;\n",
       "    }\n",
       "\n",
       "    .dataframe thead th {\n",
       "        text-align: right;\n",
       "    }\n",
       "</style>\n",
       "<table border=\"1\" class=\"dataframe\">\n",
       "  <thead>\n",
       "    <tr style=\"text-align: right;\">\n",
       "      <th></th>\n",
       "      <th>Animal ID</th>\n",
       "      <th>Name</th>\n",
       "      <th>DateTime</th>\n",
       "      <th>MonthYear</th>\n",
       "      <th>Date of Birth</th>\n",
       "      <th>Outcome Type</th>\n",
       "      <th>Outcome Subtype</th>\n",
       "      <th>Animal Type</th>\n",
       "      <th>Sex upon Outcome</th>\n",
       "      <th>Age upon Outcome</th>\n",
       "      <th>Breed</th>\n",
       "      <th>Color</th>\n",
       "    </tr>\n",
       "  </thead>\n",
       "  <tbody>\n",
       "    <tr>\n",
       "      <th>0</th>\n",
       "      <td>A789976</td>\n",
       "      <td>NaN</td>\n",
       "      <td>2019-03-05 19:07:00</td>\n",
       "      <td>2019-03-05 19:07:00</td>\n",
       "      <td>2018-03-02</td>\n",
       "      <td>Transfer</td>\n",
       "      <td>Snr</td>\n",
       "      <td>Cat</td>\n",
       "      <td>Intact Male</td>\n",
       "      <td>1 year</td>\n",
       "      <td>Domestic Medium Hair Mix</td>\n",
       "      <td>Black</td>\n",
       "    </tr>\n",
       "    <tr>\n",
       "      <th>1</th>\n",
       "      <td>A789980</td>\n",
       "      <td>NaN</td>\n",
       "      <td>2019-03-05 19:07:00</td>\n",
       "      <td>2019-03-05 19:07:00</td>\n",
       "      <td>2018-03-02</td>\n",
       "      <td>Transfer</td>\n",
       "      <td>Snr</td>\n",
       "      <td>Cat</td>\n",
       "      <td>Intact Male</td>\n",
       "      <td>1 year</td>\n",
       "      <td>Domestic Shorthair Mix</td>\n",
       "      <td>Black/White</td>\n",
       "    </tr>\n",
       "    <tr>\n",
       "      <th>2</th>\n",
       "      <td>A789966</td>\n",
       "      <td>NaN</td>\n",
       "      <td>2019-03-05 19:06:00</td>\n",
       "      <td>2019-03-05 19:06:00</td>\n",
       "      <td>2018-03-02</td>\n",
       "      <td>Transfer</td>\n",
       "      <td>Snr</td>\n",
       "      <td>Cat</td>\n",
       "      <td>Unknown</td>\n",
       "      <td>1 year</td>\n",
       "      <td>Domestic Medium Hair Mix</td>\n",
       "      <td>Orange Tabby/White</td>\n",
       "    </tr>\n",
       "    <tr>\n",
       "      <th>3</th>\n",
       "      <td>A789958</td>\n",
       "      <td>NaN</td>\n",
       "      <td>2019-03-05 19:05:00</td>\n",
       "      <td>2019-03-05 19:05:00</td>\n",
       "      <td>2017-03-02</td>\n",
       "      <td>Transfer</td>\n",
       "      <td>Snr</td>\n",
       "      <td>Cat</td>\n",
       "      <td>Intact Male</td>\n",
       "      <td>2 years</td>\n",
       "      <td>Domestic Shorthair Mix</td>\n",
       "      <td>Brown Tabby/White</td>\n",
       "    </tr>\n",
       "    <tr>\n",
       "      <th>4</th>\n",
       "      <td>A789838</td>\n",
       "      <td>*Tansy</td>\n",
       "      <td>2019-03-05 19:01:00</td>\n",
       "      <td>2019-03-05 19:01:00</td>\n",
       "      <td>2018-02-28</td>\n",
       "      <td>Adoption</td>\n",
       "      <td>NaN</td>\n",
       "      <td>Dog</td>\n",
       "      <td>Spayed Female</td>\n",
       "      <td>1 year</td>\n",
       "      <td>Golden Retriever Mix</td>\n",
       "      <td>Cream/White</td>\n",
       "    </tr>\n",
       "  </tbody>\n",
       "</table>\n",
       "</div>"
      ],
      "text/plain": [
       "  Animal ID    Name            DateTime           MonthYear Date of Birth  \\\n",
       "0   A789976     NaN 2019-03-05 19:07:00 2019-03-05 19:07:00    2018-03-02   \n",
       "1   A789980     NaN 2019-03-05 19:07:00 2019-03-05 19:07:00    2018-03-02   \n",
       "2   A789966     NaN 2019-03-05 19:06:00 2019-03-05 19:06:00    2018-03-02   \n",
       "3   A789958     NaN 2019-03-05 19:05:00 2019-03-05 19:05:00    2017-03-02   \n",
       "4   A789838  *Tansy 2019-03-05 19:01:00 2019-03-05 19:01:00    2018-02-28   \n",
       "\n",
       "  Outcome Type Outcome Subtype Animal Type Sex upon Outcome Age upon Outcome  \\\n",
       "0     Transfer             Snr         Cat      Intact Male           1 year   \n",
       "1     Transfer             Snr         Cat      Intact Male           1 year   \n",
       "2     Transfer             Snr         Cat          Unknown           1 year   \n",
       "3     Transfer             Snr         Cat      Intact Male          2 years   \n",
       "4     Adoption             NaN         Dog    Spayed Female           1 year   \n",
       "\n",
       "                      Breed               Color  \n",
       "0  Domestic Medium Hair Mix               Black  \n",
       "1    Domestic Shorthair Mix         Black/White  \n",
       "2  Domestic Medium Hair Mix  Orange Tabby/White  \n",
       "3    Domestic Shorthair Mix   Brown Tabby/White  \n",
       "4      Golden Retriever Mix         Cream/White  "
      ]
     },
     "execution_count": 3,
     "metadata": {},
     "output_type": "execute_result"
    }
   ],
   "source": [
    "# start by investigating Austin, Texas Dataset\n",
    "df_Austin.head()"
   ]
  },
  {
   "cell_type": "code",
   "execution_count": 4,
   "metadata": {},
   "outputs": [
    {
     "name": "stdout",
     "output_type": "stream",
     "text": [
      "<class 'pandas.core.frame.DataFrame'>\n",
      "RangeIndex: 96442 entries, 0 to 96441\n",
      "Data columns (total 12 columns):\n",
      "Animal ID           96442 non-null object\n",
      "Name                66738 non-null object\n",
      "DateTime            96442 non-null datetime64[ns]\n",
      "MonthYear           96442 non-null datetime64[ns]\n",
      "Date of Birth       96442 non-null datetime64[ns]\n",
      "Outcome Type        96435 non-null object\n",
      "Outcome Subtype     43686 non-null object\n",
      "Animal Type         96442 non-null object\n",
      "Sex upon Outcome    96440 non-null object\n",
      "Age upon Outcome    96436 non-null object\n",
      "Breed               96442 non-null object\n",
      "Color               96442 non-null object\n",
      "dtypes: datetime64[ns](3), object(9)\n",
      "memory usage: 8.8+ MB\n"
     ]
    }
   ],
   "source": [
    "df_Austin.info()"
   ]
  },
  {
   "cell_type": "code",
   "execution_count": 5,
   "metadata": {},
   "outputs": [
    {
     "data": {
      "text/plain": [
       "True"
      ]
     },
     "execution_count": 5,
     "metadata": {},
     "output_type": "execute_result"
    }
   ],
   "source": [
    "#check redundancy of 'DateTime' and 'MonthYear' columns\n",
    "(df_Austin.loc[:, 'DateTime'] == df_Austin.loc[:, 'MonthYear']).all()"
   ]
  },
  {
   "cell_type": "code",
   "execution_count": 6,
   "metadata": {},
   "outputs": [],
   "source": [
    "# drop features unrelated to analysis and add location feature for merging dataset\n",
    "df_Austin = df_Austin.drop(columns = ['Animal ID','Name', 'MonthYear', 'Age upon Outcome', 'Outcome Subtype'])\n",
    "df_Austin['Location'] = 'Austin'"
   ]
  },
  {
   "cell_type": "code",
   "execution_count": 7,
   "metadata": {},
   "outputs": [
    {
     "data": {
      "text/html": [
       "<div>\n",
       "<style scoped>\n",
       "    .dataframe tbody tr th:only-of-type {\n",
       "        vertical-align: middle;\n",
       "    }\n",
       "\n",
       "    .dataframe tbody tr th {\n",
       "        vertical-align: top;\n",
       "    }\n",
       "\n",
       "    .dataframe thead th {\n",
       "        text-align: right;\n",
       "    }\n",
       "</style>\n",
       "<table border=\"1\" class=\"dataframe\">\n",
       "  <thead>\n",
       "    <tr style=\"text-align: right;\">\n",
       "      <th></th>\n",
       "      <th>Outcome_Date</th>\n",
       "      <th>DOB</th>\n",
       "      <th>Outcome_Type</th>\n",
       "      <th>Animal_Type</th>\n",
       "      <th>Sex</th>\n",
       "      <th>Breed</th>\n",
       "      <th>Color</th>\n",
       "      <th>Location</th>\n",
       "    </tr>\n",
       "  </thead>\n",
       "  <tbody>\n",
       "    <tr>\n",
       "      <th>0</th>\n",
       "      <td>2019-03-05 19:07:00</td>\n",
       "      <td>2018-03-02</td>\n",
       "      <td>Transfer</td>\n",
       "      <td>Cat</td>\n",
       "      <td>Intact Male</td>\n",
       "      <td>Domestic Medium Hair Mix</td>\n",
       "      <td>Black</td>\n",
       "      <td>Austin</td>\n",
       "    </tr>\n",
       "    <tr>\n",
       "      <th>1</th>\n",
       "      <td>2019-03-05 19:07:00</td>\n",
       "      <td>2018-03-02</td>\n",
       "      <td>Transfer</td>\n",
       "      <td>Cat</td>\n",
       "      <td>Intact Male</td>\n",
       "      <td>Domestic Shorthair Mix</td>\n",
       "      <td>Black/White</td>\n",
       "      <td>Austin</td>\n",
       "    </tr>\n",
       "    <tr>\n",
       "      <th>2</th>\n",
       "      <td>2019-03-05 19:06:00</td>\n",
       "      <td>2018-03-02</td>\n",
       "      <td>Transfer</td>\n",
       "      <td>Cat</td>\n",
       "      <td>Unknown</td>\n",
       "      <td>Domestic Medium Hair Mix</td>\n",
       "      <td>Orange Tabby/White</td>\n",
       "      <td>Austin</td>\n",
       "    </tr>\n",
       "    <tr>\n",
       "      <th>3</th>\n",
       "      <td>2019-03-05 19:05:00</td>\n",
       "      <td>2017-03-02</td>\n",
       "      <td>Transfer</td>\n",
       "      <td>Cat</td>\n",
       "      <td>Intact Male</td>\n",
       "      <td>Domestic Shorthair Mix</td>\n",
       "      <td>Brown Tabby/White</td>\n",
       "      <td>Austin</td>\n",
       "    </tr>\n",
       "    <tr>\n",
       "      <th>4</th>\n",
       "      <td>2019-03-05 19:01:00</td>\n",
       "      <td>2018-02-28</td>\n",
       "      <td>Adoption</td>\n",
       "      <td>Dog</td>\n",
       "      <td>Spayed Female</td>\n",
       "      <td>Golden Retriever Mix</td>\n",
       "      <td>Cream/White</td>\n",
       "      <td>Austin</td>\n",
       "    </tr>\n",
       "  </tbody>\n",
       "</table>\n",
       "</div>"
      ],
      "text/plain": [
       "         Outcome_Date        DOB Outcome_Type Animal_Type            Sex  \\\n",
       "0 2019-03-05 19:07:00 2018-03-02     Transfer         Cat    Intact Male   \n",
       "1 2019-03-05 19:07:00 2018-03-02     Transfer         Cat    Intact Male   \n",
       "2 2019-03-05 19:06:00 2018-03-02     Transfer         Cat        Unknown   \n",
       "3 2019-03-05 19:05:00 2017-03-02     Transfer         Cat    Intact Male   \n",
       "4 2019-03-05 19:01:00 2018-02-28     Adoption         Dog  Spayed Female   \n",
       "\n",
       "                      Breed               Color Location  \n",
       "0  Domestic Medium Hair Mix               Black   Austin  \n",
       "1    Domestic Shorthair Mix         Black/White   Austin  \n",
       "2  Domestic Medium Hair Mix  Orange Tabby/White   Austin  \n",
       "3    Domestic Shorthair Mix   Brown Tabby/White   Austin  \n",
       "4      Golden Retriever Mix         Cream/White   Austin  "
      ]
     },
     "execution_count": 7,
     "metadata": {},
     "output_type": "execute_result"
    }
   ],
   "source": [
    "#Rename Columns and resulting dataframe\n",
    "df_Austin.columns = ['Outcome_Date', 'DOB', 'Outcome_Type', 'Animal_Type',\n",
    "                    'Sex', 'Breed', 'Color', 'Location']\n",
    "df_Austin.head()"
   ]
  },
  {
   "cell_type": "code",
   "execution_count": 8,
   "metadata": {},
   "outputs": [
    {
     "data": {
      "text/html": [
       "<div>\n",
       "<style scoped>\n",
       "    .dataframe tbody tr th:only-of-type {\n",
       "        vertical-align: middle;\n",
       "    }\n",
       "\n",
       "    .dataframe tbody tr th {\n",
       "        vertical-align: top;\n",
       "    }\n",
       "\n",
       "    .dataframe thead th {\n",
       "        text-align: right;\n",
       "    }\n",
       "</style>\n",
       "<table border=\"1\" class=\"dataframe\">\n",
       "  <thead>\n",
       "    <tr style=\"text-align: right;\">\n",
       "      <th></th>\n",
       "      <th>AnimalID</th>\n",
       "      <th>AnimalType</th>\n",
       "      <th>IntakeDate</th>\n",
       "      <th>IntakeType</th>\n",
       "      <th>IntakeSubtype</th>\n",
       "      <th>PrimaryColor</th>\n",
       "      <th>PrimaryBreed</th>\n",
       "      <th>SecondaryBreed</th>\n",
       "      <th>Gender</th>\n",
       "      <th>SecondaryColor</th>\n",
       "      <th>...</th>\n",
       "      <th>IntakeInternalStatus</th>\n",
       "      <th>IntakeAsilomarStatus</th>\n",
       "      <th>ReproductiveStatusAtIntake</th>\n",
       "      <th>OutcomeDate</th>\n",
       "      <th>OutcomeType</th>\n",
       "      <th>OutcomeSubtype</th>\n",
       "      <th>OutcomeReason</th>\n",
       "      <th>OutcomeInternalStatus</th>\n",
       "      <th>OutcomeAsilomarStatus</th>\n",
       "      <th>ReproductiveStatusAtOutcome</th>\n",
       "    </tr>\n",
       "  </thead>\n",
       "  <tbody>\n",
       "    <tr>\n",
       "      <th>0</th>\n",
       "      <td>A366370</td>\n",
       "      <td>CAT</td>\n",
       "      <td>2008-11-07 10:50:00</td>\n",
       "      <td>STRAY</td>\n",
       "      <td>OTC</td>\n",
       "      <td>WHITE</td>\n",
       "      <td>DOMESTIC SHORTHAIR</td>\n",
       "      <td>NaN</td>\n",
       "      <td>NEUTERED MALE</td>\n",
       "      <td>BROWN</td>\n",
       "      <td>...</td>\n",
       "      <td>FEARFUL</td>\n",
       "      <td>HEALTHY</td>\n",
       "      <td>ALTERED</td>\n",
       "      <td>2008-11-12 15:46:00</td>\n",
       "      <td>EUTH</td>\n",
       "      <td>FERAL</td>\n",
       "      <td>NaN</td>\n",
       "      <td>NaN</td>\n",
       "      <td>UNHEALTHY/UNTREATABLE</td>\n",
       "      <td>ALTERED</td>\n",
       "    </tr>\n",
       "    <tr>\n",
       "      <th>1</th>\n",
       "      <td>A366531</td>\n",
       "      <td>CAT</td>\n",
       "      <td>2008-11-10 10:20:00</td>\n",
       "      <td>STRAY</td>\n",
       "      <td>OTC</td>\n",
       "      <td>BLACK</td>\n",
       "      <td>DOMESTIC SHORTHAIR</td>\n",
       "      <td>DOMESTIC SHORTHAIR</td>\n",
       "      <td>UNKNOWN</td>\n",
       "      <td>NaN</td>\n",
       "      <td>...</td>\n",
       "      <td>NORMAL</td>\n",
       "      <td>HEALTHY</td>\n",
       "      <td>UNKNOWN</td>\n",
       "      <td>2008-11-19 20:10:00</td>\n",
       "      <td>EUTH</td>\n",
       "      <td>CONTAG DIS</td>\n",
       "      <td>NaN</td>\n",
       "      <td>SICK</td>\n",
       "      <td>HEALTHY</td>\n",
       "      <td>UNKNOWN</td>\n",
       "    </tr>\n",
       "    <tr>\n",
       "      <th>2</th>\n",
       "      <td>A532367</td>\n",
       "      <td>BIRD</td>\n",
       "      <td>2014-07-23 23:21:00</td>\n",
       "      <td>CONFISCATE</td>\n",
       "      <td>CRUELTY</td>\n",
       "      <td>RED</td>\n",
       "      <td>CHICKEN</td>\n",
       "      <td>NaN</td>\n",
       "      <td>MALE</td>\n",
       "      <td>BLACK</td>\n",
       "      <td>...</td>\n",
       "      <td>OTHER</td>\n",
       "      <td>HEALTHY</td>\n",
       "      <td>FERTILE</td>\n",
       "      <td>2014-11-05 15:49:00</td>\n",
       "      <td>TRANSFER</td>\n",
       "      <td>NaN</td>\n",
       "      <td>NaN</td>\n",
       "      <td>NaN</td>\n",
       "      <td>HEALTHY</td>\n",
       "      <td>FERTILE</td>\n",
       "    </tr>\n",
       "    <tr>\n",
       "      <th>3</th>\n",
       "      <td>A532474</td>\n",
       "      <td>OTHER</td>\n",
       "      <td>2014-07-24 18:29:00</td>\n",
       "      <td>ET REQUEST</td>\n",
       "      <td>NaN</td>\n",
       "      <td>BROWN</td>\n",
       "      <td>BAT</td>\n",
       "      <td>NaN</td>\n",
       "      <td>UNKNOWN</td>\n",
       "      <td>NaN</td>\n",
       "      <td>...</td>\n",
       "      <td>OTHER</td>\n",
       "      <td>HEALTHY</td>\n",
       "      <td>UNKNOWN</td>\n",
       "      <td>2014-07-24 23:59:00</td>\n",
       "      <td>EUTH</td>\n",
       "      <td>MEDICAL</td>\n",
       "      <td>NaN</td>\n",
       "      <td>OTHER</td>\n",
       "      <td>HEALTHY</td>\n",
       "      <td>UNKNOWN</td>\n",
       "    </tr>\n",
       "    <tr>\n",
       "      <th>4</th>\n",
       "      <td>A281756</td>\n",
       "      <td>DOG</td>\n",
       "      <td>2006-09-11 18:10:00</td>\n",
       "      <td>OWNER SUR</td>\n",
       "      <td>OTC</td>\n",
       "      <td>WHITE</td>\n",
       "      <td>PIT BULL TERRIER</td>\n",
       "      <td>NaN</td>\n",
       "      <td>MALE</td>\n",
       "      <td>BROWN</td>\n",
       "      <td>...</td>\n",
       "      <td>NORMAL</td>\n",
       "      <td>HEALTHY</td>\n",
       "      <td>FERTILE</td>\n",
       "      <td>2006-09-12 13:44:00</td>\n",
       "      <td>EUTH</td>\n",
       "      <td>TIME/SPACE</td>\n",
       "      <td>NaN</td>\n",
       "      <td>NaN</td>\n",
       "      <td>HEALTHY</td>\n",
       "      <td>FERTILE</td>\n",
       "    </tr>\n",
       "  </tbody>\n",
       "</table>\n",
       "<p>5 rows × 22 columns</p>\n",
       "</div>"
      ],
      "text/plain": [
       "  AnimalID AnimalType          IntakeDate  IntakeType IntakeSubtype  \\\n",
       "0  A366370        CAT 2008-11-07 10:50:00       STRAY           OTC   \n",
       "1  A366531        CAT 2008-11-10 10:20:00       STRAY           OTC   \n",
       "2  A532367       BIRD 2014-07-23 23:21:00  CONFISCATE       CRUELTY   \n",
       "3  A532474      OTHER 2014-07-24 18:29:00  ET REQUEST           NaN   \n",
       "4  A281756        DOG 2006-09-11 18:10:00   OWNER SUR           OTC   \n",
       "\n",
       "  PrimaryColor        PrimaryBreed      SecondaryBreed         Gender  \\\n",
       "0        WHITE  DOMESTIC SHORTHAIR                 NaN  NEUTERED MALE   \n",
       "1        BLACK  DOMESTIC SHORTHAIR  DOMESTIC SHORTHAIR        UNKNOWN   \n",
       "2          RED             CHICKEN                 NaN           MALE   \n",
       "3        BROWN                 BAT                 NaN        UNKNOWN   \n",
       "4        WHITE    PIT BULL TERRIER                 NaN           MALE   \n",
       "\n",
       "  SecondaryColor  ... IntakeInternalStatus IntakeAsilomarStatus  \\\n",
       "0          BROWN  ...              FEARFUL              HEALTHY   \n",
       "1            NaN  ...               NORMAL              HEALTHY   \n",
       "2          BLACK  ...                OTHER              HEALTHY   \n",
       "3            NaN  ...                OTHER              HEALTHY   \n",
       "4          BROWN  ...               NORMAL              HEALTHY   \n",
       "\n",
       "  ReproductiveStatusAtIntake         OutcomeDate OutcomeType OutcomeSubtype  \\\n",
       "0                    ALTERED 2008-11-12 15:46:00        EUTH          FERAL   \n",
       "1                    UNKNOWN 2008-11-19 20:10:00        EUTH     CONTAG DIS   \n",
       "2                    FERTILE 2014-11-05 15:49:00    TRANSFER            NaN   \n",
       "3                    UNKNOWN 2014-07-24 23:59:00        EUTH        MEDICAL   \n",
       "4                    FERTILE 2006-09-12 13:44:00        EUTH     TIME/SPACE   \n",
       "\n",
       "  OutcomeReason OutcomeInternalStatus  OutcomeAsilomarStatus  \\\n",
       "0           NaN                   NaN  UNHEALTHY/UNTREATABLE   \n",
       "1           NaN                  SICK                HEALTHY   \n",
       "2           NaN                   NaN                HEALTHY   \n",
       "3           NaN                 OTHER                HEALTHY   \n",
       "4           NaN                   NaN                HEALTHY   \n",
       "\n",
       "  ReproductiveStatusAtOutcome  \n",
       "0                     ALTERED  \n",
       "1                     UNKNOWN  \n",
       "2                     FERTILE  \n",
       "3                     UNKNOWN  \n",
       "4                     FERTILE  \n",
       "\n",
       "[5 rows x 22 columns]"
      ]
     },
     "execution_count": 8,
     "metadata": {},
     "output_type": "execute_result"
    }
   ],
   "source": [
    "# Investigate Louisville Dataset\n",
    "df_Louisville.head()"
   ]
  },
  {
   "cell_type": "code",
   "execution_count": 9,
   "metadata": {},
   "outputs": [
    {
     "name": "stdout",
     "output_type": "stream",
     "text": [
      "<class 'pandas.core.frame.DataFrame'>\n",
      "RangeIndex: 150842 entries, 0 to 150841\n",
      "Data columns (total 22 columns):\n",
      "AnimalID                       150842 non-null object\n",
      "AnimalType                     150842 non-null object\n",
      "IntakeDate                     150842 non-null datetime64[ns]\n",
      "IntakeType                     150842 non-null object\n",
      "IntakeSubtype                  146286 non-null object\n",
      "PrimaryColor                   150825 non-null object\n",
      "PrimaryBreed                   150842 non-null object\n",
      "SecondaryBreed                 40532 non-null object\n",
      "Gender                         150842 non-null object\n",
      "SecondaryColor                 80579 non-null object\n",
      "DOB                            94618 non-null datetime64[ns]\n",
      "IntakeReason                   34805 non-null object\n",
      "IntakeInternalStatus           150842 non-null object\n",
      "IntakeAsilomarStatus           150842 non-null object\n",
      "ReproductiveStatusAtIntake     150842 non-null object\n",
      "OutcomeDate                    150640 non-null datetime64[ns]\n",
      "OutcomeType                    150390 non-null object\n",
      "OutcomeSubtype                 123860 non-null object\n",
      "OutcomeReason                  0 non-null float64\n",
      "OutcomeInternalStatus          49721 non-null object\n",
      "OutcomeAsilomarStatus          150640 non-null object\n",
      "ReproductiveStatusAtOutcome    150640 non-null object\n",
      "dtypes: datetime64[ns](3), float64(1), object(18)\n",
      "memory usage: 25.3+ MB\n"
     ]
    }
   ],
   "source": [
    "df_Louisville.info()"
   ]
  },
  {
   "cell_type": "code",
   "execution_count": 10,
   "metadata": {},
   "outputs": [],
   "source": [
    "#remove unnecessary columns and add location column\n",
    "df_Louisville = df_Louisville.drop(columns = ['AnimalID','IntakeReason','IntakeAsilomarStatus', \n",
    "                                              'ReproductiveStatusAtIntake','OutcomeSubtype', 'OutcomeReason', \n",
    "                                              'OutcomeInternalStatus',\n",
    "                                              'ReproductiveStatusAtOutcome'])\n",
    "df_Louisville['Location'] = 'Louisville'"
   ]
  },
  {
   "cell_type": "code",
   "execution_count": 11,
   "metadata": {},
   "outputs": [],
   "source": [
    "#rename column\n",
    "df_Louisville.columns = ['Animal_Type', 'Intake_Date', 'Intake_Type', 'Intake_Subtype', 'Primary_Color',\n",
    "                         'Breed', 'Secondary_Breed', 'Sex', 'Secondary_Color', 'DOB', 'Intake_Status','Outcome_Date', \n",
    "                         'Outcome_Type', 'Health', 'Location']"
   ]
  },
  {
   "cell_type": "code",
   "execution_count": 12,
   "metadata": {},
   "outputs": [],
   "source": [
    "#merge color columns to single column\n",
    "df_Louisville['scolor'] = '/' + df_Louisville[df_Louisville['Secondary_Color'] != '']['Secondary_Color']\n",
    "df_Louisville['scolor'] = df_Louisville['scolor'].fillna('')\n",
    "df_Louisville['Color'] = df_Louisville.loc[:, 'Primary_Color'] + df_Louisville.loc[:, 'scolor']\n",
    "df_Louisville = df_Louisville.drop(columns = ['Primary_Color', 'Secondary_Color', 'scolor'])"
   ]
  },
  {
   "cell_type": "code",
   "execution_count": 13,
   "metadata": {},
   "outputs": [],
   "source": [
    "#merge breed columns to single column\n",
    "df_Louisville['mix_breed'] = '/' + df_Louisville[df_Louisville['Secondary_Breed'] != '']['Secondary_Breed']\n",
    "df_Louisville['mix_breed'] = df_Louisville['mix_breed'].fillna('')\n",
    "df_Louisville['Breed'] = df_Louisville.loc[:, 'Breed'] + df_Louisville.loc[:, 'mix_breed']\n",
    "df_Louisville = df_Louisville.drop(columns = ['Secondary_Breed', 'mix_breed'])"
   ]
  },
  {
   "cell_type": "code",
   "execution_count": 14,
   "metadata": {},
   "outputs": [
    {
     "data": {
      "text/html": [
       "<div>\n",
       "<style scoped>\n",
       "    .dataframe tbody tr th:only-of-type {\n",
       "        vertical-align: middle;\n",
       "    }\n",
       "\n",
       "    .dataframe tbody tr th {\n",
       "        vertical-align: top;\n",
       "    }\n",
       "\n",
       "    .dataframe thead th {\n",
       "        text-align: right;\n",
       "    }\n",
       "</style>\n",
       "<table border=\"1\" class=\"dataframe\">\n",
       "  <thead>\n",
       "    <tr style=\"text-align: right;\">\n",
       "      <th></th>\n",
       "      <th>Animal_Type</th>\n",
       "      <th>Intake_Date</th>\n",
       "      <th>Intake_Type</th>\n",
       "      <th>Intake_Subtype</th>\n",
       "      <th>Breed</th>\n",
       "      <th>Sex</th>\n",
       "      <th>DOB</th>\n",
       "      <th>Intake_Status</th>\n",
       "      <th>Outcome_Date</th>\n",
       "      <th>Outcome_Type</th>\n",
       "      <th>Health</th>\n",
       "      <th>Location</th>\n",
       "      <th>Color</th>\n",
       "    </tr>\n",
       "  </thead>\n",
       "  <tbody>\n",
       "    <tr>\n",
       "      <th>0</th>\n",
       "      <td>CAT</td>\n",
       "      <td>2008-11-07 10:50:00</td>\n",
       "      <td>STRAY</td>\n",
       "      <td>OTC</td>\n",
       "      <td>DOMESTIC SHORTHAIR</td>\n",
       "      <td>NEUTERED MALE</td>\n",
       "      <td>NaT</td>\n",
       "      <td>FEARFUL</td>\n",
       "      <td>2008-11-12 15:46:00</td>\n",
       "      <td>EUTH</td>\n",
       "      <td>UNHEALTHY/UNTREATABLE</td>\n",
       "      <td>Louisville</td>\n",
       "      <td>WHITE/BROWN</td>\n",
       "    </tr>\n",
       "    <tr>\n",
       "      <th>1</th>\n",
       "      <td>CAT</td>\n",
       "      <td>2008-11-10 10:20:00</td>\n",
       "      <td>STRAY</td>\n",
       "      <td>OTC</td>\n",
       "      <td>DOMESTIC SHORTHAIR/DOMESTIC SHORTHAIR</td>\n",
       "      <td>UNKNOWN</td>\n",
       "      <td>NaT</td>\n",
       "      <td>NORMAL</td>\n",
       "      <td>2008-11-19 20:10:00</td>\n",
       "      <td>EUTH</td>\n",
       "      <td>HEALTHY</td>\n",
       "      <td>Louisville</td>\n",
       "      <td>BLACK</td>\n",
       "    </tr>\n",
       "    <tr>\n",
       "      <th>2</th>\n",
       "      <td>BIRD</td>\n",
       "      <td>2014-07-23 23:21:00</td>\n",
       "      <td>CONFISCATE</td>\n",
       "      <td>CRUELTY</td>\n",
       "      <td>CHICKEN</td>\n",
       "      <td>MALE</td>\n",
       "      <td>NaT</td>\n",
       "      <td>OTHER</td>\n",
       "      <td>2014-11-05 15:49:00</td>\n",
       "      <td>TRANSFER</td>\n",
       "      <td>HEALTHY</td>\n",
       "      <td>Louisville</td>\n",
       "      <td>RED/BLACK</td>\n",
       "    </tr>\n",
       "    <tr>\n",
       "      <th>3</th>\n",
       "      <td>OTHER</td>\n",
       "      <td>2014-07-24 18:29:00</td>\n",
       "      <td>ET REQUEST</td>\n",
       "      <td>NaN</td>\n",
       "      <td>BAT</td>\n",
       "      <td>UNKNOWN</td>\n",
       "      <td>NaT</td>\n",
       "      <td>OTHER</td>\n",
       "      <td>2014-07-24 23:59:00</td>\n",
       "      <td>EUTH</td>\n",
       "      <td>HEALTHY</td>\n",
       "      <td>Louisville</td>\n",
       "      <td>BROWN</td>\n",
       "    </tr>\n",
       "    <tr>\n",
       "      <th>4</th>\n",
       "      <td>DOG</td>\n",
       "      <td>2006-09-11 18:10:00</td>\n",
       "      <td>OWNER SUR</td>\n",
       "      <td>OTC</td>\n",
       "      <td>PIT BULL TERRIER</td>\n",
       "      <td>MALE</td>\n",
       "      <td>2005-09-11</td>\n",
       "      <td>NORMAL</td>\n",
       "      <td>2006-09-12 13:44:00</td>\n",
       "      <td>EUTH</td>\n",
       "      <td>HEALTHY</td>\n",
       "      <td>Louisville</td>\n",
       "      <td>WHITE/BROWN</td>\n",
       "    </tr>\n",
       "  </tbody>\n",
       "</table>\n",
       "</div>"
      ],
      "text/plain": [
       "  Animal_Type         Intake_Date Intake_Type Intake_Subtype  \\\n",
       "0         CAT 2008-11-07 10:50:00       STRAY            OTC   \n",
       "1         CAT 2008-11-10 10:20:00       STRAY            OTC   \n",
       "2        BIRD 2014-07-23 23:21:00  CONFISCATE        CRUELTY   \n",
       "3       OTHER 2014-07-24 18:29:00  ET REQUEST            NaN   \n",
       "4         DOG 2006-09-11 18:10:00   OWNER SUR            OTC   \n",
       "\n",
       "                                   Breed            Sex        DOB  \\\n",
       "0                     DOMESTIC SHORTHAIR  NEUTERED MALE        NaT   \n",
       "1  DOMESTIC SHORTHAIR/DOMESTIC SHORTHAIR        UNKNOWN        NaT   \n",
       "2                                CHICKEN           MALE        NaT   \n",
       "3                                    BAT        UNKNOWN        NaT   \n",
       "4                       PIT BULL TERRIER           MALE 2005-09-11   \n",
       "\n",
       "  Intake_Status        Outcome_Date Outcome_Type                 Health  \\\n",
       "0       FEARFUL 2008-11-12 15:46:00         EUTH  UNHEALTHY/UNTREATABLE   \n",
       "1        NORMAL 2008-11-19 20:10:00         EUTH                HEALTHY   \n",
       "2         OTHER 2014-11-05 15:49:00     TRANSFER                HEALTHY   \n",
       "3         OTHER 2014-07-24 23:59:00         EUTH                HEALTHY   \n",
       "4        NORMAL 2006-09-12 13:44:00         EUTH                HEALTHY   \n",
       "\n",
       "     Location        Color  \n",
       "0  Louisville  WHITE/BROWN  \n",
       "1  Louisville        BLACK  \n",
       "2  Louisville    RED/BLACK  \n",
       "3  Louisville        BROWN  \n",
       "4  Louisville  WHITE/BROWN  "
      ]
     },
     "execution_count": 14,
     "metadata": {},
     "output_type": "execute_result"
    }
   ],
   "source": [
    "df_Louisville.head()"
   ]
  },
  {
   "cell_type": "code",
   "execution_count": 15,
   "metadata": {},
   "outputs": [
    {
     "data": {
      "text/html": [
       "<div>\n",
       "<style scoped>\n",
       "    .dataframe tbody tr th:only-of-type {\n",
       "        vertical-align: middle;\n",
       "    }\n",
       "\n",
       "    .dataframe tbody tr th {\n",
       "        vertical-align: top;\n",
       "    }\n",
       "\n",
       "    .dataframe thead th {\n",
       "        text-align: right;\n",
       "    }\n",
       "</style>\n",
       "<table border=\"1\" class=\"dataframe\">\n",
       "  <thead>\n",
       "    <tr style=\"text-align: right;\">\n",
       "      <th></th>\n",
       "      <th>Animal ID</th>\n",
       "      <th>Animal Type</th>\n",
       "      <th>Animal Breed</th>\n",
       "      <th>Kennel Number</th>\n",
       "      <th>Kennel Status</th>\n",
       "      <th>Tag Type</th>\n",
       "      <th>Activity Number</th>\n",
       "      <th>Activity Sequence</th>\n",
       "      <th>Source ID</th>\n",
       "      <th>Census Tract</th>\n",
       "      <th>...</th>\n",
       "      <th>Outcome Time</th>\n",
       "      <th>Receipt Number</th>\n",
       "      <th>Impound Number</th>\n",
       "      <th>Service Request Number</th>\n",
       "      <th>Outcome Condition</th>\n",
       "      <th>Chip Status</th>\n",
       "      <th>Animal Origin</th>\n",
       "      <th>Additional Information</th>\n",
       "      <th>Month</th>\n",
       "      <th>Year</th>\n",
       "    </tr>\n",
       "  </thead>\n",
       "  <tbody>\n",
       "    <tr>\n",
       "      <th>0</th>\n",
       "      <td>A0989676</td>\n",
       "      <td>CAT</td>\n",
       "      <td>DOMESTIC SH</td>\n",
       "      <td>CC 29</td>\n",
       "      <td>IMPOUNDED</td>\n",
       "      <td>NaN</td>\n",
       "      <td>NaN</td>\n",
       "      <td>1</td>\n",
       "      <td>P0646273</td>\n",
       "      <td>5902</td>\n",
       "      <td>...</td>\n",
       "      <td>12:00.0</td>\n",
       "      <td>R17-500577</td>\n",
       "      <td>K17-377075</td>\n",
       "      <td>NaN</td>\n",
       "      <td>TREATABLE REHABILITABLE NON-CONTAGIOUS</td>\n",
       "      <td>SCAN NO CHIP</td>\n",
       "      <td>OVER THE COUNTER</td>\n",
       "      <td>NaN</td>\n",
       "      <td>APR.2017</td>\n",
       "      <td>FY2017</td>\n",
       "    </tr>\n",
       "    <tr>\n",
       "      <th>1</th>\n",
       "      <td>A1008559</td>\n",
       "      <td>DOG</td>\n",
       "      <td>GERM SHEPHERD</td>\n",
       "      <td>DC 05</td>\n",
       "      <td>UNAVAILABLE</td>\n",
       "      <td>NaN</td>\n",
       "      <td>A17-075580</td>\n",
       "      <td>1</td>\n",
       "      <td>P0000000</td>\n",
       "      <td>5600</td>\n",
       "      <td>...</td>\n",
       "      <td>06:00.0</td>\n",
       "      <td>R17-516477</td>\n",
       "      <td>K17-393870</td>\n",
       "      <td>NaN</td>\n",
       "      <td>TREATABLE REHABILITABLE NON-CONTAGIOUS</td>\n",
       "      <td>SCAN NO CHIP</td>\n",
       "      <td>FIELD</td>\n",
       "      <td>ADOPTED:SX:09/29/17</td>\n",
       "      <td>SEP.2017</td>\n",
       "      <td>FY2017</td>\n",
       "    </tr>\n",
       "    <tr>\n",
       "      <th>2</th>\n",
       "      <td>A1002409</td>\n",
       "      <td>CAT</td>\n",
       "      <td>DOMESTIC SH</td>\n",
       "      <td>LFC 055</td>\n",
       "      <td>IMPOUNDED</td>\n",
       "      <td>NaN</td>\n",
       "      <td>NaN</td>\n",
       "      <td>1</td>\n",
       "      <td>P0795984</td>\n",
       "      <td>11103</td>\n",
       "      <td>...</td>\n",
       "      <td>45:00.0</td>\n",
       "      <td>NaN</td>\n",
       "      <td>K17-387910</td>\n",
       "      <td>NaN</td>\n",
       "      <td>UNHEALTHY UNTREATABLE NON-CONTAGIOUS</td>\n",
       "      <td>UNABLE TO SCAN</td>\n",
       "      <td>OVER THE COUNTER</td>\n",
       "      <td>NaN</td>\n",
       "      <td>JUL.2017</td>\n",
       "      <td>FY2017</td>\n",
       "    </tr>\n",
       "    <tr>\n",
       "      <th>3</th>\n",
       "      <td>A0962054</td>\n",
       "      <td>DOG</td>\n",
       "      <td>LABRADOR RETR</td>\n",
       "      <td>PAWS 02</td>\n",
       "      <td>AVAILABLE</td>\n",
       "      <td>NaN</td>\n",
       "      <td>A16-036430</td>\n",
       "      <td>1</td>\n",
       "      <td>P0000000</td>\n",
       "      <td>17102</td>\n",
       "      <td>...</td>\n",
       "      <td>54:00.0</td>\n",
       "      <td>R16-477153</td>\n",
       "      <td>K16-362868</td>\n",
       "      <td>NaN</td>\n",
       "      <td>TREATABLE REHABILITABLE NON-CONTAGIOUS</td>\n",
       "      <td>SCAN NO CHIP</td>\n",
       "      <td>FIELD</td>\n",
       "      <td>FREE ADOPTION11/19/16</td>\n",
       "      <td>OCT.2016</td>\n",
       "      <td>FY2017</td>\n",
       "    </tr>\n",
       "    <tr>\n",
       "      <th>4</th>\n",
       "      <td>A0960676</td>\n",
       "      <td>DOG</td>\n",
       "      <td>YORKSHIRE TERR</td>\n",
       "      <td>LOST</td>\n",
       "      <td>LOST REPORT</td>\n",
       "      <td>NaN</td>\n",
       "      <td>NaN</td>\n",
       "      <td>1</td>\n",
       "      <td>P0756878</td>\n",
       "      <td>75104</td>\n",
       "      <td>...</td>\n",
       "      <td>32:00.0</td>\n",
       "      <td>NaN</td>\n",
       "      <td>K16-362095</td>\n",
       "      <td>NaN</td>\n",
       "      <td>NaN</td>\n",
       "      <td>UNABLE TO SCAN</td>\n",
       "      <td>OVER THE COUNTER</td>\n",
       "      <td>NaN</td>\n",
       "      <td>OCT.2016</td>\n",
       "      <td>FY2017</td>\n",
       "    </tr>\n",
       "  </tbody>\n",
       "</table>\n",
       "<p>5 rows × 32 columns</p>\n",
       "</div>"
      ],
      "text/plain": [
       "  Animal ID Animal Type    Animal Breed Kennel Number Kennel Status  Tag Type  \\\n",
       "0  A0989676         CAT     DOMESTIC SH         CC 29     IMPOUNDED       NaN   \n",
       "1  A1008559         DOG   GERM SHEPHERD         DC 05   UNAVAILABLE       NaN   \n",
       "2  A1002409         CAT     DOMESTIC SH       LFC 055     IMPOUNDED       NaN   \n",
       "3  A0962054         DOG   LABRADOR RETR       PAWS 02     AVAILABLE       NaN   \n",
       "4  A0960676         DOG  YORKSHIRE TERR          LOST   LOST REPORT       NaN   \n",
       "\n",
       "  Activity Number  Activity Sequence Source ID Census Tract  ... Outcome Time  \\\n",
       "0             NaN                  1  P0646273         5902  ...      12:00.0   \n",
       "1      A17-075580                  1  P0000000         5600  ...      06:00.0   \n",
       "2             NaN                  1  P0795984        11103  ...      45:00.0   \n",
       "3      A16-036430                  1  P0000000        17102  ...      54:00.0   \n",
       "4             NaN                  1  P0756878        75104  ...      32:00.0   \n",
       "\n",
       "  Receipt Number Impound Number Service Request Number  \\\n",
       "0     R17-500577     K17-377075                    NaN   \n",
       "1     R17-516477     K17-393870                    NaN   \n",
       "2            NaN     K17-387910                    NaN   \n",
       "3     R16-477153     K16-362868                    NaN   \n",
       "4            NaN     K16-362095                    NaN   \n",
       "\n",
       "                        Outcome Condition     Chip Status     Animal Origin  \\\n",
       "0  TREATABLE REHABILITABLE NON-CONTAGIOUS    SCAN NO CHIP  OVER THE COUNTER   \n",
       "1  TREATABLE REHABILITABLE NON-CONTAGIOUS    SCAN NO CHIP             FIELD   \n",
       "2    UNHEALTHY UNTREATABLE NON-CONTAGIOUS  UNABLE TO SCAN  OVER THE COUNTER   \n",
       "3  TREATABLE REHABILITABLE NON-CONTAGIOUS    SCAN NO CHIP             FIELD   \n",
       "4                                     NaN  UNABLE TO SCAN  OVER THE COUNTER   \n",
       "\n",
       "  Additional Information     Month    Year  \n",
       "0                    NaN  APR.2017  FY2017  \n",
       "1    ADOPTED:SX:09/29/17  SEP.2017  FY2017  \n",
       "2                    NaN  JUL.2017  FY2017  \n",
       "3  FREE ADOPTION11/19/16  OCT.2016  FY2017  \n",
       "4                    NaN  OCT.2016  FY2017  \n",
       "\n",
       "[5 rows x 32 columns]"
      ]
     },
     "execution_count": 15,
     "metadata": {},
     "output_type": "execute_result"
    }
   ],
   "source": [
    "# Investigate Dallas Dataset\n",
    "df_Dallas.head()"
   ]
  },
  {
   "cell_type": "code",
   "execution_count": 16,
   "metadata": {},
   "outputs": [
    {
     "name": "stdout",
     "output_type": "stream",
     "text": [
      "<class 'pandas.core.frame.DataFrame'>\n",
      "RangeIndex: 34819 entries, 0 to 34818\n",
      "Data columns (total 32 columns):\n",
      "Animal ID                 34819 non-null object\n",
      "Animal Type               34819 non-null object\n",
      "Animal Breed              34819 non-null object\n",
      "Kennel Number             34819 non-null object\n",
      "Kennel Status             34819 non-null object\n",
      "Tag Type                  0 non-null float64\n",
      "Activity Number           17969 non-null object\n",
      "Activity Sequence         34819 non-null int64\n",
      "Source ID                 34819 non-null object\n",
      "Census Tract              34680 non-null object\n",
      "Council District          34680 non-null object\n",
      "Intake Type               34819 non-null object\n",
      "Intake Subtype            33409 non-null object\n",
      "Reason                    6210 non-null object\n",
      "Staff ID                  34819 non-null object\n",
      "Intake Date               34819 non-null datetime64[ns]\n",
      "Intake Time               34819 non-null object\n",
      "Due Out                   34819 non-null object\n",
      "Intake Condition          34819 non-null object\n",
      "Hold Request              17267 non-null object\n",
      "Outcome Type              34819 non-null object\n",
      "Outcome Date              34587 non-null datetime64[ns]\n",
      "Outcome Time              34819 non-null object\n",
      "Receipt Number            16169 non-null object\n",
      "Impound Number            34819 non-null object\n",
      "Service Request Number    268 non-null object\n",
      "Outcome Condition         33694 non-null object\n",
      "Chip Status               34819 non-null object\n",
      "Animal Origin             34811 non-null object\n",
      "Additional Information    19612 non-null object\n",
      "Month                     34819 non-null object\n",
      "Year                      34819 non-null object\n",
      "dtypes: datetime64[ns](2), float64(1), int64(1), object(28)\n",
      "memory usage: 8.5+ MB\n"
     ]
    }
   ],
   "source": [
    "df_Dallas.info()"
   ]
  },
  {
   "cell_type": "code",
   "execution_count": 17,
   "metadata": {},
   "outputs": [],
   "source": [
    "#remove unnecessary columns and add location column\n",
    "df_Dallas = df_Dallas.drop(columns = ['Animal ID', 'Kennel Number', 'Tag Type', 'Kennel Status', \n",
    "                                     'Activity Number', 'Activity Sequence', 'Source ID',\n",
    "                                     'Census Tract', 'Council District','Reason', 'Staff ID', 'Intake Time', \n",
    "                                     'Outcome Time', 'Due Out','Intake Condition', 'Hold Request', \n",
    "                                      'Outcome Time', 'Receipt Number', 'Impound Number', 'Service Request Number', \n",
    "                                      'Animal Origin', 'Additional Information', 'Month', 'Year'])\n",
    "df_Dallas['Location'] = 'Dallas'"
   ]
  },
  {
   "cell_type": "code",
   "execution_count": 18,
   "metadata": {},
   "outputs": [],
   "source": [
    "#rename column\n",
    "df_Dallas.columns = ['Animal_Type', 'Breed', 'Intake_Type', 'Intake_Subtype', 'Intake_Date', \n",
    "                     'Outcome_Type', 'Outcome_Date', 'Health','Chip_Status', 'Location']"
   ]
  },
  {
   "cell_type": "code",
   "execution_count": 19,
   "metadata": {},
   "outputs": [
    {
     "data": {
      "text/html": [
       "<div>\n",
       "<style scoped>\n",
       "    .dataframe tbody tr th:only-of-type {\n",
       "        vertical-align: middle;\n",
       "    }\n",
       "\n",
       "    .dataframe tbody tr th {\n",
       "        vertical-align: top;\n",
       "    }\n",
       "\n",
       "    .dataframe thead th {\n",
       "        text-align: right;\n",
       "    }\n",
       "</style>\n",
       "<table border=\"1\" class=\"dataframe\">\n",
       "  <thead>\n",
       "    <tr style=\"text-align: right;\">\n",
       "      <th></th>\n",
       "      <th>Animal_Type</th>\n",
       "      <th>Breed</th>\n",
       "      <th>Intake_Type</th>\n",
       "      <th>Intake_Subtype</th>\n",
       "      <th>Intake_Date</th>\n",
       "      <th>Outcome_Type</th>\n",
       "      <th>Outcome_Date</th>\n",
       "      <th>Health</th>\n",
       "      <th>Chip_Status</th>\n",
       "      <th>Location</th>\n",
       "    </tr>\n",
       "  </thead>\n",
       "  <tbody>\n",
       "    <tr>\n",
       "      <th>0</th>\n",
       "      <td>CAT</td>\n",
       "      <td>DOMESTIC SH</td>\n",
       "      <td>STRAY</td>\n",
       "      <td>AT LARGE</td>\n",
       "      <td>2017-04-19</td>\n",
       "      <td>TRANSFER</td>\n",
       "      <td>2017-04-19</td>\n",
       "      <td>TREATABLE REHABILITABLE NON-CONTAGIOUS</td>\n",
       "      <td>SCAN NO CHIP</td>\n",
       "      <td>Dallas</td>\n",
       "    </tr>\n",
       "    <tr>\n",
       "      <th>1</th>\n",
       "      <td>DOG</td>\n",
       "      <td>GERM SHEPHERD</td>\n",
       "      <td>CONFISCATED</td>\n",
       "      <td>KEEP SAFE</td>\n",
       "      <td>2017-09-16</td>\n",
       "      <td>ADOPTION</td>\n",
       "      <td>2017-10-02</td>\n",
       "      <td>TREATABLE REHABILITABLE NON-CONTAGIOUS</td>\n",
       "      <td>SCAN NO CHIP</td>\n",
       "      <td>Dallas</td>\n",
       "    </tr>\n",
       "    <tr>\n",
       "      <th>2</th>\n",
       "      <td>CAT</td>\n",
       "      <td>DOMESTIC SH</td>\n",
       "      <td>STRAY</td>\n",
       "      <td>AT LARGE</td>\n",
       "      <td>2017-07-19</td>\n",
       "      <td>TRANSFER</td>\n",
       "      <td>2017-07-24</td>\n",
       "      <td>UNHEALTHY UNTREATABLE NON-CONTAGIOUS</td>\n",
       "      <td>UNABLE TO SCAN</td>\n",
       "      <td>Dallas</td>\n",
       "    </tr>\n",
       "    <tr>\n",
       "      <th>3</th>\n",
       "      <td>DOG</td>\n",
       "      <td>LABRADOR RETR</td>\n",
       "      <td>STRAY</td>\n",
       "      <td>AT LARGE</td>\n",
       "      <td>2016-10-28</td>\n",
       "      <td>ADOPTION</td>\n",
       "      <td>2016-11-19</td>\n",
       "      <td>TREATABLE REHABILITABLE NON-CONTAGIOUS</td>\n",
       "      <td>SCAN NO CHIP</td>\n",
       "      <td>Dallas</td>\n",
       "    </tr>\n",
       "    <tr>\n",
       "      <th>4</th>\n",
       "      <td>DOG</td>\n",
       "      <td>YORKSHIRE TERR</td>\n",
       "      <td>LOST REPORT</td>\n",
       "      <td>NaN</td>\n",
       "      <td>2016-10-20</td>\n",
       "      <td>LOST REPORT</td>\n",
       "      <td>2016-11-02</td>\n",
       "      <td>NaN</td>\n",
       "      <td>UNABLE TO SCAN</td>\n",
       "      <td>Dallas</td>\n",
       "    </tr>\n",
       "  </tbody>\n",
       "</table>\n",
       "</div>"
      ],
      "text/plain": [
       "  Animal_Type           Breed  Intake_Type Intake_Subtype Intake_Date  \\\n",
       "0         CAT     DOMESTIC SH        STRAY       AT LARGE  2017-04-19   \n",
       "1         DOG   GERM SHEPHERD  CONFISCATED      KEEP SAFE  2017-09-16   \n",
       "2         CAT     DOMESTIC SH        STRAY       AT LARGE  2017-07-19   \n",
       "3         DOG   LABRADOR RETR        STRAY       AT LARGE  2016-10-28   \n",
       "4         DOG  YORKSHIRE TERR  LOST REPORT            NaN  2016-10-20   \n",
       "\n",
       "  Outcome_Type Outcome_Date                                  Health  \\\n",
       "0     TRANSFER   2017-04-19  TREATABLE REHABILITABLE NON-CONTAGIOUS   \n",
       "1     ADOPTION   2017-10-02  TREATABLE REHABILITABLE NON-CONTAGIOUS   \n",
       "2     TRANSFER   2017-07-24    UNHEALTHY UNTREATABLE NON-CONTAGIOUS   \n",
       "3     ADOPTION   2016-11-19  TREATABLE REHABILITABLE NON-CONTAGIOUS   \n",
       "4  LOST REPORT   2016-11-02                                     NaN   \n",
       "\n",
       "      Chip_Status Location  \n",
       "0    SCAN NO CHIP   Dallas  \n",
       "1    SCAN NO CHIP   Dallas  \n",
       "2  UNABLE TO SCAN   Dallas  \n",
       "3    SCAN NO CHIP   Dallas  \n",
       "4  UNABLE TO SCAN   Dallas  "
      ]
     },
     "execution_count": 19,
     "metadata": {},
     "output_type": "execute_result"
    }
   ],
   "source": [
    "df_Dallas.head()"
   ]
  },
  {
   "cell_type": "code",
   "execution_count": 20,
   "metadata": {},
   "outputs": [
    {
     "data": {
      "text/html": [
       "<div>\n",
       "<style scoped>\n",
       "    .dataframe tbody tr th:only-of-type {\n",
       "        vertical-align: middle;\n",
       "    }\n",
       "\n",
       "    .dataframe tbody tr th {\n",
       "        vertical-align: top;\n",
       "    }\n",
       "\n",
       "    .dataframe thead th {\n",
       "        text-align: right;\n",
       "    }\n",
       "</style>\n",
       "<table border=\"1\" class=\"dataframe\">\n",
       "  <thead>\n",
       "    <tr style=\"text-align: right;\">\n",
       "      <th></th>\n",
       "      <th>Name</th>\n",
       "      <th>Type</th>\n",
       "      <th>Breed</th>\n",
       "      <th>Color</th>\n",
       "      <th>Sex</th>\n",
       "      <th>Size</th>\n",
       "      <th>Date Of Birth</th>\n",
       "      <th>Impound Number</th>\n",
       "      <th>Kennel Number</th>\n",
       "      <th>Animal ID</th>\n",
       "      <th>...</th>\n",
       "      <th>Intake Subtype</th>\n",
       "      <th>Outcome Type</th>\n",
       "      <th>Outcome Subtype</th>\n",
       "      <th>Intake Condition</th>\n",
       "      <th>Outcome Condition</th>\n",
       "      <th>Intake Jurisdiction</th>\n",
       "      <th>Outcome Jurisdiction</th>\n",
       "      <th>Outcome Zip Code</th>\n",
       "      <th>Location</th>\n",
       "      <th>Count</th>\n",
       "    </tr>\n",
       "  </thead>\n",
       "  <tbody>\n",
       "    <tr>\n",
       "      <th>0</th>\n",
       "      <td>NaN</td>\n",
       "      <td>CAT</td>\n",
       "      <td>DOMESTIC SH</td>\n",
       "      <td>BLACK</td>\n",
       "      <td>Male</td>\n",
       "      <td>KITTN</td>\n",
       "      <td>NaT</td>\n",
       "      <td>K17-026134</td>\n",
       "      <td>FREEZER</td>\n",
       "      <td>A363799</td>\n",
       "      <td>...</td>\n",
       "      <td>FIELD</td>\n",
       "      <td>EUTHANIZE</td>\n",
       "      <td>INJ SEVERE</td>\n",
       "      <td>UNTREATABLE</td>\n",
       "      <td>UNTREATABLE</td>\n",
       "      <td>COUNTY</td>\n",
       "      <td>NaN</td>\n",
       "      <td>NaN</td>\n",
       "      <td>NaN</td>\n",
       "      <td>1</td>\n",
       "    </tr>\n",
       "    <tr>\n",
       "      <th>1</th>\n",
       "      <td>SUGAR</td>\n",
       "      <td>DOG</td>\n",
       "      <td>LABRADOR RETR</td>\n",
       "      <td>YELLOW</td>\n",
       "      <td>Neutered</td>\n",
       "      <td>LARGE</td>\n",
       "      <td>2008-09-24</td>\n",
       "      <td>K17-022441</td>\n",
       "      <td>DS75</td>\n",
       "      <td>A228255</td>\n",
       "      <td>...</td>\n",
       "      <td>FIELD</td>\n",
       "      <td>RETURN TO OWNER</td>\n",
       "      <td>OVER THE COUNTER_WEB</td>\n",
       "      <td>HEALTHY</td>\n",
       "      <td>HEALTHY</td>\n",
       "      <td>COUNTY</td>\n",
       "      <td>COUNTY</td>\n",
       "      <td>95404.0</td>\n",
       "      <td>95404(38.458384, -122.675588)</td>\n",
       "      <td>1</td>\n",
       "    </tr>\n",
       "    <tr>\n",
       "      <th>2</th>\n",
       "      <td>MIMS</td>\n",
       "      <td>CAT</td>\n",
       "      <td>DOMESTIC SH</td>\n",
       "      <td>CALICO</td>\n",
       "      <td>Spayed</td>\n",
       "      <td>KITTN</td>\n",
       "      <td>2017-10-13</td>\n",
       "      <td>K17-026771</td>\n",
       "      <td>LOBBY</td>\n",
       "      <td>A366380</td>\n",
       "      <td>...</td>\n",
       "      <td>OVER THE COUNTER</td>\n",
       "      <td>ADOPTION</td>\n",
       "      <td>WALKIN</td>\n",
       "      <td>HEALTHY</td>\n",
       "      <td>HEALTHY</td>\n",
       "      <td>COUNTY</td>\n",
       "      <td>SANTA ROSA</td>\n",
       "      <td>95401.0</td>\n",
       "      <td>95401(38.446019, -122.766748)</td>\n",
       "      <td>1</td>\n",
       "    </tr>\n",
       "    <tr>\n",
       "      <th>3</th>\n",
       "      <td>*MILLIE</td>\n",
       "      <td>DOG</td>\n",
       "      <td>CHIHUAHUA SH</td>\n",
       "      <td>BLUE/TAN</td>\n",
       "      <td>Spayed</td>\n",
       "      <td>TOY</td>\n",
       "      <td>2009-03-29</td>\n",
       "      <td>K17-022804</td>\n",
       "      <td>DA05</td>\n",
       "      <td>A349551</td>\n",
       "      <td>...</td>\n",
       "      <td>OVER THE COUNTER</td>\n",
       "      <td>ADOPTION</td>\n",
       "      <td>SCAS WEB</td>\n",
       "      <td>TREATABLE/REHAB</td>\n",
       "      <td>HEALTHY</td>\n",
       "      <td>SANTA ROSA</td>\n",
       "      <td>OUT OF COUNTY</td>\n",
       "      <td>94591.0</td>\n",
       "      <td>94591(38.107585, -122.209634)</td>\n",
       "      <td>1</td>\n",
       "    </tr>\n",
       "    <tr>\n",
       "      <th>4</th>\n",
       "      <td>SAM</td>\n",
       "      <td>DOG</td>\n",
       "      <td>LABRADOR RETR</td>\n",
       "      <td>YELLOW</td>\n",
       "      <td>Male</td>\n",
       "      <td>LARGE</td>\n",
       "      <td>2007-11-01</td>\n",
       "      <td>K14-007704</td>\n",
       "      <td>DS66</td>\n",
       "      <td>A211734</td>\n",
       "      <td>...</td>\n",
       "      <td>FIELD</td>\n",
       "      <td>RETURN TO OWNER</td>\n",
       "      <td>RETURN TO OWNER</td>\n",
       "      <td>HEALTHY</td>\n",
       "      <td>HEALTHY</td>\n",
       "      <td>SANTA ROSA</td>\n",
       "      <td>*CLOVERDALE</td>\n",
       "      <td>95425.0</td>\n",
       "      <td>95425(38.790859, -123.010876)</td>\n",
       "      <td>1</td>\n",
       "    </tr>\n",
       "  </tbody>\n",
       "</table>\n",
       "<p>5 rows × 24 columns</p>\n",
       "</div>"
      ],
      "text/plain": [
       "      Name Type          Breed     Color       Sex   Size Date Of Birth  \\\n",
       "0      NaN  CAT    DOMESTIC SH     BLACK      Male  KITTN           NaT   \n",
       "1    SUGAR  DOG  LABRADOR RETR    YELLOW  Neutered  LARGE    2008-09-24   \n",
       "2     MIMS  CAT    DOMESTIC SH    CALICO    Spayed  KITTN    2017-10-13   \n",
       "3  *MILLIE  DOG   CHIHUAHUA SH  BLUE/TAN    Spayed    TOY    2009-03-29   \n",
       "4      SAM  DOG  LABRADOR RETR    YELLOW      Male  LARGE    2007-11-01   \n",
       "\n",
       "  Impound Number Kennel Number Animal ID  ...    Intake Subtype  \\\n",
       "0     K17-026134       FREEZER   A363799  ...             FIELD   \n",
       "1     K17-022441          DS75   A228255  ...             FIELD   \n",
       "2     K17-026771         LOBBY   A366380  ...  OVER THE COUNTER   \n",
       "3     K17-022804          DA05   A349551  ...  OVER THE COUNTER   \n",
       "4     K14-007704          DS66   A211734  ...             FIELD   \n",
       "\n",
       "      Outcome Type       Outcome Subtype Intake Condition Outcome Condition  \\\n",
       "0        EUTHANIZE            INJ SEVERE      UNTREATABLE       UNTREATABLE   \n",
       "1  RETURN TO OWNER  OVER THE COUNTER_WEB          HEALTHY           HEALTHY   \n",
       "2         ADOPTION                WALKIN          HEALTHY           HEALTHY   \n",
       "3         ADOPTION              SCAS WEB  TREATABLE/REHAB           HEALTHY   \n",
       "4  RETURN TO OWNER       RETURN TO OWNER          HEALTHY           HEALTHY   \n",
       "\n",
       "  Intake Jurisdiction Outcome Jurisdiction Outcome Zip Code  \\\n",
       "0              COUNTY                  NaN              NaN   \n",
       "1              COUNTY               COUNTY          95404.0   \n",
       "2              COUNTY           SANTA ROSA          95401.0   \n",
       "3          SANTA ROSA        OUT OF COUNTY          94591.0   \n",
       "4          SANTA ROSA          *CLOVERDALE          95425.0   \n",
       "\n",
       "                        Location Count  \n",
       "0                            NaN     1  \n",
       "1  95404(38.458384, -122.675588)     1  \n",
       "2  95401(38.446019, -122.766748)     1  \n",
       "3  94591(38.107585, -122.209634)     1  \n",
       "4  95425(38.790859, -123.010876)     1  \n",
       "\n",
       "[5 rows x 24 columns]"
      ]
     },
     "execution_count": 20,
     "metadata": {},
     "output_type": "execute_result"
    }
   ],
   "source": [
    "#Investigate Sonoma Dataset\n",
    "df_Sonoma.head()"
   ]
  },
  {
   "cell_type": "code",
   "execution_count": 21,
   "metadata": {},
   "outputs": [
    {
     "name": "stdout",
     "output_type": "stream",
     "text": [
      "<class 'pandas.core.frame.DataFrame'>\n",
      "RangeIndex: 16344 entries, 0 to 16343\n",
      "Data columns (total 24 columns):\n",
      "Name                    12235 non-null object\n",
      "Type                    16344 non-null object\n",
      "Breed                   16344 non-null object\n",
      "Color                   16344 non-null object\n",
      "Sex                     16344 non-null object\n",
      "Size                    16315 non-null object\n",
      "Date Of Birth           12547 non-null datetime64[ns]\n",
      "Impound Number          16344 non-null object\n",
      "Kennel Number           16335 non-null object\n",
      "Animal ID               16344 non-null object\n",
      "Intake Date             16344 non-null datetime64[ns]\n",
      "Outcome Date            16230 non-null datetime64[ns]\n",
      "Days in Shelter         16344 non-null int64\n",
      "Intake Type             16344 non-null object\n",
      "Intake Subtype          16344 non-null object\n",
      "Outcome Type            16227 non-null object\n",
      "Outcome Subtype         16128 non-null object\n",
      "Intake Condition        16344 non-null object\n",
      "Outcome Condition       16149 non-null object\n",
      "Intake Jurisdiction     16344 non-null object\n",
      "Outcome Jurisdiction    13980 non-null object\n",
      "Outcome Zip Code        13939 non-null float64\n",
      "Location                13939 non-null object\n",
      "Count                   16344 non-null int64\n",
      "dtypes: datetime64[ns](3), float64(1), int64(2), object(18)\n",
      "memory usage: 3.0+ MB\n"
     ]
    }
   ],
   "source": [
    "df_Sonoma.info()"
   ]
  },
  {
   "cell_type": "code",
   "execution_count": 22,
   "metadata": {},
   "outputs": [],
   "source": [
    "#remove unnecessary columns and add location column\n",
    "df_Sonoma = df_Sonoma.drop(columns = ['Name', 'Size', 'Impound Number', 'Kennel Number',\n",
    "                                     'Animal ID', 'Days in Shelter', 'Intake Condition',\n",
    "                                     'Outcome Subtype', 'Intake Jurisdiction',\n",
    "                                     'Outcome Jurisdiction', 'Outcome Zip Code',\n",
    "                                     'Location', 'Count'])\n",
    "df_Sonoma['Location'] = 'Sonoma'"
   ]
  },
  {
   "cell_type": "code",
   "execution_count": 23,
   "metadata": {},
   "outputs": [],
   "source": [
    "#rename column\n",
    "df_Sonoma.columns = ['Animal_Type', 'Breed', 'Color', 'Sex', 'DOB', 'Intake_Date','Outcome_Date',\n",
    "                     'Intake_Type', 'Intake_Subtype', 'Outcome_Type', 'Health', 'Location']"
   ]
  },
  {
   "cell_type": "code",
   "execution_count": 24,
   "metadata": {},
   "outputs": [
    {
     "name": "stdout",
     "output_type": "stream",
     "text": [
      "Index(['Outcome_Date', 'DOB', 'Outcome_Type', 'Animal_Type', 'Sex', 'Breed',\n",
      "       'Color', 'Location'],\n",
      "      dtype='object')\n",
      "Index(['Animal_Type', 'Intake_Date', 'Intake_Type', 'Intake_Subtype', 'Breed',\n",
      "       'Sex', 'DOB', 'Intake_Status', 'Outcome_Date', 'Outcome_Type', 'Health',\n",
      "       'Location', 'Color'],\n",
      "      dtype='object')\n",
      "Index(['Animal_Type', 'Breed', 'Intake_Type', 'Intake_Subtype', 'Intake_Date',\n",
      "       'Outcome_Type', 'Outcome_Date', 'Health', 'Chip_Status', 'Location'],\n",
      "      dtype='object')\n",
      "Index(['Animal_Type', 'Breed', 'Color', 'Sex', 'DOB', 'Intake_Date',\n",
      "       'Outcome_Date', 'Intake_Type', 'Intake_Subtype', 'Outcome_Type',\n",
      "       'Health', 'Location'],\n",
      "      dtype='object')\n"
     ]
    }
   ],
   "source": [
    "#Verify no unique column names across multiple dataset\n",
    "print(df_Austin.columns)\n",
    "print(df_Louisville.columns) \n",
    "print(df_Dallas.columns)\n",
    "print(df_Sonoma.columns)"
   ]
  },
  {
   "cell_type": "code",
   "execution_count": 25,
   "metadata": {},
   "outputs": [
    {
     "name": "stderr",
     "output_type": "stream",
     "text": [
      "C:\\Users\\sadmin\\Anaconda3\\lib\\site-packages\\ipykernel_launcher.py:2: FutureWarning: Sorting because non-concatenation axis is not aligned. A future version\n",
      "of pandas will change to not sort by default.\n",
      "\n",
      "To accept the future behavior, pass 'sort=False'.\n",
      "\n",
      "To retain the current behavior and silence the warning, pass 'sort=True'.\n",
      "\n",
      "  \n"
     ]
    }
   ],
   "source": [
    "#merge_dataFrames\n",
    "merge_data = pd.concat([df_Austin, df_Louisville, df_Dallas, df_Sonoma], ignore_index = True).reset_index()"
   ]
  },
  {
   "cell_type": "markdown",
   "metadata": {},
   "source": [
    "<a id='Clean'></a>"
   ]
  },
  {
   "cell_type": "markdown",
   "metadata": {},
   "source": [
    "## 1b. Cleaning the Dataset"
   ]
  },
  {
   "cell_type": "code",
   "execution_count": 26,
   "metadata": {},
   "outputs": [],
   "source": [
    "#for simplicity lets only investigate dogs\n",
    "merge_data = merge_data.loc[merge_data.loc[:, 'Animal_Type'].isin(['Dog', 'DOG'])]\n",
    "merge_data = merge_data.drop(columns = 'Animal_Type')"
   ]
  },
  {
   "cell_type": "code",
   "execution_count": 27,
   "metadata": {},
   "outputs": [
    {
     "name": "stdout",
     "output_type": "stream",
     "text": [
      "<class 'pandas.core.frame.DataFrame'>\n",
      "Int64Index: 167480 entries, 4 to 298446\n",
      "Data columns (total 14 columns):\n",
      "index             167480 non-null int64\n",
      "Breed             167480 non-null object\n",
      "Chip_Status       26043 non-null object\n",
      "Color             141423 non-null object\n",
      "DOB               116594 non-null datetime64[ns]\n",
      "Health            111238 non-null object\n",
      "Intake_Date       112412 non-null datetime64[ns]\n",
      "Intake_Status     77145 non-null object\n",
      "Intake_Subtype    108173 non-null object\n",
      "Intake_Type       112412 non-null object\n",
      "Location          167480 non-null object\n",
      "Outcome_Date      167088 non-null datetime64[ns]\n",
      "Outcome_Type      167154 non-null object\n",
      "Sex               141435 non-null object\n",
      "dtypes: datetime64[ns](3), int64(1), object(10)\n",
      "memory usage: 19.2+ MB\n"
     ]
    }
   ],
   "source": [
    "merge_data.info()"
   ]
  },
  {
   "cell_type": "code",
   "execution_count": 28,
   "metadata": {},
   "outputs": [],
   "source": [
    "#remove all the unknowns in the target feature\n",
    "merge_data = merge_data.dropna(subset = ['Outcome_Type'])"
   ]
  },
  {
   "cell_type": "code",
   "execution_count": 29,
   "metadata": {},
   "outputs": [],
   "source": [
    "#capitalized all columns to reduce data cleaning process\n",
    "merge_data = merge_data.applymap(lambda s:s.capitalize() if type(s) == str else s)"
   ]
  },
  {
   "cell_type": "code",
   "execution_count": 30,
   "metadata": {},
   "outputs": [
    {
     "data": {
      "text/plain": [
       "array([nan, 'Healthy', 'Unhealthy/untreatable', 'Treatable/manageable',\n",
       "       'Treatable rehabilitable non-contagious',\n",
       "       'Unhealthy untreatable non-contagious',\n",
       "       'Treatable manageable non-contagious',\n",
       "       'Treatable manageable contagious',\n",
       "       'Treatable rehabilitable contagious',\n",
       "       'Unhealthy untreatable contagious', 'Untreatable',\n",
       "       'Treatable/rehab', 'Pending', 'Dead'], dtype=object)"
      ]
     },
     "execution_count": 30,
     "metadata": {},
     "output_type": "execute_result"
    }
   ],
   "source": [
    "#look at distinct category from Health\n",
    "merge_data['Health'].unique()"
   ]
  },
  {
   "cell_type": "code",
   "execution_count": 31,
   "metadata": {},
   "outputs": [],
   "source": [
    "#feature engineering of Health\n",
    "merge_data = merge_data.replace({'Health': ['Treatable/manageable', 'Treatable rehabilitable non-contagious', \n",
    "                                                       'Treatable manageable non-contagious',\n",
    "                                                        'Treatable/rehab']}, \"Treatable\" )\n",
    "\n",
    "merge_data = merge_data.replace({'Health': ['Treatable manageable contagious', 'Treatable rehabilitable contagious']\n",
    "                                }, \"Contagious Treatable\" )\n",
    "\n",
    "\n",
    "merge_data = merge_data.replace({'Health': ['Unhealthy/untreatable', 'Unhealthy untreatable non-contagious', \n",
    "                                                       'Unhealthy untreatable contagious', 'Untreatable']}, \"Untreatable\" )\n",
    "\n",
    "merge_data = merge_data.replace({'Health': ['Pending']}, 'Unknown')"
   ]
  },
  {
   "cell_type": "code",
   "execution_count": 32,
   "metadata": {},
   "outputs": [
    {
     "data": {
      "text/plain": [
       "array([nan, 'Healthy', 'Untreatable', 'Treatable', 'Contagious Treatable',\n",
       "       'Unknown', 'Dead'], dtype=object)"
      ]
     },
     "execution_count": 32,
     "metadata": {},
     "output_type": "execute_result"
    }
   ],
   "source": [
    "#validate Healthcategories\n",
    "merge_data.Health.unique()"
   ]
  },
  {
   "cell_type": "code",
   "execution_count": 33,
   "metadata": {},
   "outputs": [
    {
     "data": {
      "text/plain": [
       "array(['Adoption', 'Return to owner', 'Transfer', 'Rto-adopt',\n",
       "       'Euthanasia', 'Died', 'Missing', 'Disposal', 'Euth', 'Rto',\n",
       "       'Relocate', 'Foster', 'Released', 'Transport', 'No show',\n",
       "       'Et process', 'Release', 'Rtf', 'Indefinite', 'Missing ex',\n",
       "       'Lost report', 'Returned to owner', 'Euthanized',\n",
       "       'Dead on arrival', 'Other', 'Found report', 'Euthanize',\n",
       "       'Escaped/stolen'], dtype=object)"
      ]
     },
     "execution_count": 33,
     "metadata": {},
     "output_type": "execute_result"
    }
   ],
   "source": [
    "#look at distinct category from Outcome Type\n",
    "merge_data['Outcome_Type'].unique()"
   ]
  },
  {
   "cell_type": "code",
   "execution_count": 34,
   "metadata": {},
   "outputs": [],
   "source": [
    "#feature engineering of Outcome Type\n",
    "merge_data = merge_data.replace({'Outcome_Type': ['Return to owner', 'Rto-adopt', 'Returned to owner', 'Rtf',\n",
    "                                                  'Found report']}, 'Rto')\n",
    "\n",
    "merge_data = merge_data.replace({'Outcome_Type': ['Euthanasia', 'Euthanize', 'Euthanized']}, 'Euth')\n",
    "\n",
    "merge_data = merge_data.replace({'Outcome_Type': ['Transfer', 'Relocate', 'Transport']}, 'Transfer')\n",
    "\n",
    "merge_data = merge_data.replace({'Outcome_Type': ['Missing', 'Missing ex', 'Escape', 'stolen', 'Lost report',\n",
    "                                                 'No show', 'Release', 'Released', 'Escaped/stolen', 'Et process', \n",
    "                                                  'Indefinite']}, 'Other')\n",
    "\n",
    "merge_data = merge_data.replace({'Outcome_Type': ['Disposal', 'Dead on arrival']}, 'Died')\n",
    "\n",
    "merge_data = merge_data.replace({'Outcome_Type': ['Foster', 'Adoption']}, 'Adoption/Foster')"
   ]
  },
  {
   "cell_type": "code",
   "execution_count": 35,
   "metadata": {},
   "outputs": [
    {
     "data": {
      "text/plain": [
       "array(['Adoption/Foster', 'Rto', 'Transfer', 'Euth', 'Died', 'Other'],\n",
       "      dtype=object)"
      ]
     },
     "execution_count": 35,
     "metadata": {},
     "output_type": "execute_result"
    }
   ],
   "source": [
    "#validate Outcome type category\n",
    "merge_data.Outcome_Type.unique()"
   ]
  },
  {
   "cell_type": "code",
   "execution_count": 36,
   "metadata": {},
   "outputs": [
    {
     "data": {
      "text/plain": [
       "array([nan, 'Owner sur', 'Stray', 'Confiscate', 'Return', 'Khs',\n",
       "       'Euth req', 'Quarantine', 'Et request', 'Outsurgery', 'Disposal',\n",
       "       'Investigat', 'Transfer', 'Foster', 'Evacuee', 'Lost',\n",
       "       'Med observ', 'For transp', 'Found', 'Confiscated', 'Lost report',\n",
       "       'Owner surrender', 'Found report', 'Adoption return'], dtype=object)"
      ]
     },
     "execution_count": 36,
     "metadata": {},
     "output_type": "execute_result"
    }
   ],
   "source": [
    "#look at distinct category from Intake Type\n",
    "merge_data['Intake_Type'].unique()"
   ]
  },
  {
   "cell_type": "code",
   "execution_count": 37,
   "metadata": {},
   "outputs": [],
   "source": [
    "#feature engineering of Intake Type\n",
    "merge_data = merge_data.replace({'Intake_Type': 'Confiscate'}, 'Confiscated')\n",
    "\n",
    "merge_data = merge_data.replace({'Intake_Type': 'Found'}, 'Found report')\n",
    "\n",
    "merge_data = merge_data.replace({'Intake_Type': 'Lost'}, 'Found report')\n",
    "\n",
    "merge_data = merge_data.replace({'Intake_Type': 'Owner sur'}, 'Owner surrender')\n",
    "\n",
    "merge_data = merge_data.replace({'Intake_Type': 'Adoption return'}, 'return')"
   ]
  },
  {
   "cell_type": "code",
   "execution_count": 38,
   "metadata": {},
   "outputs": [
    {
     "data": {
      "text/plain": [
       "array([nan, 'Owner surrender', 'Stray', 'Confiscated', 'Return', 'Khs',\n",
       "       'Euth req', 'Quarantine', 'Et request', 'Outsurgery', 'Disposal',\n",
       "       'Investigat', 'Transfer', 'Foster', 'Evacuee', 'Found report',\n",
       "       'Med observ', 'For transp', 'Lost report', 'return'], dtype=object)"
      ]
     },
     "execution_count": 38,
     "metadata": {},
     "output_type": "execute_result"
    }
   ],
   "source": [
    "#validate category in Intake Type\n",
    "merge_data.Intake_Type.unique()"
   ]
  },
  {
   "cell_type": "code",
   "execution_count": 39,
   "metadata": {},
   "outputs": [
    {
     "data": {
      "text/plain": [
       "array(['Spayed female', 'Intact female', 'Intact male', 'Neutered male',\n",
       "       'Unknown', nan, 'Male', 'Female', 'Litter', 'Neutered', 'Spayed'],\n",
       "      dtype=object)"
      ]
     },
     "execution_count": 39,
     "metadata": {},
     "output_type": "execute_result"
    }
   ],
   "source": [
    "#look at distinct category from Sex\n",
    "merge_data['Sex'].unique()"
   ]
  },
  {
   "cell_type": "code",
   "execution_count": 40,
   "metadata": {},
   "outputs": [],
   "source": [
    "#feature engineering of Sex\n",
    "merge_data = merge_data.replace({'Sex': 'Spayed'}, 'Spayed female')\n",
    "\n",
    "merge_data = merge_data.replace({'Sex': 'Neutered'}, 'Neutered male')\n",
    "\n",
    "merge_data = merge_data.replace({'Sex': 'Intact female'}, 'Female')\n",
    "\n",
    "merge_data = merge_data.replace({'Sex': 'Intact male'}, 'Male')\n",
    "\n",
    "merge_data = merge_data.replace({'Sex': 'Litter'}, 'Unknown')"
   ]
  },
  {
   "cell_type": "code",
   "execution_count": 41,
   "metadata": {},
   "outputs": [
    {
     "data": {
      "text/plain": [
       "array(['Spayed female', 'Female', 'Male', 'Neutered male', 'Unknown', nan],\n",
       "      dtype=object)"
      ]
     },
     "execution_count": 41,
     "metadata": {},
     "output_type": "execute_result"
    }
   ],
   "source": [
    "#validate category in sex\n",
    "merge_data['Sex'].unique()"
   ]
  },
  {
   "cell_type": "code",
   "execution_count": 42,
   "metadata": {},
   "outputs": [
    {
     "data": {
      "text/plain": [
       "array([nan, 'Scan no chip', 'Unable to scan', 'Scan chip'], dtype=object)"
      ]
     },
     "execution_count": 42,
     "metadata": {},
     "output_type": "execute_result"
    }
   ],
   "source": [
    "#look at chip status\n",
    "merge_data['Chip_Status'].unique()"
   ]
  },
  {
   "cell_type": "code",
   "execution_count": 43,
   "metadata": {},
   "outputs": [],
   "source": [
    "#feature engineering of Intake Status\n",
    "merge_data = merge_data.replace({'Chip_Status': ['Scan no chip', 'Unable to scan']}, 'No chip/un-scanable')"
   ]
  },
  {
   "cell_type": "code",
   "execution_count": 44,
   "metadata": {},
   "outputs": [
    {
     "data": {
      "text/plain": [
       "array([nan, 'No chip/un-scanable', 'Scan chip'], dtype=object)"
      ]
     },
     "execution_count": 44,
     "metadata": {},
     "output_type": "execute_result"
    }
   ],
   "source": [
    "#validate category in chip status\n",
    "merge_data['Chip_Status'].unique()"
   ]
  },
  {
   "cell_type": "code",
   "execution_count": 45,
   "metadata": {},
   "outputs": [
    {
     "data": {
      "text/plain": [
       "array([nan, 'Normal', 'Fearful', 'Injured', 'Sick', 'Aged', 'Dead',\n",
       "       'Aggressive', 'Nursing', 'Feral', 'Pregnant', 'Emaciated', 'Other',\n",
       "       'Parvo', 'Obese', 'Teritorial', 'Agg people', 'Agg barrie',\n",
       "       'Agg animal', 'Ringworm', 'Diarrhea', 'Heartworm', 'Agg fear',\n",
       "       'Agg food', 'Dehydra'], dtype=object)"
      ]
     },
     "execution_count": 45,
     "metadata": {},
     "output_type": "execute_result"
    }
   ],
   "source": [
    "#look at intake status\n",
    "merge_data.Intake_Status.unique()"
   ]
  },
  {
   "cell_type": "code",
   "execution_count": 46,
   "metadata": {},
   "outputs": [],
   "source": [
    "#feature engineer intake status\n",
    "merge_data = merge_data.replace({'Intake_Status': ['Heartworm', 'Ringworm']}, 'Sick')"
   ]
  },
  {
   "cell_type": "code",
   "execution_count": 47,
   "metadata": {},
   "outputs": [
    {
     "data": {
      "text/plain": [
       "array([nan, 'Normal', 'Fearful', 'Injured', 'Sick', 'Aged', 'Dead',\n",
       "       'Aggressive', 'Nursing', 'Feral', 'Pregnant', 'Emaciated', 'Other',\n",
       "       'Parvo', 'Obese', 'Teritorial', 'Agg people', 'Agg barrie',\n",
       "       'Agg animal', 'Diarrhea', 'Agg fear', 'Agg food', 'Dehydra'],\n",
       "      dtype=object)"
      ]
     },
     "execution_count": 47,
     "metadata": {},
     "output_type": "execute_result"
    }
   ],
   "source": [
    "#validate intake status\n",
    "merge_data.Intake_Status.unique()"
   ]
  },
  {
   "cell_type": "code",
   "execution_count": 48,
   "metadata": {},
   "outputs": [
    {
     "data": {
      "text/plain": [
       "array([nan, 'Otc', 'Field', 'Neglect', 'Stray', 'Cruelty', 'Otc owned',\n",
       "       'Mas', 'Abandoned', 'Sick', 'Field own', 'Unpermited', 'Chaining',\n",
       "       'Bite', 'Aggressive', 'Potdanger', 'Euth req', 'Owner', 'Police',\n",
       "       'Adoption', 'K humane s', 'An control', 'Night', 'Return', 'Other',\n",
       "       ' ', 'Danger dog', 'Old', 'Restraint', 'Owner died', 'Hospital',\n",
       "       'Web', 'Eviction', 'Owner sur', 'Return 30', 'Neuter', 'Post surg',\n",
       "       'Court ord', 'Rescue grp', 'Keep safe', 'At large', 'Quarantine',\n",
       "       'Return30', 'General', 'Possibly owned', '#name?', 'Confined',\n",
       "       'Euthanasia requested', 'Quarantine - dead on arrival',\n",
       "       'Dangerous', 'Trap neuter return', 'Cruelt - dead on arrival',\n",
       "       'Keep safe - dead on arrival', 'Trap program', 'Spca texas',\n",
       "       'Danger - dead on arrival', 'Over the counter', 'Fld_evict',\n",
       "       'Fld_hosptl', 'Fld_stray', 'Vet_hosp', 'Fld_arrest', 'Fld_livstk',\n",
       "       'Fld_coronr', 'Priv_shelt', 'Mun_shelt', 'Fld_cruel',\n",
       "       'Field_return to owner', 'Field_os', 'Born_here', 'Rescue_grp',\n",
       "       'Over the counter_arrest', 'Phone',\n",
       "       'Over the counter_return to owner', 'Over the counter_os',\n",
       "       'Over the counter_evict', 'Over the counter_coronr',\n",
       "       'Over the counter_stray'], dtype=object)"
      ]
     },
     "execution_count": 48,
     "metadata": {},
     "output_type": "execute_result"
    }
   ],
   "source": [
    "#look at intake subtype\n",
    "merge_data.Intake_Subtype.unique()"
   ]
  },
  {
   "cell_type": "code",
   "execution_count": 49,
   "metadata": {},
   "outputs": [],
   "source": [
    "merge_data = merge_data.replace({'Intake_Subtype': ['Over the counter_stray', 'Fld_stray']}, 'Stray')\n",
    "\n",
    "merge_data = merge_data.replace({'Intake_Subtype': ['Over the counter_return to owner', 'Field_return to owner']}, 'RTO')\n",
    "\n",
    "merge_data = merge_data.replace({'Intake_Subtype': [' ', '#name?']}, 'Unknown')\n",
    "\n",
    "merge_data = merge_data.replace({'Intake_Subtype': ['Over the counter']}, 'Otc')\n",
    "\n",
    "merge_data = merge_data.replace({'Intake_Subtype': ['Danger - dead on arrival', 'Keep safe - dead on arrival', \n",
    "                                                    'Quarantine - dead on arrival', 'Cruelt - dead on arrival']}, 'Dead')\n",
    "\n",
    "merge_data = merge_data.replace({'Intake_Subtype': ['Fld_evict', 'Over the counter_evict']}, 'Eviction')\n",
    "\n",
    "merge_data = merge_data.replace({'Intake_Subtype': ['Euthanasia requested']}, 'Euth req')\n",
    "\n",
    "\n",
    "merge_data = merge_data.replace({'Intake_Subtype': ['Fld_hosptl', 'vet_hosp', 'Vet_hosp']}, 'Hospital')\n",
    "\n",
    "merge_data = merge_data.replace({'Intake_Subtype': ['Fld_arrest', 'Over the counter_arrest']}, 'Arrest')\n",
    "\n",
    "merge_data = merge_data.replace({'Intake_Subtype': ['Fld_coronr', 'Over the counter_coronr']}, 'coronr')\n",
    "\n",
    "merge_data = merge_data.replace({'Intake_Subtype': ['Return 30', 'Return30']}, 'Return')\n",
    "\n",
    "merge_data = merge_data.replace({'Intake_Subtype': ['Field_os', 'Over the counter_os']}, 'os')\n",
    "\n",
    "merge_data = merge_data.replace({'Intake_Subtype': ['Priv_shelt', 'Mun_shelt']}, 'Shelt')\n",
    "\n",
    "merge_data = merge_data.replace({'Intake_Subtype': ['Rescue grp']}, 'Rescue_grp')\n",
    "\n",
    "merge_data = merge_data.replace({'Intake_Subtype': ['Fld_cruel']}, 'Cruelty')"
   ]
  },
  {
   "cell_type": "code",
   "execution_count": 50,
   "metadata": {},
   "outputs": [],
   "source": [
    "def neuter_spay(string):\n",
    "    \"\"\"classify neuter and spay dog into a new feature\"\"\"\n",
    "    if string == 'Spayed female' or string == 'Neutered male':\n",
    "        return 'Yes'\n",
    "    elif string == 'Unknown':\n",
    "        return 'Unknown'\n",
    "    else:\n",
    "        return 'No'\n",
    "\n",
    "merge_data['Neutered/Spay'] = merge_data['Sex'].apply(neuter_spay)\n",
    "    \n",
    "merge_data = merge_data.replace({'Sex': 'Spayed female'}, 'Female')\n",
    "merge_data = merge_data.replace({'Sex': 'Neutered male'}, 'Male')"
   ]
  },
  {
   "cell_type": "code",
   "execution_count": 51,
   "metadata": {},
   "outputs": [],
   "source": [
    "#lowercase all breed and color columns\n",
    "merge_data['Breed'] = merge_data['Breed'].apply(lambda x: str(x).lower())\n",
    "merge_data['Color'] = merge_data['Color'].apply(lambda x: str(x).lower())"
   ]
  },
  {
   "cell_type": "code",
   "execution_count": 52,
   "metadata": {
    "scrolled": false
   },
   "outputs": [
    {
     "name": "stdout",
     "output_type": "stream",
     "text": [
      "['golden retriever mix', 'cairn terrier mix', 'dachshund mix', 'pointer', 'boxer mix', 'chihuahua shorthair mix', 'labrador retriever mix', 'queensland heeler mix', 'miniature schnauzer mix', 'collie rough mix', 'dachshund longhair', 'chihuahua longhair', 'alaskan husky', 'german shepherd', 'border terrier', 'welsh terrier', 'australian cattle dog mix', 'pit bull mix', 'catahoula', 'labrador retriever', 'italian greyhound', 'scottish terrier mix', 'dutch shepherd mix', 'alaskan husky mix', 'great pyrenees', 'border collie mix', 'catahoula mix', 'maltese', 'yorkshire terrier', 'bichon frise mix', 'mastiff mix', 'shih tzu mix', 'blue lacy mix', 'rottweiler', 'american bulldog mix', 'boxer', 'staffordshire mix', 'havanese mix', 'airedale terrier', 'siberian husky mix', 'siberian husky', 'german shepherd mix', 'basset hound mix', 'border collie', 'pit bull', 'chow chow', 'american bulldog', 'boston terrier', 'australian cattle dog', 'australian shepherd mix', 'black', 'tan hound', 'rat terrier mix', 'chinese sharpei', 'cane corso', 'doberman pinsch mix', 'australian kelpie', 'beagle', 'great dane', 'english bulldog mix', 'rottweiler mix', 'chihuahua shorthair', 'dachshund', 'bloodhound', 'american staffordshire terrier mix', 'belgian malinois mix', 'miniature poodle', 'shih tzu', 'papillon mix', 'standard schnauzer mix', 'staffordshire', 'rat terrier', 'great pyrenees mix', 'basset hound', 'pug', 'bull terrier mix', 'toy poodle', 'standard poodle', 'golden retriever', 'miniature pinscher mix', 'plott hound mix', 'american foxhound mix', 'lhasa apso mix', 'american pit bull terrier', 'alaskan malamute mix', 'chihuahua longhair mix', 'beagle mix', 'english setter mix', 'yorkshire terrier mix', 'cairn terrier', 'lhasa apso', 'pomeranian', 'flat coat retriever', 'harrier mix', 'whippet', 'mastiff', 'basenji', 'brittany', 'airedale terrier mix', 'american staffordshire terrier', 'boston terrier mix', 'alaskan malamute', 'akita mix', 'jack russell terrier', 'cardigan welsh corgi', 'border terrier mix', 'toy poodle mix', 'miniature schnauzer', 'australian shepherd', 'miniature poodle mix', 'irish wolfhound mix', 'australian kelpie mix', 'dachshund wirehair', 'bernese mountain dog', 'canaan dog mix', 'irish terrier', 'treeing walker coonhound mix', 'cardigan welsh corgi mix', 'american pit bull terrier mix', 'german shorthair pointer', 'tan hound mix', 'tibetan mastiff mix', 'bruss griffon mix', 'basenji mix', 'collie smooth mix', 'bulldog', 'finnish spitz mix', 'anatol shepherd', 'pointer mix', 'st. bernard smooth coat', 'pembroke welsh corgi', 'weimaraner mix', 'jack russell terrier mix', 'miniature pinscher', 'manchester terrier mix', 'german shorthair pointer mix', 'st. bernard rough coat', 'norfolk terrier mix', 'redbone hound mix', 'chinese sharpei mix', 'bullmastiff mix', 'rhod ridgeback mix', 'bluetick hound mix', 'chow chow mix', 'dachshund wirehair mix', 'black mouth cur mix', 'soft coated wheaten terrier mix', 'pekingese mix', 'pomeranian mix', 'whippet mix', 'irish setter', 'glen of imaal mix', 'clumber spaniel mix', 'dachshund longhair mix', 'bull terrier', 'weimaraner', 'cocker spaniel', 'dutch shepherd', 'pug mix', 'anatol shepherd mix', 'plott hound', 'maltese mix', 'english bulldog', 'newfoundland mix', 'norwich terrier mix', 'chesa bay retr', 'norfolk terrier', 'swedish vallhund', 'nova scotia duck tolling retriever mix', 'brittany mix', 'standard schnauzer', 'schnauzer giant', 'pbgv mix', 'carolina dog', 'pekingese', 'smooth fox terrier mix', 'schipperke mix', 'bullmastiff', 'norwich terrier', 'bichon frise', 'greyhound', 'schnauzer giant mix', 'shetland sheepdog mix', 'collie smooth', 'manchester terrier', 'pembroke welsh corgi mix', 'bulldog mix', 'akita', 'bruss griffon', 'collie rough', 'cocker spaniel mix', 'tibetan spaniel mix', 'great dane mix', 'doberman pinsch', 'welsh terrier mix', 'west highland', 'patterdale terr', 'cavalier span', 'black mouth cur', 'redbone hound', 'scottish terrier', 'carolina dog mix', 'st. bernard smooth coat mix', 'st. bernard rough coat mix', 'rhod ridgeback', 'bluetick hound', 'irish wolfhound', 'old english sheepdog mix', 'shiba inu', 'shiba inu mix', 'treeing walker coonhound', 'chesa bay retr mix', 'wire hair fox terrier', 'flat coat retriever mix', 'vizsla', 'vizsla mix', 'american eskimo', 'mexican hairless', 'leonberger mix', 'standard poodle mix', 'samoyed', 'australian terrier mix', 'queensland heeler', 'papillon', 'west highland mix', 'belgian malinois', 'pharaoh hound mix', 'shetland sheepdog', 'boykin span mix', 'japanese chin mix', 'french bulldog', 'american foxhound', 'otterhound', 'toy fox terrier', 'toy fox terrier mix', 'silky terrier', 'landseer', 'english setter', 'bull terrier miniature', 'bull terrier miniature mix', 'landseer mix', 'english springer spaniel mix', 'greyhound mix', 'american eskimo mix', 'chinese crested', 'bernese mountain dog mix', 'bloodhound mix', 'dogo argentino mix', 'english pointer mix', 'german wirehaired pointer mix', 'finnish spitz', 'french bulldog mix', 'old english bulldog mix', 'cavalier span mix', 'wirehaired pointing griffon mix', 'wire hair fox terrier mix', 'soft coated wheaten terrier', 'english coonhound mix', 'irish terrier mix', 'pbgv', 'english coonhound', 'field spaniel mix', 'dalmatian mix', 'dalmatian', 'feist mix', 'swedish vallhund mix', 'smooth fox terrier', 'schipperke', 'cane corso mix', 'blue lacy', 'jindo mix', 'english shepherd mix', 'skye terrier mix', 'neapolitan mastiff mix', 'parson russell terrier', 'italian greyhound mix', 'unknown', 'lakeland terrier mix', 'keeshond mix', 'dandie dinmont mix', 'english pointer', 'unknown mix', 'presa canario mix', 'australian terrier', 'affenpinscher', 'treeing tennesse brindle mix', 'chinese crested mix', 'dogue de bordeaux', 'beauceron mix', 'dandie dinmont', 'belgian sheepdog mix', 'german wirehaired pointer', 'bearded collie mix', 'canaan dog', 'welsh springer spaniel mix', 'parson russell terrier mix', 'dogue de bordeaux mix', 'english shepherd', 'nova scotia duck tolling retriever', 'akbash mix', 'silky terrier mix', 'keeshond', 'mexican hairless mix', 'patterdale terr mix', 'havanese', 'tibetan spaniel', 'tibetan terrier mix', 'english foxhound mix', 'pharaoh hound', 'ibizan hound', 'harrier', 'spinone italiano mix', 'kuvasz mix', 'coton de tulear mix', 'jindo', 'afghan hound', 'welsh springer spaniel', 'treeing cur mix', 'kuvasz', 'old english bulldog', 'saluki mix', 'bouv flandres', 'samoyed mix', 'sussex span mix', 'treeing cur', 'field spaniel', 'dogo argentino', 'tibetan terrier', 'english foxhound', 'greater swiss mountain dog mix', 'english springer spaniel', 'picardy sheepdog mix', 'bedlington terr mix', 'otterhound mix', 'ibizan hound mix', 'saluki', 'neapolitan mastiff', 'feist', 'irish setter mix', 'grand basset griffon vendeen mix', 'lowchen', 'boerboel mix', 'gordon setter mix', 'hovawart', 'affenpinscher mix', 'english cocker spaniel mix', 'belgian tervuren', 'german pinscher mix', 'bearded collie', 'presa canario', 'boykin span', 'kangal', 'japanese chin', 'leonberger', 'treeing tennesse brindle', 'norwegian elkhound mix', 'lowchen mix', 'podengo pequeno mix', 'old english sheepdog', 'skye terrier', 'boerboel', 'beauceron', 'glen of imaal', 'newfoundland', 'dachshund stan mix', 'spanish mastiff mix', 'english cocker spaniel', 'port water dog mix', 'borzoi', 'belgian sheepdog', 'sealyham terr mix', 'swiss hound', 'greater swiss mountain dog', 'belgian tervuren mix', 'spanish water dog', 'german pinscher', 'cirneco', 'yorkshire', 'picardy sheepdog', 'coton de tulear', 'afghan hound mix', 'eng toy spaniel mix', 'entlebucher mix', 'hovawart mix', 'pit bull terrier', 'mix', 'parson (jack) russell terrier', 'bernese hound', 'black and tan coonound', 'german shepherd dog', 'poodle - miniature', 'st bernard - smooth coated', 'fox terrier - wirehaired', 'doberman pinscher', 'wire-haired pointing griffon', 'dachshund - longhaired', 'st bernard - rough coated', 'bouvier des flandres', 'staffordshire bull terrier', 'west highland white terrier', 'welsh corgi - pembroke', 'schnauzer - miniature', 'german shorthaired pointer', 'collie - smooth', 'jack russ ter', 'fox terrier - smooth', 'chihuahua - smooth coated', 'collie - rough', 'poodle - standard', 'schnauzer - standard', 'chinese crested dog', 'pure bred', 'chihuahua - long haired', 'schnauzer - giant', 'poodle - toy', 'welsh corgi - cardigan', 'flat-coated retriever', 'soft-coated wheaten terrier', 'rhodesian ridgeback', 'korean jindo', 'redbone coonhound', 'petit basset griffon vendeen', 'wolf hybrid', 'english coonhound (redtick coonhound)', 'brussels griffon', 'chesapeake bay retriever', 'bluetick coonhound', 'catahoula leopard hound', 'dandie dinmont terrier', 'dachshund - wirehaired', 'bull terrier - miniature', 'cocker-poo', 'gordon setter', 'patterdale terrier', 'norwegian elkhound', 'cavalier king charles spaniel', 'portuguese water dog', 'lakeland terrier', 'anatolian shepherd', 'ocherese', 'karelian bear dog', 'briard', 'bedlington terrier', 'wolf', 'english toy spaniel', 'clumber spaniel', 'polish lowland sheepdog', 'spinone italiano', 'tennesee treeing brindle hound', 'boykin spaniel', 'nova scotia duck-tolling retriever', 'sussex spaniel', 'alaskan klee kai', 'pekapoo', 'coonhound', 'norwegian buhund', 'glen of imaal terrier', 'hound', 'puli', 'fila brasileiro', 'tibetan mastiff', 'terrier', 'cocker amer', 'scottish deerhound', 'podengo portugueso pequeno', 'great pyreneese', 'munsterlander', 'germ shepherd', 'labrador retr', 'yorkshire terr', 'chihuahua lh', 'chihuahua sh', 'poodle stnd', 'min pinscher', 'cocker span', 'am pit bull ter', 'st bernard rgh', 'welsh corgi car', 'parson russ ter', 'american staff', 'flat coat retr', 'aust cattle dog', 'belg malinois', 'poodle min', 'fox terr wire', 'aust shepherd', 'schnauzer stand', 'eng coonhound', 'schnauzer min', 'alask malamute', 'amer foxhound', 'golden retr', 'eng bulldog', 'tr walker hound', 'eng shepherd', 'eng foxhound', 'eng pointer', 'scot terrier', 'welsh corgi pem', 'germ sh point', 'amer bulldog', 'amer eskimo', 'dachshund lh', 'belg laekenois', 'aust kelpie', 'manchester terr', 'gr swiss mtn', 'tibetan terr', 'picardy sheepdg', 'polish lowland', 'sc wheat terr', 'ital greyhound', 'poodle toy', 'dogue de bordx', 'queensland heel', 'tibetan span', 'fox terr smooth', 'clumber span', 'st bernard smth', 'dachshund wh', 'alask klee kai', 'old eng bulldog', 'lakeland terr', 'germ wh point', 'shetld sheepdog', 'airedale terr', 'ns duck tolling', 'bernese mtn dog', 'swed vallhund', 'oldeng sheepdog', 'tenn tr brindle', 'shepherd mix', 'eng cocker span', 'shepherd', 'dutch sheepdog', 'welsh spr span', 'pitbull', 'bull terr min', 'entlebucher', 'port water dog', 'eng sprngr span', 'tosa', 'aust terrier', 'maremma sheepdg', 'eng toy spaniel', 'mixed', 'eng setter', 'terrier mix', 'curlycoat retr', 'pumi', 'kerry blue terr', 'norw buhund', 'pit bull & mix', 'podengo pequeno', 'norw elkhound', 'spanish mastiff', 'scot deerhound', 'akbash', 'belg tervuren', 'border collie x', 'belg sheepdog', 'belgian malinoi', 'rhodesian ridge', 'chihuahua & mix', 'pitt bull & lab', 'komondor', 'wh pt griffon', 'labrador & gold']\n",
      "568\n"
     ]
    }
   ],
   "source": [
    "#look at distinct category from Breed\n",
    "breed = []\n",
    "for i, row in merge_data.iterrows():\n",
    "    if '/' in row['Breed']:\n",
    "        splits = row['Breed'].split('/')\n",
    "        if splits[0] not in breed: \n",
    "            breed.append(splits[0])\n",
    "        if splits[1] not in breed:\n",
    "            breed.append(splits[1])\n",
    "    else:\n",
    "        if row['Breed'] not in breed:\n",
    "            breed.append(row['Breed'])\n",
    "print(breed)\n",
    "print(len(breed))"
   ]
  },
  {
   "cell_type": "code",
   "execution_count": 53,
   "metadata": {},
   "outputs": [
    {
     "data": {
      "text/plain": [
       "4635"
      ]
     },
     "execution_count": 53,
     "metadata": {},
     "output_type": "execute_result"
    }
   ],
   "source": [
    "merge_data.Breed.nunique()"
   ]
  },
  {
   "cell_type": "code",
   "execution_count": 54,
   "metadata": {},
   "outputs": [],
   "source": [
    "#import breed groups (the dog breed csv was modified according to google and some missing breeds)\n",
    "breed_type = pd.read_csv('../Data/Raw/Dog_Breed_By_Group.csv', encoding='iso-8859-1').to_dict('list')\n",
    "\n",
    "#normalized category (lowercase)\n",
    "for key, values in breed_type.items():\n",
    "    dummy = []\n",
    "    for value in values:\n",
    "        if type(value) == str:\n",
    "            dummy.append(value.lower())\n",
    "        breed_type[key] = dummy"
   ]
  },
  {
   "cell_type": "code",
   "execution_count": 55,
   "metadata": {},
   "outputs": [],
   "source": [
    "#feature engineer Breed column\n",
    "merge_data['Breed'] = merge_data['Breed'].replace('\\-\\s', '', regex=True)\n",
    "merge_data['Breed'] = merge_data['Breed'].replace('\\-', ' ', regex=True)\n",
    "merge_data['Breed'] = merge_data['Breed'].replace('\\sdog', '', regex=True)\n",
    "merge_data['Breed'] = merge_data['Breed'].replace('\\s\\([\\w\\s]+\\)', '', regex=True)\n",
    "merge_data['Breed'] = merge_data['Breed'].replace('amer\\s', 'american ', regex=True)\n",
    "merge_data['Breed'] = merge_data['Breed'].replace('\\samer$', ' american', regex=True)\n",
    "merge_data['Breed'] = merge_data['Breed'].replace('\\samer\\/', ' american/', regex=True)\n",
    "merge_data['Breed'] = merge_data['Breed'].replace('\\slh', '', regex=True)\n",
    "merge_data['Breed'] = merge_data['Breed'].replace('\\slong[a-z]+', '', regex=True)\n",
    "merge_data['Breed'] = merge_data['Breed'].replace('\\slong haired', '', regex=True)\n",
    "merge_data['Breed'] = merge_data['Breed'].replace('\\sspan$', ' spaniel', regex=True)\n",
    "merge_data['Breed'] = merge_data['Breed'].replace('\\sspan\\/', ' spaniel/', regex=True)\n",
    "merge_data['Breed'] = merge_data['Breed'].replace('\\sspan\\s', ' spaniel ', regex=True)\n",
    "merge_data['Breed'] = merge_data['Breed'].replace('bel[a-z]+', 'belgian', regex=True)\n",
    "merge_data['Breed'] = merge_data['Breed'].replace('\\ssmooth co[a-z]+', '', regex=True)\n",
    "merge_data['Breed'] = merge_data['Breed'].replace('\\ssmooth', '', regex=True)\n",
    "merge_data['Breed'] = merge_data['Breed'].replace('eng\\s', 'english ', regex=True)\n",
    "merge_data['Breed'] = merge_data['Breed'].replace('\\sterr$', ' terrier', regex=True)\n",
    "merge_data['Breed'] = merge_data['Breed'].replace('\\sterr\\/', ' terrier/', regex=True)\n",
    "merge_data['Breed'] = merge_data['Breed'].replace('\\sterr\\s', ' terrier ', regex=True)\n",
    "merge_data['Breed'] = merge_data['Breed'].replace('norw\\s', 'norwegian ', regex=True)\n",
    "merge_data['Breed'] = merge_data['Breed'].replace('aust\\s', 'australian ', regex=True)\n",
    "merge_data['Breed'] = merge_data['Breed'].replace('germ\\s', 'german ', regex=True)\n",
    "merge_data['Breed'] = merge_data['Breed'].replace('retr$', 'retriever', regex=True)\n",
    "merge_data['Breed'] = merge_data['Breed'].replace('retr\\s', 'retriever ', regex=True)\n",
    "merge_data['Breed'] = merge_data['Breed'].replace('retr\\/', 'retriever/', regex=True)\n",
    "merge_data['Breed'] = merge_data['Breed'].replace('\\srough co[a-z]+', '', regex=True)\n",
    "merge_data['Breed'] = merge_data['Breed'].replace('\\srough', '', regex=True)\n",
    "merge_data['Breed'] = merge_data['Breed'].replace('\\sshorthair mix', ' mix', regex=True)\n",
    "merge_data['Breed'] = merge_data['Breed'].replace('\\sshorthair$', '', regex=True)\n",
    "merge_data['Breed'] = merge_data['Breed'].replace('\\sshorthair\\/', '/', regex=True)\n",
    "merge_data['Breed'] = merge_data['Breed'].replace('shortha[a-z]+', 'shorthaired', regex=True)\n",
    "merge_data['Breed'] = merge_data['Breed'].replace('min$', 'miniature', regex=True)\n",
    "merge_data['Breed'] = merge_data['Breed'].replace('min\\/', 'miniature/', regex=True)\n",
    "merge_data['Breed'] = merge_data['Breed'].replace('\\/min ', '/miniature ', regex=True)\n",
    "merge_data['Breed'] = merge_data['Breed'].replace('^min ', 'miniature ', regex=True)\n",
    "merge_data['Breed'] = merge_data['Breed'].replace('sheepdg', 'sheepdog', regex=True)\n",
    "merge_data['Breed'] = merge_data['Breed'].replace('\\spem$', '', regex=True)\n",
    "merge_data['Breed'] = merge_data['Breed'].replace('\\spem\\/', '/', regex=True)\n",
    "merge_data['Breed'] = merge_data['Breed'].replace('^stan[a-z]*\\s', '', regex=True)\n",
    "merge_data['Breed'] = merge_data['Breed'].replace('\\/stan[a-z]*\\s', '/', regex=True)\n",
    "merge_data['Breed'] = merge_data['Breed'].replace('\\sstan[a-z]*', '', regex=True)\n",
    "merge_data['Breed'] = merge_data['Breed'].replace(' stan', '', regex=True)\n",
    "merge_data['Breed'] = merge_data['Breed'].replace('mtn', 'mountain', regex=True)\n",
    "merge_data['Breed'] = merge_data['Breed'].replace('scot\\s', 'scottish ', regex=True)\n",
    "merge_data['Breed'] = merge_data['Breed'].replace('bruss\\s', 'brussels ', regex = True)\n",
    "merge_data['Breed'] = merge_data['Breed'].replace('mixed', 'mix', regex=True)\n",
    "merge_data['Breed'] = merge_data['Breed'].replace('ns duck tolling', 'nova scotia duck tolling retriever', regex=True)\n",
    "merge_data['Breed'] = merge_data['Breed'].replace('bordx', 'bordeaux', regex=True)\n",
    "merge_data['Breed'] = merge_data['Breed'].replace(' russ ', ' russell ', regex=True)\n",
    "merge_data['Breed'] = merge_data['Breed'].replace(' stnd', '', regex=True)\n",
    "merge_data['Breed'] = merge_data['Breed'].replace('\\swireha[a-z]+', '', regex=True)\n",
    "merge_data['Breed'] = merge_data['Breed'].replace('\\swire ha[a-z]+', '', regex=True)\n",
    "merge_data['Breed'] = merge_data['Breed'].replace('wire ha[a-z]+\\s', '', regex=True)\n",
    "merge_data['Breed'] = merge_data['Breed'].replace('\\swire\\s', ' ', regex=True)\n",
    "merge_data['Breed'] = merge_data['Breed'].replace('\\swire\\/', '/', regex=True)\n",
    "merge_data['Breed'] = merge_data['Breed'].replace('\\swire$', '', regex=True)\n",
    "merge_data['Breed'] = merge_data['Breed'].replace('\\spembroke', '', regex=True)\n",
    "merge_data['Breed'] = merge_data['Breed'].replace('pembroke\\s', '', regex=True)\n",
    "merge_data['Breed'] = merge_data['Breed'].replace('\\ster$', ' terrier', regex=True)\n",
    "merge_data['Breed'] = merge_data['Breed'].replace('\\ster\\/', ' terrier/', regex=True)\n",
    "merge_data['Breed'] = merge_data['Breed'].replace('pitt bull & lab', 'mix', regex=True)\n",
    "merge_data['Breed'] = merge_data['Breed'].replace('labrador & gold', 'sporting mix', regex=True)\n",
    "merge_data['Breed'] = merge_data['Breed'].replace('\\s& mix', ' mix', regex=True)\n",
    "merge_data['Breed'] = merge_data['Breed'].replace('\\srgh', '', regex=True)\n",
    "merge_data['Breed'] = merge_data['Breed'].replace('\\ssmth', '', regex=True)\n",
    "merge_data['Breed'] = merge_data['Breed'].replace('\\scorgi ca[a-z]+', ' corgi', regex=True)\n",
    "merge_data['Breed'] = merge_data['Breed'].replace('black\\/tan', 'black & tan', regex=True)\n",
    "merge_data['Breed'] = merge_data['Breed'].replace('oldenglish', 'old english', regex=True)\n",
    "merge_data['Breed'] = merge_data['Breed'].replace('coonound', 'coonhound', regex=True)\n",
    "merge_data['Breed'] = merge_data['Breed'].replace('(\\w+\\s)+coonhound', 'coonhound', regex=True)\n",
    "merge_data['Breed'] = merge_data['Breed'].replace('(\\w+\\s)*pit\\sbull(\\sterrier)*', 'pitbull', regex=True)\n",
    "merge_data['Breed'] = merge_data['Breed'].replace('coonound', 'coonhound', regex=True)\n",
    "merge_data['Breed'] = merge_data['Breed'].replace('alask\\s', 'alaskan ', regex=True)\n",
    "merge_data['Breed'] = merge_data['Breed'].replace('chesa\\s', 'chesapeake ', regex=True)\n",
    "merge_data['Breed'] = merge_data['Breed'].replace('bouv\\s', 'bouvier des ', regex=True)\n",
    "merge_data['Breed'] = merge_data['Breed'].replace('\\sspr\\s', ' springer ', regex=True)\n",
    "merge_data['Breed'] = merge_data['Breed'].replace('curlycoat\\s', 'curly coated ', regex=True)\n",
    "merge_data['Breed'] = merge_data['Breed'].replace('swed\\s', 'swedish ', regex=True)"
   ]
  },
  {
   "cell_type": "code",
   "execution_count": 56,
   "metadata": {},
   "outputs": [],
   "source": [
    "herding = ['english shepherd', 'dutch sheepdog', 'australian kelpie', 'shetld sheepdog',\n",
    "           'polish lowland', 'maremma sheepdog', 'entlebucher', 'shepherd',\n",
    "           'belgian malinoi', 'picardy sheepdog', 'hovawart', 'bernese hound',  'welsh corgi',\n",
    "           'border collie x',  'kangal',  'treeing cur',  'black mouth cur']\n",
    "\n",
    "hound = ['bluetick hound', 'plott hound', 'podengo pequeno', 'podengo portugueso pequeno',\n",
    "         'rhod ridgeback', 'dachshund wh', 'redbone hound', 'black & tan hound',\n",
    "         'coonhound', 'treeing tennesse brindle', 'tennesee treeing brindle hound', \n",
    "         'carolina','korean jindo', 'tenn tr brindle', 'swiss hound', 'tr walker hound', 'jindo',\n",
    "        'finnish spitz', 'catahoula leopard hound',  'rhodesian ridge',  'cirneco']\n",
    "           \n",
    "toy = ['chihuahua sh', 'ital greyhound', 'miniature poodle',\n",
    "       'poodle toy', 'toy poodle', 'poodle miniature', 'cavalier spaniel',\n",
    "       'schnauzer miniature', 'miniature schnauzer', 'bull terrier miniature', \n",
    "       'pekapoo', 'pbgv', 'cocker poo',  'ocherese']\n",
    "           \n",
    "nonsporting = ['american bulldog', 'english bulldog', 'american eskimo', \n",
    "               'old english bulldog', 'mexican hairless']\n",
    "\n",
    "sporting = ['flat coat retriever', 'german sh point', 'german wh point',\n",
    "            'english pointer', 'english sprngr spaniel', 'pointing griffon',\n",
    "            'german pointer', 'cocker american',  'karelian bear',\n",
    "            'english sprngr spaniel',  'wh pt griffon']\n",
    "           \n",
    "terrier = ['american staff', 'staffordshire', 'jack russell', 'jack russell terrier',\n",
    "            'patterdale terrier', 'jack', 'west highland', 'glen of imaal',\n",
    "          'dandie dinmont', 'fox terrier',  'yorkshire',  'sc wheat terrier']\n",
    "           \n",
    "working = ['alaskan husky', 'st bernard', 'catahoula', 'alaskan klee kai',\n",
    "           'anatol shepherd', 'schnauzer giant', 'alask malamute', 'schnauzer',\n",
    "           'doberman pinsch', 'port water', 'blue lacy', 'gr swiss mountain', \n",
    "            'great pyreneese', 'spanish mastiff', 'fila brasileiro',  'presa canario']\n",
    "           \n",
    "miscellaneous = ['munsterlander', 'chinese sharpei', 'queensland heel', 'akbash', \n",
    "                 'wolf hybrid', 'tosa', 'landseer', 'queensland heeler', 'unknown',\n",
    "                 'feist', 'pitbull', 'wolf']\n",
    "\n",
    "breed_type['herding'].extend(herding)\n",
    "breed_type['hound'].extend(hound)\n",
    "breed_type['toy'].extend(toy)\n",
    "breed_type['non-sporting'].extend(nonsporting)\n",
    "breed_type['sporting'].extend(sporting)\n",
    "breed_type['terrier'].extend(terrier)\n",
    "breed_type['working'].extend(working)\n",
    "breed_type['miscellaneous'].extend(miscellaneous)"
   ]
  },
  {
   "cell_type": "code",
   "execution_count": 57,
   "metadata": {},
   "outputs": [],
   "source": [
    "#categorized breed into groups\n",
    "def DogGrouping1(x):\n",
    "    \"\"\"categorize breed into dog groups starting by classifying mix breeds\"\"\"\n",
    "    if '/' in x:\n",
    "        breedmix = x.split('/')\n",
    "        for ind, dogbreed in enumerate(breedmix):\n",
    "            for group, breed in breed_type.items():\n",
    "                if dogbreed in breed:\n",
    "                    breedmix[ind] = group\n",
    "                    break\n",
    "        if breedmix[0] == breedmix[1] or breedmix[1] =='mix':\n",
    "            return breedmix[0] + ' mix'\n",
    "        elif breedmix[1] == 'pure bred':\n",
    "            return breedmix[0]\n",
    "        else:\n",
    "            return 'mix'\n",
    "    elif ' mix' == x[-4:]:\n",
    "        for group, breed in breed_type.items():\n",
    "            if x[:-4] in breed:\n",
    "                return group + ' mix'\n",
    "            else:\n",
    "                pass\n",
    "        return x\n",
    "    else:\n",
    "        return x\n",
    "        \n",
    "merge_data['Breed'] = merge_data['Breed'].apply(DogGrouping1)"
   ]
  },
  {
   "cell_type": "code",
   "execution_count": 58,
   "metadata": {},
   "outputs": [],
   "source": [
    "#classifying mix dogs of the same breed\n",
    "def DogGrouping2(x):\n",
    "    for group, breed in breed_type.items():\n",
    "        if x in breed:\n",
    "            return group\n",
    "        else:\n",
    "            pass\n",
    "    return x\n",
    "merge_data['Breed'] = merge_data['Breed'].apply(DogGrouping2)"
   ]
  },
  {
   "cell_type": "code",
   "execution_count": 59,
   "metadata": {
    "scrolled": false
   },
   "outputs": [
    {
     "data": {
      "text/plain": [
       "array(['sporting mix', 'terrier mix', 'hound mix', 'sporting',\n",
       "       'working mix', 'toy mix', 'miscellaneous mix', 'herding mix',\n",
       "       'mix', 'working', 'non-sporting mix', 'non-sporting',\n",
       "       'miscellaneous', 'herding', 'hound', 'toy', 'terrier'],\n",
       "      dtype=object)"
      ]
     },
     "execution_count": 59,
     "metadata": {},
     "output_type": "execute_result"
    }
   ],
   "source": [
    "#validate category of Breed feature\n",
    "merge_data.Breed.unique()"
   ]
  },
  {
   "cell_type": "code",
   "execution_count": 60,
   "metadata": {},
   "outputs": [],
   "source": [
    "#classifying breed purity\n",
    "def pure_mix(x):\n",
    "    if 'mix' in x:\n",
    "        return 'mix'\n",
    "    else:\n",
    "        return 'pure'\n",
    "merge_data['Pure/Mix'] = merge_data['Breed'].apply(pure_mix)"
   ]
  },
  {
   "cell_type": "code",
   "execution_count": 61,
   "metadata": {},
   "outputs": [],
   "source": [
    "merge_data['Breed'] = merge_data['Breed'].replace(' mix', '', regex = True)"
   ]
  },
  {
   "cell_type": "code",
   "execution_count": 62,
   "metadata": {},
   "outputs": [
    {
     "name": "stdout",
     "output_type": "stream",
     "text": [
      "['cream', 'white', 'blue merle', 'black', 'brown', 'tan', 'red tick', 'tricolor', 'red', 'blue tick', 'brown brindle', 'gray', 'chocolate', 'fawn', 'blue', 'gold', 'yellow', 'sable', 'brown merle', 'silver', 'black brindle', 'buff', 'blue tiger', 'black smoke', 'apricot', 'brown tiger', 'red merle', 'liver', 'blue smoke', 'yellow brindle', 'liver tick', 'orange', 'black tiger', 'calico', 'blue cream', 'agouti', 'tortie', 'brown tabby', 'pink', 'gray tiger', 'ruddy', 'muted', 'green', 'solid', 'blonde', 'brindle', 'unknown', 'beige', 'mohagany', 'blue ticked', ' ', 'cream tiger', 'champaign', 'liver ticked', 'nan', 'tortie point', 'merle', 'seal point', 'red ticked', 'lilac point', 'orange tiger', 'chocolate point', 'br brindle', 'blk smoke', 'y brindle', 'bl brindle', 'brn merle']\n"
     ]
    }
   ],
   "source": [
    "#determined distinct colors in color feature\n",
    "merge_data['Color'] = merge_data['Color'].astype(str)\n",
    "color = []\n",
    "for i, row in merge_data.iterrows():\n",
    "    if '/' in row['Color']:\n",
    "        splits = row['Color'].split('/')\n",
    "        if splits[0] not in color: \n",
    "            color.append(splits[0])\n",
    "        if splits[1] not in color:\n",
    "            color.append(splits[1])\n",
    "    else:\n",
    "        if row['Color'] not in color:\n",
    "            color.append(row['Color'])\n",
    "print(color)"
   ]
  },
  {
   "cell_type": "code",
   "execution_count": 63,
   "metadata": {},
   "outputs": [],
   "source": [
    "#feature engineer color feature\n",
    "merge_data['Color'] = merge_data['Color'].replace('brn', 'brown', regex = True)\n",
    "merge_data['Color'] = merge_data['Color'].replace('br ', 'brown ', regex = True)\n",
    "merge_data['Color'] = merge_data['Color'].replace('bl ', 'black ', regex = True)\n",
    "merge_data['Color'] = merge_data['Color'].replace('y brindle', 'yellow brindle', regex = True)\n",
    "merge_data['Color'] = merge_data['Color'].replace('ticked', 'tick', regex = True)\n",
    "merge_data['Color'] = merge_data['Color'].replace('tiger', 'brindle', regex = True)\n",
    "merge_data['Color'] = merge_data['Color'].replace('blk', 'black', regex = True)\n",
    "merge_data['Color'] = merge_data['Color'].replace('tabby', 'brindle', regex = True)\n",
    "merge_data['Color'] = merge_data['Color'].replace('muted', '', regex = True)\n",
    "merge_data['Color'] = merge_data['Color'].replace('blue cream', 'blue', regex = True)\n",
    "merge_data['Color'] = merge_data['Color'].replace('\\s?point', '', regex = True)\n",
    "merge_data['Color'] = merge_data['Color'].replace('calico', 'mix', regex = True)"
   ]
  },
  {
   "cell_type": "code",
   "execution_count": 64,
   "metadata": {},
   "outputs": [],
   "source": [
    "#create pattern feature from splitting color column\n",
    "merge_data['Pattern'] = 'unknown'\n",
    "\n",
    "for i, row in merge_data.iterrows():\n",
    "    for pattern in ['solid', 'sable', 'tick','tortie', 'saddle','merle', 'brindle', 'tricolor']:\n",
    "        if pattern in row['Color']:\n",
    "            merge_data.at[i, 'Pattern'] == pattern"
   ]
  },
  {
   "cell_type": "code",
   "execution_count": 65,
   "metadata": {},
   "outputs": [],
   "source": [
    "#remove pattern feature from color column\n",
    "merge_data['Color'] = merge_data['Color'].replace(' tick', '', regex = True)\n",
    "merge_data['Color'] = merge_data['Color'].replace('tick', '', regex = True)\n",
    "merge_data['Color'] = merge_data['Color'].replace(' brindle', '', regex = True)\n",
    "merge_data['Color'] = merge_data['Color'].replace('brindle', '', regex = True)\n",
    "merge_data['Color'] = merge_data['Color'].replace(' tricolor', '', regex = True)\n",
    "merge_data['Color'] = merge_data['Color'].replace('tricolor', '', regex = True)\n",
    "merge_data['Color'] = merge_data['Color'].replace(' merle', '', regex = True)\n",
    "merge_data['Color'] = merge_data['Color'].replace('merle', '', regex = True)\n",
    "merge_data['Color'] = merge_data['Color'].replace(' saddle', '', regex = True)\n",
    "merge_data['Color'] = merge_data['Color'].replace('saddle', '', regex = True)\n",
    "merge_data['Color'] = merge_data['Color'].replace(' sable', '', regex = True)\n",
    "merge_data['Color'] = merge_data['Color'].replace('sable', '', regex = True)\n",
    "merge_data['Color'] = merge_data['Color'].replace(' solid', '', regex = True)\n",
    "merge_data['Color'] = merge_data['Color'].replace('solid', '', regex = True)\n",
    "merge_data['Color'] = merge_data['Color'].replace(' smoke', '', regex = True)\n",
    "merge_data['Color'] = merge_data['Color'].replace('tortie ', '', regex = True)\n",
    "merge_data['Color'] = merge_data['Color'].replace('tortie', '', regex = True)\n",
    "merge_data['Color'] = merge_data['Color'].replace('/$', '', regex = True)\n",
    "merge_data['Color'] = merge_data['Color'].replace('/ ', '', regex = True)\n",
    "merge_data['Color'] = merge_data['Color'].replace('^/', '', regex = True)"
   ]
  },
  {
   "cell_type": "code",
   "execution_count": 66,
   "metadata": {},
   "outputs": [],
   "source": [
    "#merge similar color to principal color\n",
    "def GeneralizedColor(x):\n",
    "    for brown in ['chocolate', 'liver', 'seal', 'mohagany']:\n",
    "        if brown in x:\n",
    "            return x.replace(brown, 'brown')\n",
    "        else:\n",
    "            pass\n",
    "    if 'cream' in x:\n",
    "        return x.replace('cream', 'white')\n",
    "    else:\n",
    "        pass\n",
    "    for red in ['orange', 'tan', 'apricot', 'pink', 'ruddy']:\n",
    "        if red in x:\n",
    "            return x.replace(red, 'red')\n",
    "        else:\n",
    "            pass\n",
    "    for yellow in ['blonde', 'gold', 'beige', 'champaign', 'buff', 'fawn']:\n",
    "        if yellow in x:\n",
    "            return x.replace(yellow, 'yellow')\n",
    "        else:\n",
    "            pass\n",
    "    for grey in ['silver', 'agouti', 'gray', 'lilac']:\n",
    "        if grey in x:\n",
    "            return x.replace(grey, 'grey')\n",
    "        else:\n",
    "            pass\n",
    "    return x\n",
    "\n",
    "merge_data['Color'] = merge_data['Color'].apply(GeneralizedColor)"
   ]
  },
  {
   "cell_type": "code",
   "execution_count": 67,
   "metadata": {},
   "outputs": [],
   "source": [
    "#merge similar color to principal color\n",
    "def MergeColor(x):\n",
    "    if '/' in x:\n",
    "        splits = x.split('/')\n",
    "        if splits[0] == splits[1]:\n",
    "            return splits[0]\n",
    "        else:\n",
    "            return 'mix'\n",
    "    else:\n",
    "        pass\n",
    "    if x == '' or x == 'nan':\n",
    "        return 'unknown'\n",
    "    else:\n",
    "        return x\n",
    "\n",
    "merge_data['Color'] = merge_data['Color'].apply(MergeColor)"
   ]
  },
  {
   "cell_type": "code",
   "execution_count": 68,
   "metadata": {},
   "outputs": [
    {
     "data": {
      "text/plain": [
       "array(['white', 'mix', 'brown', 'unknown', 'red', 'black', 'blue',\n",
       "       'yellow', 'grey'], dtype=object)"
      ]
     },
     "execution_count": 68,
     "metadata": {},
     "output_type": "execute_result"
    }
   ],
   "source": [
    "#validate color\n",
    "merge_data.Color.unique()"
   ]
  },
  {
   "cell_type": "code",
   "execution_count": 69,
   "metadata": {},
   "outputs": [],
   "source": [
    "#create an age feature\n",
    "merge_data['Age'] = merge_data['Outcome_Date'].sub(merge_data['DOB'], axis = 0).dt.days"
   ]
  },
  {
   "cell_type": "code",
   "execution_count": 70,
   "metadata": {},
   "outputs": [],
   "source": [
    "#create an outcome month/year feature\n",
    "merge_data['Outcome_Month'] = merge_data.Outcome_Date.dt.month\n",
    "merge_data['Outcome_Year'] = merge_data.Outcome_Date.dt.year\n",
    "merge_data['Outcome_Date'] = merge_data['Outcome_Date'].dt.strftime('%Y-%m')"
   ]
  },
  {
   "cell_type": "code",
   "execution_count": 71,
   "metadata": {},
   "outputs": [],
   "source": [
    "#create an income month feature\n",
    "merge_data['Intake_month'] = merge_data.Intake_Date.dt.month\n",
    "merge_data['Intake_Date'] = merge_data['Intake_Date'].dt.strftime('%Y-%m')"
   ]
  },
  {
   "cell_type": "code",
   "execution_count": 72,
   "metadata": {},
   "outputs": [],
   "source": [
    "#remove unused features\n",
    "merge_data = merge_data.drop(columns = ['DOB', 'index'])"
   ]
  },
  {
   "cell_type": "markdown",
   "metadata": {},
   "source": [
    "Even though some features still have NA values, I chose to leave them to provide an analysis on how some of these features I consider important would have on outcome types"
   ]
  },
  {
   "cell_type": "code",
   "execution_count": 73,
   "metadata": {},
   "outputs": [
    {
     "data": {
      "text/html": [
       "<div>\n",
       "<style scoped>\n",
       "    .dataframe tbody tr th:only-of-type {\n",
       "        vertical-align: middle;\n",
       "    }\n",
       "\n",
       "    .dataframe tbody tr th {\n",
       "        vertical-align: top;\n",
       "    }\n",
       "\n",
       "    .dataframe thead th {\n",
       "        text-align: right;\n",
       "    }\n",
       "</style>\n",
       "<table border=\"1\" class=\"dataframe\">\n",
       "  <thead>\n",
       "    <tr style=\"text-align: right;\">\n",
       "      <th></th>\n",
       "      <th>Age</th>\n",
       "      <th>Outcome_Month</th>\n",
       "      <th>Outcome_Year</th>\n",
       "      <th>Intake_month</th>\n",
       "    </tr>\n",
       "  </thead>\n",
       "  <tbody>\n",
       "    <tr>\n",
       "      <th>count</th>\n",
       "      <td>116307.000000</td>\n",
       "      <td>166977.000000</td>\n",
       "      <td>166977.000000</td>\n",
       "      <td>112088.000000</td>\n",
       "    </tr>\n",
       "    <tr>\n",
       "      <th>mean</th>\n",
       "      <td>1165.932661</td>\n",
       "      <td>6.530881</td>\n",
       "      <td>2013.498398</td>\n",
       "      <td>6.508386</td>\n",
       "    </tr>\n",
       "    <tr>\n",
       "      <th>std</th>\n",
       "      <td>1284.308977</td>\n",
       "      <td>3.421984</td>\n",
       "      <td>3.928726</td>\n",
       "      <td>3.350609</td>\n",
       "    </tr>\n",
       "    <tr>\n",
       "      <th>min</th>\n",
       "      <td>-2921.000000</td>\n",
       "      <td>1.000000</td>\n",
       "      <td>1950.000000</td>\n",
       "      <td>1.000000</td>\n",
       "    </tr>\n",
       "    <tr>\n",
       "      <th>25%</th>\n",
       "      <td>308.000000</td>\n",
       "      <td>4.000000</td>\n",
       "      <td>2010.000000</td>\n",
       "      <td>4.000000</td>\n",
       "    </tr>\n",
       "    <tr>\n",
       "      <th>50%</th>\n",
       "      <td>734.000000</td>\n",
       "      <td>7.000000</td>\n",
       "      <td>2015.000000</td>\n",
       "      <td>7.000000</td>\n",
       "    </tr>\n",
       "    <tr>\n",
       "      <th>75%</th>\n",
       "      <td>1505.000000</td>\n",
       "      <td>9.000000</td>\n",
       "      <td>2017.000000</td>\n",
       "      <td>9.000000</td>\n",
       "    </tr>\n",
       "    <tr>\n",
       "      <th>max</th>\n",
       "      <td>14075.000000</td>\n",
       "      <td>12.000000</td>\n",
       "      <td>2019.000000</td>\n",
       "      <td>12.000000</td>\n",
       "    </tr>\n",
       "  </tbody>\n",
       "</table>\n",
       "</div>"
      ],
      "text/plain": [
       "                 Age  Outcome_Month   Outcome_Year   Intake_month\n",
       "count  116307.000000  166977.000000  166977.000000  112088.000000\n",
       "mean     1165.932661       6.530881    2013.498398       6.508386\n",
       "std      1284.308977       3.421984       3.928726       3.350609\n",
       "min     -2921.000000       1.000000    1950.000000       1.000000\n",
       "25%       308.000000       4.000000    2010.000000       4.000000\n",
       "50%       734.000000       7.000000    2015.000000       7.000000\n",
       "75%      1505.000000       9.000000    2017.000000       9.000000\n",
       "max     14075.000000      12.000000    2019.000000      12.000000"
      ]
     },
     "execution_count": 73,
     "metadata": {},
     "output_type": "execute_result"
    }
   ],
   "source": [
    "merge_data.describe()"
   ]
  },
  {
   "cell_type": "code",
   "execution_count": 74,
   "metadata": {},
   "outputs": [],
   "source": [
    "#remove mislabeled age of less than 0 days old\n",
    "index = merge_data.Age < 0\n",
    "merge_data = merge_data[~index]"
   ]
  },
  {
   "cell_type": "code",
   "execution_count": 75,
   "metadata": {},
   "outputs": [],
   "source": [
    "#removed mislabeled age of more than 7300 days old (20yo)\n",
    "index = merge_data.Age > 7300\n",
    "merge_data = merge_data[~index]"
   ]
  },
  {
   "cell_type": "markdown",
   "metadata": {},
   "source": [
    "Age below 0 day and above 7300 days (20 years old) were considered mislabeled and dropped. Another alternative is to set to set to average"
   ]
  },
  {
   "cell_type": "code",
   "execution_count": 76,
   "metadata": {},
   "outputs": [
    {
     "name": "stdout",
     "output_type": "stream",
     "text": [
      "<class 'pandas.core.frame.DataFrame'>\n",
      "Int64Index: 166985 entries, 4 to 298443\n",
      "Data columns (total 19 columns):\n",
      "Breed             166985 non-null object\n",
      "Chip_Status       26043 non-null object\n",
      "Color             166985 non-null object\n",
      "Health            110972 non-null object\n",
      "Intake_Date       166985 non-null object\n",
      "Intake_Status     76753 non-null object\n",
      "Intake_Subtype    107727 non-null object\n",
      "Intake_Type       111931 non-null object\n",
      "Location          166985 non-null object\n",
      "Outcome_Date      166985 non-null object\n",
      "Outcome_Type      166985 non-null object\n",
      "Sex               140941 non-null object\n",
      "Neutered/Spay     166985 non-null object\n",
      "Pure/Mix          166985 non-null object\n",
      "Pattern           166985 non-null object\n",
      "Age               116138 non-null float64\n",
      "Outcome_Month     166808 non-null float64\n",
      "Outcome_Year      166808 non-null float64\n",
      "Intake_month      111931 non-null float64\n",
      "dtypes: float64(4), object(15)\n",
      "memory usage: 25.5+ MB\n"
     ]
    }
   ],
   "source": [
    "merge_data.info()"
   ]
  },
  {
   "cell_type": "markdown",
   "metadata": {},
   "source": [
    "The final dataset shows many features with missing values. However, the missing values are result of missing feature information for some location. We can just ignore the missing values and analyze by location"
   ]
  },
  {
   "cell_type": "code",
   "execution_count": 77,
   "metadata": {},
   "outputs": [],
   "source": [
    "merge_data.to_csv('../Data/Processed/Processed_Data.csv')"
   ]
  },
  {
   "cell_type": "markdown",
   "metadata": {},
   "source": [
    "## Wrangling process\n",
    "The process of wrangling began by investigating the features and eliminating obvious unimportant features from each datasets. Such features include the ID numbers, names, impound numbers, etc. Features with unknown importance were maintained to investigate in the EDA portion of the dataset to determine correlation. In the Louisville dataset, colors and breeds were formated into primary and secondary features. The features were merged in a format consistent with other datasets.\n",
    "\n",
    "After merging the dataset, inconsistent naming pops out as the primary problem in the merged dataset. Regular expression were used primarily to normalized the naming process as well as simplifying the naming. Since the breed feature have over 4000 distinct categories, American Kennel Club's dog grouping was used to categorized animals breeds. The groups include hound, herding, sporting, non-sporting, working, terrier, toy and miscellaneous. Mix groups were categorized as mixes of the american kennel club groups such as hounding mix or sporting mix. Mixes of different groups were categorized as 'mix'. This eliminates feature categories to 17 categories. This method was similarly applied to the color feature. However, the coating pattern was separated from the color into a pattern column. For colors without coating decription was labeled as 'unknown'. The Age feature was generated from the difference of Outcome Date feature and Date of Birth (DOB) feature. Other features were also cleaned.\n",
    "\n",
    "Since only Breed, Location, Outcome Date and Outcome Type were the only common features from all the datasets, other important features were not eliminated to diversify the modeling and investigating features on modeling acurracy and they were kept for analysis. "
   ]
  },
  {
   "cell_type": "code",
   "execution_count": null,
   "metadata": {},
   "outputs": [],
   "source": []
  }
 ],
 "metadata": {
  "kernelspec": {
   "display_name": "Python 3",
   "language": "python",
   "name": "python3"
  },
  "language_info": {
   "codemirror_mode": {
    "name": "ipython",
    "version": 3
   },
   "file_extension": ".py",
   "mimetype": "text/x-python",
   "name": "python",
   "nbconvert_exporter": "python",
   "pygments_lexer": "ipython3",
   "version": "3.7.5"
  }
 },
 "nbformat": 4,
 "nbformat_minor": 2
}
