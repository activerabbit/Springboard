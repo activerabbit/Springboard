{
 "cells": [
  {
   "cell_type": "markdown",
   "metadata": {},
   "source": [
    "# Table of Contents\n",
    "1. [Data Wrangling](#Data_wrangling)<br>\n",
    "    1a. [Dataframe cleaning](#cleaning)<br>\n",
    "    1b. [Text preprocessing](#text)<br>\n",
    "\n",
    "\n",
    "2. [EDA and Statistical Analysis](#EDA)<br>\n",
    "    2a. [Cost](#Cost)<br>\n",
    "    2b. [Host and Transportation](#Host)<br>\n",
    "    2c. [Bedroom](#Bed)<br>\n",
    "    2d. [Bathroom](#Bath)<br>\n",
    "    2e. [Time as Host](#Time)<br>\n",
    "    2f. [Score Rating](#Rate)<br>\n",
    "    2g. [Cleaniness Rating](#clean)<br>\n",
    "    2h. [Bigram Analysis](#Bigram)<br>\n",
    "    \n",
    "\n",
    "3. [Machine Learning](#Learning)"
   ]
  },
  {
   "cell_type": "code",
   "execution_count": 1,
   "metadata": {},
   "outputs": [
    {
     "name": "stderr",
     "output_type": "stream",
     "text": [
      "Using TensorFlow backend.\n",
      "C:\\Users\\sadmin\\Anaconda3\\lib\\site-packages\\tensorflow\\python\\framework\\dtypes.py:516: FutureWarning: Passing (type, 1) or '1type' as a synonym of type is deprecated; in a future version of numpy, it will be understood as (type, (1,)) / '(1,)type'.\n",
      "  _np_qint8 = np.dtype([(\"qint8\", np.int8, 1)])\n",
      "C:\\Users\\sadmin\\Anaconda3\\lib\\site-packages\\tensorflow\\python\\framework\\dtypes.py:517: FutureWarning: Passing (type, 1) or '1type' as a synonym of type is deprecated; in a future version of numpy, it will be understood as (type, (1,)) / '(1,)type'.\n",
      "  _np_quint8 = np.dtype([(\"quint8\", np.uint8, 1)])\n",
      "C:\\Users\\sadmin\\Anaconda3\\lib\\site-packages\\tensorflow\\python\\framework\\dtypes.py:518: FutureWarning: Passing (type, 1) or '1type' as a synonym of type is deprecated; in a future version of numpy, it will be understood as (type, (1,)) / '(1,)type'.\n",
      "  _np_qint16 = np.dtype([(\"qint16\", np.int16, 1)])\n",
      "C:\\Users\\sadmin\\Anaconda3\\lib\\site-packages\\tensorflow\\python\\framework\\dtypes.py:519: FutureWarning: Passing (type, 1) or '1type' as a synonym of type is deprecated; in a future version of numpy, it will be understood as (type, (1,)) / '(1,)type'.\n",
      "  _np_quint16 = np.dtype([(\"quint16\", np.uint16, 1)])\n",
      "C:\\Users\\sadmin\\Anaconda3\\lib\\site-packages\\tensorflow\\python\\framework\\dtypes.py:520: FutureWarning: Passing (type, 1) or '1type' as a synonym of type is deprecated; in a future version of numpy, it will be understood as (type, (1,)) / '(1,)type'.\n",
      "  _np_qint32 = np.dtype([(\"qint32\", np.int32, 1)])\n",
      "C:\\Users\\sadmin\\Anaconda3\\lib\\site-packages\\tensorflow\\python\\framework\\dtypes.py:525: FutureWarning: Passing (type, 1) or '1type' as a synonym of type is deprecated; in a future version of numpy, it will be understood as (type, (1,)) / '(1,)type'.\n",
      "  np_resource = np.dtype([(\"resource\", np.ubyte, 1)])\n",
      "C:\\Users\\sadmin\\Anaconda3\\lib\\site-packages\\tensorboard\\compat\\tensorflow_stub\\dtypes.py:541: FutureWarning: Passing (type, 1) or '1type' as a synonym of type is deprecated; in a future version of numpy, it will be understood as (type, (1,)) / '(1,)type'.\n",
      "  _np_qint8 = np.dtype([(\"qint8\", np.int8, 1)])\n",
      "C:\\Users\\sadmin\\Anaconda3\\lib\\site-packages\\tensorboard\\compat\\tensorflow_stub\\dtypes.py:542: FutureWarning: Passing (type, 1) or '1type' as a synonym of type is deprecated; in a future version of numpy, it will be understood as (type, (1,)) / '(1,)type'.\n",
      "  _np_quint8 = np.dtype([(\"quint8\", np.uint8, 1)])\n",
      "C:\\Users\\sadmin\\Anaconda3\\lib\\site-packages\\tensorboard\\compat\\tensorflow_stub\\dtypes.py:543: FutureWarning: Passing (type, 1) or '1type' as a synonym of type is deprecated; in a future version of numpy, it will be understood as (type, (1,)) / '(1,)type'.\n",
      "  _np_qint16 = np.dtype([(\"qint16\", np.int16, 1)])\n",
      "C:\\Users\\sadmin\\Anaconda3\\lib\\site-packages\\tensorboard\\compat\\tensorflow_stub\\dtypes.py:544: FutureWarning: Passing (type, 1) or '1type' as a synonym of type is deprecated; in a future version of numpy, it will be understood as (type, (1,)) / '(1,)type'.\n",
      "  _np_quint16 = np.dtype([(\"quint16\", np.uint16, 1)])\n",
      "C:\\Users\\sadmin\\Anaconda3\\lib\\site-packages\\tensorboard\\compat\\tensorflow_stub\\dtypes.py:545: FutureWarning: Passing (type, 1) or '1type' as a synonym of type is deprecated; in a future version of numpy, it will be understood as (type, (1,)) / '(1,)type'.\n",
      "  _np_qint32 = np.dtype([(\"qint32\", np.int32, 1)])\n",
      "C:\\Users\\sadmin\\Anaconda3\\lib\\site-packages\\tensorboard\\compat\\tensorflow_stub\\dtypes.py:550: FutureWarning: Passing (type, 1) or '1type' as a synonym of type is deprecated; in a future version of numpy, it will be understood as (type, (1,)) / '(1,)type'.\n",
      "  np_resource = np.dtype([(\"resource\", np.ubyte, 1)])\n"
     ]
    }
   ],
   "source": [
    "from collections import Counter\n",
    "import pandas as pd\n",
    "from nltk.tokenize import word_tokenize\n",
    "from nltk.corpus import stopwords\n",
    "from nltk.stem.wordnet import WordNetLemmatizer\n",
    "from nltk.util import ngrams\n",
    "import matplotlib.pyplot as plt\n",
    "import seaborn as sns\n",
    "import numpy as np\n",
    "from scipy import stats\n",
    "from langdetect import detect\n",
    "from sklearn.pipeline import Pipeline\n",
    "from sklearn.compose import ColumnTransformer\n",
    "from sklearn.preprocessing import StandardScaler, OneHotEncoder, LabelBinarizer\n",
    "from sklearn.feature_selection import VarianceThreshold\n",
    "from sklearn.feature_extraction.text import TfidfVectorizer, CountVectorizer\n",
    "from sklearn.model_selection import RandomizedSearchCV, train_test_split\n",
    "from sklearn.linear_model import Ridge\n",
    "from sklearn.ensemble import RandomForestRegressor\n",
    "from sklearn.metrics import mean_absolute_error, max_error, mean_squared_error, r2_score\n",
    "from xgboost import XGBRegressor\n",
    "from keras.preprocessing.text import Tokenizer\n",
    "from keras.layers import Input, Dense, Dropout, Embedding, LSTM, Bidirectional, BatchNormalization, Activation, Concatenate\n",
    "from keras import regularizers\n",
    "from keras.preprocessing.sequence import pad_sequences\n",
    "from keras.callbacks import EarlyStopping\n",
    "from keras import Model\n",
    "from keras.optimizers import Adam"
   ]
  },
  {
   "cell_type": "markdown",
   "metadata": {},
   "source": [
    "<a id='Data_wrangling'></a>"
   ]
  },
  {
   "cell_type": "markdown",
   "metadata": {},
   "source": [
    "## 1. Data Wrangling\n",
    "\n",
    "The dataset was obtained at http://insideairbnb.com/get-the-data.html. The detailed Los Angeles listing and calendar dataset were used. <br>\n",
    "\n",
    "The data wrangling is straight forward in this dataset. First, features unrelated to target feature (number of reviews) and features with insufficient data were removed. Second, the data were clean to have proper format and length of time as host column was created. Then finally the NLP of the text data were conducted."
   ]
  },
  {
   "cell_type": "code",
   "execution_count": 2,
   "metadata": {},
   "outputs": [
    {
     "name": "stderr",
     "output_type": "stream",
     "text": [
      "C:\\Users\\sadmin\\Anaconda3\\lib\\site-packages\\IPython\\core\\interactiveshell.py:3058: DtypeWarning: Columns (61,62) have mixed types. Specify dtype option on import or set low_memory=False.\n",
      "  interactivity=interactivity, compiler=compiler, result=result)\n"
     ]
    }
   ],
   "source": [
    "#load data into a dataframe\n",
    "path1 = 'Dataset/listings.csv'\n",
    "dataset1 = pd.read_csv(path1, index_col = None, parse_dates = ['last_scraped', 'host_since'])"
   ]
  },
  {
   "cell_type": "code",
   "execution_count": 3,
   "metadata": {},
   "outputs": [
    {
     "data": {
      "text/html": [
       "<div>\n",
       "<style scoped>\n",
       "    .dataframe tbody tr th:only-of-type {\n",
       "        vertical-align: middle;\n",
       "    }\n",
       "\n",
       "    .dataframe tbody tr th {\n",
       "        vertical-align: top;\n",
       "    }\n",
       "\n",
       "    .dataframe thead th {\n",
       "        text-align: right;\n",
       "    }\n",
       "</style>\n",
       "<table border=\"1\" class=\"dataframe\">\n",
       "  <thead>\n",
       "    <tr style=\"text-align: right;\">\n",
       "      <th></th>\n",
       "      <th>id</th>\n",
       "      <th>listing_url</th>\n",
       "      <th>scrape_id</th>\n",
       "      <th>last_scraped</th>\n",
       "      <th>name</th>\n",
       "      <th>summary</th>\n",
       "      <th>space</th>\n",
       "      <th>description</th>\n",
       "      <th>experiences_offered</th>\n",
       "      <th>neighborhood_overview</th>\n",
       "      <th>...</th>\n",
       "      <th>instant_bookable</th>\n",
       "      <th>is_business_travel_ready</th>\n",
       "      <th>cancellation_policy</th>\n",
       "      <th>require_guest_profile_picture</th>\n",
       "      <th>require_guest_phone_verification</th>\n",
       "      <th>calculated_host_listings_count</th>\n",
       "      <th>calculated_host_listings_count_entire_homes</th>\n",
       "      <th>calculated_host_listings_count_private_rooms</th>\n",
       "      <th>calculated_host_listings_count_shared_rooms</th>\n",
       "      <th>reviews_per_month</th>\n",
       "    </tr>\n",
       "  </thead>\n",
       "  <tbody>\n",
       "    <tr>\n",
       "      <th>0</th>\n",
       "      <td>109</td>\n",
       "      <td>https://www.airbnb.com/rooms/109</td>\n",
       "      <td>20190914032935</td>\n",
       "      <td>2019-09-14</td>\n",
       "      <td>Amazing bright elegant condo park front *UPGRA...</td>\n",
       "      <td>*** Unit upgraded with new bamboo flooring, br...</td>\n",
       "      <td>*** Unit upgraded with new bamboo flooring, br...</td>\n",
       "      <td>*** Unit upgraded with new bamboo flooring, br...</td>\n",
       "      <td>none</td>\n",
       "      <td>NaN</td>\n",
       "      <td>...</td>\n",
       "      <td>f</td>\n",
       "      <td>f</td>\n",
       "      <td>strict_14_with_grace_period</td>\n",
       "      <td>t</td>\n",
       "      <td>f</td>\n",
       "      <td>1</td>\n",
       "      <td>1</td>\n",
       "      <td>0</td>\n",
       "      <td>0</td>\n",
       "      <td>0.02</td>\n",
       "    </tr>\n",
       "    <tr>\n",
       "      <th>1</th>\n",
       "      <td>344</td>\n",
       "      <td>https://www.airbnb.com/rooms/344</td>\n",
       "      <td>20190914032935</td>\n",
       "      <td>2019-09-14</td>\n",
       "      <td>Family perfect;Pool;Near Studios!</td>\n",
       "      <td>This home is perfect for families; aspiring ch...</td>\n",
       "      <td>Cheerful &amp; comfortable; near studios, amusemen...</td>\n",
       "      <td>This home is perfect for families; aspiring ch...</td>\n",
       "      <td>none</td>\n",
       "      <td>Quiet-yet-close to all the fun in LA! Hollywoo...</td>\n",
       "      <td>...</td>\n",
       "      <td>t</td>\n",
       "      <td>f</td>\n",
       "      <td>flexible</td>\n",
       "      <td>f</td>\n",
       "      <td>f</td>\n",
       "      <td>1</td>\n",
       "      <td>1</td>\n",
       "      <td>0</td>\n",
       "      <td>0</td>\n",
       "      <td>0.15</td>\n",
       "    </tr>\n",
       "    <tr>\n",
       "      <th>2</th>\n",
       "      <td>2708</td>\n",
       "      <td>https://www.airbnb.com/rooms/2708</td>\n",
       "      <td>20190914032935</td>\n",
       "      <td>2019-09-14</td>\n",
       "      <td>Fireplace Mirrored Mini Suit (Website hidden b...</td>\n",
       "      <td>Our best memory foam pillows you'll ever sleep...</td>\n",
       "      <td>Flickering fireplace.  Blendtec® Designer 625 ...</td>\n",
       "      <td>Our best memory foam pillows you'll ever sleep...</td>\n",
       "      <td>none</td>\n",
       "      <td>We are minutes away from the Mentor Language I...</td>\n",
       "      <td>...</td>\n",
       "      <td>t</td>\n",
       "      <td>f</td>\n",
       "      <td>strict_14_with_grace_period</td>\n",
       "      <td>f</td>\n",
       "      <td>f</td>\n",
       "      <td>2</td>\n",
       "      <td>0</td>\n",
       "      <td>2</td>\n",
       "      <td>0</td>\n",
       "      <td>0.33</td>\n",
       "    </tr>\n",
       "    <tr>\n",
       "      <th>3</th>\n",
       "      <td>2732</td>\n",
       "      <td>https://www.airbnb.com/rooms/2732</td>\n",
       "      <td>20190914032935</td>\n",
       "      <td>2019-09-14</td>\n",
       "      <td>Zen Life at the Beach</td>\n",
       "      <td>NaN</td>\n",
       "      <td>This is a three story townhouse with the follo...</td>\n",
       "      <td>This is a three story townhouse with the follo...</td>\n",
       "      <td>none</td>\n",
       "      <td>NaN</td>\n",
       "      <td>...</td>\n",
       "      <td>f</td>\n",
       "      <td>f</td>\n",
       "      <td>strict_14_with_grace_period</td>\n",
       "      <td>f</td>\n",
       "      <td>f</td>\n",
       "      <td>2</td>\n",
       "      <td>1</td>\n",
       "      <td>1</td>\n",
       "      <td>0</td>\n",
       "      <td>0.19</td>\n",
       "    </tr>\n",
       "    <tr>\n",
       "      <th>4</th>\n",
       "      <td>2864</td>\n",
       "      <td>https://www.airbnb.com/rooms/2864</td>\n",
       "      <td>20190914032935</td>\n",
       "      <td>2019-09-14</td>\n",
       "      <td>*Upscale Professional Home with Beautiful Studio*</td>\n",
       "      <td>Centrally located.... Furnished with 42 inch S...</td>\n",
       "      <td>The space is furnished with Thomasville furnit...</td>\n",
       "      <td>Centrally located.... Furnished with 42 inch S...</td>\n",
       "      <td>none</td>\n",
       "      <td>What makes the neighborhood unique is that the...</td>\n",
       "      <td>...</td>\n",
       "      <td>f</td>\n",
       "      <td>f</td>\n",
       "      <td>strict_14_with_grace_period</td>\n",
       "      <td>f</td>\n",
       "      <td>f</td>\n",
       "      <td>1</td>\n",
       "      <td>1</td>\n",
       "      <td>0</td>\n",
       "      <td>0</td>\n",
       "      <td>NaN</td>\n",
       "    </tr>\n",
       "  </tbody>\n",
       "</table>\n",
       "<p>5 rows × 106 columns</p>\n",
       "</div>"
      ],
      "text/plain": [
       "     id                        listing_url       scrape_id last_scraped  \\\n",
       "0   109   https://www.airbnb.com/rooms/109  20190914032935   2019-09-14   \n",
       "1   344   https://www.airbnb.com/rooms/344  20190914032935   2019-09-14   \n",
       "2  2708  https://www.airbnb.com/rooms/2708  20190914032935   2019-09-14   \n",
       "3  2732  https://www.airbnb.com/rooms/2732  20190914032935   2019-09-14   \n",
       "4  2864  https://www.airbnb.com/rooms/2864  20190914032935   2019-09-14   \n",
       "\n",
       "                                                name  \\\n",
       "0  Amazing bright elegant condo park front *UPGRA...   \n",
       "1                  Family perfect;Pool;Near Studios!   \n",
       "2  Fireplace Mirrored Mini Suit (Website hidden b...   \n",
       "3                              Zen Life at the Beach   \n",
       "4  *Upscale Professional Home with Beautiful Studio*   \n",
       "\n",
       "                                             summary  \\\n",
       "0  *** Unit upgraded with new bamboo flooring, br...   \n",
       "1  This home is perfect for families; aspiring ch...   \n",
       "2  Our best memory foam pillows you'll ever sleep...   \n",
       "3                                                NaN   \n",
       "4  Centrally located.... Furnished with 42 inch S...   \n",
       "\n",
       "                                               space  \\\n",
       "0  *** Unit upgraded with new bamboo flooring, br...   \n",
       "1  Cheerful & comfortable; near studios, amusemen...   \n",
       "2  Flickering fireplace.  Blendtec® Designer 625 ...   \n",
       "3  This is a three story townhouse with the follo...   \n",
       "4  The space is furnished with Thomasville furnit...   \n",
       "\n",
       "                                         description experiences_offered  \\\n",
       "0  *** Unit upgraded with new bamboo flooring, br...                none   \n",
       "1  This home is perfect for families; aspiring ch...                none   \n",
       "2  Our best memory foam pillows you'll ever sleep...                none   \n",
       "3  This is a three story townhouse with the follo...                none   \n",
       "4  Centrally located.... Furnished with 42 inch S...                none   \n",
       "\n",
       "                               neighborhood_overview  ... instant_bookable  \\\n",
       "0                                                NaN  ...                f   \n",
       "1  Quiet-yet-close to all the fun in LA! Hollywoo...  ...                t   \n",
       "2  We are minutes away from the Mentor Language I...  ...                t   \n",
       "3                                                NaN  ...                f   \n",
       "4  What makes the neighborhood unique is that the...  ...                f   \n",
       "\n",
       "  is_business_travel_ready          cancellation_policy  \\\n",
       "0                        f  strict_14_with_grace_period   \n",
       "1                        f                     flexible   \n",
       "2                        f  strict_14_with_grace_period   \n",
       "3                        f  strict_14_with_grace_period   \n",
       "4                        f  strict_14_with_grace_period   \n",
       "\n",
       "  require_guest_profile_picture require_guest_phone_verification  \\\n",
       "0                             t                                f   \n",
       "1                             f                                f   \n",
       "2                             f                                f   \n",
       "3                             f                                f   \n",
       "4                             f                                f   \n",
       "\n",
       "   calculated_host_listings_count  \\\n",
       "0                               1   \n",
       "1                               1   \n",
       "2                               2   \n",
       "3                               2   \n",
       "4                               1   \n",
       "\n",
       "   calculated_host_listings_count_entire_homes  \\\n",
       "0                                            1   \n",
       "1                                            1   \n",
       "2                                            0   \n",
       "3                                            1   \n",
       "4                                            1   \n",
       "\n",
       "  calculated_host_listings_count_private_rooms  \\\n",
       "0                                            0   \n",
       "1                                            0   \n",
       "2                                            2   \n",
       "3                                            1   \n",
       "4                                            0   \n",
       "\n",
       "   calculated_host_listings_count_shared_rooms  reviews_per_month  \n",
       "0                                            0               0.02  \n",
       "1                                            0               0.15  \n",
       "2                                            0               0.33  \n",
       "3                                            0               0.19  \n",
       "4                                            0                NaN  \n",
       "\n",
       "[5 rows x 106 columns]"
      ]
     },
     "execution_count": 3,
     "metadata": {},
     "output_type": "execute_result"
    }
   ],
   "source": [
    "dataset1.head()"
   ]
  },
  {
   "cell_type": "markdown",
   "metadata": {},
   "source": [
    "<a id='cleaning'></a>"
   ]
  },
  {
   "cell_type": "markdown",
   "metadata": {},
   "source": [
    "## 1a. Dataframe Cleaning"
   ]
  },
  {
   "cell_type": "code",
   "execution_count": 4,
   "metadata": {},
   "outputs": [
    {
     "name": "stdout",
     "output_type": "stream",
     "text": [
      "<class 'pandas.core.frame.DataFrame'>\n",
      "RangeIndex: 45053 entries, 0 to 45052\n",
      "Columns: 106 entries, id to reviews_per_month\n",
      "dtypes: datetime64[ns](2), float64(23), int64(21), object(60)\n",
      "memory usage: 36.4+ MB\n"
     ]
    }
   ],
   "source": [
    "#get info on dataframe1\n",
    "dataset1.info()"
   ]
  },
  {
   "cell_type": "code",
   "execution_count": 5,
   "metadata": {},
   "outputs": [
    {
     "name": "stdout",
     "output_type": "stream",
     "text": [
      "['id', 'listing_url', 'scrape_id', 'last_scraped', 'name', 'summary', 'space', 'description', 'experiences_offered', 'neighborhood_overview', 'notes', 'transit', 'access', 'interaction', 'house_rules', 'thumbnail_url', 'medium_url', 'picture_url', 'xl_picture_url', 'host_id', 'host_url', 'host_name', 'host_since', 'host_location', 'host_about', 'host_response_time', 'host_response_rate', 'host_acceptance_rate', 'host_is_superhost', 'host_thumbnail_url', 'host_picture_url', 'host_neighbourhood', 'host_listings_count', 'host_total_listings_count', 'host_verifications', 'host_has_profile_pic', 'host_identity_verified', 'street', 'neighbourhood', 'neighbourhood_cleansed', 'neighbourhood_group_cleansed', 'city', 'state', 'zipcode', 'market', 'smart_location', 'country_code', 'country', 'latitude', 'longitude', 'is_location_exact', 'property_type', 'room_type', 'accommodates', 'bathrooms', 'bedrooms', 'beds', 'bed_type', 'amenities', 'square_feet', 'price', 'weekly_price', 'monthly_price', 'security_deposit', 'cleaning_fee', 'guests_included', 'extra_people', 'minimum_nights', 'maximum_nights', 'minimum_minimum_nights', 'maximum_minimum_nights', 'minimum_maximum_nights', 'maximum_maximum_nights', 'minimum_nights_avg_ntm', 'maximum_nights_avg_ntm', 'calendar_updated', 'has_availability', 'availability_30', 'availability_60', 'availability_90', 'availability_365', 'calendar_last_scraped', 'number_of_reviews', 'number_of_reviews_ltm', 'first_review', 'last_review', 'review_scores_rating', 'review_scores_accuracy', 'review_scores_cleanliness', 'review_scores_checkin', 'review_scores_communication', 'review_scores_location', 'review_scores_value', 'requires_license', 'license', 'jurisdiction_names', 'instant_bookable', 'is_business_travel_ready', 'cancellation_policy', 'require_guest_profile_picture', 'require_guest_phone_verification', 'calculated_host_listings_count', 'calculated_host_listings_count_entire_homes', 'calculated_host_listings_count_private_rooms', 'calculated_host_listings_count_shared_rooms', 'reviews_per_month']\n"
     ]
    }
   ],
   "source": [
    "#list out all the columns in Dataframe\n",
    "print(list(dataset1.columns))"
   ]
  },
  {
   "cell_type": "code",
   "execution_count": 6,
   "metadata": {},
   "outputs": [],
   "source": [
    "#features were removed based on two reasons: \n",
    "#1. insufficient data\n",
    "#2. no apparent relations to target feature\n",
    "dataset1 = dataset1.drop(columns = ['id', 'listing_url', 'scrape_id', 'summary', 'space', 'neighborhood_overview', \n",
    "                                    'notes', 'access', 'interaction', 'house_rules', 'thumbnail_url', 'medium_url', \n",
    "                                    'picture_url', 'xl_picture_url', 'host_url', 'host_name', 'host_location',\n",
    "                                    'host_about', 'host_response_time', 'host_response_rate', 'host_acceptance_rate',\n",
    "                                    'host_thumbnail_url', 'host_picture_url', 'host_neighbourhood', 'host_listings_count',\n",
    "                                    'host_verifications', 'street', 'neighbourhood_cleansed', 'neighbourhood_group_cleansed', \n",
    "                                    'city', 'state', 'zipcode', 'market', 'smart_location', 'country_code', 'country', \n",
    "                                    'latitude', 'longitude', 'is_location_exact', 'square_feet', 'monthly_price', \n",
    "                                    'minimum_nights', 'maximum_nights', 'minimum_minimum_nights', 'maximum_minimum_nights',\n",
    "                                    'minimum_maximum_nights', 'maximum_maximum_nights', 'minimum_nights_avg_ntm',\n",
    "                                    'maximum_nights_avg_ntm', 'calendar_updated', 'has_availability', 'availability_30',\n",
    "                                    'availability_60', 'availability_90', 'availability_365', 'calendar_last_scraped',\n",
    "                                    'number_of_reviews_ltm', 'first_review', 'last_review', 'review_scores_accuracy',\n",
    "                                    'review_scores_checkin', 'review_scores_checkin', 'review_scores_location',\n",
    "                                    'review_scores_value', 'requires_license', 'license', 'jurisdiction_names',\n",
    "                                    'is_business_travel_ready', 'cancellation_policy', 'require_guest_phone_verification',\n",
    "                                    'require_guest_profile_picture', 'calculated_host_listings_count',\n",
    "                                    'calculated_host_listings_count_entire_homes', 'calculated_host_listings_count_private_rooms',\n",
    "                                    'calculated_host_listings_count_shared_rooms', 'experiences_offered',\n",
    "                                    'reviews_per_month', 'host_total_listings_count', 'host_id'])"
   ]
  },
  {
   "cell_type": "code",
   "execution_count": 7,
   "metadata": {},
   "outputs": [
    {
     "name": "stdout",
     "output_type": "stream",
     "text": [
      "<class 'pandas.core.frame.DataFrame'>\n",
      "RangeIndex: 45053 entries, 0 to 45052\n",
      "Data columns (total 28 columns):\n",
      "last_scraped                   45053 non-null datetime64[ns]\n",
      "name                           45047 non-null object\n",
      "description                    43731 non-null object\n",
      "transit                        27633 non-null object\n",
      "host_since                     45037 non-null datetime64[ns]\n",
      "host_is_superhost              45037 non-null object\n",
      "host_has_profile_pic           45037 non-null object\n",
      "host_identity_verified         45037 non-null object\n",
      "neighbourhood                  42793 non-null object\n",
      "property_type                  45053 non-null object\n",
      "room_type                      45053 non-null object\n",
      "accommodates                   45053 non-null int64\n",
      "bathrooms                      45034 non-null float64\n",
      "bedrooms                       45007 non-null float64\n",
      "beds                           44982 non-null float64\n",
      "bed_type                       45053 non-null object\n",
      "amenities                      45053 non-null object\n",
      "price                          45053 non-null object\n",
      "weekly_price                   4697 non-null object\n",
      "security_deposit               34147 non-null object\n",
      "cleaning_fee                   39185 non-null object\n",
      "guests_included                45053 non-null int64\n",
      "extra_people                   45053 non-null object\n",
      "number_of_reviews              45053 non-null int64\n",
      "review_scores_rating           35973 non-null float64\n",
      "review_scores_cleanliness      35958 non-null float64\n",
      "review_scores_communication    35955 non-null float64\n",
      "instant_bookable               45053 non-null object\n",
      "dtypes: datetime64[ns](2), float64(6), int64(3), object(17)\n",
      "memory usage: 9.6+ MB\n"
     ]
    }
   ],
   "source": [
    "#info after removing unused columns\n",
    "dataset1.info()"
   ]
  },
  {
   "cell_type": "code",
   "execution_count": 8,
   "metadata": {},
   "outputs": [],
   "source": [
    "def binary_modifier(data):\n",
    "    \"\"\"if data is null or blank string, return False\n",
    "    otherwise return True\"\"\"\n",
    "    if pd.isnull(data) or data == '' or data == 0:\n",
    "        return False\n",
    "    else:\n",
    "        return True"
   ]
  },
  {
   "cell_type": "code",
   "execution_count": 9,
   "metadata": {},
   "outputs": [],
   "source": [
    "#feature engineering columns\n",
    "#we like to modify transit, weekly price, security deposit, and cleaning fee \n",
    "#to rather there is a discount for a full week rent, requires security deposit, or cleaning fee\n",
    "#or rather there is information on transportation\n",
    "dataset1.transit = dataset1.transit.apply(lambda x: binary_modifier(x))\n",
    "dataset1.security_deposit = dataset1.security_deposit.apply(lambda x: binary_modifier(x))\n",
    "dataset1.cleaning_fee = dataset1.cleaning_fee.apply(lambda x: binary_modifier(x))\n",
    "dataset1.weekly_price = dataset1.weekly_price.apply(lambda x: binary_modifier(x))\n",
    "\n",
    "\n",
    "#create column to measure length for which the home was put up on airbnb\n",
    "dataset1['time_as_host'] = dataset1.last_scraped-dataset1.host_since\n",
    "dataset1.time_as_host = dataset1.time_as_host.apply(lambda x: x.days)\n",
    "dataset1 = dataset1.drop(columns = ['last_scraped', 'host_since'])\n",
    "\n",
    "#convert price feature to an int object\n",
    "dataset1.price = dataset1.price.replace(to_replace = r'\\$',value = '', regex = True)\n",
    "dataset1.price = dataset1.price.replace(to_replace = r'\\,',value = '', regex = True)\n",
    "dataset1.price = dataset1.price.apply(lambda x: int(float(x)))\n",
    "\n",
    "#convert extra people column to an int object\n",
    "dataset1.extra_people = dataset1.extra_people.replace(to_replace = r'\\$',value = '', regex = True)\n",
    "dataset1.extra_people = dataset1.extra_people.replace(to_replace = r'\\,',value = '', regex = True)\n",
    "dataset1.extra_people = dataset1.extra_people.apply(lambda x: int(float(x)))\n",
    "\n",
    "#if there isn't a review score for rating, cleanliness or communication, we can safely assume\n",
    "#there isn't any number of review. So we fill null values to 0\n",
    "dataset1.review_scores_rating = dataset1.review_scores_rating.fillna(0)\n",
    "dataset1.review_scores_cleanliness = dataset1.review_scores_cleanliness.fillna(0)\n",
    "dataset1.review_scores_communication = dataset1.review_scores_communication.fillna(0)\n",
    "\n",
    "#drop all the other null values\n",
    "dataset1 = dataset1.dropna()"
   ]
  },
  {
   "cell_type": "code",
   "execution_count": 10,
   "metadata": {},
   "outputs": [
    {
     "name": "stdout",
     "output_type": "stream",
     "text": [
      "<class 'pandas.core.frame.DataFrame'>\n",
      "Int64Index: 41513 entries, 0 to 45051\n",
      "Data columns (total 27 columns):\n",
      "name                           41513 non-null object\n",
      "description                    41513 non-null object\n",
      "transit                        41513 non-null bool\n",
      "host_is_superhost              41513 non-null object\n",
      "host_has_profile_pic           41513 non-null object\n",
      "host_identity_verified         41513 non-null object\n",
      "neighbourhood                  41513 non-null object\n",
      "property_type                  41513 non-null object\n",
      "room_type                      41513 non-null object\n",
      "accommodates                   41513 non-null int64\n",
      "bathrooms                      41513 non-null float64\n",
      "bedrooms                       41513 non-null float64\n",
      "beds                           41513 non-null float64\n",
      "bed_type                       41513 non-null object\n",
      "amenities                      41513 non-null object\n",
      "price                          41513 non-null int64\n",
      "weekly_price                   41513 non-null bool\n",
      "security_deposit               41513 non-null bool\n",
      "cleaning_fee                   41513 non-null bool\n",
      "guests_included                41513 non-null int64\n",
      "extra_people                   41513 non-null int64\n",
      "number_of_reviews              41513 non-null int64\n",
      "review_scores_rating           41513 non-null float64\n",
      "review_scores_cleanliness      41513 non-null float64\n",
      "review_scores_communication    41513 non-null float64\n",
      "instant_bookable               41513 non-null object\n",
      "time_as_host                   41513 non-null float64\n",
      "dtypes: bool(4), float64(7), int64(5), object(11)\n",
      "memory usage: 7.8+ MB\n"
     ]
    }
   ],
   "source": [
    "dataset1.info()"
   ]
  },
  {
   "cell_type": "markdown",
   "metadata": {},
   "source": [
    "<a id='text'></a>"
   ]
  },
  {
   "cell_type": "markdown",
   "metadata": {},
   "source": [
    "## 1b. Text Preprocessing "
   ]
  },
  {
   "cell_type": "code",
   "execution_count": 11,
   "metadata": {},
   "outputs": [],
   "source": [
    "#detect english \n",
    "def detector(phrases):\n",
    "    try:\n",
    "        return detect(phrases)\n",
    "    except:\n",
    "        return ''\n",
    "\n",
    "dataset1['language'] = dataset1.name.apply(lambda x: detector(x))"
   ]
  },
  {
   "cell_type": "code",
   "execution_count": 12,
   "metadata": {},
   "outputs": [
    {
     "data": {
      "text/html": [
       "<div>\n",
       "<style scoped>\n",
       "    .dataframe tbody tr th:only-of-type {\n",
       "        vertical-align: middle;\n",
       "    }\n",
       "\n",
       "    .dataframe tbody tr th {\n",
       "        vertical-align: top;\n",
       "    }\n",
       "\n",
       "    .dataframe thead th {\n",
       "        text-align: right;\n",
       "    }\n",
       "</style>\n",
       "<table border=\"1\" class=\"dataframe\">\n",
       "  <thead>\n",
       "    <tr style=\"text-align: right;\">\n",
       "      <th></th>\n",
       "      <th>name</th>\n",
       "      <th>description</th>\n",
       "      <th>transit</th>\n",
       "      <th>host_is_superhost</th>\n",
       "      <th>host_has_profile_pic</th>\n",
       "      <th>host_identity_verified</th>\n",
       "      <th>neighbourhood</th>\n",
       "      <th>property_type</th>\n",
       "      <th>room_type</th>\n",
       "      <th>accommodates</th>\n",
       "      <th>...</th>\n",
       "      <th>security_deposit</th>\n",
       "      <th>cleaning_fee</th>\n",
       "      <th>guests_included</th>\n",
       "      <th>extra_people</th>\n",
       "      <th>number_of_reviews</th>\n",
       "      <th>review_scores_rating</th>\n",
       "      <th>review_scores_cleanliness</th>\n",
       "      <th>review_scores_communication</th>\n",
       "      <th>instant_bookable</th>\n",
       "      <th>time_as_host</th>\n",
       "    </tr>\n",
       "  </thead>\n",
       "  <tbody>\n",
       "    <tr>\n",
       "      <th>0</th>\n",
       "      <td>Amazing bright elegant condo park front *UPGRA...</td>\n",
       "      <td>*** Unit upgraded with new bamboo flooring, br...</td>\n",
       "      <td>False</td>\n",
       "      <td>f</td>\n",
       "      <td>t</td>\n",
       "      <td>t</td>\n",
       "      <td>Culver City</td>\n",
       "      <td>Condominium</td>\n",
       "      <td>Entire home/apt</td>\n",
       "      <td>6</td>\n",
       "      <td>...</td>\n",
       "      <td>True</td>\n",
       "      <td>True</td>\n",
       "      <td>3</td>\n",
       "      <td>25</td>\n",
       "      <td>2</td>\n",
       "      <td>80.0</td>\n",
       "      <td>10.0</td>\n",
       "      <td>8.0</td>\n",
       "      <td>f</td>\n",
       "      <td>4096.0</td>\n",
       "    </tr>\n",
       "    <tr>\n",
       "      <th>1</th>\n",
       "      <td>Family perfect;Pool;Near Studios!</td>\n",
       "      <td>This home is perfect for families; aspiring ch...</td>\n",
       "      <td>True</td>\n",
       "      <td>f</td>\n",
       "      <td>t</td>\n",
       "      <td>t</td>\n",
       "      <td>Burbank</td>\n",
       "      <td>House</td>\n",
       "      <td>Entire home/apt</td>\n",
       "      <td>6</td>\n",
       "      <td>...</td>\n",
       "      <td>True</td>\n",
       "      <td>True</td>\n",
       "      <td>6</td>\n",
       "      <td>0</td>\n",
       "      <td>6</td>\n",
       "      <td>93.0</td>\n",
       "      <td>10.0</td>\n",
       "      <td>10.0</td>\n",
       "      <td>t</td>\n",
       "      <td>4082.0</td>\n",
       "    </tr>\n",
       "    <tr>\n",
       "      <th>2</th>\n",
       "      <td>Fireplace Mirrored Mini Suit (Website hidden b...</td>\n",
       "      <td>Our best memory foam pillows you'll ever sleep...</td>\n",
       "      <td>True</td>\n",
       "      <td>t</td>\n",
       "      <td>t</td>\n",
       "      <td>t</td>\n",
       "      <td>Hollywood</td>\n",
       "      <td>Apartment</td>\n",
       "      <td>Private room</td>\n",
       "      <td>1</td>\n",
       "      <td>...</td>\n",
       "      <td>True</td>\n",
       "      <td>True</td>\n",
       "      <td>1</td>\n",
       "      <td>0</td>\n",
       "      <td>21</td>\n",
       "      <td>98.0</td>\n",
       "      <td>10.0</td>\n",
       "      <td>10.0</td>\n",
       "      <td>t</td>\n",
       "      <td>4015.0</td>\n",
       "    </tr>\n",
       "    <tr>\n",
       "      <th>3</th>\n",
       "      <td>Zen Life at the Beach</td>\n",
       "      <td>This is a three story townhouse with the follo...</td>\n",
       "      <td>False</td>\n",
       "      <td>t</td>\n",
       "      <td>t</td>\n",
       "      <td>f</td>\n",
       "      <td>Santa Monica</td>\n",
       "      <td>Apartment</td>\n",
       "      <td>Private room</td>\n",
       "      <td>1</td>\n",
       "      <td>...</td>\n",
       "      <td>False</td>\n",
       "      <td>True</td>\n",
       "      <td>1</td>\n",
       "      <td>0</td>\n",
       "      <td>19</td>\n",
       "      <td>96.0</td>\n",
       "      <td>9.0</td>\n",
       "      <td>10.0</td>\n",
       "      <td>f</td>\n",
       "      <td>4014.0</td>\n",
       "    </tr>\n",
       "    <tr>\n",
       "      <th>4</th>\n",
       "      <td>*Upscale Professional Home with Beautiful Studio*</td>\n",
       "      <td>Centrally located.... Furnished with 42 inch S...</td>\n",
       "      <td>True</td>\n",
       "      <td>f</td>\n",
       "      <td>t</td>\n",
       "      <td>t</td>\n",
       "      <td>Bellflower</td>\n",
       "      <td>Apartment</td>\n",
       "      <td>Entire home/apt</td>\n",
       "      <td>2</td>\n",
       "      <td>...</td>\n",
       "      <td>True</td>\n",
       "      <td>True</td>\n",
       "      <td>1</td>\n",
       "      <td>25</td>\n",
       "      <td>0</td>\n",
       "      <td>0.0</td>\n",
       "      <td>0.0</td>\n",
       "      <td>0.0</td>\n",
       "      <td>f</td>\n",
       "      <td>4006.0</td>\n",
       "    </tr>\n",
       "    <tr>\n",
       "      <th>...</th>\n",
       "      <td>...</td>\n",
       "      <td>...</td>\n",
       "      <td>...</td>\n",
       "      <td>...</td>\n",
       "      <td>...</td>\n",
       "      <td>...</td>\n",
       "      <td>...</td>\n",
       "      <td>...</td>\n",
       "      <td>...</td>\n",
       "      <td>...</td>\n",
       "      <td>...</td>\n",
       "      <td>...</td>\n",
       "      <td>...</td>\n",
       "      <td>...</td>\n",
       "      <td>...</td>\n",
       "      <td>...</td>\n",
       "      <td>...</td>\n",
       "      <td>...</td>\n",
       "      <td>...</td>\n",
       "      <td>...</td>\n",
       "      <td>...</td>\n",
       "    </tr>\n",
       "    <tr>\n",
       "      <th>45045</th>\n",
       "      <td>Fully furnished one bedroom one month only</td>\n",
       "      <td>Hi nice and cozy one-bedroom apartment super b...</td>\n",
       "      <td>True</td>\n",
       "      <td>f</td>\n",
       "      <td>t</td>\n",
       "      <td>f</td>\n",
       "      <td>Sun Valley</td>\n",
       "      <td>Apartment</td>\n",
       "      <td>Entire home/apt</td>\n",
       "      <td>4</td>\n",
       "      <td>...</td>\n",
       "      <td>False</td>\n",
       "      <td>False</td>\n",
       "      <td>1</td>\n",
       "      <td>0</td>\n",
       "      <td>0</td>\n",
       "      <td>0.0</td>\n",
       "      <td>0.0</td>\n",
       "      <td>0.0</td>\n",
       "      <td>t</td>\n",
       "      <td>1.0</td>\n",
       "    </tr>\n",
       "    <tr>\n",
       "      <th>45046</th>\n",
       "      <td>Lakeridge 2 bedroom house in the hills</td>\n",
       "      <td>This miraculous pad will deliver endless hours...</td>\n",
       "      <td>False</td>\n",
       "      <td>f</td>\n",
       "      <td>t</td>\n",
       "      <td>f</td>\n",
       "      <td>Hollywood Hills</td>\n",
       "      <td>House</td>\n",
       "      <td>Entire home/apt</td>\n",
       "      <td>4</td>\n",
       "      <td>...</td>\n",
       "      <td>False</td>\n",
       "      <td>False</td>\n",
       "      <td>1</td>\n",
       "      <td>0</td>\n",
       "      <td>0</td>\n",
       "      <td>0.0</td>\n",
       "      <td>0.0</td>\n",
       "      <td>0.0</td>\n",
       "      <td>t</td>\n",
       "      <td>31.0</td>\n",
       "    </tr>\n",
       "    <tr>\n",
       "      <th>45047</th>\n",
       "      <td>UCLA Swimmers/shared house for study</td>\n",
       "      <td>Unbelievable opportunity for UCLA students and...</td>\n",
       "      <td>True</td>\n",
       "      <td>t</td>\n",
       "      <td>t</td>\n",
       "      <td>f</td>\n",
       "      <td>Brentwood</td>\n",
       "      <td>House</td>\n",
       "      <td>Shared room</td>\n",
       "      <td>2</td>\n",
       "      <td>...</td>\n",
       "      <td>True</td>\n",
       "      <td>True</td>\n",
       "      <td>1</td>\n",
       "      <td>100</td>\n",
       "      <td>0</td>\n",
       "      <td>0.0</td>\n",
       "      <td>0.0</td>\n",
       "      <td>0.0</td>\n",
       "      <td>f</td>\n",
       "      <td>2025.0</td>\n",
       "    </tr>\n",
       "    <tr>\n",
       "      <th>45049</th>\n",
       "      <td>Luxury Valley Room w/ Private Bath-Do Not Miss...</td>\n",
       "      <td>Luxury meets the Valley Come enjoy a beautiful...</td>\n",
       "      <td>False</td>\n",
       "      <td>t</td>\n",
       "      <td>t</td>\n",
       "      <td>t</td>\n",
       "      <td>Sun Valley</td>\n",
       "      <td>Apartment</td>\n",
       "      <td>Private room</td>\n",
       "      <td>2</td>\n",
       "      <td>...</td>\n",
       "      <td>False</td>\n",
       "      <td>True</td>\n",
       "      <td>1</td>\n",
       "      <td>0</td>\n",
       "      <td>0</td>\n",
       "      <td>0.0</td>\n",
       "      <td>0.0</td>\n",
       "      <td>0.0</td>\n",
       "      <td>t</td>\n",
       "      <td>1125.0</td>\n",
       "    </tr>\n",
       "    <tr>\n",
       "      <th>45051</th>\n",
       "      <td>Minutes from the beach, restaurants, bars, etc</td>\n",
       "      <td>This garden oasis is located on an original Ve...</td>\n",
       "      <td>False</td>\n",
       "      <td>f</td>\n",
       "      <td>t</td>\n",
       "      <td>f</td>\n",
       "      <td>Venice</td>\n",
       "      <td>Apartment</td>\n",
       "      <td>Entire home/apt</td>\n",
       "      <td>3</td>\n",
       "      <td>...</td>\n",
       "      <td>True</td>\n",
       "      <td>True</td>\n",
       "      <td>1</td>\n",
       "      <td>0</td>\n",
       "      <td>0</td>\n",
       "      <td>0.0</td>\n",
       "      <td>0.0</td>\n",
       "      <td>0.0</td>\n",
       "      <td>t</td>\n",
       "      <td>1337.0</td>\n",
       "    </tr>\n",
       "  </tbody>\n",
       "</table>\n",
       "<p>33889 rows × 27 columns</p>\n",
       "</div>"
      ],
      "text/plain": [
       "                                                    name  \\\n",
       "0      Amazing bright elegant condo park front *UPGRA...   \n",
       "1                      Family perfect;Pool;Near Studios!   \n",
       "2      Fireplace Mirrored Mini Suit (Website hidden b...   \n",
       "3                                  Zen Life at the Beach   \n",
       "4      *Upscale Professional Home with Beautiful Studio*   \n",
       "...                                                  ...   \n",
       "45045         Fully furnished one bedroom one month only   \n",
       "45046             Lakeridge 2 bedroom house in the hills   \n",
       "45047               UCLA Swimmers/shared house for study   \n",
       "45049  Luxury Valley Room w/ Private Bath-Do Not Miss...   \n",
       "45051     Minutes from the beach, restaurants, bars, etc   \n",
       "\n",
       "                                             description  transit  \\\n",
       "0      *** Unit upgraded with new bamboo flooring, br...    False   \n",
       "1      This home is perfect for families; aspiring ch...     True   \n",
       "2      Our best memory foam pillows you'll ever sleep...     True   \n",
       "3      This is a three story townhouse with the follo...    False   \n",
       "4      Centrally located.... Furnished with 42 inch S...     True   \n",
       "...                                                  ...      ...   \n",
       "45045  Hi nice and cozy one-bedroom apartment super b...     True   \n",
       "45046  This miraculous pad will deliver endless hours...    False   \n",
       "45047  Unbelievable opportunity for UCLA students and...     True   \n",
       "45049  Luxury meets the Valley Come enjoy a beautiful...    False   \n",
       "45051  This garden oasis is located on an original Ve...    False   \n",
       "\n",
       "      host_is_superhost host_has_profile_pic host_identity_verified  \\\n",
       "0                     f                    t                      t   \n",
       "1                     f                    t                      t   \n",
       "2                     t                    t                      t   \n",
       "3                     t                    t                      f   \n",
       "4                     f                    t                      t   \n",
       "...                 ...                  ...                    ...   \n",
       "45045                 f                    t                      f   \n",
       "45046                 f                    t                      f   \n",
       "45047                 t                    t                      f   \n",
       "45049                 t                    t                      t   \n",
       "45051                 f                    t                      f   \n",
       "\n",
       "         neighbourhood property_type        room_type  accommodates  ...  \\\n",
       "0          Culver City   Condominium  Entire home/apt             6  ...   \n",
       "1              Burbank         House  Entire home/apt             6  ...   \n",
       "2            Hollywood     Apartment     Private room             1  ...   \n",
       "3         Santa Monica     Apartment     Private room             1  ...   \n",
       "4           Bellflower     Apartment  Entire home/apt             2  ...   \n",
       "...                ...           ...              ...           ...  ...   \n",
       "45045       Sun Valley     Apartment  Entire home/apt             4  ...   \n",
       "45046  Hollywood Hills         House  Entire home/apt             4  ...   \n",
       "45047        Brentwood         House      Shared room             2  ...   \n",
       "45049       Sun Valley     Apartment     Private room             2  ...   \n",
       "45051           Venice     Apartment  Entire home/apt             3  ...   \n",
       "\n",
       "       security_deposit  cleaning_fee  guests_included extra_people  \\\n",
       "0                  True          True                3           25   \n",
       "1                  True          True                6            0   \n",
       "2                  True          True                1            0   \n",
       "3                 False          True                1            0   \n",
       "4                  True          True                1           25   \n",
       "...                 ...           ...              ...          ...   \n",
       "45045             False         False                1            0   \n",
       "45046             False         False                1            0   \n",
       "45047              True          True                1          100   \n",
       "45049             False          True                1            0   \n",
       "45051              True          True                1            0   \n",
       "\n",
       "      number_of_reviews  review_scores_rating  review_scores_cleanliness  \\\n",
       "0                     2                  80.0                       10.0   \n",
       "1                     6                  93.0                       10.0   \n",
       "2                    21                  98.0                       10.0   \n",
       "3                    19                  96.0                        9.0   \n",
       "4                     0                   0.0                        0.0   \n",
       "...                 ...                   ...                        ...   \n",
       "45045                 0                   0.0                        0.0   \n",
       "45046                 0                   0.0                        0.0   \n",
       "45047                 0                   0.0                        0.0   \n",
       "45049                 0                   0.0                        0.0   \n",
       "45051                 0                   0.0                        0.0   \n",
       "\n",
       "       review_scores_communication  instant_bookable  time_as_host  \n",
       "0                              8.0                 f        4096.0  \n",
       "1                             10.0                 t        4082.0  \n",
       "2                             10.0                 t        4015.0  \n",
       "3                             10.0                 f        4014.0  \n",
       "4                              0.0                 f        4006.0  \n",
       "...                            ...               ...           ...  \n",
       "45045                          0.0                 t           1.0  \n",
       "45046                          0.0                 t          31.0  \n",
       "45047                          0.0                 f        2025.0  \n",
       "45049                          0.0                 t        1125.0  \n",
       "45051                          0.0                 t        1337.0  \n",
       "\n",
       "[33889 rows x 27 columns]"
      ]
     },
     "execution_count": 12,
     "metadata": {},
     "output_type": "execute_result"
    }
   ],
   "source": [
    "#remove all non-english\n",
    "dataset1 = dataset1[dataset1.language == 'en']\n",
    "dataset1.drop(columns = ['language'])"
   ]
  },
  {
   "cell_type": "code",
   "execution_count": 13,
   "metadata": {},
   "outputs": [],
   "source": [
    "#NLP steps: 1. lowercase\n",
    "#           2. tokenize\n",
    "#           3. lemmatize\n",
    "#           4. remove stopwords and make sure all character is alphabet\n",
    "\n",
    "\n",
    "stopword = set(stopwords.words('english'))\n",
    "\n",
    "def nlp(data):\n",
    "    \"\"\"nlp for sentences\"\"\"\n",
    "    #lowercase all characters\n",
    "    data = data.lower()\n",
    "    \n",
    "    #tokenized sentences\n",
    "    data = word_tokenize(data)\n",
    "    \n",
    "    #lemmatize characters\n",
    "    wnl = WordNetLemmatizer()\n",
    "    data = [wnl.lemmatize(word) for word in data]\n",
    "    \n",
    "    #remove stopwords and contains only alphabets\n",
    "    data = [word for word in data if word not in stopword and word.isalpha()]\n",
    "    \n",
    "    return data\n",
    "\n",
    "#apply nlp on description and name\n",
    "dataset1.name = dataset1.name.apply(lambda x: nlp(x))\n",
    "dataset1.description = dataset1.description.apply(lambda x: nlp(x))"
   ]
  },
  {
   "cell_type": "code",
   "execution_count": 14,
   "metadata": {},
   "outputs": [],
   "source": [
    "#create bigram features\n",
    "dataset1['bigram_name'] = dataset1.name.apply(lambda x: list(ngrams(x, 2)))\n",
    "dataset1['bigram_description'] = dataset1.description.apply(lambda x: list(ngrams(x, 2)))"
   ]
  },
  {
   "cell_type": "code",
   "execution_count": 15,
   "metadata": {},
   "outputs": [
    {
     "name": "stdout",
     "output_type": "stream",
     "text": [
      "<class 'pandas.core.frame.DataFrame'>\n",
      "Int64Index: 33889 entries, 0 to 45051\n",
      "Data columns (total 30 columns):\n",
      "name                           33889 non-null object\n",
      "description                    33889 non-null object\n",
      "transit                        33889 non-null bool\n",
      "host_is_superhost              33889 non-null object\n",
      "host_has_profile_pic           33889 non-null object\n",
      "host_identity_verified         33889 non-null object\n",
      "neighbourhood                  33889 non-null object\n",
      "property_type                  33889 non-null object\n",
      "room_type                      33889 non-null object\n",
      "accommodates                   33889 non-null int64\n",
      "bathrooms                      33889 non-null float64\n",
      "bedrooms                       33889 non-null float64\n",
      "beds                           33889 non-null float64\n",
      "bed_type                       33889 non-null object\n",
      "amenities                      33889 non-null object\n",
      "price                          33889 non-null int64\n",
      "weekly_price                   33889 non-null bool\n",
      "security_deposit               33889 non-null bool\n",
      "cleaning_fee                   33889 non-null bool\n",
      "guests_included                33889 non-null int64\n",
      "extra_people                   33889 non-null int64\n",
      "number_of_reviews              33889 non-null int64\n",
      "review_scores_rating           33889 non-null float64\n",
      "review_scores_cleanliness      33889 non-null float64\n",
      "review_scores_communication    33889 non-null float64\n",
      "instant_bookable               33889 non-null object\n",
      "time_as_host                   33889 non-null float64\n",
      "language                       33889 non-null object\n",
      "bigram_name                    33889 non-null object\n",
      "bigram_description             33889 non-null object\n",
      "dtypes: bool(4), float64(7), int64(5), object(14)\n",
      "memory usage: 7.1+ MB\n"
     ]
    }
   ],
   "source": [
    "dataset1.info()"
   ]
  },
  {
   "cell_type": "markdown",
   "metadata": {},
   "source": [
    "<a id='EDA'></a>"
   ]
  },
  {
   "cell_type": "markdown",
   "metadata": {},
   "source": [
    "## 2. Exploratory Data Analysis and Statistical Analysis"
   ]
  },
  {
   "cell_type": "code",
   "execution_count": 16,
   "metadata": {},
   "outputs": [
    {
     "data": {
      "text/html": [
       "<div>\n",
       "<style scoped>\n",
       "    .dataframe tbody tr th:only-of-type {\n",
       "        vertical-align: middle;\n",
       "    }\n",
       "\n",
       "    .dataframe tbody tr th {\n",
       "        vertical-align: top;\n",
       "    }\n",
       "\n",
       "    .dataframe thead th {\n",
       "        text-align: right;\n",
       "    }\n",
       "</style>\n",
       "<table border=\"1\" class=\"dataframe\">\n",
       "  <thead>\n",
       "    <tr style=\"text-align: right;\">\n",
       "      <th></th>\n",
       "      <th>accommodates</th>\n",
       "      <th>bathrooms</th>\n",
       "      <th>bedrooms</th>\n",
       "      <th>beds</th>\n",
       "      <th>price</th>\n",
       "      <th>guests_included</th>\n",
       "      <th>extra_people</th>\n",
       "      <th>number_of_reviews</th>\n",
       "      <th>review_scores_rating</th>\n",
       "      <th>review_scores_cleanliness</th>\n",
       "      <th>review_scores_communication</th>\n",
       "      <th>time_as_host</th>\n",
       "    </tr>\n",
       "  </thead>\n",
       "  <tbody>\n",
       "    <tr>\n",
       "      <th>count</th>\n",
       "      <td>33889.000000</td>\n",
       "      <td>33889.000000</td>\n",
       "      <td>33889.000000</td>\n",
       "      <td>33889.000000</td>\n",
       "      <td>33889.000000</td>\n",
       "      <td>33889.000000</td>\n",
       "      <td>33889.000000</td>\n",
       "      <td>33889.000000</td>\n",
       "      <td>33889.000000</td>\n",
       "      <td>33889.000000</td>\n",
       "      <td>33889.000000</td>\n",
       "      <td>33889.000000</td>\n",
       "    </tr>\n",
       "    <tr>\n",
       "      <th>mean</th>\n",
       "      <td>3.690873</td>\n",
       "      <td>1.451179</td>\n",
       "      <td>1.417481</td>\n",
       "      <td>1.983239</td>\n",
       "      <td>198.165068</td>\n",
       "      <td>1.950869</td>\n",
       "      <td>16.089793</td>\n",
       "      <td>35.523798</td>\n",
       "      <td>77.211337</td>\n",
       "      <td>7.707781</td>\n",
       "      <td>7.970492</td>\n",
       "      <td>1497.560860</td>\n",
       "    </tr>\n",
       "    <tr>\n",
       "      <th>std</th>\n",
       "      <td>2.633116</td>\n",
       "      <td>0.945502</td>\n",
       "      <td>1.094581</td>\n",
       "      <td>1.650343</td>\n",
       "      <td>459.063456</td>\n",
       "      <td>1.744403</td>\n",
       "      <td>27.179502</td>\n",
       "      <td>60.832353</td>\n",
       "      <td>37.255852</td>\n",
       "      <td>3.746525</td>\n",
       "      <td>3.827421</td>\n",
       "      <td>813.757062</td>\n",
       "    </tr>\n",
       "    <tr>\n",
       "      <th>min</th>\n",
       "      <td>1.000000</td>\n",
       "      <td>0.000000</td>\n",
       "      <td>0.000000</td>\n",
       "      <td>0.000000</td>\n",
       "      <td>0.000000</td>\n",
       "      <td>1.000000</td>\n",
       "      <td>0.000000</td>\n",
       "      <td>0.000000</td>\n",
       "      <td>0.000000</td>\n",
       "      <td>0.000000</td>\n",
       "      <td>0.000000</td>\n",
       "      <td>1.000000</td>\n",
       "    </tr>\n",
       "    <tr>\n",
       "      <th>25%</th>\n",
       "      <td>2.000000</td>\n",
       "      <td>1.000000</td>\n",
       "      <td>1.000000</td>\n",
       "      <td>1.000000</td>\n",
       "      <td>75.000000</td>\n",
       "      <td>1.000000</td>\n",
       "      <td>0.000000</td>\n",
       "      <td>2.000000</td>\n",
       "      <td>85.000000</td>\n",
       "      <td>8.000000</td>\n",
       "      <td>9.000000</td>\n",
       "      <td>885.000000</td>\n",
       "    </tr>\n",
       "    <tr>\n",
       "      <th>50%</th>\n",
       "      <td>3.000000</td>\n",
       "      <td>1.000000</td>\n",
       "      <td>1.000000</td>\n",
       "      <td>1.000000</td>\n",
       "      <td>113.000000</td>\n",
       "      <td>1.000000</td>\n",
       "      <td>10.000000</td>\n",
       "      <td>10.000000</td>\n",
       "      <td>95.000000</td>\n",
       "      <td>9.000000</td>\n",
       "      <td>10.000000</td>\n",
       "      <td>1479.000000</td>\n",
       "    </tr>\n",
       "    <tr>\n",
       "      <th>75%</th>\n",
       "      <td>5.000000</td>\n",
       "      <td>2.000000</td>\n",
       "      <td>2.000000</td>\n",
       "      <td>2.000000</td>\n",
       "      <td>188.000000</td>\n",
       "      <td>2.000000</td>\n",
       "      <td>25.000000</td>\n",
       "      <td>42.000000</td>\n",
       "      <td>99.000000</td>\n",
       "      <td>10.000000</td>\n",
       "      <td>10.000000</td>\n",
       "      <td>2067.000000</td>\n",
       "    </tr>\n",
       "    <tr>\n",
       "      <th>max</th>\n",
       "      <td>24.000000</td>\n",
       "      <td>16.000000</td>\n",
       "      <td>22.000000</td>\n",
       "      <td>50.000000</td>\n",
       "      <td>25000.000000</td>\n",
       "      <td>24.000000</td>\n",
       "      <td>300.000000</td>\n",
       "      <td>900.000000</td>\n",
       "      <td>100.000000</td>\n",
       "      <td>10.000000</td>\n",
       "      <td>10.000000</td>\n",
       "      <td>4096.000000</td>\n",
       "    </tr>\n",
       "  </tbody>\n",
       "</table>\n",
       "</div>"
      ],
      "text/plain": [
       "       accommodates     bathrooms      bedrooms          beds         price  \\\n",
       "count  33889.000000  33889.000000  33889.000000  33889.000000  33889.000000   \n",
       "mean       3.690873      1.451179      1.417481      1.983239    198.165068   \n",
       "std        2.633116      0.945502      1.094581      1.650343    459.063456   \n",
       "min        1.000000      0.000000      0.000000      0.000000      0.000000   \n",
       "25%        2.000000      1.000000      1.000000      1.000000     75.000000   \n",
       "50%        3.000000      1.000000      1.000000      1.000000    113.000000   \n",
       "75%        5.000000      2.000000      2.000000      2.000000    188.000000   \n",
       "max       24.000000     16.000000     22.000000     50.000000  25000.000000   \n",
       "\n",
       "       guests_included  extra_people  number_of_reviews  review_scores_rating  \\\n",
       "count     33889.000000  33889.000000       33889.000000          33889.000000   \n",
       "mean          1.950869     16.089793          35.523798             77.211337   \n",
       "std           1.744403     27.179502          60.832353             37.255852   \n",
       "min           1.000000      0.000000           0.000000              0.000000   \n",
       "25%           1.000000      0.000000           2.000000             85.000000   \n",
       "50%           1.000000     10.000000          10.000000             95.000000   \n",
       "75%           2.000000     25.000000          42.000000             99.000000   \n",
       "max          24.000000    300.000000         900.000000            100.000000   \n",
       "\n",
       "       review_scores_cleanliness  review_scores_communication  time_as_host  \n",
       "count               33889.000000                 33889.000000  33889.000000  \n",
       "mean                    7.707781                     7.970492   1497.560860  \n",
       "std                     3.746525                     3.827421    813.757062  \n",
       "min                     0.000000                     0.000000      1.000000  \n",
       "25%                     8.000000                     9.000000    885.000000  \n",
       "50%                     9.000000                    10.000000   1479.000000  \n",
       "75%                    10.000000                    10.000000   2067.000000  \n",
       "max                    10.000000                    10.000000   4096.000000  "
      ]
     },
     "execution_count": 16,
     "metadata": {},
     "output_type": "execute_result"
    }
   ],
   "source": [
    "dataset1.describe()"
   ]
  },
  {
   "cell_type": "code",
   "execution_count": 17,
   "metadata": {},
   "outputs": [
    {
     "data": {
      "image/png": "[encoded data removed]",
      "text/plain": [
       "<Figure size 432x288 with 1 Axes>"
      ]
     },
     "metadata": {
      "needs_background": "light"
     },
     "output_type": "display_data"
    }
   ],
   "source": [
    "#distribution for the number of reviews\n",
    "plt.hist(dataset1.number_of_reviews, bins = 150)\n",
    "plt.xlabel('Number of Reviews')\n",
    "plt.ylabel('Frequency')\n",
    "plt.title('Distribution for Number of Reviews')\n",
    "plt.xlim((0,100))\n",
    "plt.show()"
   ]
  },
  {
   "cell_type": "code",
   "execution_count": 18,
   "metadata": {},
   "outputs": [
    {
     "name": "stdout",
     "output_type": "stream",
     "text": [
      "Percentage of Airbnb home with less than 40 reviews:  74.0\n",
      "Percentage of Airbnb home with 0 reviews:  17.0\n"
     ]
    }
   ],
   "source": [
    "print(\"Percentage of Airbnb home with less than 40 reviews: \", round(sum(dataset1.number_of_reviews < 40)/len(dataset1),2)*100)\n",
    "\n",
    "print(\"Percentage of Airbnb home with 0 reviews: \", round(sum(dataset1.number_of_reviews == 0)/len(dataset1),2)*100)"
   ]
  },
  {
   "cell_type": "markdown",
   "metadata": {},
   "source": [
    "As shown, 74% of hosts have less than 40 reviews with more than 50% having under 10 reviews. 17% of the host have 0 reviews on Airbnb. It's rare for host to have more than 60 reviews as the frequency of for higher numbers tappers off in a exponential decaying fashion."
   ]
  },
  {
   "cell_type": "markdown",
   "metadata": {},
   "source": [
    "<a id='Cost'></a>"
   ]
  },
  {
   "cell_type": "markdown",
   "metadata": {},
   "source": [
    "## 2b. Cost"
   ]
  },
  {
   "cell_type": "code",
   "execution_count": 19,
   "metadata": {},
   "outputs": [
    {
     "data": {
      "text/plain": [
       "Text(0.5, 1.0, 'Price Distribution')"
      ]
     },
     "execution_count": 19,
     "metadata": {},
     "output_type": "execute_result"
    },
    {
     "data": {
      "image/png": "[encoded data removed]",
      "text/plain": [
       "<Figure size 720x360 with 2 Axes>"
      ]
     },
     "metadata": {
      "needs_background": "light"
     },
     "output_type": "display_data"
    }
   ],
   "source": [
    "plt.figure(figsize = (10,5))\n",
    "plt.subplot(1,2,1)\n",
    "sns.scatterplot(x = 'price', y = 'number_of_reviews', data = dataset1)\n",
    "plt.xlim((0, 1500))\n",
    "plt.title(\"Relationship Between Price and Number of Review\")\n",
    "\n",
    "plt.subplot(1,2,2)\n",
    "plt.hist(dataset1.price, bins = 300)\n",
    "plt.ylabel(\"Frequency\")\n",
    "plt.xlabel(\"Price\")\n",
    "plt.xlim((0,800))\n",
    "plt.title(\"Price Distribution\")"
   ]
  },
  {
   "cell_type": "code",
   "execution_count": 20,
   "metadata": {},
   "outputs": [
    {
     "name": "stdout",
     "output_type": "stream",
     "text": [
      "Airbnb for homes between 50 and 300: 79.22 %\n",
      "Airbnb for homes between 50 and 300 with at least one review: 81.8 %\n",
      "Airbnb for homes between 50 and 300 with zero review: 70.6 %\n",
      "Percentage of total review counts between 50 and 300: 87.79\n"
     ]
    },
    {
     "name": "stderr",
     "output_type": "stream",
     "text": [
      "C:\\Users\\sadmin\\Anaconda3\\lib\\site-packages\\ipykernel_launcher.py:1: UserWarning: Boolean Series key will be reindexed to match DataFrame index.\n",
      "  \"\"\"Entry point for launching an IPython kernel.\n",
      "C:\\Users\\sadmin\\Anaconda3\\lib\\site-packages\\ipykernel_launcher.py:6: UserWarning: Boolean Series key will be reindexed to match DataFrame index.\n",
      "  \n",
      "C:\\Users\\sadmin\\Anaconda3\\lib\\site-packages\\ipykernel_launcher.py:12: UserWarning: Boolean Series key will be reindexed to match DataFrame index.\n",
      "  if sys.path[0] == '':\n",
      "C:\\Users\\sadmin\\Anaconda3\\lib\\site-packages\\ipykernel_launcher.py:17: UserWarning: Boolean Series key will be reindexed to match DataFrame index.\n"
     ]
    }
   ],
   "source": [
    "percentage = round(len(dataset1[dataset1.price >= 50][dataset1.price <= 300])/len(dataset1), 4)*100\n",
    "print(\"Airbnb for homes between 50 and 300:\", percentage, '%')\n",
    "\n",
    "at_least_one_review = dataset1[dataset1.number_of_reviews > 1]\n",
    "percentage = round(len(at_least_one_review[at_least_one_review.price >= 50]\n",
    "                       [at_least_one_review.price <= 300])/len(at_least_one_review), 3)*100\n",
    "\n",
    "print(\"Airbnb for homes between 50 and 300 with at least one review:\", percentage, '%')\n",
    "\n",
    "zero_review = dataset1[dataset1.number_of_reviews == 0]\n",
    "percentage = round(len(zero_review[zero_review.price >= 50]\n",
    "                       [zero_review.price <= 300])/len(zero_review), 3)*100\n",
    "\n",
    "print(\"Airbnb for homes between 50 and 300 with zero review:\", percentage, '%')\n",
    "\n",
    "percentage = round(sum(list(dataset1[dataset1.price >= 50][dataset1.price <= 300]\n",
    "                      .number_of_reviews))/sum(list(dataset1.number_of_reviews))*100, 2)\n",
    "\n",
    "print(\"Percentage of total review counts between 50 and 300:\", percentage)"
   ]
  },
  {
   "cell_type": "markdown",
   "metadata": {},
   "source": [
    "78% of Airbnb homes cost between \\\\$50 and \\\\$300. More interestingly if all the homes with 0 reviews were removed, that percentage increases to 81% suggesting price not only impacts how many review recieved but also whether you recieve any review at all. This is also suggested by the 15% reduction in zero review within the said range"
   ]
  },
  {
   "cell_type": "code",
   "execution_count": 21,
   "metadata": {},
   "outputs": [
    {
     "data": {
      "image/png": "[encoded data removed]",
      "text/plain": [
       "<Figure size 432x288 with 1 Axes>"
      ]
     },
     "metadata": {
      "needs_background": "light"
     },
     "output_type": "display_data"
    }
   ],
   "source": [
    "dataset1['review_count'] = dataset1.number_of_reviews.apply(lambda x: 'zero' if x == 0 else 'at least one' )\n",
    "\n",
    "sns.boxplot(x = 'review_count', y = 'price', data = dataset1)\n",
    "plt.ylim((0,700))\n",
    "plt.show()"
   ]
  },
  {
   "cell_type": "markdown",
   "metadata": {},
   "source": [
    "The boxplot further suggest the observation of the mean mentioned. The upper 50% perentile of zero review are priced higher compared to those of at least one review. Also the spread between 50% to 95% for zero review are wider than that of at least one review. This suggests that price set lower tends to have better outcome with review rates. This makes logical sense because people tends to purchase a product that has higher quality to price ratio. "
   ]
  },
  {
   "cell_type": "markdown",
   "metadata": {},
   "source": [
    "<a id='Host'></a>"
   ]
  },
  {
   "cell_type": "markdown",
   "metadata": {},
   "source": [
    "## 2b. Host and Transportation"
   ]
  },
  {
   "cell_type": "code",
   "execution_count": 22,
   "metadata": {},
   "outputs": [
    {
     "name": "stdout",
     "output_type": "stream",
     "text": [
      "Proportion of host that are verified:  0.481\n"
     ]
    }
   ],
   "source": [
    "proportion = round(sum(dataset1.host_identity_verified == 't')/len(dataset1),3)\n",
    "\n",
    "print(\"Proportion of host that are verified: \", proportion)"
   ]
  },
  {
   "cell_type": "markdown",
   "metadata": {},
   "source": [
    "It's surprising that most host are not verified in Los Angeles. But how does verification impact price and number of reviews?"
   ]
  },
  {
   "cell_type": "code",
   "execution_count": 23,
   "metadata": {},
   "outputs": [
    {
     "data": {
      "image/png": "[encoded data removed]",
      "text/plain": [
       "<Figure size 432x432 with 1 Axes>"
      ]
     },
     "metadata": {
      "needs_background": "light"
     },
     "output_type": "display_data"
    },
    {
     "data": {
      "image/png": "[encoded data removed]",
      "text/plain": [
       "<Figure size 432x432 with 1 Axes>"
      ]
     },
     "metadata": {
      "needs_background": "light"
     },
     "output_type": "display_data"
    }
   ],
   "source": [
    "plt.figure(figsize = (6,6))\n",
    "sns.boxplot(x = 'host_identity_verified', y = 'number_of_reviews', data = dataset1, hue = 'transit')\n",
    "plt.ylim((0,180))\n",
    "plt.show()\n",
    "\n",
    "plt.figure(figsize = (6,6))\n",
    "sns.boxplot(x = 'host_identity_verified', y = 'price', data = dataset1)\n",
    "plt.ylim((0,500))\n",
    "plt.title(\"Relationship of Host Verification and Price for Lodging\")\n",
    "plt.show()"
   ]
  },
  {
   "cell_type": "code",
   "execution_count": 24,
   "metadata": {},
   "outputs": [
    {
     "name": "stdout",
     "output_type": "stream",
     "text": [
      "Mean number of reviews for verified host:  43.34\n",
      "Mean number of reviews for unverified host:  28.29\n"
     ]
    }
   ],
   "source": [
    "mean_verified = np.mean(dataset1[dataset1.host_identity_verified == 't'].number_of_reviews)\n",
    "mean_unverified = np.mean(dataset1[dataset1.host_identity_verified == 'f'].number_of_reviews)\n",
    "\n",
    "print(\"Mean number of reviews for verified host: \", round(mean_verified,2))\n",
    "print(\"Mean number of reviews for unverified host: \", round(mean_unverified,2))"
   ]
  },
  {
   "cell_type": "code",
   "execution_count": 25,
   "metadata": {},
   "outputs": [
    {
     "name": "stdout",
     "output_type": "stream",
     "text": [
      "Mean number of reviews for verified host with transit information:  52.85\n",
      "Mean number of reviews for verified host without transit information:  23.07\n"
     ]
    },
    {
     "name": "stderr",
     "output_type": "stream",
     "text": [
      "C:\\Users\\sadmin\\Anaconda3\\lib\\site-packages\\ipykernel_launcher.py:1: UserWarning: Boolean Series key will be reindexed to match DataFrame index.\n",
      "  \"\"\"Entry point for launching an IPython kernel.\n",
      "C:\\Users\\sadmin\\Anaconda3\\lib\\site-packages\\ipykernel_launcher.py:2: UserWarning: Boolean Series key will be reindexed to match DataFrame index.\n",
      "  \n"
     ]
    }
   ],
   "source": [
    "mean_verified = np.mean(dataset1[dataset1.host_identity_verified == 't'][dataset1.transit == True].number_of_reviews)\n",
    "mean_unverified = np.mean(dataset1[dataset1.host_identity_verified == 't'][dataset1.transit == False].number_of_reviews)\n",
    "\n",
    "print(\"Mean number of reviews for verified host with transit information: \", round(mean_verified,2))\n",
    "print(\"Mean number of reviews for verified host without transit information: \", round(mean_unverified,2))"
   ]
  },
  {
   "cell_type": "code",
   "execution_count": 26,
   "metadata": {},
   "outputs": [
    {
     "name": "stdout",
     "output_type": "stream",
     "text": [
      "Mean price of verified host:  189.68\n",
      "Mean price of unverified host:  206.02\n"
     ]
    }
   ],
   "source": [
    "Mean_verified = np.mean(dataset1[dataset1.host_identity_verified == 't'].price)\n",
    "Mean_unverified = np.mean(dataset1[dataset1.host_identity_verified == 'f'].price)\n",
    "\n",
    "print(\"Mean price of verified host: \", round(Mean_verified,2))\n",
    "print(\"Mean price of unverified host: \", round(Mean_unverified,2))"
   ]
  },
  {
   "cell_type": "markdown",
   "metadata": {},
   "source": [
    "In general host identity verification appears to have an impact to the number of reviews. If the host identity is verified, the median and 75% percentile for the number of reviews tends to be higher when compared to host that didn't have their identity verified. This observation is supported by more than 50% in mean number of reviews for verified host compared to unverified host. Also if the transit information is provided, the mean number of review spikes significantly with a change of more than double comparing to that do not provide transit information\n",
    "\n",
    "However, the median is approximately the same for both types of host. This is also true for the mean with less than 5% difference with arguably similar boxplot structure. Host verification doesn't seem to strongly affect how host price their Airbnb home but those that verified their account benefits from higher review rates. It's noted that unverified hosts statistically tend to price their home higher"
   ]
  },
  {
   "cell_type": "markdown",
   "metadata": {},
   "source": [
    "<a id='Bed'></a>"
   ]
  },
  {
   "cell_type": "markdown",
   "metadata": {},
   "source": [
    "## 2c. Bedroom"
   ]
  },
  {
   "cell_type": "code",
   "execution_count": 27,
   "metadata": {},
   "outputs": [
    {
     "data": {
      "image/png": "[encoded data removed]",
      "text/plain": [
       "<Figure size 864x432 with 2 Axes>"
      ]
     },
     "metadata": {
      "needs_background": "light"
     },
     "output_type": "display_data"
    },
    {
     "data": {
      "image/png": "[encoded data removed]",
      "text/plain": [
       "<Figure size 432x288 with 1 Axes>"
      ]
     },
     "metadata": {
      "needs_background": "light"
     },
     "output_type": "display_data"
    }
   ],
   "source": [
    "#bedroom were rounded up because some people offer 1.5 bedrooms\n",
    "dataset1['bedrooms_round'] = dataset1.bedrooms.apply(lambda x: round(x))\n",
    "\n",
    "fig, axes = plt.subplots(1,2, figsize = (12,6))\n",
    "sns.boxplot(x = 'bedrooms_round', y = 'number_of_reviews', data = dataset1, ax = axes[0])\n",
    "axes[0].set_xlim(-1,9.5)\n",
    "axes[0].set_ylim(0,180)\n",
    "\n",
    "sns.distplot(dataset1.bedrooms_round, bins = 25, ax = axes[1], hist = False)\n",
    "axes[1].set_xlim(0,9)\n",
    "plt.show()\n",
    "\n",
    "\n",
    "#ratio between zero reviews and total review by bedrooms\n",
    "zero_review = dataset1[dataset1.number_of_reviews == 0]\n",
    "zero = (zero_review.groupby('bedrooms_round')['name']\n",
    "        .count().rename('zero_review_by_bedrooms'))\n",
    "total = (dataset1.groupby('bedrooms_round')['name']\n",
    "         .count()\n",
    "         .rename('total_review_by_bedrooms'))\n",
    "\n",
    "#find the ratio between zero and total review count group by bedroom counts\n",
    "ratio = (zero/total).rename('ratio').reset_index()\n",
    "\n",
    "#plot relationship between bedrooms and the ratio\n",
    "sns.scatterplot(x = 'bedrooms_round', y = 'ratio', data = ratio)\n",
    "plt.xlim(0,12)\n",
    "plt.title('Ratio of Zero Reviews by Bedroom Count')\n",
    "plt.show()"
   ]
  },
  {
   "cell_type": "markdown",
   "metadata": {},
   "source": [
    "A clear pattern for the median number of reviews and it's relationship with the bedroom count. The median number of review decreases as bedroom count increases. We can also see the volume of 1 bedroom airbnb is highest however, the ratio between zero review and total review for 1 bedrooms remains below 0.2 indicating this is the best options when host airbnb their home."
   ]
  },
  {
   "cell_type": "code",
   "execution_count": 28,
   "metadata": {},
   "outputs": [
    {
     "data": {
      "image/png": "[encoded data removed]",
      "text/plain": [
       "<Figure size 432x288 with 1 Axes>"
      ]
     },
     "metadata": {
      "needs_background": "light"
     },
     "output_type": "display_data"
    },
    {
     "data": {
      "text/html": [
       "<div>\n",
       "<style scoped>\n",
       "    .dataframe tbody tr th:only-of-type {\n",
       "        vertical-align: middle;\n",
       "    }\n",
       "\n",
       "    .dataframe tbody tr th {\n",
       "        vertical-align: top;\n",
       "    }\n",
       "\n",
       "    .dataframe thead th {\n",
       "        text-align: right;\n",
       "    }\n",
       "</style>\n",
       "<table border=\"1\" class=\"dataframe\">\n",
       "  <thead>\n",
       "    <tr style=\"text-align: right;\">\n",
       "      <th></th>\n",
       "      <th>slope</th>\n",
       "      <th>intercept</th>\n",
       "      <th>correlation</th>\n",
       "      <th>p value</th>\n",
       "    </tr>\n",
       "  </thead>\n",
       "  <tbody>\n",
       "    <tr>\n",
       "      <th>0</th>\n",
       "      <td>-3.887829</td>\n",
       "      <td>40.631863</td>\n",
       "      <td>0.9201</td>\n",
       "      <td>8.295269e-07</td>\n",
       "    </tr>\n",
       "  </tbody>\n",
       "</table>\n",
       "</div>"
      ],
      "text/plain": [
       "      slope  intercept  correlation       p value\n",
       "0 -3.887829  40.631863       0.9201  8.295269e-07"
      ]
     },
     "execution_count": 28,
     "metadata": {},
     "output_type": "execute_result"
    },
    {
     "data": {
      "image/png": "[encoded data removed]",
      "text/plain": [
       "<Figure size 864x360 with 2 Axes>"
      ]
     },
     "metadata": {
      "needs_background": "light"
     },
     "output_type": "display_data"
    }
   ],
   "source": [
    "#group by bedrooms and find the mean of number of reviews\n",
    "bedroom_mean_review = (dataset1.groupby('bedrooms_round')['number_of_reviews']\n",
    "                       .mean()\n",
    "                       .rename('mean_number_of_reviews')\n",
    "                       .reset_index())\n",
    "\n",
    "#find the pattern between mean number of reviews and bedroom counts\n",
    "sns.scatterplot(x = 'bedrooms_round', y = 'mean_number_of_reviews', data = bedroom_mean_review)\n",
    "plt.show()\n",
    "\n",
    "#plot after removing outliers\n",
    "fig, axes = plt.subplots(1,2, figsize = (12,5))\n",
    "sns.regplot(x = 'bedrooms_round', y = 'mean_number_of_reviews', data = bedroom_mean_review.iloc[:12, :], ax = axes[0])\n",
    "axes[0].set_title('Regression of Bedroom and number of reviews')\n",
    "\n",
    "#statistical analysis of linear regression\n",
    "slope, intercept, r, p, stderr = stats.linregress(bedroom_mean_review.bedrooms_round[:12], \n",
    "                                                  bedroom_mean_review.mean_number_of_reviews[:12])\n",
    "#create table for the stats of linear regression\n",
    "dic = {'slope': [slope], 'intercept': [intercept], 'correlation': [r**2], 'p value': [p]}\n",
    "\n",
    "\n",
    "#plot residual plot\n",
    "y = slope*bedroom_mean_review.bedrooms_round+intercept\n",
    "residual = y-bedroom_mean_review.mean_number_of_reviews\n",
    "axes[1].scatter(bedroom_mean_review.bedrooms_round[:12], residual[:12])\n",
    "axes[1].set_title('Residual plot')\n",
    "axes[1].set_xlabel('bedroom')\n",
    "axes[1].set_ylabel('residual')\n",
    "axes[1].set_ylim((-10,10))\n",
    "pd.DataFrame(dic)"
   ]
  },
  {
   "cell_type": "markdown",
   "metadata": {},
   "source": [
    "The regression shows a strong correlation value between bedroom counts and mean of number of review. The slope indicates for every bedroom, there would be a mean reduction in review counts by 1.7. The residual plot shows randomized pattern of the residual indicating this is a good model for relationship between bedroom and mean number of review\n",
    "\n",
    "With p value of 0.0004, the null hypothesis is rejected and that a change in bedroom counts would induce a change in number of reviews"
   ]
  },
  {
   "cell_type": "code",
   "execution_count": 29,
   "metadata": {},
   "outputs": [
    {
     "name": "stdout",
     "output_type": "stream",
     "text": [
      "2\n"
     ]
    }
   ],
   "source": [
    "print(sum(dataset1.bedrooms_round > 12))\n",
    "\n",
    "#remove the two outliers\n",
    "dataset1 = dataset1[dataset1.bedrooms_round<=12]"
   ]
  },
  {
   "cell_type": "markdown",
   "metadata": {},
   "source": [
    "<a id='Bath'></a>"
   ]
  },
  {
   "cell_type": "markdown",
   "metadata": {},
   "source": [
    "## 2d. Bathroom"
   ]
  },
  {
   "cell_type": "code",
   "execution_count": 30,
   "metadata": {},
   "outputs": [
    {
     "data": {
      "image/png": "[encoded data removed]",
      "text/plain": [
       "<Figure size 864x432 with 2 Axes>"
      ]
     },
     "metadata": {
      "needs_background": "light"
     },
     "output_type": "display_data"
    },
    {
     "data": {
      "image/png": "[encoded data removed]",
      "text/plain": [
       "<Figure size 432x288 with 1 Axes>"
      ]
     },
     "metadata": {
      "needs_background": "light"
     },
     "output_type": "display_data"
    }
   ],
   "source": [
    "#round up the bathroom count to nearest integer\n",
    "dataset1['bathrooms_round'] = dataset1.bathrooms.apply(lambda x: round(x))\n",
    "\n",
    "#plot the bar graph for the for bathroom count and number of reviws\n",
    "fig, axes = plt.subplots(1,2, figsize = (12,6))\n",
    "sns.boxplot(x = 'bathrooms_round', y = 'number_of_reviews', data = dataset1, ax = axes[0])\n",
    "axes[0].set_xlim(-1,6.5)\n",
    "axes[0].set_ylim(0,180)\n",
    "\n",
    "sns.distplot(dataset1.bathrooms_round, bins = 30, ax = axes[1], hist = False)\n",
    "axes[1].set_xlim(0,6)\n",
    "plt.show()\n",
    "\n",
    "#ratio between zero reviews and total review by bedrooms\n",
    "zero_review = dataset1[dataset1.number_of_reviews == 0]\n",
    "zero = (zero_review.groupby('bathrooms_round')['name']\n",
    "        .count().rename('zero_review_by_bathrooms'))\n",
    "total = (dataset1.groupby('bathrooms_round')['name']\n",
    "         .count()\n",
    "         .rename('total_review_by_bathrooms'))\n",
    "\n",
    "#find the ratio between zero and total review counts groupby bathroom counts\n",
    "ratio = (zero/total).rename('ratio').reset_index()\n",
    "\n",
    "#plot the ratio and bathroom counts\n",
    "sns.scatterplot(x = 'bathrooms_round', y = 'ratio', data = ratio)\n",
    "plt.title('Ratio of Zero Reviews by Bathroom Count')\n",
    "plt.show()"
   ]
  },
  {
   "cell_type": "markdown",
   "metadata": {},
   "source": [
    "Median number of reviews decreases as bathroom counts increases with exception of 0 bathroom. This again shows that even though bathroom of 1 is offered most on airbnb, it has the lowest zero review ratio at less than 0.2"
   ]
  },
  {
   "cell_type": "code",
   "execution_count": 31,
   "metadata": {},
   "outputs": [
    {
     "data": {
      "image/png": "[encoded data removed]",
      "text/plain": [
       "<Figure size 432x288 with 1 Axes>"
      ]
     },
     "metadata": {
      "needs_background": "light"
     },
     "output_type": "display_data"
    },
    {
     "data": {
      "text/html": [
       "<div>\n",
       "<style scoped>\n",
       "    .dataframe tbody tr th:only-of-type {\n",
       "        vertical-align: middle;\n",
       "    }\n",
       "\n",
       "    .dataframe tbody tr th {\n",
       "        vertical-align: top;\n",
       "    }\n",
       "\n",
       "    .dataframe thead th {\n",
       "        text-align: right;\n",
       "    }\n",
       "</style>\n",
       "<table border=\"1\" class=\"dataframe\">\n",
       "  <thead>\n",
       "    <tr style=\"text-align: right;\">\n",
       "      <th></th>\n",
       "      <th>slope</th>\n",
       "      <th>intercept</th>\n",
       "      <th>correlation</th>\n",
       "      <th>p value</th>\n",
       "    </tr>\n",
       "  </thead>\n",
       "  <tbody>\n",
       "    <tr>\n",
       "      <th>0</th>\n",
       "      <td>-5.900356</td>\n",
       "      <td>42.183824</td>\n",
       "      <td>0.948992</td>\n",
       "      <td>0.000203</td>\n",
       "    </tr>\n",
       "  </tbody>\n",
       "</table>\n",
       "</div>"
      ],
      "text/plain": [
       "      slope  intercept  correlation   p value\n",
       "0 -5.900356  42.183824     0.948992  0.000203"
      ]
     },
     "execution_count": 31,
     "metadata": {},
     "output_type": "execute_result"
    },
    {
     "data": {
      "image/png": "[encoded data removed]",
      "text/plain": [
       "<Figure size 864x360 with 2 Axes>"
      ]
     },
     "metadata": {
      "needs_background": "light"
     },
     "output_type": "display_data"
    }
   ],
   "source": [
    "#find mean reviews group by bathroom\n",
    "bathrooms_mean_review = (dataset1.groupby('bathrooms_round')['number_of_reviews']\n",
    "                         .mean()\n",
    "                         .rename('mean_number_of_reviews')\n",
    "                         .reset_index())\n",
    "\n",
    "sns.scatterplot(x = 'bathrooms_round', y = 'mean_number_of_reviews', data = bathrooms_mean_review)\n",
    "plt.show()\n",
    "\n",
    "fig, axes = plt.subplots(1,2, figsize = (12,5))\n",
    "sns.regplot(x = 'bathrooms_round', y = 'mean_number_of_reviews', data = bathrooms_mean_review[1:8], ax = axes[0])\n",
    "axes[0].set_title('Regression of Bedroom and number of reviews')\n",
    "\n",
    "#statistical analysis of linear regression\n",
    "slope, intercept, r, p, stderr = stats.linregress(bathrooms_mean_review.bathrooms_round[1:8], \n",
    "                                                  bathrooms_mean_review.mean_number_of_reviews[1:8])\n",
    "#create table for the stats of linear regression\n",
    "dic = {'slope': [slope], 'intercept': [intercept], 'correlation': [r**2], 'p value': [p]}\n",
    "\n",
    "\n",
    "#plot residual plot\n",
    "y = slope*bathrooms_mean_review.bathrooms_round+intercept\n",
    "residual = y-bathrooms_mean_review.mean_number_of_reviews\n",
    "axes[1].scatter(bathrooms_mean_review.bathrooms_round[1:8], residual[1:8])\n",
    "axes[1].set_title('Residual plot')\n",
    "axes[1].set_xlabel('bathroom')\n",
    "axes[1].set_ylabel('residual')\n",
    "axes[1].set_ylim((-5,5))\n",
    "pd.DataFrame(dic)"
   ]
  },
  {
   "cell_type": "markdown",
   "metadata": {},
   "source": [
    "From the scatter plot the relationship between bathroom and mean number of reviews could be segmented into two sections separated by 8 bathrooms. 8 and 11 bathrooms are outliers with abnormal number of average reviews. The mean number of reviews after 8 bathrooms seems to be constant at around 3, but before 8 bathrooms it exhibits strong negative linear correlation. The residual plot shows a randomized data points suggesting a good regression plot"
   ]
  },
  {
   "cell_type": "markdown",
   "metadata": {},
   "source": [
    "<a id='Time'></a>"
   ]
  },
  {
   "cell_type": "markdown",
   "metadata": {},
   "source": [
    "## 2e. Time as Host"
   ]
  },
  {
   "cell_type": "code",
   "execution_count": 32,
   "metadata": {},
   "outputs": [
    {
     "data": {
      "image/png": "[encoded data removed]",
      "text/plain": [
       "<Figure size 432x432 with 3 Axes>"
      ]
     },
     "metadata": {
      "needs_background": "light"
     },
     "output_type": "display_data"
    },
    {
     "data": {
      "text/plain": [
       "<matplotlib.axes._subplots.AxesSubplot at 0x2aa28660a48>"
      ]
     },
     "execution_count": 32,
     "metadata": {},
     "output_type": "execute_result"
    },
    {
     "data": {
      "image/png": "[encoded data removed]",
      "text/plain": [
       "<Figure size 432x288 with 1 Axes>"
      ]
     },
     "metadata": {
      "needs_background": "light"
     },
     "output_type": "display_data"
    }
   ],
   "source": [
    "#relationship between time as host and number of reviews\n",
    "sns.jointplot(x = 'time_as_host', y = 'number_of_reviews', data = dataset1, kind = 'reg')\n",
    "plt.show()\n",
    "\n",
    "#relationship between time as host and zero views and at least one review\n",
    "sns.violinplot(x = 'review_count', y = 'time_as_host', data = dataset1)"
   ]
  },
  {
   "cell_type": "code",
   "execution_count": 33,
   "metadata": {},
   "outputs": [
    {
     "name": "stdout",
     "output_type": "stream",
     "text": [
      "Mean time as host with zero review:  1354.98 days\n",
      "Mean time as host with at least one review:  1527.04 days\n",
      "Median time as host with zero review:  1346.0 days\n",
      "Median time as host with at least one review:  1505.0 days\n"
     ]
    }
   ],
   "source": [
    "zero_time = np.mean(dataset1[dataset1.review_count == 'zero'].time_as_host)\n",
    "oneplus_time = np.mean(dataset1[dataset1.review_count == 'at least one'].time_as_host)\n",
    "\n",
    "print(\"Mean time as host with zero review: \", round(zero_time,2), 'days')\n",
    "print(\"Mean time as host with at least one review: \", round(oneplus_time,2), 'days')\n",
    "\n",
    "zero_time = np.median(dataset1[dataset1.review_count == 'zero'].time_as_host)\n",
    "oneplus_time = np.median(dataset1[dataset1.review_count == 'at least one'].time_as_host)\n",
    "\n",
    "print(\"Median time as host with zero review: \", round(zero_time,2), 'days')\n",
    "print(\"Median time as host with at least one review: \", round(oneplus_time,2), 'days')"
   ]
  },
  {
   "cell_type": "markdown",
   "metadata": {},
   "source": [
    "The distribution for time as host do not appear to be uniform as expected but peaks between 1500 and 2000 days. (fig. 7) This behavior could be understood in three stages. From right to middle, Airbnb experienced a raise in popularity and homeowners began joining the platform. Then the number of people joined peaked and the platform experienced a deceleration of homeowners joining the platform. Then a constant number of people began joining every year without much growth and saturates out. When examining the violin plot for zero review counts, we observed two peaks where one is around 1500 days and another at around 0, which at first is surprising because it would be logical that as time passes, zero review frequency tends to decrease. These two peaks could be explained logically and the general distribution. The peak close to zero days results from homeowners whom just joined the platform and have experience no or little booking from travelers. On the other hand, the other peak at 1500 days is the result of the saturation in demand while supply of Airbnb homes increase as shown in the general distribution. \n",
    "\n",
    "The scatter plot shows a general positive correlation considering the regression line and the maximum number of reviews at set time intervals. However, the scatterplot does not show whether the linear regression line is the best regression fit. To measure the underlying behavior of time and number of reviews, mean number of reviews as a function of interval time was conducted.\n"
   ]
  },
  {
   "cell_type": "code",
   "execution_count": 34,
   "metadata": {},
   "outputs": [
    {
     "data": {
      "text/plain": [
       "<matplotlib.axes._subplots.AxesSubplot at 0x2aa595ad948>"
      ]
     },
     "execution_count": 34,
     "metadata": {},
     "output_type": "execute_result"
    },
    {
     "data": {
      "image/png": "[encoded data removed]",
      "text/plain": [
       "<Figure size 432x288 with 1 Axes>"
      ]
     },
     "metadata": {
      "needs_background": "light"
     },
     "output_type": "display_data"
    }
   ],
   "source": [
    "#create dataset segments time to 100 days and create a mean number of reviews\n",
    "dataset1['round_time'] = dataset1['time_as_host'].apply(lambda x: x//100*100)\n",
    "time_review = dataset1.groupby('round_time')['number_of_reviews'].mean().rename('mean_number_of_reviews').reset_index()\n",
    "\n",
    "sns.scatterplot(x = 'round_time', y = 'mean_number_of_reviews', data = time_review)"
   ]
  },
  {
   "cell_type": "markdown",
   "metadata": {},
   "source": [
    "With a few exception, the relationship between time and mean number of review is quadratic in appearance. We can apply a transformation method to create a linear relationship. Since we do not want to change number of reviews in the general dataset, lets transform the time by square rooting the values"
   ]
  },
  {
   "cell_type": "code",
   "execution_count": 35,
   "metadata": {},
   "outputs": [
    {
     "data": {
      "image/png": "[encoded data removed]",
      "text/plain": [
       "<Figure size 864x360 with 2 Axes>"
      ]
     },
     "metadata": {
      "needs_background": "light"
     },
     "output_type": "display_data"
    },
    {
     "data": {
      "text/html": [
       "<div>\n",
       "<style scoped>\n",
       "    .dataframe tbody tr th:only-of-type {\n",
       "        vertical-align: middle;\n",
       "    }\n",
       "\n",
       "    .dataframe tbody tr th {\n",
       "        vertical-align: top;\n",
       "    }\n",
       "\n",
       "    .dataframe thead th {\n",
       "        text-align: right;\n",
       "    }\n",
       "</style>\n",
       "<table border=\"1\" class=\"dataframe\">\n",
       "  <thead>\n",
       "    <tr style=\"text-align: right;\">\n",
       "      <th></th>\n",
       "      <th>slope</th>\n",
       "      <th>intercept</th>\n",
       "      <th>correlation</th>\n",
       "      <th>p value</th>\n",
       "    </tr>\n",
       "  </thead>\n",
       "  <tbody>\n",
       "    <tr>\n",
       "      <th>0</th>\n",
       "      <td>0.888046</td>\n",
       "      <td>3.280542</td>\n",
       "      <td>0.935628</td>\n",
       "      <td>1.228695e-23</td>\n",
       "    </tr>\n",
       "  </tbody>\n",
       "</table>\n",
       "</div>"
      ],
      "text/plain": [
       "      slope  intercept  correlation       p value\n",
       "0  0.888046   3.280542     0.935628  1.228695e-23"
      ]
     },
     "execution_count": 35,
     "metadata": {},
     "output_type": "execute_result"
    }
   ],
   "source": [
    "remove = []\n",
    "for number in time_review.index:\n",
    "    #condition for removing points\n",
    "    if (time_review.iloc[number, :].round_time > 3000) and (time_review.iloc[number, :].mean_number_of_reviews < 20):\n",
    "        remove.append(number)\n",
    "\n",
    "#remove the two data points\n",
    "time_review = time_review.drop(index = remove)\n",
    "\n",
    "#apply square root transformation\n",
    "time_review['root_time'] = time_review.round_time.apply(lambda x: np.sqrt(x))\n",
    "\n",
    "#plot the regression plot\n",
    "fig, axes = plt.subplots(1,2, figsize = (12,5))\n",
    "sns.regplot(x = 'root_time', y = 'mean_number_of_reviews', data = time_review, ax = axes[0])\n",
    "axes[0].set_title('Regression of Bedroom and number of reviews')\n",
    "\n",
    "#statistical analysis of linear regression\n",
    "slope, intercept, r, p, stderr = stats.linregress(time_review.root_time, \n",
    "                                                  time_review.mean_number_of_reviews)\n",
    "#create table for the stats of linear regression\n",
    "dic = {'slope': [slope], 'intercept': [intercept], 'correlation': [r**2], 'p value': [p]}\n",
    "\n",
    "\n",
    "#plot residual plot\n",
    "y = slope*time_review.root_time+intercept\n",
    "residual = y-time_review.mean_number_of_reviews\n",
    "axes[1].scatter(time_review.root_time, residual)\n",
    "axes[1].set_title('Residual plot')\n",
    "axes[1].set_xlabel('Transformed Time as Host')\n",
    "axes[1].set_ylabel('residual')\n",
    "axes[1].set_ylim((-15,15))\n",
    "plt.show()\n",
    "pd.DataFrame(dic)"
   ]
  },
  {
   "cell_type": "markdown",
   "metadata": {},
   "source": [
    "The regression plot after transformation exhibit very strong correlation between time as host and mean number of reviews. It shows that the mean number of reviews increases by one for every square root of time as host. The residual plot also shows randomized pattern suggesting that there may not be any underlying pattern."
   ]
  },
  {
   "cell_type": "code",
   "execution_count": 36,
   "metadata": {},
   "outputs": [],
   "source": [
    "#transform time_as_host in the official dataset\n",
    "dataset1['time_as_host'] = dataset1.time_as_host.apply(lambda x: np.sqrt(x))"
   ]
  },
  {
   "cell_type": "code",
   "execution_count": 37,
   "metadata": {},
   "outputs": [
    {
     "data": {
      "text/html": [
       "<div>\n",
       "<style scoped>\n",
       "    .dataframe tbody tr th:only-of-type {\n",
       "        vertical-align: middle;\n",
       "    }\n",
       "\n",
       "    .dataframe tbody tr th {\n",
       "        vertical-align: top;\n",
       "    }\n",
       "\n",
       "    .dataframe thead th {\n",
       "        text-align: right;\n",
       "    }\n",
       "</style>\n",
       "<table border=\"1\" class=\"dataframe\">\n",
       "  <thead>\n",
       "    <tr style=\"text-align: right;\">\n",
       "      <th></th>\n",
       "      <th>slope</th>\n",
       "      <th>intercept</th>\n",
       "      <th>correlation</th>\n",
       "      <th>p value</th>\n",
       "    </tr>\n",
       "  </thead>\n",
       "  <tbody>\n",
       "    <tr>\n",
       "      <th>0</th>\n",
       "      <td>0.963142</td>\n",
       "      <td>0.04929</td>\n",
       "      <td>0.035304</td>\n",
       "      <td>7.914120e-267</td>\n",
       "    </tr>\n",
       "  </tbody>\n",
       "</table>\n",
       "</div>"
      ],
      "text/plain": [
       "      slope  intercept  correlation        p value\n",
       "0  0.963142    0.04929     0.035304  7.914120e-267"
      ]
     },
     "execution_count": 37,
     "metadata": {},
     "output_type": "execute_result"
    }
   ],
   "source": [
    "#statistical analysis of linear regression for the actual data after transformation\n",
    "slope, intercept, r, p, stderr = stats.linregress(dataset1.time_as_host, \n",
    "                                                  dataset1.number_of_reviews)\n",
    "#create table for the stats of linear regression\n",
    "dic = {'slope': [slope], 'intercept': [intercept], 'correlation': [r**2], 'p value': [p]}\n",
    "pd.DataFrame(dic)"
   ]
  },
  {
   "cell_type": "markdown",
   "metadata": {},
   "source": [
    "With very low p-value, we reject the null hypothesis that time as host is independent from number of reviews. Correlation is measured far lower at 0.035"
   ]
  },
  {
   "cell_type": "markdown",
   "metadata": {},
   "source": [
    "<a id='Rate'></a>"
   ]
  },
  {
   "cell_type": "markdown",
   "metadata": {},
   "source": [
    "## 2f. Score Rating"
   ]
  },
  {
   "cell_type": "code",
   "execution_count": 38,
   "metadata": {},
   "outputs": [
    {
     "data": {
      "text/plain": [
       "<matplotlib.axes._subplots.AxesSubplot at 0x2aa2df28e88>"
      ]
     },
     "execution_count": 38,
     "metadata": {},
     "output_type": "execute_result"
    },
    {
     "data": {
      "image/png": "[encoded data removed]",
      "text/plain": [
       "<Figure size 864x360 with 2 Axes>"
      ]
     },
     "metadata": {
      "needs_background": "light"
     },
     "output_type": "display_data"
    }
   ],
   "source": [
    "#review scores rating and number of reviews plots\n",
    "fig, axes = plt.subplots(1,2, figsize = (12,5))\n",
    "sns.scatterplot(x = 'review_scores_rating', y = 'number_of_reviews', data = dataset1, ax = axes[0])\n",
    "\n",
    "sns.distplot(dataset1.review_scores_rating, bins = 20, ax = axes[1])"
   ]
  },
  {
   "cell_type": "code",
   "execution_count": 39,
   "metadata": {},
   "outputs": [
    {
     "name": "stdout",
     "output_type": "stream",
     "text": [
      "Ratio of Airbnb home with 90 or higher review scores: 0.7\n"
     ]
    }
   ],
   "source": [
    "high_review_score = sum(dataset1.review_scores_rating >=90)/len(dataset1)\n",
    "\n",
    "print('Ratio of Airbnb home with 90 or higher review scores:', round(high_review_score,2))"
   ]
  },
  {
   "cell_type": "markdown",
   "metadata": {},
   "source": [
    "First to clarify, the 0 review score rating corresponds to the data manipulation we conducted where we filled the null values with 0. However, it should be note that as the rating score increase, the maximum number of reviews increases accordingly and the increased could be discribed as an exponential increase in max value. Also most airbnb homes scores higher than 90 in their ratings. It's good to note that if an airbnb home scores below 80, it would be difficult for the home to have high review counts."
   ]
  },
  {
   "cell_type": "code",
   "execution_count": 40,
   "metadata": {},
   "outputs": [
    {
     "data": {
      "text/plain": [
       "<matplotlib.axes._subplots.AxesSubplot at 0x2aa595fba48>"
      ]
     },
     "execution_count": 40,
     "metadata": {},
     "output_type": "execute_result"
    },
    {
     "data": {
      "image/png": "[encoded data removed]",
      "text/plain": [
       "<Figure size 432x288 with 1 Axes>"
      ]
     },
     "metadata": {
      "needs_background": "light"
     },
     "output_type": "display_data"
    }
   ],
   "source": [
    "#group by review score and calculate mean for number of reviews\n",
    "rating = dataset1.groupby('review_scores_rating')['number_of_reviews'].mean().rename('mean_number_of_reviews').reset_index()\n",
    "\n",
    "sns.scatterplot(x ='review_scores_rating', y = 'mean_number_of_reviews', data = rating)"
   ]
  },
  {
   "cell_type": "markdown",
   "metadata": {},
   "source": [
    "The mean number of reviews exhibit similar behavior as the max values in the scatter plot seen prior. There is a clear exponential increase in mean number of review and we can transform the data to reflect the linear regression model. However, we must drop the number of review for 100 as it deviates substantally from the general trend"
   ]
  },
  {
   "cell_type": "code",
   "execution_count": 41,
   "metadata": {},
   "outputs": [
    {
     "data": {
      "image/png": "[encoded data removed]",
      "text/plain": [
       "<Figure size 864x360 with 2 Axes>"
      ]
     },
     "metadata": {
      "needs_background": "light"
     },
     "output_type": "display_data"
    },
    {
     "data": {
      "text/html": [
       "<div>\n",
       "<style scoped>\n",
       "    .dataframe tbody tr th:only-of-type {\n",
       "        vertical-align: middle;\n",
       "    }\n",
       "\n",
       "    .dataframe tbody tr th {\n",
       "        vertical-align: top;\n",
       "    }\n",
       "\n",
       "    .dataframe thead th {\n",
       "        text-align: right;\n",
       "    }\n",
       "</style>\n",
       "<table border=\"1\" class=\"dataframe\">\n",
       "  <thead>\n",
       "    <tr style=\"text-align: right;\">\n",
       "      <th></th>\n",
       "      <th>slope</th>\n",
       "      <th>intercept</th>\n",
       "      <th>correlation</th>\n",
       "      <th>p value</th>\n",
       "    </tr>\n",
       "  </thead>\n",
       "  <tbody>\n",
       "    <tr>\n",
       "      <th>0</th>\n",
       "      <td>7.991124e-11</td>\n",
       "      <td>3.772041</td>\n",
       "      <td>0.887409</td>\n",
       "      <td>2.305650e-25</td>\n",
       "    </tr>\n",
       "  </tbody>\n",
       "</table>\n",
       "</div>"
      ],
      "text/plain": [
       "          slope  intercept  correlation       p value\n",
       "0  7.991124e-11   3.772041     0.887409  2.305650e-25"
      ]
     },
     "execution_count": 41,
     "metadata": {},
     "output_type": "execute_result"
    }
   ],
   "source": [
    "#drop the last review and transformed review score\n",
    "rating = rating.drop(index = len(rating)-1)\n",
    "rating['transformed_review_score'] = rating['review_scores_rating'].apply(lambda x: x**6)\n",
    "\n",
    "#plot the regression plot\n",
    "fig, axes = plt.subplots(1,2, figsize = (12,5))\n",
    "sns.regplot(x ='transformed_review_score', y = 'mean_number_of_reviews', data = rating, ax = axes[0])\n",
    "axes[0].set_title('Regression of transformed_review_score and mean number of reviews')\n",
    "\n",
    "#statistical analysis of linear regression\n",
    "slope, intercept, r, p, stderr = stats.linregress(rating.transformed_review_score, \n",
    "                                                  rating.mean_number_of_reviews)\n",
    "#create table for the stats of linear regression\n",
    "dic = {'slope': [slope], 'intercept': [intercept], 'correlation': [r**2], 'p value': [p]}\n",
    "\n",
    "\n",
    "#plot residual plot\n",
    "y = slope*rating.transformed_review_score+intercept\n",
    "residual = y-rating.mean_number_of_reviews\n",
    "axes[1].scatter(rating.transformed_review_score, residual)\n",
    "axes[1].set_title('Residual plot')\n",
    "axes[1].set_xlabel('Transformed Review Score')\n",
    "axes[1].set_ylabel('residual')\n",
    "axes[1].set_ylim((-15,15))\n",
    "plt.show()\n",
    "pd.DataFrame(dic)"
   ]
  },
  {
   "cell_type": "markdown",
   "metadata": {},
   "source": [
    "Strong linear correlation between transformed review score and mean number of reviews. The review score was raised to the power of 6 to have this linear affect. The residual plot shows no apparent pattern suggesting this is a good model"
   ]
  },
  {
   "cell_type": "code",
   "execution_count": 42,
   "metadata": {},
   "outputs": [],
   "source": [
    "#apply transformation to review score\n",
    "dataset1['review_scores_rating'] = dataset1.review_scores_rating.apply(lambda x: x**6)"
   ]
  },
  {
   "cell_type": "code",
   "execution_count": 43,
   "metadata": {},
   "outputs": [
    {
     "data": {
      "text/html": [
       "<div>\n",
       "<style scoped>\n",
       "    .dataframe tbody tr th:only-of-type {\n",
       "        vertical-align: middle;\n",
       "    }\n",
       "\n",
       "    .dataframe tbody tr th {\n",
       "        vertical-align: top;\n",
       "    }\n",
       "\n",
       "    .dataframe thead th {\n",
       "        text-align: right;\n",
       "    }\n",
       "</style>\n",
       "<table border=\"1\" class=\"dataframe\">\n",
       "  <thead>\n",
       "    <tr style=\"text-align: right;\">\n",
       "      <th></th>\n",
       "      <th>slope</th>\n",
       "      <th>intercept</th>\n",
       "      <th>correlation</th>\n",
       "      <th>p value</th>\n",
       "    </tr>\n",
       "  </thead>\n",
       "  <tbody>\n",
       "    <tr>\n",
       "      <th>0</th>\n",
       "      <td>3.783858e-11</td>\n",
       "      <td>11.804555</td>\n",
       "      <td>0.051612</td>\n",
       "      <td>0.0</td>\n",
       "    </tr>\n",
       "  </tbody>\n",
       "</table>\n",
       "</div>"
      ],
      "text/plain": [
       "          slope  intercept  correlation  p value\n",
       "0  3.783858e-11  11.804555     0.051612      0.0"
      ]
     },
     "execution_count": 43,
     "metadata": {},
     "output_type": "execute_result"
    }
   ],
   "source": [
    "#statistical analysis of linear regression for actual data\n",
    "slope, intercept, r, p, stderr = stats.linregress(dataset1.review_scores_rating, \n",
    "                                                  dataset1.number_of_reviews)\n",
    "#create table for the stats of linear regression\n",
    "dic = {'slope': [slope], 'intercept': [intercept], 'correlation': [r**2], 'p value': [p]}\n",
    "pd.DataFrame(dic)"
   ]
  },
  {
   "cell_type": "markdown",
   "metadata": {},
   "source": [
    "The p-value for the transformation is 0 which we can reject the null hypothesis. The slope is extremely small because this is a tranformed dataset where we raised the review score rate to the 6th power. However, the correlation value is small"
   ]
  },
  {
   "cell_type": "markdown",
   "metadata": {},
   "source": [
    "<a id='Clean'></a>"
   ]
  },
  {
   "cell_type": "markdown",
   "metadata": {},
   "source": [
    "## 2g. Cleanliness Score"
   ]
  },
  {
   "cell_type": "code",
   "execution_count": 44,
   "metadata": {},
   "outputs": [
    {
     "data": {
      "text/plain": [
       "<matplotlib.axes._subplots.AxesSubplot at 0x2aa2defa5c8>"
      ]
     },
     "execution_count": 44,
     "metadata": {},
     "output_type": "execute_result"
    },
    {
     "data": {
      "image/png": "[encoded data removed]",
      "text/plain": [
       "<Figure size 864x360 with 2 Axes>"
      ]
     },
     "metadata": {
      "needs_background": "light"
     },
     "output_type": "display_data"
    }
   ],
   "source": [
    "fig, axes = plt.subplots(1,2, figsize = (12,5))\n",
    "\n",
    "#score of the cleaniness and number of reviews\n",
    "sns.boxplot(x = 'review_scores_cleanliness', y = 'number_of_reviews', data = dataset1, ax = axes[0])\n",
    "axes[0].set_ylim((0,150))\n",
    "\n",
    "#distribution of the score for cleaniness\n",
    "sns.distplot(dataset1.review_scores_cleanliness, hist = False, ax = axes[1])"
   ]
  },
  {
   "cell_type": "markdown",
   "metadata": {},
   "source": [
    "Again the 0 review scores are filled data. However it's clear that very few airbnb home exhibit cleaniness score of less than 8 and according to the bar graph, a score less than 6 would result in low median number of reviews"
   ]
  },
  {
   "cell_type": "code",
   "execution_count": 45,
   "metadata": {},
   "outputs": [
    {
     "data": {
      "text/plain": [
       "<matplotlib.axes._subplots.AxesSubplot at 0x2aa28518188>"
      ]
     },
     "execution_count": 45,
     "metadata": {},
     "output_type": "execute_result"
    },
    {
     "data": {
      "image/png": "[encoded data removed]",
      "text/plain": [
       "<Figure size 432x288 with 1 Axes>"
      ]
     },
     "metadata": {
      "needs_background": "light"
     },
     "output_type": "display_data"
    }
   ],
   "source": [
    "#group by score for cleaniness and number of reviews\n",
    "rating = (dataset1.groupby('review_scores_cleanliness')['number_of_reviews']\n",
    "          .mean()\n",
    "          .rename('mean_number_of_reviews')\n",
    "          .reset_index())\n",
    "\n",
    "sns.scatterplot(x ='review_scores_cleanliness', y = 'mean_number_of_reviews', data = rating)"
   ]
  },
  {
   "cell_type": "markdown",
   "metadata": {},
   "source": [
    "The cleaniness score appears to have similar pattern as the overall score with an exponential increase in mean number of reviews as a function of cleaniness"
   ]
  },
  {
   "cell_type": "code",
   "execution_count": 46,
   "metadata": {},
   "outputs": [
    {
     "data": {
      "image/png": "[encoded data removed]",
      "text/plain": [
       "<Figure size 864x360 with 2 Axes>"
      ]
     },
     "metadata": {
      "needs_background": "light"
     },
     "output_type": "display_data"
    },
    {
     "data": {
      "text/html": [
       "<div>\n",
       "<style scoped>\n",
       "    .dataframe tbody tr th:only-of-type {\n",
       "        vertical-align: middle;\n",
       "    }\n",
       "\n",
       "    .dataframe tbody tr th {\n",
       "        vertical-align: top;\n",
       "    }\n",
       "\n",
       "    .dataframe thead th {\n",
       "        text-align: right;\n",
       "    }\n",
       "</style>\n",
       "<table border=\"1\" class=\"dataframe\">\n",
       "  <thead>\n",
       "    <tr style=\"text-align: right;\">\n",
       "      <th></th>\n",
       "      <th>slope</th>\n",
       "      <th>intercept</th>\n",
       "      <th>correlation</th>\n",
       "      <th>p value</th>\n",
       "    </tr>\n",
       "  </thead>\n",
       "  <tbody>\n",
       "    <tr>\n",
       "      <th>0</th>\n",
       "      <td>0.000848</td>\n",
       "      <td>0.757041</td>\n",
       "      <td>0.98684</td>\n",
       "      <td>7.648035e-08</td>\n",
       "    </tr>\n",
       "  </tbody>\n",
       "</table>\n",
       "</div>"
      ],
      "text/plain": [
       "      slope  intercept  correlation       p value\n",
       "0  0.000848   0.757041      0.98684  7.648035e-08"
      ]
     },
     "execution_count": 46,
     "metadata": {},
     "output_type": "execute_result"
    }
   ],
   "source": [
    "rating = rating.drop(index = len(rating)-1)\n",
    "rating['transformed_clean'] = rating['review_scores_cleanliness'].apply(lambda x: x**5)\n",
    "\n",
    "#plot the regression plot\n",
    "fig, axes = plt.subplots(1,2, figsize = (12,5))\n",
    "sns.regplot(x ='transformed_clean', y = 'mean_number_of_reviews', data = rating, ax = axes[0])\n",
    "axes[0].set_title('Regression of transformed clean score and mean number of reviews')\n",
    "\n",
    "#statistical analysis of linear regression\n",
    "slope, intercept, r, p, stderr = stats.linregress(rating.transformed_clean, \n",
    "                                                  rating.mean_number_of_reviews)\n",
    "#create table for the stats of linear regression\n",
    "dic = {'slope': [slope], 'intercept': [intercept], 'correlation': [r**2], 'p value': [p]}\n",
    "\n",
    "\n",
    "#plot residual plot\n",
    "y = slope*rating.transformed_clean+intercept\n",
    "residual = y-rating.mean_number_of_reviews\n",
    "axes[1].scatter(rating.transformed_clean, residual)\n",
    "axes[1].set_title('Residual plot')\n",
    "axes[1].set_xlabel('Transformed Clean Score')\n",
    "axes[1].set_ylabel('residual')\n",
    "axes[1].set_ylim((-10,10))\n",
    "plt.show()\n",
    "pd.DataFrame(dic)"
   ]
  },
  {
   "cell_type": "markdown",
   "metadata": {},
   "source": [
    "Again strong linear correlation between transformed clean score and mean number of reviews. The review score was raised to the power of 5 to have this linear affect. The residual plot shows no apparent pattern suggesting this is a good model. This may have too strong of a correlation to overall review score and may affect machine learning models"
   ]
  },
  {
   "cell_type": "code",
   "execution_count": 47,
   "metadata": {},
   "outputs": [],
   "source": [
    "#transform cleanliness score data\n",
    "dataset1['review_scores_cleanliness'] = dataset1.review_scores_cleanliness.apply(lambda x: x**5)"
   ]
  },
  {
   "cell_type": "code",
   "execution_count": 48,
   "metadata": {},
   "outputs": [
    {
     "data": {
      "text/html": [
       "<div>\n",
       "<style scoped>\n",
       "    .dataframe tbody tr th:only-of-type {\n",
       "        vertical-align: middle;\n",
       "    }\n",
       "\n",
       "    .dataframe tbody tr th {\n",
       "        vertical-align: top;\n",
       "    }\n",
       "\n",
       "    .dataframe thead th {\n",
       "        text-align: right;\n",
       "    }\n",
       "</style>\n",
       "<table border=\"1\" class=\"dataframe\">\n",
       "  <thead>\n",
       "    <tr style=\"text-align: right;\">\n",
       "      <th></th>\n",
       "      <th>slope</th>\n",
       "      <th>intercept</th>\n",
       "      <th>correlation</th>\n",
       "      <th>p value</th>\n",
       "    </tr>\n",
       "  </thead>\n",
       "  <tbody>\n",
       "    <tr>\n",
       "      <th>0</th>\n",
       "      <td>0.000389</td>\n",
       "      <td>9.953869</td>\n",
       "      <td>0.06257</td>\n",
       "      <td>0.0</td>\n",
       "    </tr>\n",
       "  </tbody>\n",
       "</table>\n",
       "</div>"
      ],
      "text/plain": [
       "      slope  intercept  correlation  p value\n",
       "0  0.000389   9.953869      0.06257      0.0"
      ]
     },
     "execution_count": 48,
     "metadata": {},
     "output_type": "execute_result"
    }
   ],
   "source": [
    "#statistical analysis of linear regression for actual data\n",
    "slope, intercept, r, p, stderr = stats.linregress(dataset1.review_scores_cleanliness, \n",
    "                                                  dataset1.number_of_reviews)\n",
    "#create table for the stats of linear regression\n",
    "dic = {'slope': [slope], 'intercept': [intercept], 'correlation': [r**2], 'p value': [p]}\n",
    "pd.DataFrame(dic)"
   ]
  },
  {
   "cell_type": "markdown",
   "metadata": {},
   "source": [
    "The p-value for the transformation is 0 which we can reject the null hypothesis. The slope is extremely small because this is a tranformed dataset where we raised the review score rate to the 5th power. However, the correlation value is small"
   ]
  },
  {
   "cell_type": "markdown",
   "metadata": {},
   "source": [
    "<a id='Bigram'></a>"
   ]
  },
  {
   "cell_type": "markdown",
   "metadata": {},
   "source": [
    "## 2h. Bigram Analysis"
   ]
  },
  {
   "cell_type": "code",
   "execution_count": 49,
   "metadata": {},
   "outputs": [],
   "source": [
    "#count the bigram words in bigram name\n",
    "cnt_bigram_name = Counter()\n",
    "for row in dataset1.bigram_name:\n",
    "    for bigram in row:\n",
    "        cnt_bigram_name[bigram]+=1"
   ]
  },
  {
   "cell_type": "code",
   "execution_count": 50,
   "metadata": {},
   "outputs": [
    {
     "data": {
      "text/plain": [
       "[Text(0, 0, \"('private', 'room')\"),\n",
       " Text(0, 0, \"('beverly', 'hill')\"),\n",
       " Text(0, 0, \"('los', 'angeles')\"),\n",
       " Text(0, 0, \"('venice', 'beach')\"),\n",
       " Text(0, 0, \"('hollywood', 'hill')\"),\n",
       " Text(0, 0, \"('guest', 'house')\"),\n",
       " Text(0, 0, \"('west', 'hollywood')\"),\n",
       " Text(0, 0, \"('downtown', 'la')\"),\n",
       " Text(0, 0, \"('santa', 'monica')\"),\n",
       " Text(0, 0, \"('private', 'bedroom')\"),\n",
       " Text(0, 0, \"('echo', 'park')\"),\n",
       " Text(0, 0, \"('ocean', 'view')\"),\n",
       " Text(0, 0, \"('one', 'bedroom')\"),\n",
       " Text(0, 0, \"('heart', 'hollywood')\"),\n",
       " Text(0, 0, \"('long', 'beach')\")]"
      ]
     },
     "execution_count": 50,
     "metadata": {},
     "output_type": "execute_result"
    },
    {
     "data": {
      "image/png": "[encoded data removed]",
      "text/plain": [
       "<Figure size 432x288 with 1 Axes>"
      ]
     },
     "metadata": {
      "needs_background": "light"
     },
     "output_type": "display_data"
    }
   ],
   "source": [
    "Frame = pd.DataFrame(cnt_bigram_name.most_common(15))\n",
    "Frame.columns = ['Bigram', 'Count']\n",
    "g = sns.barplot(x = 'Bigram', y = 'Count', data = Frame)\n",
    "g.set_xticklabels(labels = Frame.Bigram, rotation=90)"
   ]
  },
  {
   "cell_type": "markdown",
   "metadata": {},
   "source": [
    "Almost all the words mentioned are location dependent. But 'private room' and 'master bedroom' seems to be very common bigrams.\n",
    "How does the words in the general trend differ from those with zero reviews and those that have at least 1 reviews?"
   ]
  },
  {
   "cell_type": "code",
   "execution_count": 51,
   "metadata": {},
   "outputs": [],
   "source": [
    "#count the bigram words in bigram name\n",
    "cnt_zero = Counter()\n",
    "for row in zero_review.bigram_name:\n",
    "    for bigram in row:\n",
    "        cnt_zero[bigram]+=1\n",
    "        \n",
    "cnt_one_more = Counter()\n",
    "for row in at_least_one_review.bigram_name:\n",
    "    for bigram in row:\n",
    "        cnt_one_more[bigram]+=1"
   ]
  },
  {
   "cell_type": "code",
   "execution_count": 52,
   "metadata": {},
   "outputs": [
    {
     "data": {
      "text/plain": [
       "Text(0.5, 1.0, 'At Least One Review')"
      ]
     },
     "execution_count": 52,
     "metadata": {},
     "output_type": "execute_result"
    },
    {
     "data": {
      "image/png": "[encoded data removed]",
      "text/plain": [
       "<Figure size 864x360 with 2 Axes>"
      ]
     },
     "metadata": {
      "needs_background": "light"
     },
     "output_type": "display_data"
    }
   ],
   "source": [
    "zero_Frame = pd.DataFrame(cnt_zero.most_common(15))\n",
    "zero_Frame.columns = ['Bigram', 'Count']\n",
    "\n",
    "more_Frame = pd.DataFrame(cnt_one_more.most_common(15))\n",
    "more_Frame.columns = ['Bigram', 'Count']\n",
    "\n",
    "fig, axes = plt.subplots(1,2, figsize = (12,5))\n",
    "g = sns.barplot(x = 'Bigram', y = 'Count', data = zero_Frame, ax = axes[0])\n",
    "g.set_xticklabels(labels = zero_Frame.Bigram, rotation=90)\n",
    "g.set_title('Zero Review')\n",
    "\n",
    "g = sns.barplot(x = 'Bigram', y = 'Count', data = more_Frame, ax = axes[1])\n",
    "g.set_xticklabels(labels = more_Frame.Bigram, rotation=90)\n",
    "g.set_title('At Least One Review')"
   ]
  },
  {
   "cell_type": "markdown",
   "metadata": {},
   "source": [
    "Both bigram shares similar trends with primarly location oriented words. Lets look at the highest ratio of  zero review bigram to at least one review bigram"
   ]
  },
  {
   "cell_type": "code",
   "execution_count": 53,
   "metadata": {},
   "outputs": [
    {
     "data": {
      "text/plain": [
       "Text(0.5, 1.0, 'Bigram with Highest Zero Review Ratio')"
      ]
     },
     "execution_count": 53,
     "metadata": {},
     "output_type": "execute_result"
    },
    {
     "data": {
      "image/png": "[encoded data removed]",
      "text/plain": [
       "<Figure size 432x288 with 1 Axes>"
      ]
     },
     "metadata": {
      "needs_background": "light"
     },
     "output_type": "display_data"
    }
   ],
   "source": [
    "ratio_bigram = []\n",
    "for bigram, value in cnt_one_more.items():\n",
    "    if bigram in cnt_zero:\n",
    "        ratio_bigram.append([bigram, cnt_zero[bigram]/value])\n",
    "    else:\n",
    "        ratio_bigram.append([bigram,0])\n",
    "ratio_bigram.sort(key = lambda x: x[1], reverse = True)\n",
    "\n",
    "ratio_frame = pd.DataFrame(ratio_bigram)\n",
    "ratio_frame.columns = ['bigram', 'ratio']\n",
    "\n",
    "g = sns.barplot(x = 'bigram', y = 'ratio', data = ratio_frame.iloc[:15])\n",
    "g.set_xticklabels(labels = ratio_frame.iloc[:15].bigram, rotation=90)\n",
    "g.set_title('Bigram with Highest Zero Review Ratio')"
   ]
  },
  {
   "cell_type": "markdown",
   "metadata": {},
   "source": [
    "Phrases that tends to have high zero review to at least one review ratio tends places that seems low scale with words like \"hostel\" and suite and words that seems to communicate sharing the space like \"common\". The word \"gym\" doesn't seem favorable too."
   ]
  },
  {
   "cell_type": "code",
   "execution_count": 97,
   "metadata": {},
   "outputs": [
    {
     "data": {
      "text/plain": [
       "Text(0.5, 1.0, 'Bigram with Highest at Least One Review Ratio')"
      ]
     },
     "execution_count": 97,
     "metadata": {},
     "output_type": "execute_result"
    },
    {
     "data": {
      "image/png": "[encoded data removed]",
      "text/plain": [
       "<Figure size 432x288 with 1 Axes>"
      ]
     },
     "metadata": {
      "needs_background": "light"
     },
     "output_type": "display_data"
    }
   ],
   "source": [
    "ratio_bigram = []\n",
    "for bigram, value in cnt_zero.items():\n",
    "    if bigram in cnt_one_more:\n",
    "        ratio_bigram.append([bigram, cnt_one_more[bigram]/value])\n",
    "    else:\n",
    "        ratio_bigram.append([bigram,0])\n",
    "ratio_bigram.sort(key = lambda x: x[1], reverse = True)\n",
    "\n",
    "ratio_frame = pd.DataFrame(ratio_bigram)\n",
    "ratio_frame.columns = ['bigram', 'ratio']\n",
    "\n",
    "g = sns.barplot(x = 'bigram', y = 'ratio', data = ratio_frame.iloc[:15])\n",
    "g.set_xticklabels(labels = ratio_frame.iloc[:15].bigram, rotation=90)\n",
    "g.set_title('Bigram with Highest at Least One Review Ratio')"
   ]
  },
  {
   "cell_type": "markdown",
   "metadata": {},
   "source": [
    "<a id='Learning'></a>"
   ]
  },
  {
   "cell_type": "markdown",
   "metadata": {},
   "source": [
    "## 3. Machine Learning"
   ]
  },
  {
   "cell_type": "code",
   "execution_count": 54,
   "metadata": {},
   "outputs": [
    {
     "name": "stdout",
     "output_type": "stream",
     "text": [
      "<class 'pandas.core.frame.DataFrame'>\n",
      "Int64Index: 33887 entries, 0 to 45051\n",
      "Data columns (total 34 columns):\n",
      "name                           33887 non-null object\n",
      "description                    33887 non-null object\n",
      "transit                        33887 non-null bool\n",
      "host_is_superhost              33887 non-null object\n",
      "host_has_profile_pic           33887 non-null object\n",
      "host_identity_verified         33887 non-null object\n",
      "neighbourhood                  33887 non-null object\n",
      "property_type                  33887 non-null object\n",
      "room_type                      33887 non-null object\n",
      "accommodates                   33887 non-null int64\n",
      "bathrooms                      33887 non-null float64\n",
      "bedrooms                       33887 non-null float64\n",
      "beds                           33887 non-null float64\n",
      "bed_type                       33887 non-null object\n",
      "amenities                      33887 non-null object\n",
      "price                          33887 non-null int64\n",
      "weekly_price                   33887 non-null bool\n",
      "security_deposit               33887 non-null bool\n",
      "cleaning_fee                   33887 non-null bool\n",
      "guests_included                33887 non-null int64\n",
      "extra_people                   33887 non-null int64\n",
      "number_of_reviews              33887 non-null int64\n",
      "review_scores_rating           33887 non-null float64\n",
      "review_scores_cleanliness      33887 non-null float64\n",
      "review_scores_communication    33887 non-null float64\n",
      "instant_bookable               33887 non-null object\n",
      "time_as_host                   33887 non-null float64\n",
      "language                       33887 non-null object\n",
      "bigram_name                    33887 non-null object\n",
      "bigram_description             33887 non-null object\n",
      "review_count                   33887 non-null object\n",
      "bedrooms_round                 33887 non-null int64\n",
      "bathrooms_round                33887 non-null int64\n",
      "round_time                     33887 non-null float64\n",
      "dtypes: bool(4), float64(8), int64(7), object(15)\n",
      "memory usage: 9.4+ MB\n"
     ]
    }
   ],
   "source": [
    "dataset1.info()"
   ]
  },
  {
   "cell_type": "code",
   "execution_count": 55,
   "metadata": {},
   "outputs": [],
   "source": [
    "dataset1.amenities = dataset1.amenities.replace(to_replace = '[\"\\d\\s\\-\\/{\\}]', value='', regex=True)"
   ]
  },
  {
   "cell_type": "code",
   "execution_count": 56,
   "metadata": {},
   "outputs": [
    {
     "data": {
      "text/plain": [
       "0        None\n",
       "1        None\n",
       "2        None\n",
       "3        None\n",
       "4        None\n",
       "         ... \n",
       "45045    None\n",
       "45046    None\n",
       "45047    None\n",
       "45049    None\n",
       "45051    None\n",
       "Name: amenities, Length: 33887, dtype: object"
      ]
     },
     "execution_count": 56,
     "metadata": {},
     "output_type": "execute_result"
    }
   ],
   "source": [
    "#find all the items in the amenities and put it in a dummy dictionary\n",
    "amenities = {}\n",
    "def find_list(string):\n",
    "    first = 0\n",
    "    for index, character in enumerate(string):\n",
    "        if character == \",\":\n",
    "            if string[first:index] not in amenities:\n",
    "                amenities[string[first:index]] = []\n",
    "            first = index+1\n",
    "    if string[first:] not in amenities:\n",
    "            amenities[string[first:]] = []\n",
    "dataset1.amenities.apply(lambda x: find_list(x))"
   ]
  },
  {
   "cell_type": "code",
   "execution_count": 57,
   "metadata": {},
   "outputs": [
    {
     "data": {
      "text/plain": [
       "0        None\n",
       "1        None\n",
       "2        None\n",
       "3        None\n",
       "4        None\n",
       "         ... \n",
       "45045    None\n",
       "45046    None\n",
       "45047    None\n",
       "45049    None\n",
       "45051    None\n",
       "Name: amenities, Length: 33887, dtype: object"
      ]
     },
     "execution_count": 57,
     "metadata": {},
     "output_type": "execute_result"
    }
   ],
   "source": [
    "count = 0\n",
    "\n",
    "def labeling(string):\n",
    "    global amenities\n",
    "    first = 0\n",
    "    for index, character in enumerate(string):\n",
    "        if character == \",\":\n",
    "            if string[first:index] in amenities:\n",
    "                amenities[string[first:index]].append(1)\n",
    "    global count\n",
    "    count+=1\n",
    "    for key, value in amenities.items():\n",
    "        if len(value) < count:\n",
    "            amenities[key].append(0)\n",
    "\n",
    "dataset1.amenities.apply(lambda x: labeling(x))"
   ]
  },
  {
   "cell_type": "code",
   "execution_count": 58,
   "metadata": {},
   "outputs": [],
   "source": [
    "#create dataframe from amenities dictionary\n",
    "dataset2 = pd.DataFrame(amenities)\n",
    "\n",
    "#reset index\n",
    "dataset1 = dataset1.reset_index()\n",
    "\n",
    "#concatenate dataframe\n",
    "dataset1 = pd.concat([dataset1, dataset2], axis=1, sort=False)\n",
    "\n",
    "#get all keys in list form\n",
    "keys = list(amenities.keys())"
   ]
  },
  {
   "cell_type": "code",
   "execution_count": 59,
   "metadata": {},
   "outputs": [],
   "source": [
    "#combined the previously tokenized title and summary for sklearn bag of words and Tfidf\n",
    "#text has already been preprocessed previously by removing non-english campaign, lowercase, stopwords, stemming/lemmatizing\n",
    "dataset1['name'] = dataset1['name'].apply(lambda x: ' '.join(x))\n",
    "dataset1['description'] = dataset1['description'].apply(lambda x: ' '.join(x))\n",
    "\n",
    "#merge the title and summary to one text\n",
    "dataset1['name_description'] = dataset1['name'] + ' ' + dataset1['description']"
   ]
  },
  {
   "cell_type": "code",
   "execution_count": 60,
   "metadata": {},
   "outputs": [],
   "source": [
    "#select features\n",
    "X = dataset1[['name_description', 'transit', 'host_has_profile_pic',\n",
    "              'host_identity_verified', 'neighbourhood', 'property_type',\n",
    "              'room_type', 'accommodates', 'bathrooms', 'bedrooms', 'beds',\n",
    "              'bed_type', 'price', 'security_deposit', 'cleaning_fee',\n",
    "              'guests_included', 'extra_people', 'review_scores_rating', \n",
    "              'review_scores_cleanliness', 'review_scores_communication', \n",
    "              'instant_bookable', 'time_as_host', 'weekly_price', \n",
    "              'host_is_superhost'] + keys]\n",
    "\n",
    "#select target\n",
    "y = dataset1[['number_of_reviews']]\n",
    "\n",
    "#split data to train and test\n",
    "X_train, X_test, y_train, y_test = train_test_split(X, y, test_size = 0.2, random_state=10)"
   ]
  },
  {
   "cell_type": "code",
   "execution_count": 61,
   "metadata": {},
   "outputs": [],
   "source": [
    "#numeric features\n",
    "get_numeric = ['accommodates', 'bathrooms', 'bedrooms', 'beds', 'price', \n",
    "               'guests_included', 'extra_people', 'review_scores_rating', \n",
    "               'review_scores_cleanliness', 'review_scores_communication', \n",
    "               'time_as_host']\n",
    "\n",
    "#categorical features\n",
    "get_categorical = ['transit', 'host_has_profile_pic', 'host_identity_verified', \n",
    "                   'neighbourhood', 'property_type', 'room_type', 'bed_type', \n",
    "                   'security_deposit', 'cleaning_fee', 'instant_bookable',\n",
    "                   'weekly_price', 'host_is_superhost'] + keys\n",
    "\n",
    "#text feature\n",
    "get_text = 'name_description'\n",
    "\n",
    "#numeric pipeline\n",
    "num_pipe = Pipeline([('scale', StandardScaler())])\n",
    "\n",
    "#categorical pipeline1\n",
    "#first encode category columns using onehot encoding\n",
    "cat_pipe = Pipeline([('onehot', OneHotEncoder(sparse=False, handle_unknown = 'ignore')), \n",
    "                     #remove features with low variance set at 99.9% of the population\n",
    "                     ('varthres', VarianceThreshold(threshold = 0.999*(1-0.999)))])\n",
    "\n",
    "\n",
    "\n",
    "\n",
    "#text pipeline for CountVectorizer\n",
    "#countvectorization with maximum features of 10000 to reduce overfitting the model \n",
    "#and remove any vocabulary/phrases with less 20 counts \n",
    "text_pipe1 = Pipeline([('Count', CountVectorizer(max_features = 10000, min_df = 20, ngram_range = (1,2)))])\n",
    "\n",
    "#text pipeline for Tfidf\n",
    "#TfidfVectorization with maximum features of 10000 to reduce overfitting the model \n",
    "#and remove any vocabulary/phrases with less 20 counts \n",
    "text_pipe2 = Pipeline([('Tfid', TfidfVectorizer(max_features = 10000, min_df = 20, ngram_range = (1,2)))])\n",
    "\n",
    "#preprocesscor for Bag of words\n",
    "preprocessor1 = ColumnTransformer(\n",
    "    transformers=[\n",
    "        ('num', num_pipe, get_numeric),\n",
    "        ('cat', cat_pipe, get_categorical),\n",
    "        ('text1', text_pipe1, get_text)])\n",
    "\n",
    "#preprocessor for Tf-idf\n",
    "preprocessor2 = ColumnTransformer(\n",
    "    transformers=[\n",
    "        ('num', num_pipe, get_numeric),\n",
    "        ('cat', cat_pipe, get_categorical),\n",
    "        ('text2', text_pipe2, get_text)])"
   ]
  },
  {
   "cell_type": "code",
   "execution_count": 62,
   "metadata": {},
   "outputs": [
    {
     "name": "stdout",
     "output_type": "stream",
     "text": [
      "Fitting 4 folds for each of 10 candidates, totalling 40 fits\n"
     ]
    },
    {
     "name": "stderr",
     "output_type": "stream",
     "text": [
      "[Parallel(n_jobs=3)]: Using backend LokyBackend with 3 concurrent workers.\n",
      "[Parallel(n_jobs=3)]: Done   1 tasks      | elapsed:   31.9s\n",
      "[Parallel(n_jobs=3)]: Done   2 tasks      | elapsed:   32.2s\n",
      "[Parallel(n_jobs=3)]: Done   3 tasks      | elapsed:   33.1s\n",
      "[Parallel(n_jobs=3)]: Done   4 tasks      | elapsed:   49.9s\n",
      "[Parallel(n_jobs=3)]: Done   5 tasks      | elapsed:   50.5s\n",
      "[Parallel(n_jobs=3)]: Done   6 tasks      | elapsed:   57.4s\n",
      "[Parallel(n_jobs=3)]: Done   7 tasks      | elapsed:  1.1min\n",
      "[Parallel(n_jobs=3)]: Done   8 tasks      | elapsed:  1.1min\n",
      "[Parallel(n_jobs=3)]: Done   9 tasks      | elapsed:  1.8min\n",
      "[Parallel(n_jobs=3)]: Done  10 tasks      | elapsed:  1.9min\n",
      "[Parallel(n_jobs=3)]: Done  11 tasks      | elapsed:  1.9min\n",
      "[Parallel(n_jobs=3)]: Done  12 tasks      | elapsed:  2.2min\n",
      "[Parallel(n_jobs=3)]: Done  13 tasks      | elapsed:  2.2min\n",
      "[Parallel(n_jobs=3)]: Done  14 tasks      | elapsed:  2.5min\n",
      "[Parallel(n_jobs=3)]: Done  15 tasks      | elapsed:  2.5min\n",
      "[Parallel(n_jobs=3)]: Done  16 tasks      | elapsed:  2.6min\n",
      "[Parallel(n_jobs=3)]: Done  17 tasks      | elapsed:  2.8min\n",
      "[Parallel(n_jobs=3)]: Done  18 tasks      | elapsed:  2.8min\n",
      "[Parallel(n_jobs=3)]: Done  19 tasks      | elapsed:  3.0min\n",
      "[Parallel(n_jobs=3)]: Done  20 tasks      | elapsed:  3.1min\n",
      "[Parallel(n_jobs=3)]: Done  21 tasks      | elapsed:  3.2min\n",
      "[Parallel(n_jobs=3)]: Done  22 tasks      | elapsed:  3.3min\n",
      "[Parallel(n_jobs=3)]: Done  23 tasks      | elapsed:  3.5min\n",
      "[Parallel(n_jobs=3)]: Done  24 tasks      | elapsed:  3.6min\n",
      "[Parallel(n_jobs=3)]: Done  25 tasks      | elapsed:  3.9min\n",
      "[Parallel(n_jobs=3)]: Done  26 tasks      | elapsed:  4.1min\n",
      "[Parallel(n_jobs=3)]: Done  27 tasks      | elapsed:  4.2min\n",
      "[Parallel(n_jobs=3)]: Done  28 tasks      | elapsed:  4.4min\n",
      "[Parallel(n_jobs=3)]: Done  29 tasks      | elapsed:  4.4min\n",
      "[Parallel(n_jobs=3)]: Done  30 tasks      | elapsed:  4.5min\n",
      "[Parallel(n_jobs=3)]: Done  31 tasks      | elapsed:  4.7min\n",
      "[Parallel(n_jobs=3)]: Done  32 tasks      | elapsed:  4.7min\n",
      "[Parallel(n_jobs=3)]: Done  33 tasks      | elapsed:  5.0min\n",
      "[Parallel(n_jobs=3)]: Done  34 tasks      | elapsed:  5.2min\n",
      "[Parallel(n_jobs=3)]: Done  35 tasks      | elapsed:  5.3min\n",
      "[Parallel(n_jobs=3)]: Done  38 out of  40 | elapsed:  6.2min remaining:   19.6s\n",
      "[Parallel(n_jobs=3)]: Done  40 out of  40 | elapsed:  6.6min finished\n"
     ]
    },
    {
     "data": {
      "text/plain": [
       "RandomizedSearchCV(cv=4, error_score='raise-deprecating',\n",
       "                   estimator=Pipeline(memory=None,\n",
       "                                      steps=[('preprocessor',\n",
       "                                              ColumnTransformer(n_jobs=None,\n",
       "                                                                remainder='drop',\n",
       "                                                                sparse_threshold=0.3,\n",
       "                                                                transformer_weights=None,\n",
       "                                                                transformers=[('num',\n",
       "                                                                               Pipeline(memory=None,\n",
       "                                                                                        steps=[('scale',\n",
       "                                                                                                StandardScaler(copy=True,\n",
       "                                                                                                               with_mean=True,\n",
       "                                                                                                               with_std=True))],\n",
       "                                                                                        verbose=False),\n",
       "                                                                               ['accommodates',\n",
       "                                                                                '...\n",
       "       4.09491506e+01, 4.94171336e+01, 5.96362332e+01, 7.19685673e+01,\n",
       "       8.68511374e+01, 1.04811313e+02, 1.26485522e+02, 1.52641797e+02,\n",
       "       1.84206997e+02, 2.22299648e+02, 2.68269580e+02, 3.23745754e+02,\n",
       "       3.90693994e+02, 4.71486636e+02, 5.68986603e+02, 6.86648845e+02,\n",
       "       8.28642773e+02, 1.00000000e+03])},\n",
       "                   pre_dispatch='2*n_jobs', random_state=12, refit=True,\n",
       "                   return_train_score=False, scoring='r2', verbose=15)"
      ]
     },
     "execution_count": 62,
     "metadata": {},
     "output_type": "execute_result"
    }
   ],
   "source": [
    "#create Bag of words pipeline with logistic regression\n",
    "pipe1 = Pipeline(steps=[('preprocessor', preprocessor1),\n",
    "                      ('regressor', Ridge())])\n",
    "\n",
    "#Randomized cross validation with fine tuning alpha\n",
    "param_grid = {'regressor__alpha': np.logspace(-1,3, num = 50)}\n",
    "\n",
    "clf = RandomizedSearchCV(pipe1, param_grid, cv = 4, verbose = 15, n_iter = 10, \n",
    "                           scoring = 'r2', n_jobs = 3, random_state = 12)\n",
    "\n",
    "clf.fit(X_train, y_train)"
   ]
  },
  {
   "cell_type": "code",
   "execution_count": 63,
   "metadata": {},
   "outputs": [
    {
     "name": "stdout",
     "output_type": "stream",
     "text": [
      "{'regressor__alpha': 568.9866029018293}\n"
     ]
    }
   ],
   "source": [
    "#model the test set\n",
    "print(clf.best_params_)"
   ]
  },
  {
   "cell_type": "code",
   "execution_count": 64,
   "metadata": {
    "scrolled": true
   },
   "outputs": [
    {
     "name": "stdout",
     "output_type": "stream",
     "text": [
      "Training set r2: 0.4\n",
      "Testing set r2: 0.32\n"
     ]
    }
   ],
   "source": [
    "#model the test set\n",
    "y_pred = clf.predict(X_test)\n",
    "\n",
    "train_r2 = round(clf.score(X_train, y_train), 2)\n",
    "test_r2 = round(r2_score(y_test, y_pred), 2)\n",
    "\n",
    "print(\"Training set r2:\", train_r2)\n",
    "print(\"Testing set r2:\", test_r2)"
   ]
  },
  {
   "cell_type": "code",
   "execution_count": 65,
   "metadata": {
    "scrolled": true
   },
   "outputs": [
    {
     "name": "stdout",
     "output_type": "stream",
     "text": [
      "Mean square error: 2563.93\n"
     ]
    }
   ],
   "source": [
    "mse = round(mean_squared_error(y_test, y_pred), 2)\n",
    "print('Mean square error:', mse)"
   ]
  },
  {
   "cell_type": "code",
   "execution_count": 66,
   "metadata": {},
   "outputs": [
    {
     "name": "stdout",
     "output_type": "stream",
     "text": [
      "Max error: 615.6\n"
     ]
    }
   ],
   "source": [
    "me = round(max_error(y_test, y_pred), 2)\n",
    "\n",
    "print('Max error:', me)"
   ]
  },
  {
   "cell_type": "code",
   "execution_count": 67,
   "metadata": {},
   "outputs": [
    {
     "name": "stdout",
     "output_type": "stream",
     "text": [
      "Mean absolute error: 31.59\n"
     ]
    }
   ],
   "source": [
    "mae = round(mean_absolute_error(y_test, y_pred), 2)\n",
    "\n",
    "print('Mean absolute error:', mae)"
   ]
  },
  {
   "cell_type": "code",
   "execution_count": 68,
   "metadata": {
    "scrolled": false
   },
   "outputs": [
    {
     "name": "stdout",
     "output_type": "stream",
     "text": [
      "Fitting 4 folds for each of 10 candidates, totalling 40 fits\n"
     ]
    },
    {
     "name": "stderr",
     "output_type": "stream",
     "text": [
      "[Parallel(n_jobs=3)]: Using backend LokyBackend with 3 concurrent workers.\n",
      "[Parallel(n_jobs=3)]: Done   1 tasks      | elapsed:   25.7s\n",
      "[Parallel(n_jobs=3)]: Done   2 tasks      | elapsed:   26.0s\n",
      "[Parallel(n_jobs=3)]: Done   3 tasks      | elapsed:   26.9s\n",
      "[Parallel(n_jobs=3)]: Done   4 tasks      | elapsed:   41.9s\n",
      "[Parallel(n_jobs=3)]: Done   5 tasks      | elapsed:   42.9s\n",
      "[Parallel(n_jobs=3)]: Done   6 tasks      | elapsed:   47.7s\n",
      "[Parallel(n_jobs=3)]: Done   7 tasks      | elapsed:   57.0s\n",
      "[Parallel(n_jobs=3)]: Done   8 tasks      | elapsed:   58.6s\n",
      "[Parallel(n_jobs=3)]: Done   9 tasks      | elapsed:  1.8min\n",
      "[Parallel(n_jobs=3)]: Done  10 tasks      | elapsed:  1.9min\n",
      "[Parallel(n_jobs=3)]: Done  11 tasks      | elapsed:  1.9min\n",
      "[Parallel(n_jobs=3)]: Done  12 tasks      | elapsed:  2.2min\n",
      "[Parallel(n_jobs=3)]: Done  13 tasks      | elapsed:  2.2min\n",
      "[Parallel(n_jobs=3)]: Done  14 tasks      | elapsed:  2.5min\n",
      "[Parallel(n_jobs=3)]: Done  15 tasks      | elapsed:  2.5min\n",
      "[Parallel(n_jobs=3)]: Done  16 tasks      | elapsed:  2.6min\n",
      "[Parallel(n_jobs=3)]: Done  17 tasks      | elapsed:  2.7min\n",
      "[Parallel(n_jobs=3)]: Done  18 tasks      | elapsed:  2.8min\n",
      "[Parallel(n_jobs=3)]: Done  19 tasks      | elapsed:  2.9min\n",
      "[Parallel(n_jobs=3)]: Done  20 tasks      | elapsed:  3.0min\n",
      "[Parallel(n_jobs=3)]: Done  21 tasks      | elapsed:  3.1min\n",
      "[Parallel(n_jobs=3)]: Done  22 tasks      | elapsed:  3.3min\n",
      "[Parallel(n_jobs=3)]: Done  23 tasks      | elapsed:  3.4min\n",
      "[Parallel(n_jobs=3)]: Done  24 tasks      | elapsed:  3.5min\n",
      "[Parallel(n_jobs=3)]: Done  25 tasks      | elapsed:  3.8min\n",
      "[Parallel(n_jobs=3)]: Done  26 tasks      | elapsed:  4.0min\n",
      "[Parallel(n_jobs=3)]: Done  27 tasks      | elapsed:  4.0min\n",
      "[Parallel(n_jobs=3)]: Done  28 tasks      | elapsed:  4.2min\n",
      "[Parallel(n_jobs=3)]: Done  29 tasks      | elapsed:  4.3min\n",
      "[Parallel(n_jobs=3)]: Done  30 tasks      | elapsed:  4.3min\n",
      "[Parallel(n_jobs=3)]: Done  31 tasks      | elapsed:  4.5min\n",
      "[Parallel(n_jobs=3)]: Done  32 tasks      | elapsed:  4.5min\n",
      "[Parallel(n_jobs=3)]: Done  33 tasks      | elapsed:  4.9min\n",
      "[Parallel(n_jobs=3)]: Done  34 tasks      | elapsed:  5.2min\n",
      "[Parallel(n_jobs=3)]: Done  35 tasks      | elapsed:  5.2min\n",
      "[Parallel(n_jobs=3)]: Done  38 out of  40 | elapsed:  6.2min remaining:   19.6s\n",
      "[Parallel(n_jobs=3)]: Done  40 out of  40 | elapsed:  6.8min finished\n"
     ]
    },
    {
     "data": {
      "text/plain": [
       "RandomizedSearchCV(cv=4, error_score='raise-deprecating',\n",
       "                   estimator=Pipeline(memory=None,\n",
       "                                      steps=[('preprocessor',\n",
       "                                              ColumnTransformer(n_jobs=None,\n",
       "                                                                remainder='drop',\n",
       "                                                                sparse_threshold=0.3,\n",
       "                                                                transformer_weights=None,\n",
       "                                                                transformers=[('num',\n",
       "                                                                               Pipeline(memory=None,\n",
       "                                                                                        steps=[('scale',\n",
       "                                                                                                StandardScaler(copy=True,\n",
       "                                                                                                               with_mean=True,\n",
       "                                                                                                               with_std=True))],\n",
       "                                                                                        verbose=False),\n",
       "                                                                               ['accommodates',\n",
       "                                                                                '...\n",
       "       4.09491506e+01, 4.94171336e+01, 5.96362332e+01, 7.19685673e+01,\n",
       "       8.68511374e+01, 1.04811313e+02, 1.26485522e+02, 1.52641797e+02,\n",
       "       1.84206997e+02, 2.22299648e+02, 2.68269580e+02, 3.23745754e+02,\n",
       "       3.90693994e+02, 4.71486636e+02, 5.68986603e+02, 6.86648845e+02,\n",
       "       8.28642773e+02, 1.00000000e+03])},\n",
       "                   pre_dispatch='2*n_jobs', random_state=12, refit=True,\n",
       "                   return_train_score=False, scoring='r2', verbose=15)"
      ]
     },
     "execution_count": 68,
     "metadata": {},
     "output_type": "execute_result"
    }
   ],
   "source": [
    "pipe2 = Pipeline(steps=[('preprocessor', preprocessor2),\n",
    "                      ('regressor', Ridge())])\n",
    "\n",
    "clf2 = RandomizedSearchCV(pipe2, param_grid, cv = 4, n_iter = 10, n_jobs = 3,\n",
    "                         scoring = 'r2', random_state = 12, verbose = 15)\n",
    "clf2.fit(X_train, y_train)"
   ]
  },
  {
   "cell_type": "code",
   "execution_count": 69,
   "metadata": {},
   "outputs": [
    {
     "name": "stdout",
     "output_type": "stream",
     "text": [
      "{'regressor__alpha': 5.17947467923121}\n"
     ]
    }
   ],
   "source": [
    "print(clf2.best_params_)"
   ]
  },
  {
   "cell_type": "code",
   "execution_count": 70,
   "metadata": {
    "scrolled": true
   },
   "outputs": [
    {
     "name": "stdout",
     "output_type": "stream",
     "text": [
      "Training set r2: 0.41\n",
      "Testing set r2: 0.32\n"
     ]
    }
   ],
   "source": [
    "#model the test set\n",
    "y_pred = clf2.predict(X_test)\n",
    "\n",
    "train_r2 = round(clf2.score(X_train, y_train), 2)\n",
    "test_r2 = round(r2_score(y_test, y_pred), 2)\n",
    "\n",
    "print(\"Training set r2:\", train_r2)\n",
    "print(\"Testing set r2:\", test_r2)"
   ]
  },
  {
   "cell_type": "code",
   "execution_count": 71,
   "metadata": {},
   "outputs": [
    {
     "name": "stdout",
     "output_type": "stream",
     "text": [
      "Mean square error: 2543.34\n"
     ]
    }
   ],
   "source": [
    "mse = round(mean_squared_error(y_test, y_pred), 2)\n",
    "print('Mean square error:', mse)"
   ]
  },
  {
   "cell_type": "code",
   "execution_count": 72,
   "metadata": {},
   "outputs": [
    {
     "name": "stdout",
     "output_type": "stream",
     "text": [
      "Max error: 621.77\n"
     ]
    }
   ],
   "source": [
    "me = round(max_error(y_test, y_pred), 2)\n",
    "\n",
    "print('Max error:', me)"
   ]
  },
  {
   "cell_type": "code",
   "execution_count": 73,
   "metadata": {},
   "outputs": [
    {
     "name": "stdout",
     "output_type": "stream",
     "text": [
      "Mean absolute error: 31.67\n"
     ]
    }
   ],
   "source": [
    "mae = round(mean_absolute_error(y_test, y_pred), 2)\n",
    "\n",
    "print('Mean absolute error:', mae)"
   ]
  },
  {
   "cell_type": "code",
   "execution_count": 74,
   "metadata": {},
   "outputs": [
    {
     "name": "stdout",
     "output_type": "stream",
     "text": [
      "Fitting 4 folds for each of 10 candidates, totalling 40 fits\n"
     ]
    },
    {
     "name": "stderr",
     "output_type": "stream",
     "text": [
      "[Parallel(n_jobs=3)]: Using backend LokyBackend with 3 concurrent workers.\n",
      "[Parallel(n_jobs=3)]: Done   1 tasks      | elapsed:  6.2min\n",
      "[Parallel(n_jobs=3)]: Done   2 tasks      | elapsed:  6.2min\n",
      "[Parallel(n_jobs=3)]: Done   3 tasks      | elapsed:  6.3min\n",
      "[Parallel(n_jobs=3)]: Done   4 tasks      | elapsed: 12.1min\n",
      "[Parallel(n_jobs=3)]: Done   5 tasks      | elapsed: 16.2min\n",
      "[Parallel(n_jobs=3)]: Done   6 tasks      | elapsed: 16.4min\n",
      "[Parallel(n_jobs=3)]: Done   7 tasks      | elapsed: 22.7min\n",
      "[Parallel(n_jobs=3)]: Done   8 tasks      | elapsed: 27.3min\n",
      "[Parallel(n_jobs=3)]: Done   9 tasks      | elapsed: 30.9min\n",
      "[Parallel(n_jobs=3)]: Done  10 tasks      | elapsed: 37.6min\n",
      "[Parallel(n_jobs=3)]: Done  11 tasks      | elapsed: 41.8min\n",
      "[Parallel(n_jobs=3)]: Done  12 tasks      | elapsed: 45.3min\n",
      "[Parallel(n_jobs=3)]: Done  13 tasks      | elapsed: 48.6min\n",
      "[Parallel(n_jobs=3)]: Done  14 tasks      | elapsed: 52.6min\n",
      "[Parallel(n_jobs=3)]: Done  15 tasks      | elapsed: 56.1min\n",
      "[Parallel(n_jobs=3)]: Done  16 tasks      | elapsed: 59.6min\n",
      "[Parallel(n_jobs=3)]: Done  17 tasks      | elapsed: 60.0min\n",
      "[Parallel(n_jobs=3)]: Done  18 tasks      | elapsed: 63.9min\n",
      "[Parallel(n_jobs=3)]: Done  19 tasks      | elapsed: 67.3min\n",
      "[Parallel(n_jobs=3)]: Done  20 tasks      | elapsed: 67.7min\n",
      "[Parallel(n_jobs=3)]: Done  21 tasks      | elapsed: 70.3min\n",
      "[Parallel(n_jobs=3)]: Done  22 tasks      | elapsed: 73.5min\n",
      "[Parallel(n_jobs=3)]: Done  23 tasks      | elapsed: 73.9min\n",
      "[Parallel(n_jobs=3)]: Done  24 tasks      | elapsed: 77.2min\n",
      "[Parallel(n_jobs=3)]: Done  25 tasks      | elapsed: 90.0min\n",
      "[Parallel(n_jobs=3)]: Done  26 tasks      | elapsed: 90.6min\n",
      "[Parallel(n_jobs=3)]: Done  27 tasks      | elapsed: 93.7min\n",
      "[Parallel(n_jobs=3)]: Done  28 tasks      | elapsed: 101.3min\n",
      "[Parallel(n_jobs=3)]: Done  29 tasks      | elapsed: 104.6min\n",
      "[Parallel(n_jobs=3)]: Done  30 tasks      | elapsed: 107.0min\n",
      "[Parallel(n_jobs=3)]: Done  31 tasks      | elapsed: 111.1min\n",
      "[Parallel(n_jobs=3)]: Done  32 tasks      | elapsed: 114.0min\n",
      "[Parallel(n_jobs=3)]: Done  33 tasks      | elapsed: 121.7min\n",
      "[Parallel(n_jobs=3)]: Done  34 tasks      | elapsed: 126.4min\n",
      "[Parallel(n_jobs=3)]: Done  35 tasks      | elapsed: 129.3min\n",
      "[Parallel(n_jobs=3)]: Done  38 out of  40 | elapsed: 141.0min remaining:  7.4min\n",
      "[Parallel(n_jobs=3)]: Done  40 out of  40 | elapsed: 147.5min finished\n",
      "C:\\Users\\sadmin\\Anaconda3\\lib\\site-packages\\sklearn\\pipeline.py:356: DataConversionWarning: A column-vector y was passed when a 1d array was expected. Please change the shape of y to (n_samples,), for example using ravel().\n",
      "  self._final_estimator.fit(Xt, y, **fit_params)\n"
     ]
    },
    {
     "data": {
      "text/plain": [
       "RandomizedSearchCV(cv=4, error_score='raise-deprecating',\n",
       "                   estimator=Pipeline(memory=None,\n",
       "                                      steps=[('preprocessor',\n",
       "                                              ColumnTransformer(n_jobs=None,\n",
       "                                                                remainder='drop',\n",
       "                                                                sparse_threshold=0.3,\n",
       "                                                                transformer_weights=None,\n",
       "                                                                transformers=[('num',\n",
       "                                                                               Pipeline(memory=None,\n",
       "                                                                                        steps=[('scale',\n",
       "                                                                                                StandardScaler(copy=True,\n",
       "                                                                                                               with_mean=True,\n",
       "                                                                                                               with_std=True))],\n",
       "                                                                                        verbose=False),\n",
       "                                                                               ['accommodates',\n",
       "                                                                                '...\n",
       "                                                                    random_state=None,\n",
       "                                                                    verbose=0,\n",
       "                                                                    warm_start=False))],\n",
       "                                      verbose=False),\n",
       "                   iid='warn', n_iter=10, n_jobs=3,\n",
       "                   param_distributions={'regressor__min_samples_leaf': array([1, 2, 3, 4]),\n",
       "                                        'regressor__min_samples_split': array([2, 3, 4, 5]),\n",
       "                                        'regressor__n_estimators': array([ 8, 10, 12, 14, 16])},\n",
       "                   pre_dispatch='2*n_jobs', random_state=12, refit=True,\n",
       "                   return_train_score=False, scoring='r2', verbose=15)"
      ]
     },
     "execution_count": 74,
     "metadata": {},
     "output_type": "execute_result"
    }
   ],
   "source": [
    "#create pipeline for random forest algorithm\n",
    "pipe3 = Pipeline([('preprocessor', preprocessor1),\n",
    "                  ('regressor', RandomForestRegressor())])\n",
    "\n",
    "param_grid = {'regressor__n_estimators': np.arange(8,17,2), \n",
    "              'regressor__min_samples_split': np.arange(2,6),\n",
    "             'regressor__min_samples_leaf': np.arange(1,5)}\n",
    "\n",
    "clf3 = RandomizedSearchCV(pipe3, param_grid, cv = 4, n_iter = 10, n_jobs = 3,\n",
    "                         scoring = 'r2', random_state = 12, verbose = 15)\n",
    "clf3.fit(X_train, y_train)"
   ]
  },
  {
   "cell_type": "code",
   "execution_count": 75,
   "metadata": {
    "scrolled": true
   },
   "outputs": [
    {
     "name": "stdout",
     "output_type": "stream",
     "text": [
      "{'regressor__n_estimators': 16, 'regressor__min_samples_split': 4, 'regressor__min_samples_leaf': 4}\n"
     ]
    }
   ],
   "source": [
    "print(clf3.best_params_)"
   ]
  },
  {
   "cell_type": "code",
   "execution_count": 76,
   "metadata": {
    "scrolled": true
   },
   "outputs": [
    {
     "name": "stdout",
     "output_type": "stream",
     "text": [
      "Training set r2: 0.75\n",
      "Testing set r2: 0.4\n"
     ]
    }
   ],
   "source": [
    "#model the test set\n",
    "y_pred = clf3.predict(X_test)\n",
    "\n",
    "train_r2 = round(clf3.score(X_train, y_train), 2)\n",
    "test_r2 = round(r2_score(y_test, y_pred), 2)\n",
    "\n",
    "print(\"Training set r2:\", train_r2)\n",
    "print(\"Testing set r2:\", test_r2)"
   ]
  },
  {
   "cell_type": "code",
   "execution_count": 77,
   "metadata": {},
   "outputs": [
    {
     "name": "stdout",
     "output_type": "stream",
     "text": [
      "Mean square error: 2261.41\n"
     ]
    }
   ],
   "source": [
    "mse = round(mean_squared_error(y_test, y_pred), 2)\n",
    "print('Mean square error:', mse)"
   ]
  },
  {
   "cell_type": "code",
   "execution_count": 78,
   "metadata": {},
   "outputs": [
    {
     "name": "stdout",
     "output_type": "stream",
     "text": [
      "Max error: 667.8\n"
     ]
    }
   ],
   "source": [
    "me = round(max_error(y_test, y_pred), 2)\n",
    "\n",
    "print('Max error:', me)"
   ]
  },
  {
   "cell_type": "code",
   "execution_count": 79,
   "metadata": {},
   "outputs": [
    {
     "name": "stdout",
     "output_type": "stream",
     "text": [
      "Mean absolute error: 24.36\n"
     ]
    }
   ],
   "source": [
    "mae = round(mean_absolute_error(y_test, y_pred), 2)\n",
    "\n",
    "print('Mean absolute error:', mae)"
   ]
  },
  {
   "cell_type": "code",
   "execution_count": 80,
   "metadata": {},
   "outputs": [
    {
     "name": "stdout",
     "output_type": "stream",
     "text": [
      "Fitting 4 folds for each of 10 candidates, totalling 40 fits\n"
     ]
    },
    {
     "name": "stderr",
     "output_type": "stream",
     "text": [
      "[Parallel(n_jobs=3)]: Using backend LokyBackend with 3 concurrent workers.\n",
      "[Parallel(n_jobs=3)]: Done   1 tasks      | elapsed:  2.2min\n",
      "[Parallel(n_jobs=3)]: Done   2 tasks      | elapsed:  2.2min\n",
      "[Parallel(n_jobs=3)]: Done   3 tasks      | elapsed:  2.2min\n",
      "[Parallel(n_jobs=3)]: Done   4 tasks      | elapsed:  4.2min\n",
      "[Parallel(n_jobs=3)]: Done   5 tasks      | elapsed:  4.2min\n",
      "[Parallel(n_jobs=3)]: Done   6 tasks      | elapsed:  4.4min\n",
      "[Parallel(n_jobs=3)]: Done   7 tasks      | elapsed:  5.9min\n",
      "[Parallel(n_jobs=3)]: Done   8 tasks      | elapsed:  5.9min\n",
      "[Parallel(n_jobs=3)]: Done   9 tasks      | elapsed:  7.6min\n",
      "[Parallel(n_jobs=3)]: Done  10 tasks      | elapsed:  9.0min\n",
      "[Parallel(n_jobs=3)]: Done  11 tasks      | elapsed:  9.0min\n",
      "[Parallel(n_jobs=3)]: Done  12 tasks      | elapsed: 10.6min\n",
      "[Parallel(n_jobs=3)]: Done  13 tasks      | elapsed: 11.0min\n",
      "[Parallel(n_jobs=3)]: Done  14 tasks      | elapsed: 11.0min\n",
      "[Parallel(n_jobs=3)]: Done  15 tasks      | elapsed: 12.5min\n",
      "[Parallel(n_jobs=3)]: Done  16 tasks      | elapsed: 12.9min\n",
      "[Parallel(n_jobs=3)]: Done  17 tasks      | elapsed: 14.8min\n",
      "[Parallel(n_jobs=3)]: Done  18 tasks      | elapsed: 16.3min\n",
      "[Parallel(n_jobs=3)]: Done  19 tasks      | elapsed: 16.7min\n",
      "[Parallel(n_jobs=3)]: Done  20 tasks      | elapsed: 18.7min\n",
      "[Parallel(n_jobs=3)]: Done  21 tasks      | elapsed: 21.2min\n",
      "[Parallel(n_jobs=3)]: Done  22 tasks      | elapsed: 21.7min\n",
      "[Parallel(n_jobs=3)]: Done  23 tasks      | elapsed: 23.9min\n",
      "[Parallel(n_jobs=3)]: Done  24 tasks      | elapsed: 25.2min\n",
      "[Parallel(n_jobs=3)]: Done  25 tasks      | elapsed: 26.3min\n",
      "[Parallel(n_jobs=3)]: Done  26 tasks      | elapsed: 27.2min\n",
      "[Parallel(n_jobs=3)]: Done  27 tasks      | elapsed: 28.3min\n",
      "[Parallel(n_jobs=3)]: Done  28 tasks      | elapsed: 29.4min\n",
      "[Parallel(n_jobs=3)]: Done  29 tasks      | elapsed: 31.1min\n",
      "[Parallel(n_jobs=3)]: Done  30 tasks      | elapsed: 32.3min\n",
      "[Parallel(n_jobs=3)]: Done  31 tasks      | elapsed: 33.4min\n",
      "[Parallel(n_jobs=3)]: Done  32 tasks      | elapsed: 33.6min\n",
      "[Parallel(n_jobs=3)]: Done  33 tasks      | elapsed: 34.7min\n",
      "[Parallel(n_jobs=3)]: Done  34 tasks      | elapsed: 34.8min\n",
      "[Parallel(n_jobs=3)]: Done  35 tasks      | elapsed: 35.0min\n",
      "[Parallel(n_jobs=3)]: Done  38 out of  40 | elapsed: 38.1min remaining:  2.0min\n",
      "[Parallel(n_jobs=3)]: Done  40 out of  40 | elapsed: 39.9min finished\n"
     ]
    },
    {
     "name": "stdout",
     "output_type": "stream",
     "text": [
      "[03:31:21] WARNING: C:/Jenkins/workspace/xgboost-win64_release_0.90/src/objective/regression_obj.cu:152: reg:linear is now deprecated in favor of reg:squarederror.\n"
     ]
    },
    {
     "data": {
      "text/plain": [
       "RandomizedSearchCV(cv=4, error_score='raise-deprecating',\n",
       "                   estimator=Pipeline(memory=None,\n",
       "                                      steps=[('preprocessor',\n",
       "                                              ColumnTransformer(n_jobs=None,\n",
       "                                                                remainder='drop',\n",
       "                                                                sparse_threshold=0.3,\n",
       "                                                                transformer_weights=None,\n",
       "                                                                transformers=[('num',\n",
       "                                                                               Pipeline(memory=None,\n",
       "                                                                                        steps=[('scale',\n",
       "                                                                                                StandardScaler(copy=True,\n",
       "                                                                                                               with_mean=True,\n",
       "                                                                                                               with_std=True))],\n",
       "                                                                                        verbose=False),\n",
       "                                                                               ['accommodates',\n",
       "                                                                                '...\n",
       "                   iid='warn', n_iter=10, n_jobs=3,\n",
       "                   param_distributions={'regressor__learning_rate': [0.001,\n",
       "                                                                     0.01, 0.1,\n",
       "                                                                     0.3],\n",
       "                                        'regressor__max_depth': array([3, 4, 5]),\n",
       "                                        'regressor__n_estimators': [100, 200,\n",
       "                                                                    300, 400,\n",
       "                                                                    500],\n",
       "                                        'regressor__reg_alpha': array([0. , 0.1, 0.2, 0.3, 0.4, 0.5, 0.6, 0.7, 0.8, 0.9])},\n",
       "                   pre_dispatch='2*n_jobs', random_state=12, refit=True,\n",
       "                   return_train_score=False, scoring='r2', verbose=15)"
      ]
     },
     "execution_count": 80,
     "metadata": {},
     "output_type": "execute_result"
    }
   ],
   "source": [
    "#create pipeline for gradient boosted random forest algorithm\n",
    "pipe4 = Pipeline([('preprocessor', preprocessor1),\n",
    "                  ('regressor', XGBRegressor())])\n",
    "\n",
    "param_grid = {'regressor__n_estimators': [100, 200, 300, 400, 500],\n",
    "              'regressor__learning_rate': [0.001, 0.01, 0.1, 0.3],\n",
    "              'regressor__max_depth': np.arange(3,6), \n",
    "              'regressor__reg_alpha': np.arange(0,1,0.1)}\n",
    "\n",
    "clf4 = RandomizedSearchCV(pipe4, param_grid, cv = 4, n_iter = 10, n_jobs = 3,\n",
    "                         scoring = 'r2', random_state = 12, verbose = 15)\n",
    "clf4.fit(X_train, y_train)"
   ]
  },
  {
   "cell_type": "code",
   "execution_count": 81,
   "metadata": {
    "scrolled": true
   },
   "outputs": [
    {
     "name": "stdout",
     "output_type": "stream",
     "text": [
      "{'regressor__reg_alpha': 0.30000000000000004, 'regressor__n_estimators': 400, 'regressor__max_depth': 4, 'regressor__learning_rate': 0.1}\n"
     ]
    }
   ],
   "source": [
    "print(clf4.best_params_)"
   ]
  },
  {
   "cell_type": "code",
   "execution_count": 82,
   "metadata": {
    "scrolled": true
   },
   "outputs": [
    {
     "name": "stdout",
     "output_type": "stream",
     "text": [
      "Training set r2: 0.61\n",
      "Testing set r2: 0.41\n"
     ]
    }
   ],
   "source": [
    "#model the test set\n",
    "y_pred = clf4.predict(X_test)\n",
    "\n",
    "train_r2 = round(clf4.score(X_train, y_train), 2)\n",
    "test_r2 = round(r2_score(y_test, y_pred), 2)\n",
    "\n",
    "print(\"Training set r2:\", train_r2)\n",
    "print(\"Testing set r2:\", test_r2)"
   ]
  },
  {
   "cell_type": "code",
   "execution_count": 83,
   "metadata": {},
   "outputs": [
    {
     "name": "stdout",
     "output_type": "stream",
     "text": [
      "Mean square error: 2211.01\n"
     ]
    }
   ],
   "source": [
    "mse = round(mean_squared_error(y_test, y_pred), 2)\n",
    "print('Mean square error:', mse)"
   ]
  },
  {
   "cell_type": "code",
   "execution_count": 84,
   "metadata": {},
   "outputs": [
    {
     "name": "stdout",
     "output_type": "stream",
     "text": [
      "Max error: 646.75\n"
     ]
    }
   ],
   "source": [
    "me = round(max_error(y_test, y_pred), 2)\n",
    "\n",
    "print('Max error:', me)"
   ]
  },
  {
   "cell_type": "code",
   "execution_count": 85,
   "metadata": {
    "scrolled": true
   },
   "outputs": [
    {
     "name": "stdout",
     "output_type": "stream",
     "text": [
      "Mean absolute error: 26.49\n"
     ]
    }
   ],
   "source": [
    "mae = round(mean_absolute_error(y_test, y_pred), 2)\n",
    "\n",
    "print('Mean absolute error:', mae)"
   ]
  },
  {
   "cell_type": "code",
   "execution_count": 86,
   "metadata": {},
   "outputs": [],
   "source": [
    "#text to sequence for title with max # words of 10000\n",
    "tokenizer_tit = Tokenizer(num_words=10000, filters='!\"#$%&()*+,-./:;<=>?@[\\]^_`{|}~', lower=True)\n",
    "tokenizer_tit.fit_on_texts(dataset1['name_description'])\n",
    "X_name = tokenizer_tit.texts_to_sequences(dataset1['name_description'])"
   ]
  },
  {
   "cell_type": "code",
   "execution_count": 87,
   "metadata": {},
   "outputs": [],
   "source": [
    "X_name = pad_sequences(X_name, maxlen=40, padding = 'post')"
   ]
  },
  {
   "cell_type": "code",
   "execution_count": 88,
   "metadata": {},
   "outputs": [],
   "source": [
    "#scale numerical features\n",
    "scale = StandardScaler()\n",
    "temp1 = scale.fit_transform(dataset1[get_numeric])\n",
    "\n",
    "#encode categorical features\n",
    "onehot = OneHotEncoder(sparse = False, handle_unknown = 'ignore')\n",
    "temp2 = onehot.fit_transform(dataset1[get_categorical])\n",
    "varthre = VarianceThreshold(threshold = 0.99*(1-0.99))\n",
    "temp2 = varthre.fit_transform(temp2)\n",
    "\n",
    "#concatenate numerical and categorical features\n",
    "X = np.concatenate((temp1,temp2), axis = 1)\n",
    "\n",
    "#set target variable\n",
    "y = dataset1['number_of_reviews']\n",
    "y = np.array(y).reshape((-1,1))"
   ]
  },
  {
   "cell_type": "code",
   "execution_count": 89,
   "metadata": {},
   "outputs": [],
   "source": [
    "X_name_train, X_name_test, X_train, X_test, y_train, y_test = (\n",
    "    train_test_split(X_name, X, y, test_size = 0.2, random_state = 10))"
   ]
  },
  {
   "cell_type": "code",
   "execution_count": 90,
   "metadata": {},
   "outputs": [],
   "source": [
    "#input shape\n",
    "seq_length = X_name.shape[1]\n",
    "meta_length = X.shape[1]"
   ]
  },
  {
   "cell_type": "code",
   "execution_count": 91,
   "metadata": {
    "scrolled": false
   },
   "outputs": [
    {
     "name": "stdout",
     "output_type": "stream",
     "text": [
      "WARNING:tensorflow:From C:\\Users\\sadmin\\Anaconda3\\lib\\site-packages\\keras\\backend\\tensorflow_backend.py:517: The name tf.placeholder is deprecated. Please use tf.compat.v1.placeholder instead.\n",
      "\n",
      "WARNING:tensorflow:From C:\\Users\\sadmin\\Anaconda3\\lib\\site-packages\\keras\\backend\\tensorflow_backend.py:74: The name tf.get_default_graph is deprecated. Please use tf.compat.v1.get_default_graph instead.\n",
      "\n",
      "WARNING:tensorflow:From C:\\Users\\sadmin\\Anaconda3\\lib\\site-packages\\keras\\backend\\tensorflow_backend.py:4138: The name tf.random_uniform is deprecated. Please use tf.random.uniform instead.\n",
      "\n",
      "WARNING:tensorflow:From C:\\Users\\sadmin\\Anaconda3\\lib\\site-packages\\keras\\backend\\tensorflow_backend.py:133: The name tf.placeholder_with_default is deprecated. Please use tf.compat.v1.placeholder_with_default instead.\n",
      "\n",
      "WARNING:tensorflow:From C:\\Users\\sadmin\\Anaconda3\\lib\\site-packages\\keras\\backend\\tensorflow_backend.py:3445: calling dropout (from tensorflow.python.ops.nn_ops) with keep_prob is deprecated and will be removed in a future version.\n",
      "Instructions for updating:\n",
      "Please use `rate` instead of `keep_prob`. Rate should be set to `rate = 1 - keep_prob`.\n",
      "WARNING:tensorflow:From C:\\Users\\sadmin\\Anaconda3\\lib\\site-packages\\keras\\optimizers.py:790: The name tf.train.Optimizer is deprecated. Please use tf.compat.v1.train.Optimizer instead.\n",
      "\n",
      "WARNING:tensorflow:From C:\\Users\\sadmin\\Anaconda3\\lib\\site-packages\\tensorflow\\python\\ops\\math_grad.py:1250: add_dispatch_support.<locals>.wrapper (from tensorflow.python.ops.array_ops) is deprecated and will be removed in a future version.\n",
      "Instructions for updating:\n",
      "Use tf.where in 2.0, which has the same broadcast rule as np.where\n",
      "WARNING:tensorflow:From C:\\Users\\sadmin\\Anaconda3\\lib\\site-packages\\keras\\backend\\tensorflow_backend.py:986: The name tf.assign_add is deprecated. Please use tf.compat.v1.assign_add instead.\n",
      "\n",
      "Train on 21687 samples, validate on 5422 samples\n",
      "Epoch 1/500\n",
      " - 28s - loss: 4816.2859 - mean_absolute_error: 35.1697 - val_loss: 5327.7271 - val_mean_absolute_error: 35.3312\n",
      "Epoch 2/500\n",
      " - 23s - loss: 4456.1610 - mean_absolute_error: 33.0761 - val_loss: 4618.4054 - val_mean_absolute_error: 32.3611\n",
      "Epoch 3/500\n",
      " - 23s - loss: 3706.8884 - mean_absolute_error: 31.9298 - val_loss: 3897.3561 - val_mean_absolute_error: 32.9274\n",
      "Epoch 4/500\n",
      " - 23s - loss: 3167.6319 - mean_absolute_error: 33.4366 - val_loss: 3478.9898 - val_mean_absolute_error: 34.4851\n",
      "Epoch 5/500\n",
      " - 23s - loss: 2898.4152 - mean_absolute_error: 33.8071 - val_loss: 3249.2488 - val_mean_absolute_error: 34.3218\n",
      "Epoch 6/500\n",
      " - 21s - loss: 2734.1480 - mean_absolute_error: 32.8196 - val_loss: 3134.2287 - val_mean_absolute_error: 32.5523\n",
      "Epoch 7/500\n",
      " - 22s - loss: 2621.0135 - mean_absolute_error: 31.4669 - val_loss: 3038.4479 - val_mean_absolute_error: 31.1932\n",
      "Epoch 8/500\n",
      " - 23s - loss: 2543.5641 - mean_absolute_error: 30.2158 - val_loss: 2979.2245 - val_mean_absolute_error: 30.5203\n",
      "Epoch 9/500\n",
      " - 22s - loss: 2499.4894 - mean_absolute_error: 29.5400 - val_loss: 2950.9001 - val_mean_absolute_error: 29.0667\n",
      "Epoch 10/500\n",
      " - 21s - loss: 2445.5822 - mean_absolute_error: 28.6267 - val_loss: 2909.9203 - val_mean_absolute_error: 29.0973\n",
      "Epoch 11/500\n",
      " - 24s - loss: 2420.3230 - mean_absolute_error: 28.3651 - val_loss: 2887.0412 - val_mean_absolute_error: 28.4839\n",
      "Epoch 12/500\n",
      " - 27s - loss: 2376.4069 - mean_absolute_error: 27.9976 - val_loss: 2860.9545 - val_mean_absolute_error: 28.2393\n",
      "Epoch 13/500\n",
      " - 26s - loss: 2348.9187 - mean_absolute_error: 27.7994 - val_loss: 2843.5831 - val_mean_absolute_error: 27.8552\n",
      "Epoch 14/500\n",
      " - 26s - loss: 2321.2948 - mean_absolute_error: 27.4319 - val_loss: 2845.3425 - val_mean_absolute_error: 27.2209\n",
      "Epoch 15/500\n",
      " - 29s - loss: 2315.2178 - mean_absolute_error: 27.3644 - val_loss: 2809.4750 - val_mean_absolute_error: 27.5235\n",
      "Epoch 16/500\n",
      " - 26s - loss: 2283.6062 - mean_absolute_error: 27.1257 - val_loss: 2787.8783 - val_mean_absolute_error: 27.8759\n",
      "Epoch 17/500\n",
      " - 27s - loss: 2251.7139 - mean_absolute_error: 26.7450 - val_loss: 2782.8487 - val_mean_absolute_error: 27.3608\n",
      "Epoch 18/500\n",
      " - 26s - loss: 2219.1666 - mean_absolute_error: 26.7373 - val_loss: 2773.0587 - val_mean_absolute_error: 27.1544\n",
      "Epoch 19/500\n",
      " - 26s - loss: 2218.3933 - mean_absolute_error: 26.5430 - val_loss: 2772.1753 - val_mean_absolute_error: 26.6799\n",
      "Epoch 20/500\n",
      " - 28s - loss: 2193.7092 - mean_absolute_error: 26.3599 - val_loss: 2766.9789 - val_mean_absolute_error: 26.5732\n",
      "Epoch 21/500\n",
      " - 30s - loss: 2195.9981 - mean_absolute_error: 26.3910 - val_loss: 2742.6542 - val_mean_absolute_error: 26.9429\n",
      "Epoch 22/500\n",
      " - 31s - loss: 2155.7947 - mean_absolute_error: 26.1098 - val_loss: 2759.1401 - val_mean_absolute_error: 26.1921\n",
      "Epoch 23/500\n",
      " - 25s - loss: 2144.7069 - mean_absolute_error: 25.9840 - val_loss: 2736.5112 - val_mean_absolute_error: 26.6101\n",
      "Epoch 24/500\n",
      " - 27s - loss: 2117.3990 - mean_absolute_error: 25.7737 - val_loss: 2729.3175 - val_mean_absolute_error: 26.5383\n",
      "Epoch 25/500\n",
      " - 27s - loss: 2102.5680 - mean_absolute_error: 25.8045 - val_loss: 2720.0411 - val_mean_absolute_error: 26.5487\n",
      "Epoch 26/500\n",
      " - 29s - loss: 2100.5524 - mean_absolute_error: 25.6833 - val_loss: 2721.0298 - val_mean_absolute_error: 26.3663\n",
      "Epoch 27/500\n",
      " - 31s - loss: 2070.4245 - mean_absolute_error: 25.5375 - val_loss: 2718.9572 - val_mean_absolute_error: 26.3978\n",
      "Epoch 28/500\n",
      " - 26s - loss: 2075.2677 - mean_absolute_error: 25.5183 - val_loss: 2706.0310 - val_mean_absolute_error: 26.2762\n",
      "Epoch 29/500\n",
      " - 26s - loss: 2043.7179 - mean_absolute_error: 25.3180 - val_loss: 2709.2669 - val_mean_absolute_error: 26.2190\n",
      "Epoch 30/500\n",
      " - 26s - loss: 2030.6276 - mean_absolute_error: 25.1648 - val_loss: 2703.2038 - val_mean_absolute_error: 26.3632\n",
      "Epoch 31/500\n",
      " - 36s - loss: 2009.6016 - mean_absolute_error: 25.1141 - val_loss: 2695.9675 - val_mean_absolute_error: 26.5365\n",
      "Epoch 32/500\n",
      " - 29s - loss: 1999.3405 - mean_absolute_error: 24.9630 - val_loss: 2696.4292 - val_mean_absolute_error: 26.2983\n",
      "Epoch 33/500\n",
      " - 26s - loss: 1975.8377 - mean_absolute_error: 24.8445 - val_loss: 2681.7992 - val_mean_absolute_error: 26.3784\n",
      "Epoch 34/500\n",
      " - 22s - loss: 1950.0803 - mean_absolute_error: 24.4472 - val_loss: 2673.4120 - val_mean_absolute_error: 26.4855\n",
      "Epoch 35/500\n",
      " - 38s - loss: 1921.1925 - mean_absolute_error: 24.5339 - val_loss: 2671.1560 - val_mean_absolute_error: 26.2603\n",
      "Epoch 36/500\n",
      " - 33s - loss: 1907.4363 - mean_absolute_error: 24.4318 - val_loss: 2676.3750 - val_mean_absolute_error: 26.1425\n",
      "Epoch 37/500\n",
      " - 28s - loss: 1879.9699 - mean_absolute_error: 24.1952 - val_loss: 2665.5874 - val_mean_absolute_error: 26.2105\n",
      "Epoch 38/500\n",
      " - 28s - loss: 1861.5310 - mean_absolute_error: 24.1128 - val_loss: 2661.6258 - val_mean_absolute_error: 26.5301\n",
      "Epoch 39/500\n",
      " - 36s - loss: 1811.3403 - mean_absolute_error: 23.7176 - val_loss: 2662.3126 - val_mean_absolute_error: 26.1284\n",
      "Epoch 40/500\n",
      " - 39s - loss: 1800.6013 - mean_absolute_error: 23.7194 - val_loss: 2656.4090 - val_mean_absolute_error: 26.0274\n",
      "Epoch 41/500\n",
      " - 34s - loss: 1786.7431 - mean_absolute_error: 23.5802 - val_loss: 2650.8409 - val_mean_absolute_error: 26.0683\n",
      "Epoch 42/500\n",
      " - 36s - loss: 1758.8120 - mean_absolute_error: 23.4347 - val_loss: 2651.4569 - val_mean_absolute_error: 26.4419\n",
      "Epoch 43/500\n",
      " - 34s - loss: 1752.8245 - mean_absolute_error: 23.3189 - val_loss: 2651.7974 - val_mean_absolute_error: 25.9666\n",
      "Epoch 44/500\n",
      " - 41s - loss: 1730.3625 - mean_absolute_error: 23.2353 - val_loss: 2650.8324 - val_mean_absolute_error: 25.8804\n",
      "Epoch 45/500\n",
      " - 38s - loss: 1698.1135 - mean_absolute_error: 22.9539 - val_loss: 2648.9540 - val_mean_absolute_error: 25.9768\n",
      "Epoch 46/500\n",
      " - 30s - loss: 1662.0167 - mean_absolute_error: 22.7122 - val_loss: 2654.6835 - val_mean_absolute_error: 26.0888\n",
      "Epoch 47/500\n",
      " - 33s - loss: 1648.4286 - mean_absolute_error: 22.5706 - val_loss: 2660.0782 - val_mean_absolute_error: 26.6202\n",
      "Epoch 48/500\n",
      " - 33s - loss: 1636.3192 - mean_absolute_error: 22.6788 - val_loss: 2662.7531 - val_mean_absolute_error: 26.6172\n",
      "Epoch 49/500\n",
      " - 36s - loss: 1602.0442 - mean_absolute_error: 22.4218 - val_loss: 2662.2931 - val_mean_absolute_error: 26.1948\n"
     ]
    }
   ],
   "source": [
    "#create nlp input\n",
    "nlp_input = Input(shape=(seq_length,), name='nlp_input')\n",
    "\n",
    "#create categorical and numerical input\n",
    "meta_input = Input(shape=(meta_length,), name='meta_input')\n",
    "\n",
    "#embedding for title with word vector size of 50 \n",
    "emb = Embedding(input_dim = 10000, output_dim=100, input_length=seq_length)(nlp_input)\n",
    "#LSTM network with 64 memory unit\n",
    "nlp_out = LSTM(64, dropout=0.3, recurrent_dropout=0.3)(emb)\n",
    "\n",
    "\n",
    "#meta input and layer1\n",
    "meta_layer1 = Dense(256, input_shape = (meta_length,))(meta_input)\n",
    "meta_layer1 = Activation('relu')(meta_layer1)\n",
    "\n",
    "#layer2\n",
    "meta_layer2 = Dense(128)(meta_layer1)\n",
    "meta_layer2 = Dropout(0.3)(meta_layer2)\n",
    "meta_layer2 = Activation('relu')(meta_layer2)\n",
    "\n",
    "#layer3\n",
    "meta_layer3 = Dense(64, kernel_regularizer=regularizers.l2(0.02))(meta_layer2)\n",
    "meta_layer3 = BatchNormalization()(meta_layer3)\n",
    "meta_out = Activation('relu')(meta_layer3)\n",
    "\n",
    "\n",
    "#merge layers\n",
    "merged_X = Concatenate(axis = 1)([nlp_out, meta_out])\n",
    "\n",
    "#fully connected layers\n",
    "FC1 = Dense(64, activation='relu')(merged_X)\n",
    "FC2 = Dense(64, activation='relu')(FC1)\n",
    "FC3 = Dense(1, activation='linear')(FC2)\n",
    "model = Model(inputs=[nlp_input, meta_input], outputs=[FC3])\n",
    "\n",
    "#use binary cross entropy because we have a binary classification with Adam optimizer at learning rate of 0.00003\n",
    "model.compile(optimizer =  Adam(lr=0.00004), loss = 'mean_squared_error', metrics = ['mae'])\n",
    "callbacks = [EarlyStopping(monitor='val_loss', patience=4)]\n",
    "                         \n",
    "hist = model.fit([X_name_train, X_train], y_train, \n",
    "               validation_split = 0.2, batch_size = 128, epochs = 500, verbose = 2, callbacks=callbacks)"
   ]
  },
  {
   "cell_type": "code",
   "execution_count": 92,
   "metadata": {},
   "outputs": [
    {
     "name": "stdout",
     "output_type": "stream",
     "text": [
      "__________________________________________________________________________________________________\n",
      "Layer (type)                    Output Shape         Param #     Connected to                     \n",
      "==================================================================================================\n",
      "meta_input (InputLayer)         (None, 70)           0                                            \n",
      "__________________________________________________________________________________________________\n",
      "dense_1 (Dense)                 (None, 256)          18176       meta_input[0][0]                 \n",
      "__________________________________________________________________________________________________\n",
      "activation_1 (Activation)       (None, 256)          0           dense_1[0][0]                    \n",
      "__________________________________________________________________________________________________\n",
      "dense_2 (Dense)                 (None, 128)          32896       activation_1[0][0]               \n",
      "__________________________________________________________________________________________________\n",
      "dropout_1 (Dropout)             (None, 128)          0           dense_2[0][0]                    \n",
      "__________________________________________________________________________________________________\n",
      "activation_2 (Activation)       (None, 128)          0           dropout_1[0][0]                  \n",
      "__________________________________________________________________________________________________\n",
      "nlp_input (InputLayer)          (None, 40)           0                                            \n",
      "__________________________________________________________________________________________________\n",
      "dense_3 (Dense)                 (None, 64)           8256        activation_2[0][0]               \n",
      "__________________________________________________________________________________________________\n",
      "embedding_1 (Embedding)         (None, 40, 100)      1000000     nlp_input[0][0]                  \n",
      "__________________________________________________________________________________________________\n",
      "batch_normalization_1 (BatchNor (None, 64)           256         dense_3[0][0]                    \n",
      "__________________________________________________________________________________________________\n",
      "lstm_1 (LSTM)                   (None, 64)           42240       embedding_1[0][0]                \n",
      "__________________________________________________________________________________________________\n",
      "activation_3 (Activation)       (None, 64)           0           batch_normalization_1[0][0]      \n",
      "__________________________________________________________________________________________________\n",
      "concatenate_1 (Concatenate)     (None, 128)          0           lstm_1[0][0]                     \n",
      "                                                                 activation_3[0][0]               \n",
      "__________________________________________________________________________________________________\n",
      "dense_4 (Dense)                 (None, 64)           8256        concatenate_1[0][0]              \n",
      "__________________________________________________________________________________________________\n",
      "dense_5 (Dense)                 (None, 64)           4160        dense_4[0][0]                    \n",
      "__________________________________________________________________________________________________\n",
      "dense_6 (Dense)                 (None, 1)            65          dense_5[0][0]                    \n",
      "==================================================================================================\n",
      "Total params: 1,114,305\n",
      "Trainable params: 1,114,177\n",
      "Non-trainable params: 128\n",
      "__________________________________________________________________________________________________\n"
     ]
    }
   ],
   "source": [
    "model.summary()"
   ]
  },
  {
   "cell_type": "code",
   "execution_count": 93,
   "metadata": {},
   "outputs": [
    {
     "data": {
      "text/plain": [
       "<matplotlib.legend.Legend at 0x2aa133e6888>"
      ]
     },
     "execution_count": 93,
     "metadata": {},
     "output_type": "execute_result"
    },
    {
     "data": {
      "image/png": "[encoded data removed]",
      "text/plain": [
       "<Figure size 432x288 with 1 Axes>"
      ]
     },
     "metadata": {
      "needs_background": "light"
     },
     "output_type": "display_data"
    }
   ],
   "source": [
    "plt.plot(hist.history['loss'])\n",
    "plt.plot(hist.history['val_loss'])\n",
    "plt.ylabel('Loss')\n",
    "plt.xlabel('Epoch')\n",
    "plt.title('Model Loss')\n",
    "plt.legend(['Train', 'Validation'])"
   ]
  },
  {
   "cell_type": "code",
   "execution_count": 98,
   "metadata": {
    "scrolled": true
   },
   "outputs": [
    {
     "name": "stdout",
     "output_type": "stream",
     "text": [
      "Training set r2: 0.55\n",
      "Testing set r2: 0.38\n"
     ]
    }
   ],
   "source": [
    "#model the test set\n",
    "y_pred_train = model.predict([X_name_train, X_train])\n",
    "y_pred = model.predict([X_name_test, X_test])\n",
    "\n",
    "\n",
    "train_r2 = round(r2_score(y_train, y_pred_train), 2)\n",
    "test_r2 = round(r2_score(y_test, y_pred), 2)\n",
    "\n",
    "print(\"Training set r2:\", train_r2)\n",
    "print(\"Testing set r2:\", test_r2)"
   ]
  },
  {
   "cell_type": "code",
   "execution_count": 99,
   "metadata": {},
   "outputs": [
    {
     "name": "stdout",
     "output_type": "stream",
     "text": [
      "Mean square error: 2323.11\n"
     ]
    }
   ],
   "source": [
    "mse = round(mean_squared_error(y_test, y_pred), 2)\n",
    "print('Mean square error:', mse)"
   ]
  },
  {
   "cell_type": "code",
   "execution_count": 100,
   "metadata": {},
   "outputs": [
    {
     "name": "stdout",
     "output_type": "stream",
     "text": [
      "Max error: 628.84\n"
     ]
    }
   ],
   "source": [
    "me = round(max_error(y_test, y_pred), 2)\n",
    "\n",
    "print('Max error:', me)"
   ]
  },
  {
   "cell_type": "code",
   "execution_count": 101,
   "metadata": {
    "scrolled": true
   },
   "outputs": [
    {
     "name": "stdout",
     "output_type": "stream",
     "text": [
      "Mean absolute error: 25.52\n"
     ]
    }
   ],
   "source": [
    "mae = round(mean_absolute_error(y_test, y_pred), 2)\n",
    "\n",
    "print('Mean absolute error:', mae)"
   ]
  },
  {
   "cell_type": "code",
   "execution_count": null,
   "metadata": {},
   "outputs": [],
   "source": []
  }
 ],
 "metadata": {
  "kernelspec": {
   "display_name": "Python 3",
   "language": "python",
   "name": "python3"
  },
  "language_info": {
   "codemirror_mode": {
    "name": "ipython",
    "version": 3
   },
   "file_extension": ".py",
   "mimetype": "text/x-python",
   "name": "python",
   "nbconvert_exporter": "python",
   "pygments_lexer": "ipython3",
   "version": "3.7.5"
  }
 },
 "nbformat": 4,
 "nbformat_minor": 2
}
