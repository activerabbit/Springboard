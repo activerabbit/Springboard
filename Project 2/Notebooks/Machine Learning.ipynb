{
 "cells": [
  {
   "cell_type": "markdown",
   "metadata": {},
   "source": [
    "# Table of Contents   \n",
    "\n",
    "Machine Learning <br>\n",
    "&nbsp;&nbsp;&nbsp;&nbsp;&nbsp;&nbsp; a. [Preprocessing](#preprocess)<br>\n",
    "&nbsp;&nbsp;&nbsp;&nbsp;&nbsp;&nbsp; b. [Ridge Model with CountVectorizer](#count)<br>\n",
    "&nbsp;&nbsp;&nbsp;&nbsp;&nbsp;&nbsp; c. [Ridge Model with TfidVectorizer](#tfid)<br>\n",
    "&nbsp;&nbsp;&nbsp;&nbsp;&nbsp;&nbsp; d. [Random Forest](#forest)<br>\n",
    "&nbsp;&nbsp;&nbsp;&nbsp;&nbsp;&nbsp; e. [XG Boosting](#boost)<br>\n",
    "&nbsp;&nbsp;&nbsp;&nbsp;&nbsp;&nbsp; f. [Deep Learning](#learn)<br>"
   ]
  },
  {
   "cell_type": "code",
   "execution_count": 1,
   "metadata": {},
   "outputs": [
    {
     "name": "stderr",
     "output_type": "stream",
     "text": [
      "Using TensorFlow backend.\n",
      "C:\\Users\\sadmin\\Anaconda3\\lib\\site-packages\\tensorflow\\python\\framework\\dtypes.py:516: FutureWarning: Passing (type, 1) or '1type' as a synonym of type is deprecated; in a future version of numpy, it will be understood as (type, (1,)) / '(1,)type'.\n",
      "  _np_qint8 = np.dtype([(\"qint8\", np.int8, 1)])\n",
      "C:\\Users\\sadmin\\Anaconda3\\lib\\site-packages\\tensorflow\\python\\framework\\dtypes.py:517: FutureWarning: Passing (type, 1) or '1type' as a synonym of type is deprecated; in a future version of numpy, it will be understood as (type, (1,)) / '(1,)type'.\n",
      "  _np_quint8 = np.dtype([(\"quint8\", np.uint8, 1)])\n",
      "C:\\Users\\sadmin\\Anaconda3\\lib\\site-packages\\tensorflow\\python\\framework\\dtypes.py:518: FutureWarning: Passing (type, 1) or '1type' as a synonym of type is deprecated; in a future version of numpy, it will be understood as (type, (1,)) / '(1,)type'.\n",
      "  _np_qint16 = np.dtype([(\"qint16\", np.int16, 1)])\n",
      "C:\\Users\\sadmin\\Anaconda3\\lib\\site-packages\\tensorflow\\python\\framework\\dtypes.py:519: FutureWarning: Passing (type, 1) or '1type' as a synonym of type is deprecated; in a future version of numpy, it will be understood as (type, (1,)) / '(1,)type'.\n",
      "  _np_quint16 = np.dtype([(\"quint16\", np.uint16, 1)])\n",
      "C:\\Users\\sadmin\\Anaconda3\\lib\\site-packages\\tensorflow\\python\\framework\\dtypes.py:520: FutureWarning: Passing (type, 1) or '1type' as a synonym of type is deprecated; in a future version of numpy, it will be understood as (type, (1,)) / '(1,)type'.\n",
      "  _np_qint32 = np.dtype([(\"qint32\", np.int32, 1)])\n",
      "C:\\Users\\sadmin\\Anaconda3\\lib\\site-packages\\tensorflow\\python\\framework\\dtypes.py:525: FutureWarning: Passing (type, 1) or '1type' as a synonym of type is deprecated; in a future version of numpy, it will be understood as (type, (1,)) / '(1,)type'.\n",
      "  np_resource = np.dtype([(\"resource\", np.ubyte, 1)])\n",
      "C:\\Users\\sadmin\\Anaconda3\\lib\\site-packages\\tensorboard\\compat\\tensorflow_stub\\dtypes.py:541: FutureWarning: Passing (type, 1) or '1type' as a synonym of type is deprecated; in a future version of numpy, it will be understood as (type, (1,)) / '(1,)type'.\n",
      "  _np_qint8 = np.dtype([(\"qint8\", np.int8, 1)])\n",
      "C:\\Users\\sadmin\\Anaconda3\\lib\\site-packages\\tensorboard\\compat\\tensorflow_stub\\dtypes.py:542: FutureWarning: Passing (type, 1) or '1type' as a synonym of type is deprecated; in a future version of numpy, it will be understood as (type, (1,)) / '(1,)type'.\n",
      "  _np_quint8 = np.dtype([(\"quint8\", np.uint8, 1)])\n",
      "C:\\Users\\sadmin\\Anaconda3\\lib\\site-packages\\tensorboard\\compat\\tensorflow_stub\\dtypes.py:543: FutureWarning: Passing (type, 1) or '1type' as a synonym of type is deprecated; in a future version of numpy, it will be understood as (type, (1,)) / '(1,)type'.\n",
      "  _np_qint16 = np.dtype([(\"qint16\", np.int16, 1)])\n",
      "C:\\Users\\sadmin\\Anaconda3\\lib\\site-packages\\tensorboard\\compat\\tensorflow_stub\\dtypes.py:544: FutureWarning: Passing (type, 1) or '1type' as a synonym of type is deprecated; in a future version of numpy, it will be understood as (type, (1,)) / '(1,)type'.\n",
      "  _np_quint16 = np.dtype([(\"quint16\", np.uint16, 1)])\n",
      "C:\\Users\\sadmin\\Anaconda3\\lib\\site-packages\\tensorboard\\compat\\tensorflow_stub\\dtypes.py:545: FutureWarning: Passing (type, 1) or '1type' as a synonym of type is deprecated; in a future version of numpy, it will be understood as (type, (1,)) / '(1,)type'.\n",
      "  _np_qint32 = np.dtype([(\"qint32\", np.int32, 1)])\n",
      "C:\\Users\\sadmin\\Anaconda3\\lib\\site-packages\\tensorboard\\compat\\tensorflow_stub\\dtypes.py:550: FutureWarning: Passing (type, 1) or '1type' as a synonym of type is deprecated; in a future version of numpy, it will be understood as (type, (1,)) / '(1,)type'.\n",
      "  np_resource = np.dtype([(\"resource\", np.ubyte, 1)])\n"
     ]
    }
   ],
   "source": [
    "from collections import Counter\n",
    "import pandas as pd\n",
    "from nltk.tokenize import word_tokenize\n",
    "from nltk.corpus import stopwords\n",
    "from nltk.stem.wordnet import WordNetLemmatizer\n",
    "from nltk.util import ngrams\n",
    "import matplotlib.pyplot as plt\n",
    "import seaborn as sns\n",
    "import numpy as np\n",
    "from scipy import stats\n",
    "from ast import literal_eval\n",
    "from sklearn.pipeline import Pipeline\n",
    "from sklearn.compose import ColumnTransformer\n",
    "from sklearn.preprocessing import StandardScaler, OneHotEncoder, LabelBinarizer\n",
    "from sklearn.feature_selection import VarianceThreshold\n",
    "from sklearn.feature_extraction.text import TfidfVectorizer, CountVectorizer\n",
    "from sklearn.model_selection import RandomizedSearchCV, train_test_split\n",
    "from sklearn.linear_model import Ridge\n",
    "from sklearn.ensemble import RandomForestRegressor\n",
    "from sklearn.metrics import mean_absolute_error, max_error, mean_squared_error, r2_score\n",
    "from xgboost import XGBRegressor\n",
    "from keras.preprocessing.text import Tokenizer\n",
    "from keras.layers import Input, Dense, Dropout, Embedding, LSTM, Bidirectional, BatchNormalization, Activation, Concatenate\n",
    "from keras import regularizers\n",
    "from keras.preprocessing.sequence import pad_sequences\n",
    "from keras.callbacks import EarlyStopping\n",
    "from keras import Model\n",
    "from keras.optimizers import Adam"
   ]
  },
  {
   "cell_type": "markdown",
   "metadata": {},
   "source": [
    "## 3. Machine Learning"
   ]
  },
  {
   "cell_type": "markdown",
   "metadata": {},
   "source": [
    "### a. Preprocessing\n",
    "<a id='preprocess'></a>"
   ]
  },
  {
   "cell_type": "code",
   "execution_count": 2,
   "metadata": {},
   "outputs": [],
   "source": [
    "#load processed data\n",
    "df = pd.read_csv('../Data/Processed/After_EDA_listings.csv', converters = {\n",
    "    'name': literal_eval, 'description': literal_eval, \n",
    "    'bigram_name': literal_eval, 'bigram_description': literal_eval})"
   ]
  },
  {
   "cell_type": "code",
   "execution_count": 3,
   "metadata": {},
   "outputs": [
    {
     "name": "stdout",
     "output_type": "stream",
     "text": [
      "<class 'pandas.core.frame.DataFrame'>\n",
      "RangeIndex: 33873 entries, 0 to 33872\n",
      "Data columns (total 36 columns):\n",
      "Unnamed: 0                     33873 non-null int64\n",
      "Unnamed: 0.1                   33873 non-null int64\n",
      "name                           33873 non-null object\n",
      "description                    33873 non-null object\n",
      "transit                        33873 non-null bool\n",
      "host_is_superhost              33873 non-null object\n",
      "host_has_profile_pic           33873 non-null object\n",
      "host_identity_verified         33873 non-null object\n",
      "neighbourhood                  33873 non-null object\n",
      "property_type                  33873 non-null object\n",
      "room_type                      33873 non-null object\n",
      "accommodates                   33873 non-null int64\n",
      "bathrooms                      33873 non-null float64\n",
      "bedrooms                       33873 non-null float64\n",
      "beds                           33873 non-null float64\n",
      "bed_type                       33873 non-null object\n",
      "amenities                      33873 non-null object\n",
      "price                          33873 non-null int64\n",
      "weekly_price                   33873 non-null bool\n",
      "security_deposit               33873 non-null bool\n",
      "cleaning_fee                   33873 non-null bool\n",
      "guests_included                33873 non-null int64\n",
      "extra_people                   33873 non-null int64\n",
      "number_of_reviews              33873 non-null int64\n",
      "review_scores_rating           33873 non-null float64\n",
      "review_scores_cleanliness      33873 non-null float64\n",
      "review_scores_communication    33873 non-null float64\n",
      "instant_bookable               33873 non-null object\n",
      "time_as_host                   33873 non-null float64\n",
      "language                       33873 non-null object\n",
      "bigram_name                    33873 non-null object\n",
      "bigram_description             33873 non-null object\n",
      "review_count                   33873 non-null object\n",
      "bedrooms_round                 33873 non-null int64\n",
      "bathrooms_round                33873 non-null int64\n",
      "round_time                     33873 non-null float64\n",
      "dtypes: bool(4), float64(8), int64(9), object(15)\n",
      "memory usage: 8.4+ MB\n"
     ]
    }
   ],
   "source": [
    "df.info()"
   ]
  },
  {
   "cell_type": "code",
   "execution_count": 4,
   "metadata": {},
   "outputs": [
    {
     "data": {
      "text/plain": [
       "'{TV,\"Cable TV\",Internet,Wifi,\"Air conditioning\",\"Wheelchair accessible\",Pool,Kitchen,\"Free parking on premises\",\"Pets allowed\",Gym,Elevator,\"Hot tub\",\"Indoor fireplace\",\"Buzzer/wireless intercom\",Heating,\"Family/kid friendly\",\"Suitable for events\",Washer,Dryer,\"Smoke detector\",\"Carbon monoxide detector\",\"First aid kit\",\"Safety card\",\"Fire extinguisher\",Essentials,Shampoo,\"24-hour check-in\",Hangers,\"Hair dryer\",Iron,\"Laptop friendly workspace\"}'"
      ]
     },
     "execution_count": 4,
     "metadata": {},
     "output_type": "execute_result"
    }
   ],
   "source": [
    "#show what amenities look like\n",
    "df.amenities[0]"
   ]
  },
  {
   "cell_type": "code",
   "execution_count": 5,
   "metadata": {},
   "outputs": [
    {
     "data": {
      "text/plain": [
       "0        None\n",
       "1        None\n",
       "2        None\n",
       "3        None\n",
       "4        None\n",
       "         ... \n",
       "33868    None\n",
       "33869    None\n",
       "33870    None\n",
       "33871    None\n",
       "33872    None\n",
       "Name: amenities, Length: 33873, dtype: object"
      ]
     },
     "execution_count": 5,
     "metadata": {},
     "output_type": "execute_result"
    }
   ],
   "source": [
    "df.amenities = df.amenities.replace(to_replace = '[\"\\d\\s\\-\\/{\\}]', value='', regex=True)\n",
    "\n",
    "#find all the items in the amenities and put it in a dummy dictionary\n",
    "amenities = {}\n",
    "def find_list(string):\n",
    "    first = 0\n",
    "    for index, character in enumerate(string):\n",
    "        if character == \",\":\n",
    "            if string[first:index] not in amenities:\n",
    "                amenities[string[first:index]] = []\n",
    "            first = index+1\n",
    "    if string[first:] not in amenities:\n",
    "            amenities[string[first:]] = []\n",
    "df.amenities.apply(lambda x: find_list(x))"
   ]
  },
  {
   "cell_type": "code",
   "execution_count": 6,
   "metadata": {},
   "outputs": [
    {
     "data": {
      "text/plain": [
       "0        None\n",
       "1        None\n",
       "2        None\n",
       "3        None\n",
       "4        None\n",
       "         ... \n",
       "33868    None\n",
       "33869    None\n",
       "33870    None\n",
       "33871    None\n",
       "33872    None\n",
       "Name: amenities, Length: 33873, dtype: object"
      ]
     },
     "execution_count": 6,
     "metadata": {},
     "output_type": "execute_result"
    }
   ],
   "source": [
    "count = 0\n",
    "\n",
    "def labeling(string):\n",
    "    global amenities\n",
    "    first = 0\n",
    "    for index, character in enumerate(string):\n",
    "        if character == \",\":\n",
    "            if string[first:index] in amenities:\n",
    "                amenities[string[first:index]].append(1)\n",
    "    global count\n",
    "    count+=1\n",
    "    for key, value in amenities.items():\n",
    "        if len(value) < count:\n",
    "            amenities[key].append(0)\n",
    "\n",
    "df.amenities.apply(lambda x: labeling(x))"
   ]
  },
  {
   "cell_type": "code",
   "execution_count": 7,
   "metadata": {},
   "outputs": [],
   "source": [
    "#create dataframe from amenities dictionary\n",
    "df2 = pd.DataFrame(amenities)\n",
    "\n",
    "#reset index\n",
    "df = df.reset_index()\n",
    "\n",
    "#concatenate dataframe\n",
    "df = pd.concat([df, df2], axis=1, sort=False)\n",
    "\n",
    "#get all keys in list form\n",
    "keys = list(amenities.keys())"
   ]
  },
  {
   "cell_type": "code",
   "execution_count": 8,
   "metadata": {},
   "outputs": [],
   "source": [
    "#combined the previously tokenized title and summary for sklearn bag of words and Tfidf\n",
    "#text has already been preprocessed previously by removing non-english campaign, lowercase, stopwords, stemming/lemmatizing\n",
    "df['name'] = df['name'].apply(lambda x: ' '.join(x))\n",
    "df['description'] = df['description'].apply(lambda x: ' '.join(x))\n",
    "\n",
    "#merge the title and summary to one text\n",
    "df['name_description'] = df['name'] + ' ' + df['description']"
   ]
  },
  {
   "cell_type": "code",
   "execution_count": 9,
   "metadata": {},
   "outputs": [
    {
     "data": {
      "text/plain": [
       "<matplotlib.axes._subplots.AxesSubplot at 0x283e0045e48>"
      ]
     },
     "execution_count": 9,
     "metadata": {},
     "output_type": "execute_result"
    },
    {
     "data": {
      "image/png": "[encoded data removed]",
      "text/plain": [
       "<Figure size 1080x936 with 2 Axes>"
      ]
     },
     "metadata": {
      "needs_background": "light"
     },
     "output_type": "display_data"
    }
   ],
   "source": [
    "get_numeric = ['accommodates', 'bathrooms', 'bedrooms', 'beds', 'price', \n",
    "               'guests_included', 'extra_people', 'review_scores_rating', \n",
    "               'review_scores_cleanliness', 'review_scores_communication', \n",
    "               'time_as_host', 'number_of_reviews']\n",
    "\n",
    "corr = df[get_numeric].corr(method = 'kendall')\n",
    "\n",
    "plt.figure(figsize = (15,13))\n",
    "sns.heatmap(corr, annot = True)"
   ]
  },
  {
   "cell_type": "markdown",
   "metadata": {},
   "source": [
    "The correlation heatmap shows some strong collinearity between features. We can transform the features using PCA to remove collinearity while preserving the effect on the target variable or we can drop features. In this case, because of the computational expense, we will just remove features. However, after testing our model, it appears that dropping features ended up costing the performance of all the models and as a result, the features were maintained and not removed"
   ]
  },
  {
   "cell_type": "code",
   "execution_count": 10,
   "metadata": {},
   "outputs": [
    {
     "name": "stdout",
     "output_type": "stream",
     "text": [
      "Number of features: 292\n"
     ]
    }
   ],
   "source": [
    "#select features\n",
    "X = df[['name_description', 'transit', 'host_has_profile_pic',\n",
    "              'host_identity_verified', 'neighbourhood', 'property_type',\n",
    "              'room_type', 'accommodates', 'bathrooms', 'bedrooms', 'beds',\n",
    "              'bed_type', 'price', 'security_deposit', 'cleaning_fee',\n",
    "              'guests_included', 'extra_people', 'review_scores_rating', 'review_scores_cleanliness',\n",
    "              'review_scores_communication', 'instant_bookable', 'time_as_host', 'weekly_price', \n",
    "              'host_is_superhost'] + keys]\n",
    "\n",
    "#select target\n",
    "y = df[['number_of_reviews']]\n",
    "\n",
    "#split data to train and test\n",
    "X_train, X_test, y_train, y_test = train_test_split(X, y, test_size = 0.2, random_state=10)\n",
    "\n",
    "print('Number of features: {}'.format(len(df.columns)))"
   ]
  },
  {
   "cell_type": "code",
   "execution_count": 11,
   "metadata": {},
   "outputs": [],
   "source": [
    "#numeric features\n",
    "get_numeric = ['accommodates', 'bathrooms', 'beds', 'bedrooms', 'price',\n",
    "               'guests_included', 'extra_people', 'review_scores_rating', \n",
    "               'review_scores_cleanliness', 'review_scores_communication', \n",
    "               'time_as_host']\n",
    "\n",
    "#categorical features\n",
    "get_categorical = ['transit', 'host_has_profile_pic', 'host_identity_verified', \n",
    "                   'neighbourhood', 'property_type', 'room_type', 'bed_type', \n",
    "                   'security_deposit', 'cleaning_fee', 'instant_bookable',\n",
    "                   'weekly_price', 'host_is_superhost'] + keys\n",
    "\n",
    "#text feature\n",
    "get_text = 'name_description'\n",
    "\n",
    "#numeric pipeline\n",
    "num_pipe = Pipeline([('scale', StandardScaler())])\n",
    "\n",
    "#categorical pipeline1\n",
    "#first encode category columns using onehot encoding\n",
    "cat_pipe = Pipeline([('onehot', OneHotEncoder(sparse=False, handle_unknown = 'ignore')), \n",
    "                     #remove features with low variance set at 97% of the population\n",
    "                     ('varthres', VarianceThreshold(threshold = 0.97*(1-0.97)))])\n",
    "\n",
    "\n",
    "\n",
    "\n",
    "#text pipeline for CountVectorizer\n",
    "#countvectorization with maximum features of 10000 to reduce overfitting the model \n",
    "#and remove any vocabulary/phrases with less 20 counts \n",
    "text_pipe1 = Pipeline([('Count', CountVectorizer(max_features = 10000, min_df = 0.0015, ngram_range = (1,2)))])\n",
    "\n",
    "#text pipeline for Tfidf\n",
    "#TfidfVectorization with maximum features of 10000 to reduce overfitting the model \n",
    "#and remove any vocabulary/phrases with less 20 counts \n",
    "text_pipe2 = Pipeline([('Tfid', TfidfVectorizer(max_features = 10000, min_df = 0.0015, ngram_range = (1,2)))])\n",
    "\n",
    "#preprocesscor for Bag of words\n",
    "preprocessor1 = ColumnTransformer(\n",
    "    transformers=[\n",
    "        ('num', num_pipe, get_numeric),\n",
    "        ('cat', cat_pipe, get_categorical),\n",
    "        ('text1', text_pipe1, get_text)])\n",
    "\n",
    "#preprocessor for Tf-idf\n",
    "preprocessor2 = ColumnTransformer(\n",
    "    transformers=[\n",
    "        ('num', num_pipe, get_numeric),\n",
    "        ('cat', cat_pipe, get_categorical),\n",
    "        ('text2', text_pipe2, get_text)])"
   ]
  },
  {
   "cell_type": "markdown",
   "metadata": {},
   "source": [
    "### b. Ridge with CountVectorizer\n",
    "<a id='count'></a>"
   ]
  },
  {
   "cell_type": "code",
   "execution_count": 12,
   "metadata": {
    "scrolled": false
   },
   "outputs": [
    {
     "name": "stdout",
     "output_type": "stream",
     "text": [
      "Fitting 3 folds for each of 10 candidates, totalling 30 fits\n"
     ]
    },
    {
     "name": "stderr",
     "output_type": "stream",
     "text": [
      "[Parallel(n_jobs=4)]: Using backend LokyBackend with 4 concurrent workers.\n",
      "[Parallel(n_jobs=4)]: Done   1 tasks      | elapsed:   21.3s\n",
      "[Parallel(n_jobs=4)]: Done   2 tasks      | elapsed:   26.9s\n",
      "[Parallel(n_jobs=4)]: Done   3 tasks      | elapsed:   32.7s\n",
      "[Parallel(n_jobs=4)]: Done   4 tasks      | elapsed:   34.0s\n",
      "[Parallel(n_jobs=4)]: Done   5 tasks      | elapsed:   38.6s\n",
      "[Parallel(n_jobs=4)]: Done   6 tasks      | elapsed:   44.0s\n",
      "[Parallel(n_jobs=4)]: Done   7 tasks      | elapsed:  1.0min\n",
      "[Parallel(n_jobs=4)]: Done   8 tasks      | elapsed:  1.2min\n",
      "[Parallel(n_jobs=4)]: Done   9 tasks      | elapsed:  1.3min\n",
      "[Parallel(n_jobs=4)]: Done  10 tasks      | elapsed:  1.4min\n",
      "[Parallel(n_jobs=4)]: Done  11 tasks      | elapsed:  1.5min\n",
      "[Parallel(n_jobs=4)]: Done  12 tasks      | elapsed:  1.5min\n",
      "[Parallel(n_jobs=4)]: Done  13 tasks      | elapsed:  1.6min\n",
      "[Parallel(n_jobs=4)]: Done  14 tasks      | elapsed:  1.7min\n",
      "[Parallel(n_jobs=4)]: Done  15 tasks      | elapsed:  1.8min\n",
      "[Parallel(n_jobs=4)]: Done  16 tasks      | elapsed:  1.9min\n",
      "[Parallel(n_jobs=4)]: Done  17 tasks      | elapsed:  2.2min\n",
      "[Parallel(n_jobs=4)]: Done  18 tasks      | elapsed:  2.3min\n",
      "[Parallel(n_jobs=4)]: Done  19 tasks      | elapsed:  2.4min\n",
      "[Parallel(n_jobs=4)]: Done  20 tasks      | elapsed:  2.7min\n",
      "[Parallel(n_jobs=4)]: Done  21 tasks      | elapsed:  2.8min\n",
      "[Parallel(n_jobs=4)]: Done  22 tasks      | elapsed:  2.8min\n",
      "[Parallel(n_jobs=4)]: Done  23 tasks      | elapsed:  3.0min\n",
      "[Parallel(n_jobs=4)]: Done  26 out of  30 | elapsed:  4.1min remaining:   37.5s\n",
      "[Parallel(n_jobs=4)]: Done  30 out of  30 | elapsed:  4.7min finished\n"
     ]
    },
    {
     "data": {
      "text/plain": [
       "RandomizedSearchCV(cv=3, error_score='raise-deprecating',\n",
       "                   estimator=Pipeline(memory=None,\n",
       "                                      steps=[('preprocessor',\n",
       "                                              ColumnTransformer(n_jobs=None,\n",
       "                                                                remainder='drop',\n",
       "                                                                sparse_threshold=0.3,\n",
       "                                                                transformer_weights=None,\n",
       "                                                                transformers=[('num',\n",
       "                                                                               Pipeline(memory=None,\n",
       "                                                                                        steps=[('scale',\n",
       "                                                                                                StandardScaler(copy=True,\n",
       "                                                                                                               with_mean=True,\n",
       "                                                                                                               with_std=True))],\n",
       "                                                                                        verbose=False),\n",
       "                                                                               ['accommodates',\n",
       "                                                                                '...\n",
       "       4.09491506e+01, 4.94171336e+01, 5.96362332e+01, 7.19685673e+01,\n",
       "       8.68511374e+01, 1.04811313e+02, 1.26485522e+02, 1.52641797e+02,\n",
       "       1.84206997e+02, 2.22299648e+02, 2.68269580e+02, 3.23745754e+02,\n",
       "       3.90693994e+02, 4.71486636e+02, 5.68986603e+02, 6.86648845e+02,\n",
       "       8.28642773e+02, 1.00000000e+03])},\n",
       "                   pre_dispatch='2*n_jobs', random_state=12, refit=True,\n",
       "                   return_train_score=False, scoring='r2', verbose=15)"
      ]
     },
     "execution_count": 12,
     "metadata": {},
     "output_type": "execute_result"
    }
   ],
   "source": [
    "#create Bag of words pipeline with logistic regression\n",
    "pipe1 = Pipeline(steps=[('preprocessor', preprocessor1),\n",
    "                      ('regressor', Ridge())])\n",
    "\n",
    "#Randomized cross validation with fine tuning alpha\n",
    "param_grid = {'regressor__alpha': np.logspace(-1,3, num = 50)}\n",
    "\n",
    "clf = RandomizedSearchCV(pipe1, param_grid, cv = 3, verbose = 15, n_iter = 10, \n",
    "                           scoring = 'r2', n_jobs = 4, random_state = 12)\n",
    "\n",
    "clf.fit(X_train, y_train)"
   ]
  },
  {
   "cell_type": "code",
   "execution_count": 13,
   "metadata": {},
   "outputs": [
    {
     "name": "stdout",
     "output_type": "stream",
     "text": [
      "{'regressor__alpha': 568.9866029018293}\n"
     ]
    }
   ],
   "source": [
    "#model the test set\n",
    "print(clf.best_params_)"
   ]
  },
  {
   "cell_type": "code",
   "execution_count": 14,
   "metadata": {
    "scrolled": true
   },
   "outputs": [
    {
     "name": "stdout",
     "output_type": "stream",
     "text": [
      "Training set r2: 0.4\n",
      "Testing set r2: 0.3\n"
     ]
    }
   ],
   "source": [
    "#model the test set\n",
    "y_pred = clf.predict(X_test)\n",
    "\n",
    "train_r2 = round(clf.score(X_train, y_train), 2)\n",
    "test_r2 = round(r2_score(y_test, y_pred), 2)\n",
    "\n",
    "print(\"Training set r2:\", train_r2)\n",
    "print(\"Testing set r2:\", test_r2)"
   ]
  },
  {
   "cell_type": "code",
   "execution_count": 15,
   "metadata": {
    "scrolled": true
   },
   "outputs": [
    {
     "name": "stdout",
     "output_type": "stream",
     "text": [
      "Mean square error: 2512.56\n"
     ]
    }
   ],
   "source": [
    "mse = round(mean_squared_error(y_test, y_pred), 2)\n",
    "print('Mean square error:', mse)"
   ]
  },
  {
   "cell_type": "code",
   "execution_count": 16,
   "metadata": {},
   "outputs": [
    {
     "name": "stdout",
     "output_type": "stream",
     "text": [
      "Max error: 472.16\n"
     ]
    }
   ],
   "source": [
    "me = round(max_error(y_test, y_pred), 2)\n",
    "\n",
    "print('Max error:', me)"
   ]
  },
  {
   "cell_type": "code",
   "execution_count": 17,
   "metadata": {},
   "outputs": [
    {
     "name": "stdout",
     "output_type": "stream",
     "text": [
      "Mean absolute error: 31.57\n"
     ]
    }
   ],
   "source": [
    "mae = round(mean_absolute_error(y_test, y_pred), 2)\n",
    "\n",
    "print('Mean absolute error:', mae)"
   ]
  },
  {
   "cell_type": "markdown",
   "metadata": {},
   "source": [
    "### c. Ridge with TfidVectorizer\n",
    "<a id='tfid'></a>"
   ]
  },
  {
   "cell_type": "code",
   "execution_count": 18,
   "metadata": {
    "scrolled": false
   },
   "outputs": [
    {
     "name": "stdout",
     "output_type": "stream",
     "text": [
      "Fitting 3 folds for each of 10 candidates, totalling 30 fits\n"
     ]
    },
    {
     "name": "stderr",
     "output_type": "stream",
     "text": [
      "[Parallel(n_jobs=4)]: Using backend LokyBackend with 4 concurrent workers.\n",
      "[Parallel(n_jobs=4)]: Done   1 tasks      | elapsed:   30.7s\n",
      "[Parallel(n_jobs=4)]: Done   2 tasks      | elapsed:   37.2s\n",
      "[Parallel(n_jobs=4)]: Done   3 tasks      | elapsed:   45.3s\n",
      "[Parallel(n_jobs=4)]: Done   4 tasks      | elapsed:   45.4s\n",
      "[Parallel(n_jobs=4)]: Done   5 tasks      | elapsed:   48.7s\n",
      "[Parallel(n_jobs=4)]: Done   6 tasks      | elapsed:   55.3s\n",
      "[Parallel(n_jobs=4)]: Done   7 tasks      | elapsed:  1.3min\n",
      "[Parallel(n_jobs=4)]: Done   8 tasks      | elapsed:  1.6min\n",
      "[Parallel(n_jobs=4)]: Done   9 tasks      | elapsed:  1.7min\n",
      "[Parallel(n_jobs=4)]: Done  10 tasks      | elapsed:  1.7min\n",
      "[Parallel(n_jobs=4)]: Done  11 tasks      | elapsed:  1.9min\n",
      "[Parallel(n_jobs=4)]: Done  12 tasks      | elapsed:  1.9min\n",
      "[Parallel(n_jobs=4)]: Done  13 tasks      | elapsed:  2.0min\n",
      "[Parallel(n_jobs=4)]: Done  14 tasks      | elapsed:  2.1min\n",
      "[Parallel(n_jobs=4)]: Done  15 tasks      | elapsed:  2.3min\n",
      "[Parallel(n_jobs=4)]: Done  16 tasks      | elapsed:  2.3min\n",
      "[Parallel(n_jobs=4)]: Done  17 tasks      | elapsed:  2.5min\n",
      "[Parallel(n_jobs=4)]: Done  18 tasks      | elapsed:  2.6min\n",
      "[Parallel(n_jobs=4)]: Done  19 tasks      | elapsed:  2.8min\n",
      "[Parallel(n_jobs=4)]: Done  20 tasks      | elapsed:  2.9min\n",
      "[Parallel(n_jobs=4)]: Done  21 tasks      | elapsed:  3.0min\n",
      "[Parallel(n_jobs=4)]: Done  22 tasks      | elapsed:  3.1min\n",
      "[Parallel(n_jobs=4)]: Done  23 tasks      | elapsed:  3.2min\n",
      "[Parallel(n_jobs=4)]: Done  26 out of  30 | elapsed:  3.8min remaining:   34.9s\n",
      "[Parallel(n_jobs=4)]: Done  30 out of  30 | elapsed:  4.4min finished\n"
     ]
    },
    {
     "data": {
      "text/plain": [
       "RandomizedSearchCV(cv=3, error_score='raise-deprecating',\n",
       "                   estimator=Pipeline(memory=None,\n",
       "                                      steps=[('preprocessor',\n",
       "                                              ColumnTransformer(n_jobs=None,\n",
       "                                                                remainder='drop',\n",
       "                                                                sparse_threshold=0.3,\n",
       "                                                                transformer_weights=None,\n",
       "                                                                transformers=[('num',\n",
       "                                                                               Pipeline(memory=None,\n",
       "                                                                                        steps=[('scale',\n",
       "                                                                                                StandardScaler(copy=True,\n",
       "                                                                                                               with_mean=True,\n",
       "                                                                                                               with_std=True))],\n",
       "                                                                                        verbose=False),\n",
       "                                                                               ['accommodates',\n",
       "                                                                                '...\n",
       "       4.09491506e+01, 4.94171336e+01, 5.96362332e+01, 7.19685673e+01,\n",
       "       8.68511374e+01, 1.04811313e+02, 1.26485522e+02, 1.52641797e+02,\n",
       "       1.84206997e+02, 2.22299648e+02, 2.68269580e+02, 3.23745754e+02,\n",
       "       3.90693994e+02, 4.71486636e+02, 5.68986603e+02, 6.86648845e+02,\n",
       "       8.28642773e+02, 1.00000000e+03])},\n",
       "                   pre_dispatch='2*n_jobs', random_state=12, refit=True,\n",
       "                   return_train_score=False, scoring='r2', verbose=15)"
      ]
     },
     "execution_count": 18,
     "metadata": {},
     "output_type": "execute_result"
    }
   ],
   "source": [
    "pipe2 = Pipeline(steps=[('preprocessor', preprocessor2),\n",
    "                      ('regressor', Ridge())])\n",
    "\n",
    "clf2 = RandomizedSearchCV(pipe2, param_grid, cv = 3, n_iter = 10, n_jobs = 4,\n",
    "                         scoring = 'r2', random_state = 12, verbose = 15)\n",
    "clf2.fit(X_train, y_train)"
   ]
  },
  {
   "cell_type": "code",
   "execution_count": 19,
   "metadata": {},
   "outputs": [
    {
     "name": "stdout",
     "output_type": "stream",
     "text": [
      "{'regressor__alpha': 3.5564803062231287}\n"
     ]
    }
   ],
   "source": [
    "print(clf2.best_params_)"
   ]
  },
  {
   "cell_type": "code",
   "execution_count": 20,
   "metadata": {
    "scrolled": true
   },
   "outputs": [
    {
     "name": "stdout",
     "output_type": "stream",
     "text": [
      "Training set r2: 0.38\n",
      "Testing set r2: 0.29\n"
     ]
    }
   ],
   "source": [
    "#model the test set\n",
    "y_pred = clf2.predict(X_test)\n",
    "\n",
    "train_r2 = round(clf2.score(X_train, y_train), 2)\n",
    "test_r2 = round(r2_score(y_test, y_pred), 2)\n",
    "\n",
    "print(\"Training set r2:\", train_r2)\n",
    "print(\"Testing set r2:\", test_r2)"
   ]
  },
  {
   "cell_type": "code",
   "execution_count": 21,
   "metadata": {},
   "outputs": [
    {
     "name": "stdout",
     "output_type": "stream",
     "text": [
      "Mean square error: 2518.84\n"
     ]
    }
   ],
   "source": [
    "mse = round(mean_squared_error(y_test, y_pred), 2)\n",
    "print('Mean square error:', mse)"
   ]
  },
  {
   "cell_type": "code",
   "execution_count": 22,
   "metadata": {},
   "outputs": [
    {
     "name": "stdout",
     "output_type": "stream",
     "text": [
      "Max error: 468.95\n"
     ]
    }
   ],
   "source": [
    "me = round(max_error(y_test, y_pred), 2)\n",
    "\n",
    "print('Max error:', me)"
   ]
  },
  {
   "cell_type": "code",
   "execution_count": 23,
   "metadata": {},
   "outputs": [
    {
     "name": "stdout",
     "output_type": "stream",
     "text": [
      "Mean absolute error: 31.75\n"
     ]
    }
   ],
   "source": [
    "mae = round(mean_absolute_error(y_test, y_pred), 2)\n",
    "\n",
    "print('Mean absolute error:', mae)"
   ]
  },
  {
   "cell_type": "markdown",
   "metadata": {},
   "source": [
    "### d. Random Forest\n",
    "<a id='forest'></a>"
   ]
  },
  {
   "cell_type": "code",
   "execution_count": 24,
   "metadata": {},
   "outputs": [
    {
     "name": "stdout",
     "output_type": "stream",
     "text": [
      "Fitting 3 folds for each of 10 candidates, totalling 30 fits\n"
     ]
    },
    {
     "name": "stderr",
     "output_type": "stream",
     "text": [
      "[Parallel(n_jobs=4)]: Using backend LokyBackend with 4 concurrent workers.\n",
      "[Parallel(n_jobs=4)]: Done   1 tasks      | elapsed:  5.4min\n",
      "[Parallel(n_jobs=4)]: Done   2 tasks      | elapsed:  5.4min\n",
      "[Parallel(n_jobs=4)]: Done   3 tasks      | elapsed:  5.5min\n",
      "[Parallel(n_jobs=4)]: Done   4 tasks      | elapsed:  9.3min\n",
      "[Parallel(n_jobs=4)]: Done   5 tasks      | elapsed: 14.3min\n",
      "[Parallel(n_jobs=4)]: Done   6 tasks      | elapsed: 14.5min\n",
      "[Parallel(n_jobs=4)]: Done   7 tasks      | elapsed: 17.4min\n",
      "[Parallel(n_jobs=4)]: Done   8 tasks      | elapsed: 21.0min\n",
      "[Parallel(n_jobs=4)]: Done   9 tasks      | elapsed: 24.5min\n",
      "[Parallel(n_jobs=4)]: Done  10 tasks      | elapsed: 27.0min\n",
      "[Parallel(n_jobs=4)]: Done  11 tasks      | elapsed: 27.5min\n",
      "[Parallel(n_jobs=4)]: Done  12 tasks      | elapsed: 32.3min\n",
      "[Parallel(n_jobs=4)]: Done  13 tasks      | elapsed: 32.5min\n",
      "[Parallel(n_jobs=4)]: Done  14 tasks      | elapsed: 34.6min\n",
      "[Parallel(n_jobs=4)]: Done  15 tasks      | elapsed: 35.3min\n",
      "[Parallel(n_jobs=4)]: Done  16 tasks      | elapsed: 38.2min\n",
      "[Parallel(n_jobs=4)]: Done  17 tasks      | elapsed: 38.2min\n",
      "[Parallel(n_jobs=4)]: Done  18 tasks      | elapsed: 40.2min\n",
      "[Parallel(n_jobs=4)]: Done  19 tasks      | elapsed: 46.6min\n",
      "[Parallel(n_jobs=4)]: Done  20 tasks      | elapsed: 47.2min\n",
      "[Parallel(n_jobs=4)]: Done  21 tasks      | elapsed: 49.0min\n",
      "[Parallel(n_jobs=4)]: Done  22 tasks      | elapsed: 49.5min\n",
      "[Parallel(n_jobs=4)]: Done  23 tasks      | elapsed: 53.4min\n",
      "[Parallel(n_jobs=4)]: Done  26 out of  30 | elapsed: 60.1min remaining:  9.2min\n",
      "[Parallel(n_jobs=4)]: Done  30 out of  30 | elapsed: 68.5min finished\n",
      "C:\\Users\\sadmin\\Anaconda3\\lib\\site-packages\\sklearn\\pipeline.py:356: DataConversionWarning: A column-vector y was passed when a 1d array was expected. Please change the shape of y to (n_samples,), for example using ravel().\n",
      "  self._final_estimator.fit(Xt, y, **fit_params)\n"
     ]
    },
    {
     "data": {
      "text/plain": [
       "RandomizedSearchCV(cv=3, error_score='raise-deprecating',\n",
       "                   estimator=Pipeline(memory=None,\n",
       "                                      steps=[('preprocessor',\n",
       "                                              ColumnTransformer(n_jobs=None,\n",
       "                                                                remainder='drop',\n",
       "                                                                sparse_threshold=0.3,\n",
       "                                                                transformer_weights=None,\n",
       "                                                                transformers=[('num',\n",
       "                                                                               Pipeline(memory=None,\n",
       "                                                                                        steps=[('scale',\n",
       "                                                                                                StandardScaler(copy=True,\n",
       "                                                                                                               with_mean=True,\n",
       "                                                                                                               with_std=True))],\n",
       "                                                                                        verbose=False),\n",
       "                                                                               ['accommodates',\n",
       "                                                                                '...\n",
       "                                                                    random_state=None,\n",
       "                                                                    verbose=0,\n",
       "                                                                    warm_start=False))],\n",
       "                                      verbose=False),\n",
       "                   iid='warn', n_iter=10, n_jobs=4,\n",
       "                   param_distributions={'regressor__min_samples_leaf': array([1, 2, 3, 4]),\n",
       "                                        'regressor__min_samples_split': array([2, 3, 4, 5]),\n",
       "                                        'regressor__n_estimators': array([ 8, 10, 12, 14, 16])},\n",
       "                   pre_dispatch='2*n_jobs', random_state=12, refit=True,\n",
       "                   return_train_score=False, scoring='r2', verbose=15)"
      ]
     },
     "execution_count": 24,
     "metadata": {},
     "output_type": "execute_result"
    }
   ],
   "source": [
    "#create pipeline for random forest algorithm\n",
    "pipe3 = Pipeline([('preprocessor', preprocessor1),\n",
    "                  ('regressor', RandomForestRegressor())])\n",
    "\n",
    "param_grid = {'regressor__n_estimators': np.arange(8,17,2), \n",
    "              'regressor__min_samples_split': np.arange(2,6),\n",
    "             'regressor__min_samples_leaf': np.arange(1,5)}\n",
    "\n",
    "clf3 = RandomizedSearchCV(pipe3, param_grid, cv = 3, n_iter = 10, n_jobs = 4,\n",
    "                         scoring = 'r2', random_state = 12, verbose = 15)\n",
    "clf3.fit(X_train, y_train)"
   ]
  },
  {
   "cell_type": "code",
   "execution_count": 25,
   "metadata": {
    "scrolled": true
   },
   "outputs": [
    {
     "name": "stdout",
     "output_type": "stream",
     "text": [
      "{'regressor__n_estimators': 16, 'regressor__min_samples_split': 4, 'regressor__min_samples_leaf': 4}\n"
     ]
    }
   ],
   "source": [
    "print(clf3.best_params_)"
   ]
  },
  {
   "cell_type": "code",
   "execution_count": 26,
   "metadata": {
    "scrolled": true
   },
   "outputs": [
    {
     "name": "stdout",
     "output_type": "stream",
     "text": [
      "Training set r2: 0.76\n",
      "Testing set r2: 0.39\n"
     ]
    }
   ],
   "source": [
    "#model the test set\n",
    "y_pred = clf3.predict(X_test)\n",
    "\n",
    "train_r2 = round(clf3.score(X_train, y_train), 2)\n",
    "test_r2 = round(r2_score(y_test, y_pred), 2)\n",
    "\n",
    "print(\"Training set r2:\", train_r2)\n",
    "print(\"Testing set r2:\", test_r2)"
   ]
  },
  {
   "cell_type": "code",
   "execution_count": 27,
   "metadata": {},
   "outputs": [
    {
     "name": "stdout",
     "output_type": "stream",
     "text": [
      "Mean square error: 2191.7\n"
     ]
    }
   ],
   "source": [
    "mse = round(mean_squared_error(y_test, y_pred), 2)\n",
    "print('Mean square error:', mse)"
   ]
  },
  {
   "cell_type": "code",
   "execution_count": 28,
   "metadata": {},
   "outputs": [
    {
     "name": "stdout",
     "output_type": "stream",
     "text": [
      "Max error: 438.47\n"
     ]
    }
   ],
   "source": [
    "me = round(max_error(y_test, y_pred), 2)\n",
    "\n",
    "print('Max error:', me)"
   ]
  },
  {
   "cell_type": "code",
   "execution_count": 29,
   "metadata": {},
   "outputs": [
    {
     "name": "stdout",
     "output_type": "stream",
     "text": [
      "Mean absolute error: 24.29\n"
     ]
    }
   ],
   "source": [
    "mae = round(mean_absolute_error(y_test, y_pred), 2)\n",
    "\n",
    "print('Mean absolute error:', mae)"
   ]
  },
  {
   "cell_type": "markdown",
   "metadata": {},
   "source": [
    "### e. XG Boosting\n",
    "<a id='boost'></a>"
   ]
  },
  {
   "cell_type": "code",
   "execution_count": 30,
   "metadata": {},
   "outputs": [
    {
     "name": "stdout",
     "output_type": "stream",
     "text": [
      "Fitting 3 folds for each of 10 candidates, totalling 30 fits\n"
     ]
    },
    {
     "name": "stderr",
     "output_type": "stream",
     "text": [
      "[Parallel(n_jobs=4)]: Using backend LokyBackend with 4 concurrent workers.\n",
      "[Parallel(n_jobs=4)]: Done   1 tasks      | elapsed:  2.2min\n",
      "[Parallel(n_jobs=4)]: Done   2 tasks      | elapsed:  2.6min\n",
      "[Parallel(n_jobs=4)]: Done   3 tasks      | elapsed:  2.6min\n",
      "[Parallel(n_jobs=4)]: Done   4 tasks      | elapsed:  2.6min\n",
      "[Parallel(n_jobs=4)]: Done   5 tasks      | elapsed:  4.2min\n",
      "[Parallel(n_jobs=4)]: Done   6 tasks      | elapsed:  4.4min\n",
      "[Parallel(n_jobs=4)]: Done   7 tasks      | elapsed:  5.9min\n",
      "[Parallel(n_jobs=4)]: Done   8 tasks      | elapsed:  5.9min\n",
      "[Parallel(n_jobs=4)]: Done   9 tasks      | elapsed:  6.7min\n",
      "[Parallel(n_jobs=4)]: Done  10 tasks      | elapsed:  7.9min\n",
      "[Parallel(n_jobs=4)]: Done  11 tasks      | elapsed:  8.8min\n",
      "[Parallel(n_jobs=4)]: Done  12 tasks      | elapsed:  8.8min\n",
      "[Parallel(n_jobs=4)]: Done  13 tasks      | elapsed: 12.4min\n",
      "[Parallel(n_jobs=4)]: Done  14 tasks      | elapsed: 13.4min\n",
      "[Parallel(n_jobs=4)]: Done  15 tasks      | elapsed: 14.1min\n",
      "[Parallel(n_jobs=4)]: Done  16 tasks      | elapsed: 15.0min\n",
      "[Parallel(n_jobs=4)]: Done  17 tasks      | elapsed: 17.8min\n",
      "[Parallel(n_jobs=4)]: Done  18 tasks      | elapsed: 18.2min\n",
      "[Parallel(n_jobs=4)]: Done  19 tasks      | elapsed: 18.9min\n",
      "[Parallel(n_jobs=4)]: Done  20 tasks      | elapsed: 19.1min\n",
      "[Parallel(n_jobs=4)]: Done  21 tasks      | elapsed: 22.0min\n",
      "[Parallel(n_jobs=4)]: Done  22 tasks      | elapsed: 23.0min\n",
      "[Parallel(n_jobs=4)]: Done  23 tasks      | elapsed: 23.3min\n",
      "[Parallel(n_jobs=4)]: Done  26 out of  30 | elapsed: 24.4min remaining:  3.7min\n",
      "[Parallel(n_jobs=4)]: Done  30 out of  30 | elapsed: 27.6min finished\n"
     ]
    },
    {
     "name": "stdout",
     "output_type": "stream",
     "text": [
      "[20:34:00] WARNING: C:/Jenkins/workspace/xgboost-win64_release_0.90/src/objective/regression_obj.cu:152: reg:linear is now deprecated in favor of reg:squarederror.\n"
     ]
    },
    {
     "data": {
      "text/plain": [
       "RandomizedSearchCV(cv=3, error_score='raise-deprecating',\n",
       "                   estimator=Pipeline(memory=None,\n",
       "                                      steps=[('preprocessor',\n",
       "                                              ColumnTransformer(n_jobs=None,\n",
       "                                                                remainder='drop',\n",
       "                                                                sparse_threshold=0.3,\n",
       "                                                                transformer_weights=None,\n",
       "                                                                transformers=[('num',\n",
       "                                                                               Pipeline(memory=None,\n",
       "                                                                                        steps=[('scale',\n",
       "                                                                                                StandardScaler(copy=True,\n",
       "                                                                                                               with_mean=True,\n",
       "                                                                                                               with_std=True))],\n",
       "                                                                                        verbose=False),\n",
       "                                                                               ['accommodates',\n",
       "                                                                                '...\n",
       "                   iid='warn', n_iter=10, n_jobs=4,\n",
       "                   param_distributions={'regressor__learning_rate': [0.001,\n",
       "                                                                     0.01, 0.1,\n",
       "                                                                     0.3],\n",
       "                                        'regressor__max_depth': array([3, 4, 5]),\n",
       "                                        'regressor__n_estimators': [100, 200,\n",
       "                                                                    300, 400,\n",
       "                                                                    500],\n",
       "                                        'regressor__reg_alpha': array([0. , 0.1, 0.2, 0.3, 0.4, 0.5, 0.6, 0.7, 0.8, 0.9])},\n",
       "                   pre_dispatch='2*n_jobs', random_state=12, refit=True,\n",
       "                   return_train_score=False, scoring='r2', verbose=15)"
      ]
     },
     "execution_count": 30,
     "metadata": {},
     "output_type": "execute_result"
    }
   ],
   "source": [
    "#create pipeline for gradient boosted random forest algorithm\n",
    "pipe4 = Pipeline([('preprocessor', preprocessor1), \n",
    "                  ('regressor', XGBRegressor())])\n",
    "\n",
    "param_grid = {'regressor__n_estimators': [100, 200, 300, 400, 500],\n",
    "              'regressor__learning_rate': [0.001, 0.01, 0.1, 0.3],\n",
    "              'regressor__max_depth': np.arange(3,6), \n",
    "              'regressor__reg_alpha': np.arange(0,1,0.1)}\n",
    "\n",
    "clf4 = RandomizedSearchCV(pipe4, param_grid, cv = 3, n_iter = 10, n_jobs = 4,\n",
    "                         scoring = 'r2', random_state = 12, verbose = 15)\n",
    "clf4.fit(X_train, y_train)"
   ]
  },
  {
   "cell_type": "code",
   "execution_count": 31,
   "metadata": {
    "scrolled": true
   },
   "outputs": [
    {
     "name": "stdout",
     "output_type": "stream",
     "text": [
      "{'regressor__reg_alpha': 0.30000000000000004, 'regressor__n_estimators': 400, 'regressor__max_depth': 4, 'regressor__learning_rate': 0.1}\n"
     ]
    }
   ],
   "source": [
    "print(clf4.best_params_)"
   ]
  },
  {
   "cell_type": "code",
   "execution_count": 32,
   "metadata": {
    "scrolled": true
   },
   "outputs": [
    {
     "name": "stdout",
     "output_type": "stream",
     "text": [
      "Training set r2: 0.62\n",
      "Testing set r2: 0.38\n"
     ]
    }
   ],
   "source": [
    "#model the test set\n",
    "y_pred = clf4.predict(X_test)\n",
    "\n",
    "train_r2 = round(clf4.score(X_train, y_train), 2)\n",
    "test_r2 = round(r2_score(y_test, y_pred), 2)\n",
    "\n",
    "print(\"Training set r2:\", train_r2)\n",
    "print(\"Testing set r2:\", test_r2)"
   ]
  },
  {
   "cell_type": "code",
   "execution_count": 33,
   "metadata": {},
   "outputs": [
    {
     "name": "stdout",
     "output_type": "stream",
     "text": [
      "Mean square error: 2193.59\n"
     ]
    }
   ],
   "source": [
    "mse = round(mean_squared_error(y_test, y_pred), 2)\n",
    "print('Mean square error:', mse)"
   ]
  },
  {
   "cell_type": "code",
   "execution_count": 34,
   "metadata": {},
   "outputs": [
    {
     "name": "stdout",
     "output_type": "stream",
     "text": [
      "Max error: 453.02\n"
     ]
    }
   ],
   "source": [
    "me = round(max_error(y_test, y_pred), 2)\n",
    "\n",
    "print('Max error:', me)"
   ]
  },
  {
   "cell_type": "code",
   "execution_count": 35,
   "metadata": {
    "scrolled": true
   },
   "outputs": [
    {
     "name": "stdout",
     "output_type": "stream",
     "text": [
      "Mean absolute error: 26.86\n"
     ]
    }
   ],
   "source": [
    "mae = round(mean_absolute_error(y_test, y_pred), 2)\n",
    "\n",
    "print('Mean absolute error:', mae)"
   ]
  },
  {
   "cell_type": "markdown",
   "metadata": {},
   "source": [
    "### f. Deep Learning\n",
    "<a id='learn'></a>"
   ]
  },
  {
   "cell_type": "code",
   "execution_count": 36,
   "metadata": {},
   "outputs": [],
   "source": [
    "#text to sequence for title with max # words of 10000\n",
    "tokenizer_tit = Tokenizer(num_words=10000, filters='!\"#$%&()*+,-./:;<=>?@[\\]^_`{|}~', lower=True)\n",
    "tokenizer_tit.fit_on_texts(df['name_description'])\n",
    "X_name = tokenizer_tit.texts_to_sequences(df['name_description'])"
   ]
  },
  {
   "cell_type": "code",
   "execution_count": 37,
   "metadata": {},
   "outputs": [],
   "source": [
    "X_name = pad_sequences(X_name, maxlen=40, padding = 'post')"
   ]
  },
  {
   "cell_type": "code",
   "execution_count": 38,
   "metadata": {},
   "outputs": [],
   "source": [
    "#scale numerical features\n",
    "scale = StandardScaler()\n",
    "temp1 = scale.fit_transform(df[get_numeric])\n",
    "\n",
    "#encode categorical features\n",
    "onehot = OneHotEncoder(sparse = False, handle_unknown = 'ignore')\n",
    "temp2 = onehot.fit_transform(df[get_categorical])\n",
    "varthre = VarianceThreshold(threshold = 0.99*(1-0.99))\n",
    "temp2 = varthre.fit_transform(temp2)\n",
    "\n",
    "#concatenate numerical and categorical features\n",
    "X = np.concatenate((temp1,temp2), axis = 1)\n",
    "\n",
    "#set target variable\n",
    "y = df['number_of_reviews']\n",
    "y = np.array(y).reshape((-1,1))"
   ]
  },
  {
   "cell_type": "code",
   "execution_count": 39,
   "metadata": {},
   "outputs": [],
   "source": [
    "X_name_train, X_name_test, X_train, X_test, y_train, y_test = (\n",
    "    train_test_split(X_name, X, y, test_size = 0.2, random_state = 10))"
   ]
  },
  {
   "cell_type": "code",
   "execution_count": 40,
   "metadata": {},
   "outputs": [],
   "source": [
    "#input shape\n",
    "seq_length = X_name.shape[1]\n",
    "meta_length = X.shape[1]"
   ]
  },
  {
   "cell_type": "code",
   "execution_count": 41,
   "metadata": {
    "scrolled": false
   },
   "outputs": [
    {
     "name": "stdout",
     "output_type": "stream",
     "text": [
      "WARNING:tensorflow:From C:\\Users\\sadmin\\Anaconda3\\lib\\site-packages\\keras\\backend\\tensorflow_backend.py:517: The name tf.placeholder is deprecated. Please use tf.compat.v1.placeholder instead.\n",
      "\n",
      "WARNING:tensorflow:From C:\\Users\\sadmin\\Anaconda3\\lib\\site-packages\\keras\\backend\\tensorflow_backend.py:74: The name tf.get_default_graph is deprecated. Please use tf.compat.v1.get_default_graph instead.\n",
      "\n",
      "WARNING:tensorflow:From C:\\Users\\sadmin\\Anaconda3\\lib\\site-packages\\keras\\backend\\tensorflow_backend.py:4138: The name tf.random_uniform is deprecated. Please use tf.random.uniform instead.\n",
      "\n",
      "WARNING:tensorflow:From C:\\Users\\sadmin\\Anaconda3\\lib\\site-packages\\keras\\backend\\tensorflow_backend.py:133: The name tf.placeholder_with_default is deprecated. Please use tf.compat.v1.placeholder_with_default instead.\n",
      "\n",
      "WARNING:tensorflow:From C:\\Users\\sadmin\\Anaconda3\\lib\\site-packages\\keras\\backend\\tensorflow_backend.py:3445: calling dropout (from tensorflow.python.ops.nn_ops) with keep_prob is deprecated and will be removed in a future version.\n",
      "Instructions for updating:\n",
      "Please use `rate` instead of `keep_prob`. Rate should be set to `rate = 1 - keep_prob`.\n",
      "WARNING:tensorflow:From C:\\Users\\sadmin\\Anaconda3\\lib\\site-packages\\keras\\optimizers.py:790: The name tf.train.Optimizer is deprecated. Please use tf.compat.v1.train.Optimizer instead.\n",
      "\n",
      "WARNING:tensorflow:From C:\\Users\\sadmin\\Anaconda3\\lib\\site-packages\\tensorflow\\python\\ops\\math_grad.py:1250: add_dispatch_support.<locals>.wrapper (from tensorflow.python.ops.array_ops) is deprecated and will be removed in a future version.\n",
      "Instructions for updating:\n",
      "Use tf.where in 2.0, which has the same broadcast rule as np.where\n",
      "WARNING:tensorflow:From C:\\Users\\sadmin\\Anaconda3\\lib\\site-packages\\keras\\backend\\tensorflow_backend.py:986: The name tf.assign_add is deprecated. Please use tf.compat.v1.assign_add instead.\n",
      "\n",
      "Train on 21678 samples, validate on 5420 samples\n",
      "Epoch 1/500\n",
      " - 31s - loss: 4843.0874 - mean_absolute_error: 34.5956 - val_loss: 5216.2153 - val_mean_absolute_error: 35.4436\n",
      "Epoch 2/500\n",
      " - 21s - loss: 4396.5255 - mean_absolute_error: 32.2964 - val_loss: 4350.4170 - val_mean_absolute_error: 32.4279\n",
      "Epoch 3/500\n",
      " - 20s - loss: 3592.2321 - mean_absolute_error: 31.8065 - val_loss: 3586.3395 - val_mean_absolute_error: 33.7909\n",
      "Epoch 4/500\n",
      " - 23s - loss: 3098.9786 - mean_absolute_error: 33.6796 - val_loss: 3232.4389 - val_mean_absolute_error: 35.0013\n",
      "Epoch 5/500\n",
      " - 23s - loss: 2882.3989 - mean_absolute_error: 33.6765 - val_loss: 3041.8468 - val_mean_absolute_error: 33.3221\n",
      "Epoch 6/500\n",
      " - 21s - loss: 2745.3399 - mean_absolute_error: 32.0810 - val_loss: 2914.6719 - val_mean_absolute_error: 31.9656\n",
      "Epoch 7/500\n",
      " - 22s - loss: 2645.9919 - mean_absolute_error: 30.8614 - val_loss: 2850.7191 - val_mean_absolute_error: 30.7942\n",
      "Epoch 8/500\n",
      " - 23s - loss: 2586.2077 - mean_absolute_error: 30.0022 - val_loss: 2797.7748 - val_mean_absolute_error: 29.6788\n",
      "Epoch 9/500\n",
      " - 27s - loss: 2553.1916 - mean_absolute_error: 29.1402 - val_loss: 2748.5135 - val_mean_absolute_error: 29.0708\n",
      "Epoch 10/500\n",
      " - 32s - loss: 2496.5534 - mean_absolute_error: 28.5940 - val_loss: 2709.3425 - val_mean_absolute_error: 28.5550\n",
      "Epoch 11/500\n",
      " - 22s - loss: 2463.9250 - mean_absolute_error: 28.1276 - val_loss: 2673.6543 - val_mean_absolute_error: 28.1728\n",
      "Epoch 12/500\n",
      " - 25s - loss: 2425.2476 - mean_absolute_error: 27.7836 - val_loss: 2656.2129 - val_mean_absolute_error: 27.6815\n",
      "Epoch 13/500\n",
      " - 28s - loss: 2395.8631 - mean_absolute_error: 27.5590 - val_loss: 2618.5656 - val_mean_absolute_error: 27.5681\n",
      "Epoch 14/500\n",
      " - 32s - loss: 2353.9697 - mean_absolute_error: 27.2409 - val_loss: 2592.0335 - val_mean_absolute_error: 27.4967\n",
      "Epoch 15/500\n",
      " - 33s - loss: 2335.0461 - mean_absolute_error: 27.0399 - val_loss: 2576.0053 - val_mean_absolute_error: 27.2165\n",
      "Epoch 16/500\n",
      " - 33s - loss: 2320.3478 - mean_absolute_error: 26.9877 - val_loss: 2550.9625 - val_mean_absolute_error: 27.3839\n",
      "Epoch 17/500\n",
      " - 29s - loss: 2298.9209 - mean_absolute_error: 26.8508 - val_loss: 2577.0901 - val_mean_absolute_error: 26.4159\n",
      "Epoch 18/500\n",
      " - 30s - loss: 2272.4051 - mean_absolute_error: 26.4416 - val_loss: 2538.8362 - val_mean_absolute_error: 26.6629\n",
      "Epoch 19/500\n",
      " - 31s - loss: 2234.4096 - mean_absolute_error: 26.1667 - val_loss: 2508.0464 - val_mean_absolute_error: 26.9518\n",
      "Epoch 20/500\n",
      " - 31s - loss: 2206.6988 - mean_absolute_error: 25.9533 - val_loss: 2499.0174 - val_mean_absolute_error: 26.3864\n",
      "Epoch 21/500\n",
      " - 30s - loss: 2175.1903 - mean_absolute_error: 25.5883 - val_loss: 2481.6322 - val_mean_absolute_error: 27.4352\n",
      "Epoch 22/500\n",
      " - 31s - loss: 2141.1276 - mean_absolute_error: 25.5486 - val_loss: 2504.3530 - val_mean_absolute_error: 25.9589\n",
      "Epoch 23/500\n",
      " - 32s - loss: 2108.7934 - mean_absolute_error: 25.1712 - val_loss: 2463.5759 - val_mean_absolute_error: 26.7517\n",
      "Epoch 24/500\n",
      " - 34s - loss: 2051.4411 - mean_absolute_error: 24.8956 - val_loss: 2457.3607 - val_mean_absolute_error: 26.1686\n",
      "Epoch 25/500\n",
      " - 33s - loss: 2037.2767 - mean_absolute_error: 24.7760 - val_loss: 2449.2423 - val_mean_absolute_error: 26.5947\n",
      "Epoch 26/500\n",
      " - 34s - loss: 2005.3808 - mean_absolute_error: 24.5788 - val_loss: 2448.2513 - val_mean_absolute_error: 26.2093\n",
      "Epoch 27/500\n",
      " - 38s - loss: 1964.3456 - mean_absolute_error: 24.4392 - val_loss: 2441.9217 - val_mean_absolute_error: 26.3749\n",
      "Epoch 28/500\n",
      " - 34s - loss: 1931.0623 - mean_absolute_error: 24.1185 - val_loss: 2442.5120 - val_mean_absolute_error: 26.1682\n",
      "Epoch 29/500\n",
      " - 40s - loss: 1906.3666 - mean_absolute_error: 23.9333 - val_loss: 2439.7630 - val_mean_absolute_error: 26.5090\n",
      "Epoch 30/500\n",
      " - 36s - loss: 1886.8772 - mean_absolute_error: 23.7614 - val_loss: 2452.2065 - val_mean_absolute_error: 26.6533\n",
      "Epoch 31/500\n",
      " - 30s - loss: 1846.9351 - mean_absolute_error: 23.6125 - val_loss: 2434.0566 - val_mean_absolute_error: 25.9670\n",
      "Epoch 32/500\n",
      " - 33s - loss: 1799.9694 - mean_absolute_error: 23.2701 - val_loss: 2434.8530 - val_mean_absolute_error: 25.8759\n",
      "Epoch 33/500\n",
      " - 36s - loss: 1791.7090 - mean_absolute_error: 23.2551 - val_loss: 2446.6735 - val_mean_absolute_error: 26.2620\n",
      "Epoch 34/500\n",
      " - 36s - loss: 1760.5470 - mean_absolute_error: 22.9409 - val_loss: 2447.3239 - val_mean_absolute_error: 25.9074\n",
      "Epoch 35/500\n",
      " - 38s - loss: 1724.2866 - mean_absolute_error: 22.7954 - val_loss: 2454.5115 - val_mean_absolute_error: 26.2287\n"
     ]
    }
   ],
   "source": [
    "#create nlp input\n",
    "nlp_input = Input(shape=(seq_length,), name='nlp_input')\n",
    "\n",
    "#create categorical and numerical input\n",
    "meta_input = Input(shape=(meta_length,), name='meta_input')\n",
    "\n",
    "#embedding for title with word vector size of 50 \n",
    "emb = Embedding(input_dim = 10000, output_dim=100, input_length=seq_length)(nlp_input)\n",
    "#LSTM network with 64 memory unit\n",
    "nlp_out = LSTM(64, dropout=0.3, recurrent_dropout=0.3)(emb)\n",
    "\n",
    "\n",
    "#meta input and layer1\n",
    "meta_layer1 = Dense(256, input_shape = (meta_length,))(meta_input)\n",
    "meta_layer1 = Activation('relu')(meta_layer1)\n",
    "\n",
    "#layer2\n",
    "meta_layer2 = Dense(128)(meta_layer1)\n",
    "meta_layer2 = Dropout(0.3)(meta_layer2)\n",
    "meta_layer2 = Activation('relu')(meta_layer2)\n",
    "\n",
    "#layer3\n",
    "meta_layer3 = Dense(64, kernel_regularizer=regularizers.l2(0.02))(meta_layer2)\n",
    "meta_layer3 = BatchNormalization()(meta_layer3)\n",
    "meta_out = Activation('relu')(meta_layer3)\n",
    "\n",
    "\n",
    "#merge layers\n",
    "merged_X = Concatenate(axis = 1)([nlp_out, meta_out])\n",
    "\n",
    "#fully connected layers\n",
    "FC1 = Dense(64, activation='relu')(merged_X)\n",
    "FC2 = Dense(64, activation='relu')(FC1)\n",
    "FC3 = Dense(1, activation='linear')(FC2)\n",
    "model = Model(inputs=[nlp_input, meta_input], outputs=[FC3])\n",
    "\n",
    "#use binary cross entropy because we have a binary classification with Adam optimizer at learning rate of 0.00003\n",
    "model.compile(optimizer =  Adam(lr=0.00004), loss = 'mean_squared_error', metrics = ['mae'])\n",
    "callbacks = [EarlyStopping(monitor='val_loss', patience=4)]\n",
    "                         \n",
    "hist = model.fit([X_name_train, X_train], y_train, \n",
    "               validation_split = 0.2, batch_size = 128, epochs = 500, verbose = 2, callbacks=callbacks)"
   ]
  },
  {
   "cell_type": "code",
   "execution_count": 42,
   "metadata": {},
   "outputs": [
    {
     "name": "stdout",
     "output_type": "stream",
     "text": [
      "__________________________________________________________________________________________________\n",
      "Layer (type)                    Output Shape         Param #     Connected to                     \n",
      "==================================================================================================\n",
      "meta_input (InputLayer)         (None, 70)           0                                            \n",
      "__________________________________________________________________________________________________\n",
      "dense_1 (Dense)                 (None, 256)          18176       meta_input[0][0]                 \n",
      "__________________________________________________________________________________________________\n",
      "activation_1 (Activation)       (None, 256)          0           dense_1[0][0]                    \n",
      "__________________________________________________________________________________________________\n",
      "dense_2 (Dense)                 (None, 128)          32896       activation_1[0][0]               \n",
      "__________________________________________________________________________________________________\n",
      "dropout_1 (Dropout)             (None, 128)          0           dense_2[0][0]                    \n",
      "__________________________________________________________________________________________________\n",
      "activation_2 (Activation)       (None, 128)          0           dropout_1[0][0]                  \n",
      "__________________________________________________________________________________________________\n",
      "nlp_input (InputLayer)          (None, 40)           0                                            \n",
      "__________________________________________________________________________________________________\n",
      "dense_3 (Dense)                 (None, 64)           8256        activation_2[0][0]               \n",
      "__________________________________________________________________________________________________\n",
      "embedding_1 (Embedding)         (None, 40, 100)      1000000     nlp_input[0][0]                  \n",
      "__________________________________________________________________________________________________\n",
      "batch_normalization_1 (BatchNor (None, 64)           256         dense_3[0][0]                    \n",
      "__________________________________________________________________________________________________\n",
      "lstm_1 (LSTM)                   (None, 64)           42240       embedding_1[0][0]                \n",
      "__________________________________________________________________________________________________\n",
      "activation_3 (Activation)       (None, 64)           0           batch_normalization_1[0][0]      \n",
      "__________________________________________________________________________________________________\n",
      "concatenate_1 (Concatenate)     (None, 128)          0           lstm_1[0][0]                     \n",
      "                                                                 activation_3[0][0]               \n",
      "__________________________________________________________________________________________________\n",
      "dense_4 (Dense)                 (None, 64)           8256        concatenate_1[0][0]              \n",
      "__________________________________________________________________________________________________\n",
      "dense_5 (Dense)                 (None, 64)           4160        dense_4[0][0]                    \n",
      "__________________________________________________________________________________________________\n",
      "dense_6 (Dense)                 (None, 1)            65          dense_5[0][0]                    \n",
      "==================================================================================================\n",
      "Total params: 1,114,305\n",
      "Trainable params: 1,114,177\n",
      "Non-trainable params: 128\n",
      "__________________________________________________________________________________________________\n"
     ]
    }
   ],
   "source": [
    "model.summary()"
   ]
  },
  {
   "cell_type": "code",
   "execution_count": 43,
   "metadata": {},
   "outputs": [
    {
     "data": {
      "text/plain": [
       "<matplotlib.legend.Legend at 0x283ddfae108>"
      ]
     },
     "execution_count": 43,
     "metadata": {},
     "output_type": "execute_result"
    },
    {
     "data": {
      "image/png": "[encoded data removed]",
      "text/plain": [
       "<Figure size 432x288 with 1 Axes>"
      ]
     },
     "metadata": {
      "needs_background": "light"
     },
     "output_type": "display_data"
    }
   ],
   "source": [
    "plt.plot(hist.history['loss'])\n",
    "plt.plot(hist.history['val_loss'])\n",
    "plt.ylabel('Loss')\n",
    "plt.xlabel('Epoch')\n",
    "plt.title('Model Loss')\n",
    "plt.legend(['Train', 'Validation'])"
   ]
  },
  {
   "cell_type": "code",
   "execution_count": 44,
   "metadata": {
    "scrolled": true
   },
   "outputs": [
    {
     "name": "stdout",
     "output_type": "stream",
     "text": [
      "Training set r2: 0.54\n",
      "Testing set r2: 0.34\n"
     ]
    }
   ],
   "source": [
    "#model the test set\n",
    "y_pred_train = model.predict([X_name_train, X_train])\n",
    "y_pred = model.predict([X_name_test, X_test])\n",
    "\n",
    "\n",
    "train_r2 = round(r2_score(y_train, y_pred_train), 2)\n",
    "test_r2 = round(r2_score(y_test, y_pred), 2)\n",
    "\n",
    "print(\"Training set r2:\", train_r2)\n",
    "print(\"Testing set r2:\", test_r2)"
   ]
  },
  {
   "cell_type": "code",
   "execution_count": 45,
   "metadata": {},
   "outputs": [
    {
     "name": "stdout",
     "output_type": "stream",
     "text": [
      "Mean square error: 2336.22\n"
     ]
    }
   ],
   "source": [
    "mse = round(mean_squared_error(y_test, y_pred), 2)\n",
    "print('Mean square error:', mse)"
   ]
  },
  {
   "cell_type": "code",
   "execution_count": 46,
   "metadata": {},
   "outputs": [
    {
     "name": "stdout",
     "output_type": "stream",
     "text": [
      "Max error: 483.85\n"
     ]
    }
   ],
   "source": [
    "me = round(max_error(y_test, y_pred), 2)\n",
    "\n",
    "print('Max error:', me)"
   ]
  },
  {
   "cell_type": "code",
   "execution_count": 47,
   "metadata": {
    "scrolled": true
   },
   "outputs": [
    {
     "name": "stdout",
     "output_type": "stream",
     "text": [
      "Mean absolute error: 26.11\n"
     ]
    }
   ],
   "source": [
    "mae = round(mean_absolute_error(y_test, y_pred), 2)\n",
    "\n",
    "print('Mean absolute error:', mae)"
   ]
  },
  {
   "cell_type": "code",
   "execution_count": null,
   "metadata": {},
   "outputs": [],
   "source": []
  }
 ],
 "metadata": {
  "kernelspec": {
   "display_name": "Python 3",
   "language": "python",
   "name": "python3"
  },
  "language_info": {
   "codemirror_mode": {
    "name": "ipython",
    "version": 3
   },
   "file_extension": ".py",
   "mimetype": "text/x-python",
   "name": "python",
   "nbconvert_exporter": "python",
   "pygments_lexer": "ipython3",
   "version": "3.7.5"
  }
 },
 "nbformat": 4,
 "nbformat_minor": 2
}
