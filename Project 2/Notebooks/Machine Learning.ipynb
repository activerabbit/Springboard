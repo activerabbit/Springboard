{
 "cells": [
  {
   "cell_type": "markdown",
   "metadata": {},
   "source": [
    "# Table of Contents   \n",
    "\n",
    "Machine Learning <br>\n",
    "&nbsp;&nbsp;&nbsp;&nbsp;&nbsp;&nbsp; a. [Preprocessing](#preprocess)<br>\n",
    "&nbsp;&nbsp;&nbsp;&nbsp;&nbsp;&nbsp; b. [Ridge Model with CountVectorizer](#count)<br>\n",
    "&nbsp;&nbsp;&nbsp;&nbsp;&nbsp;&nbsp; c. [Ridge Model with TfidVectorizer](#tfid)<br>\n",
    "&nbsp;&nbsp;&nbsp;&nbsp;&nbsp;&nbsp; d. [Random Forest](#forest)<br>\n",
    "&nbsp;&nbsp;&nbsp;&nbsp;&nbsp;&nbsp; e. [XG Boosting](#boost)<br>\n",
    "&nbsp;&nbsp;&nbsp;&nbsp;&nbsp;&nbsp; f. [Deep Learning](#learn)<br>"
   ]
  },
  {
   "cell_type": "code",
   "execution_count": 1,
   "metadata": {},
   "outputs": [
    {
     "name": "stderr",
     "output_type": "stream",
     "text": [
      "Using TensorFlow backend.\n",
      "C:\\Users\\sadmin\\Anaconda3\\lib\\site-packages\\tensorflow\\python\\framework\\dtypes.py:516: FutureWarning: Passing (type, 1) or '1type' as a synonym of type is deprecated; in a future version of numpy, it will be understood as (type, (1,)) / '(1,)type'.\n",
      "  _np_qint8 = np.dtype([(\"qint8\", np.int8, 1)])\n",
      "C:\\Users\\sadmin\\Anaconda3\\lib\\site-packages\\tensorflow\\python\\framework\\dtypes.py:517: FutureWarning: Passing (type, 1) or '1type' as a synonym of type is deprecated; in a future version of numpy, it will be understood as (type, (1,)) / '(1,)type'.\n",
      "  _np_quint8 = np.dtype([(\"quint8\", np.uint8, 1)])\n",
      "C:\\Users\\sadmin\\Anaconda3\\lib\\site-packages\\tensorflow\\python\\framework\\dtypes.py:518: FutureWarning: Passing (type, 1) or '1type' as a synonym of type is deprecated; in a future version of numpy, it will be understood as (type, (1,)) / '(1,)type'.\n",
      "  _np_qint16 = np.dtype([(\"qint16\", np.int16, 1)])\n",
      "C:\\Users\\sadmin\\Anaconda3\\lib\\site-packages\\tensorflow\\python\\framework\\dtypes.py:519: FutureWarning: Passing (type, 1) or '1type' as a synonym of type is deprecated; in a future version of numpy, it will be understood as (type, (1,)) / '(1,)type'.\n",
      "  _np_quint16 = np.dtype([(\"quint16\", np.uint16, 1)])\n",
      "C:\\Users\\sadmin\\Anaconda3\\lib\\site-packages\\tensorflow\\python\\framework\\dtypes.py:520: FutureWarning: Passing (type, 1) or '1type' as a synonym of type is deprecated; in a future version of numpy, it will be understood as (type, (1,)) / '(1,)type'.\n",
      "  _np_qint32 = np.dtype([(\"qint32\", np.int32, 1)])\n",
      "C:\\Users\\sadmin\\Anaconda3\\lib\\site-packages\\tensorflow\\python\\framework\\dtypes.py:525: FutureWarning: Passing (type, 1) or '1type' as a synonym of type is deprecated; in a future version of numpy, it will be understood as (type, (1,)) / '(1,)type'.\n",
      "  np_resource = np.dtype([(\"resource\", np.ubyte, 1)])\n",
      "C:\\Users\\sadmin\\Anaconda3\\lib\\site-packages\\tensorboard\\compat\\tensorflow_stub\\dtypes.py:541: FutureWarning: Passing (type, 1) or '1type' as a synonym of type is deprecated; in a future version of numpy, it will be understood as (type, (1,)) / '(1,)type'.\n",
      "  _np_qint8 = np.dtype([(\"qint8\", np.int8, 1)])\n",
      "C:\\Users\\sadmin\\Anaconda3\\lib\\site-packages\\tensorboard\\compat\\tensorflow_stub\\dtypes.py:542: FutureWarning: Passing (type, 1) or '1type' as a synonym of type is deprecated; in a future version of numpy, it will be understood as (type, (1,)) / '(1,)type'.\n",
      "  _np_quint8 = np.dtype([(\"quint8\", np.uint8, 1)])\n",
      "C:\\Users\\sadmin\\Anaconda3\\lib\\site-packages\\tensorboard\\compat\\tensorflow_stub\\dtypes.py:543: FutureWarning: Passing (type, 1) or '1type' as a synonym of type is deprecated; in a future version of numpy, it will be understood as (type, (1,)) / '(1,)type'.\n",
      "  _np_qint16 = np.dtype([(\"qint16\", np.int16, 1)])\n",
      "C:\\Users\\sadmin\\Anaconda3\\lib\\site-packages\\tensorboard\\compat\\tensorflow_stub\\dtypes.py:544: FutureWarning: Passing (type, 1) or '1type' as a synonym of type is deprecated; in a future version of numpy, it will be understood as (type, (1,)) / '(1,)type'.\n",
      "  _np_quint16 = np.dtype([(\"quint16\", np.uint16, 1)])\n",
      "C:\\Users\\sadmin\\Anaconda3\\lib\\site-packages\\tensorboard\\compat\\tensorflow_stub\\dtypes.py:545: FutureWarning: Passing (type, 1) or '1type' as a synonym of type is deprecated; in a future version of numpy, it will be understood as (type, (1,)) / '(1,)type'.\n",
      "  _np_qint32 = np.dtype([(\"qint32\", np.int32, 1)])\n",
      "C:\\Users\\sadmin\\Anaconda3\\lib\\site-packages\\tensorboard\\compat\\tensorflow_stub\\dtypes.py:550: FutureWarning: Passing (type, 1) or '1type' as a synonym of type is deprecated; in a future version of numpy, it will be understood as (type, (1,)) / '(1,)type'.\n",
      "  np_resource = np.dtype([(\"resource\", np.ubyte, 1)])\n"
     ]
    }
   ],
   "source": [
    "from collections import Counter\n",
    "import pandas as pd\n",
    "from nltk.tokenize import word_tokenize\n",
    "from nltk.corpus import stopwords\n",
    "from nltk.stem.wordnet import WordNetLemmatizer\n",
    "from nltk.util import ngrams\n",
    "import matplotlib.pyplot as plt\n",
    "import seaborn as sns\n",
    "import numpy as np\n",
    "from scipy import stats\n",
    "from ast import literal_eval\n",
    "from sklearn.pipeline import Pipeline\n",
    "from sklearn.compose import ColumnTransformer\n",
    "from sklearn.preprocessing import StandardScaler, OneHotEncoder\n",
    "from sklearn.feature_selection import VarianceThreshold\n",
    "from sklearn.feature_extraction.text import TfidfVectorizer, CountVectorizer\n",
    "from sklearn.model_selection import RandomizedSearchCV, train_test_split\n",
    "from sklearn.linear_model import Ridge, LinearRegression\n",
    "from sklearn.ensemble import RandomForestRegressor\n",
    "from sklearn.metrics import mean_absolute_error, max_error, mean_squared_error, r2_score\n",
    "from xgboost import XGBRegressor\n",
    "from keras.preprocessing.text import Tokenizer\n",
    "from keras.layers import Input, Dense, Dropout, Embedding, LSTM, Bidirectional, BatchNormalization, Activation, Concatenate\n",
    "from keras import regularizers\n",
    "from keras.preprocessing.sequence import pad_sequences\n",
    "from keras.callbacks import EarlyStopping\n",
    "from keras import Model\n",
    "from keras.optimizers import Adam\n",
    "import shap"
   ]
  },
  {
   "cell_type": "markdown",
   "metadata": {},
   "source": [
    "## 3. Machine Learning"
   ]
  },
  {
   "cell_type": "markdown",
   "metadata": {},
   "source": [
    "### a. Preprocessing\n",
    "<a id='preprocess'></a>"
   ]
  },
  {
   "cell_type": "code",
   "execution_count": 2,
   "metadata": {},
   "outputs": [],
   "source": [
    "#load processed data\n",
    "df = pd.read_csv('../Data/Processed/After_EDA_listings.csv', converters = {\n",
    "    'name': literal_eval, 'description': literal_eval, \n",
    "    'bigram_name': literal_eval, 'bigram_description': literal_eval})"
   ]
  },
  {
   "cell_type": "code",
   "execution_count": 3,
   "metadata": {},
   "outputs": [
    {
     "name": "stdout",
     "output_type": "stream",
     "text": [
      "<class 'pandas.core.frame.DataFrame'>\n",
      "RangeIndex: 33466 entries, 0 to 33465\n",
      "Data columns (total 37 columns):\n",
      "Unnamed: 0                     33466 non-null int64\n",
      "Unnamed: 0.1                   33466 non-null int64\n",
      "name                           33466 non-null object\n",
      "description                    33466 non-null object\n",
      "transit                        33466 non-null bool\n",
      "host_response_time             33466 non-null object\n",
      "host_response_rate             33466 non-null float64\n",
      "host_is_superhost              33466 non-null object\n",
      "host_has_profile_pic           33466 non-null object\n",
      "host_identity_verified         33466 non-null object\n",
      "neighbourhood                  33466 non-null object\n",
      "property_type                  33466 non-null object\n",
      "room_type                      33466 non-null object\n",
      "accommodates                   33466 non-null int64\n",
      "bathrooms                      33466 non-null float64\n",
      "bedrooms                       33466 non-null float64\n",
      "beds                           33466 non-null float64\n",
      "bed_type                       33466 non-null object\n",
      "amenities                      33466 non-null object\n",
      "price                          33466 non-null int64\n",
      "weekly_price                   33466 non-null bool\n",
      "security_deposit               33466 non-null bool\n",
      "cleaning_fee                   33466 non-null bool\n",
      "guests_included                33466 non-null int64\n",
      "extra_people                   33466 non-null int64\n",
      "number_of_reviews              33466 non-null int64\n",
      "review_scores_rating           33466 non-null float64\n",
      "review_scores_cleanliness      33466 non-null float64\n",
      "review_scores_communication    33466 non-null float64\n",
      "instant_bookable               33466 non-null object\n",
      "time_as_host                   33466 non-null float64\n",
      "bigram_name                    33466 non-null object\n",
      "bigram_description             33466 non-null object\n",
      "review_count                   33466 non-null object\n",
      "bedrooms_round                 33466 non-null int64\n",
      "bathrooms_round                33466 non-null int64\n",
      "round_time                     33466 non-null float64\n",
      "dtypes: bool(4), float64(9), int64(9), object(15)\n",
      "memory usage: 8.6+ MB\n"
     ]
    }
   ],
   "source": [
    "df.info()"
   ]
  },
  {
   "cell_type": "code",
   "execution_count": 4,
   "metadata": {},
   "outputs": [
    {
     "data": {
      "text/plain": [
       "'{TV,\"Cable TV\",Internet,Wifi,\"Air conditioning\",\"Wheelchair accessible\",Pool,Kitchen,\"Free parking on premises\",\"Pets allowed\",Gym,Elevator,\"Hot tub\",\"Indoor fireplace\",\"Buzzer/wireless intercom\",Heating,\"Family/kid friendly\",\"Suitable for events\",Washer,Dryer,\"Smoke detector\",\"Carbon monoxide detector\",\"First aid kit\",\"Safety card\",\"Fire extinguisher\",Essentials,Shampoo,\"24-hour check-in\",Hangers,\"Hair dryer\",Iron,\"Laptop friendly workspace\"}'"
      ]
     },
     "execution_count": 4,
     "metadata": {},
     "output_type": "execute_result"
    }
   ],
   "source": [
    "#show what amenities look like\n",
    "df.amenities[0]"
   ]
  },
  {
   "cell_type": "code",
   "execution_count": 5,
   "metadata": {},
   "outputs": [
    {
     "data": {
      "text/plain": [
       "0        None\n",
       "1        None\n",
       "2        None\n",
       "3        None\n",
       "4        None\n",
       "         ... \n",
       "33461    None\n",
       "33462    None\n",
       "33463    None\n",
       "33464    None\n",
       "33465    None\n",
       "Name: amenities, Length: 33466, dtype: object"
      ]
     },
     "execution_count": 5,
     "metadata": {},
     "output_type": "execute_result"
    }
   ],
   "source": [
    "df.amenities = df.amenities.replace(to_replace = '[\"\\d\\s\\-\\/{\\}]', value='', regex=True)\n",
    "\n",
    "#find all the items in the amenities and put it in a dummy dictionary\n",
    "amenities = {}\n",
    "def find_list(string):\n",
    "    first = 0\n",
    "    for index, character in enumerate(string):\n",
    "        if character == \",\":\n",
    "            if string[first:index] not in amenities:\n",
    "                amenities[string[first:index]] = []\n",
    "            first = index+1\n",
    "    if string[first:] not in amenities:\n",
    "            amenities[string[first:]] = []\n",
    "df.amenities.apply(lambda x: find_list(x))"
   ]
  },
  {
   "cell_type": "code",
   "execution_count": 6,
   "metadata": {},
   "outputs": [
    {
     "data": {
      "text/plain": [
       "0        None\n",
       "1        None\n",
       "2        None\n",
       "3        None\n",
       "4        None\n",
       "         ... \n",
       "33461    None\n",
       "33462    None\n",
       "33463    None\n",
       "33464    None\n",
       "33465    None\n",
       "Name: amenities, Length: 33466, dtype: object"
      ]
     },
     "execution_count": 6,
     "metadata": {},
     "output_type": "execute_result"
    }
   ],
   "source": [
    "count = 0\n",
    "\n",
    "#find the amenities for each row and add 1 to the dictionary list if the item is there\n",
    "#and 0 if item is not there\n",
    "def labeling(string):\n",
    "    global amenities\n",
    "    first = 0\n",
    "    for index, character in enumerate(string):\n",
    "        if character == \",\":\n",
    "            if string[first:index] in amenities:\n",
    "                amenities[string[first:index]].append(1)\n",
    "    global count\n",
    "    count+=1\n",
    "    for key, value in amenities.items():\n",
    "        if len(value) < count:\n",
    "            amenities[key].append(0)\n",
    "\n",
    "df.amenities.apply(lambda x: labeling(x))"
   ]
  },
  {
   "cell_type": "code",
   "execution_count": 7,
   "metadata": {},
   "outputs": [],
   "source": [
    "#create dataframe from amenities dictionary\n",
    "df2 = pd.DataFrame(amenities)\n",
    "\n",
    "#reset index\n",
    "df = df.reset_index()\n",
    "\n",
    "#concatenate dataframe\n",
    "df = pd.concat([df, df2], axis=1, sort=False)\n",
    "\n",
    "#get all keys in list form\n",
    "keys = list(amenities.keys())"
   ]
  },
  {
   "cell_type": "code",
   "execution_count": 8,
   "metadata": {},
   "outputs": [],
   "source": [
    "#combined the previously tokenized title and summary for sklearn bag of words and Tfidf\n",
    "#text has already been preprocessed previously by removing non-english campaign, lowercase, stopwords, stemming/lemmatizing\n",
    "df['name'] = df['name'].apply(lambda x: ' '.join(x))\n",
    "df['description'] = df['description'].apply(lambda x: ' '.join(x))\n",
    "\n",
    "#merge the title and summary to one text\n",
    "df['name_description'] = df['name'] + ' ' + df['description']"
   ]
  },
  {
   "cell_type": "code",
   "execution_count": 9,
   "metadata": {},
   "outputs": [
    {
     "data": {
      "text/plain": [
       "<matplotlib.axes._subplots.AxesSubplot at 0x224af04ad08>"
      ]
     },
     "execution_count": 9,
     "metadata": {},
     "output_type": "execute_result"
    },
    {
     "data": {
      "image/png": "[encoded data removed]",
      "text/plain": [
       "<Figure size 1080x936 with 2 Axes>"
      ]
     },
     "metadata": {
      "needs_background": "light"
     },
     "output_type": "display_data"
    }
   ],
   "source": [
    "get_numeric = ['accommodates', 'bathrooms', 'bedrooms', 'beds', 'price', \n",
    "               'guests_included', 'extra_people', 'review_scores_rating', \n",
    "               'review_scores_cleanliness', 'review_scores_communication', \n",
    "               'time_as_host', 'number_of_reviews']\n",
    "\n",
    "corr = df[get_numeric].corr(method = 'kendall')\n",
    "\n",
    "plt.figure(figsize = (15,13))\n",
    "sns.heatmap(corr, annot = True)"
   ]
  },
  {
   "cell_type": "markdown",
   "metadata": {},
   "source": [
    "The correlation heatmap shows some strong collinearity between features. We can transform the features using PCA to remove collinearity while preserving the effect on the target variable or we can drop features. In this case, because of the computational expense and limited memory, we will just remove features. However, after testing our model, it appears that dropping features ended up costing the performance of all the models and as a result, the features were maintained and not removed"
   ]
  },
  {
   "cell_type": "code",
   "execution_count": 10,
   "metadata": {},
   "outputs": [
    {
     "name": "stdout",
     "output_type": "stream",
     "text": [
      "Number of features: 262\n"
     ]
    }
   ],
   "source": [
    "#select features\n",
    "X = df[['name_description', 'transit', 'host_has_profile_pic',\n",
    "              'host_identity_verified', 'neighbourhood', 'property_type',\n",
    "              'room_type', 'accommodates', 'bathrooms', 'bedrooms', 'beds',\n",
    "              'bed_type', 'price', 'security_deposit', 'cleaning_fee',\n",
    "              'guests_included', 'extra_people', 'review_scores_rating', \n",
    "              'review_scores_cleanliness', 'review_scores_communication', \n",
    "              'instant_bookable', 'time_as_host', 'weekly_price', \n",
    "              'host_is_superhost', 'host_response_rate', 'host_response_time'] + keys]\n",
    "\n",
    "#select target\n",
    "y = df[['number_of_reviews']]\n",
    "\n",
    "#split data to train and test\n",
    "X_train, X_test, y_train, y_test = train_test_split(X, y, test_size = 0.2, random_state=10)\n",
    "\n",
    "print('Number of features: {}'.format(len(df.columns)))"
   ]
  },
  {
   "cell_type": "code",
   "execution_count": 11,
   "metadata": {},
   "outputs": [],
   "source": [
    "#numeric features\n",
    "get_numeric = ['accommodates', 'bathrooms', 'beds', 'bedrooms', 'price',\n",
    "               'guests_included', 'extra_people', 'review_scores_rating', \n",
    "               'review_scores_cleanliness', 'review_scores_communication', \n",
    "               'time_as_host', 'host_response_rate']\n",
    "\n",
    "#categorical features\n",
    "get_categorical = ['transit', 'host_has_profile_pic', 'host_identity_verified', \n",
    "                   'neighbourhood', 'property_type', 'room_type', 'bed_type', \n",
    "                   'security_deposit', 'cleaning_fee', 'instant_bookable',\n",
    "                   'weekly_price', 'host_is_superhost', 'host_response_time'] + keys\n",
    "\n",
    "#text feature\n",
    "get_text = 'name_description'\n",
    "\n",
    "#numeric pipeline\n",
    "num_pipe = Pipeline([('scale', StandardScaler())])\n",
    "\n",
    "#categorical pipeline1\n",
    "#first encode category columns using onehot encoding\n",
    "cat_pipe = Pipeline([('onehot', OneHotEncoder(sparse=False, handle_unknown = 'ignore')), \n",
    "                     #remove features with low variance set at 97% of the population\n",
    "                     ('varthres', VarianceThreshold(threshold = 0.97*(1-0.97)))])\n",
    "\n",
    "\n",
    "\n",
    "\n",
    "#text pipeline for CountVectorizer\n",
    "#countvectorization with maximum features of 10000 to reduce overfitting the model \n",
    "#and remove any vocabulary/phrases with less 20 counts \n",
    "text_pipe1 = Pipeline([('Count', CountVectorizer(max_features = 10000, min_df = 0.0015, ngram_range = (1,2)))])\n",
    "\n",
    "#text pipeline for Tfidf\n",
    "#TfidfVectorization with maximum features of 10000 to reduce overfitting the model \n",
    "#and remove any vocabulary/phrases with less 20 counts \n",
    "text_pipe2 = Pipeline([('Tfid', TfidfVectorizer(max_features = 10000, min_df = 0.0015, ngram_range = (1,2)))])\n",
    "\n",
    "#preprocesscor for Bag of words\n",
    "preprocessor1 = ColumnTransformer(\n",
    "    transformers=[\n",
    "        ('num', num_pipe, get_numeric),\n",
    "        ('cat', cat_pipe, get_categorical),\n",
    "        ('text1', text_pipe1, get_text)])\n",
    "\n",
    "#preprocessor for Tf-idf\n",
    "preprocessor2 = ColumnTransformer(\n",
    "    transformers=[\n",
    "        ('num', num_pipe, get_numeric),\n",
    "        ('cat', cat_pipe, get_categorical),\n",
    "        ('text2', text_pipe2, get_text)])"
   ]
  },
  {
   "cell_type": "markdown",
   "metadata": {},
   "source": [
    "### b. Ridge with CountVectorizer\n",
    "<a id='count'></a>"
   ]
  },
  {
   "cell_type": "code",
   "execution_count": 12,
   "metadata": {
    "scrolled": false
   },
   "outputs": [
    {
     "name": "stdout",
     "output_type": "stream",
     "text": [
      "Fitting 3 folds for each of 10 candidates, totalling 30 fits\n"
     ]
    },
    {
     "name": "stderr",
     "output_type": "stream",
     "text": [
      "[Parallel(n_jobs=4)]: Using backend LokyBackend with 4 concurrent workers.\n",
      "[Parallel(n_jobs=4)]: Done   1 tasks      | elapsed:   23.0s\n",
      "[Parallel(n_jobs=4)]: Done   2 tasks      | elapsed:   23.8s\n",
      "[Parallel(n_jobs=4)]: Done   3 tasks      | elapsed:   23.9s\n",
      "[Parallel(n_jobs=4)]: Done   4 tasks      | elapsed:   24.3s\n",
      "[Parallel(n_jobs=4)]: Done   5 tasks      | elapsed:   43.4s\n",
      "[Parallel(n_jobs=4)]: Done   6 tasks      | elapsed:   44.9s\n",
      "[Parallel(n_jobs=4)]: Done   7 tasks      | elapsed:   48.6s\n",
      "[Parallel(n_jobs=4)]: Done   8 tasks      | elapsed:   49.1s\n",
      "[Parallel(n_jobs=4)]: Done   9 tasks      | elapsed:  1.1min\n",
      "[Parallel(n_jobs=4)]: Done  10 tasks      | elapsed:  1.1min\n",
      "[Parallel(n_jobs=4)]: Done  11 tasks      | elapsed:  1.2min\n",
      "[Parallel(n_jobs=4)]: Done  12 tasks      | elapsed:  1.2min\n",
      "[Parallel(n_jobs=4)]: Done  13 tasks      | elapsed:  1.5min\n",
      "[Parallel(n_jobs=4)]: Done  14 tasks      | elapsed:  1.5min\n",
      "[Parallel(n_jobs=4)]: Done  15 tasks      | elapsed:  1.5min\n",
      "[Parallel(n_jobs=4)]: Done  16 tasks      | elapsed:  1.5min\n",
      "[Parallel(n_jobs=4)]: Done  17 tasks      | elapsed:  1.8min\n",
      "[Parallel(n_jobs=4)]: Done  18 tasks      | elapsed:  1.8min\n",
      "[Parallel(n_jobs=4)]: Done  19 tasks      | elapsed:  1.9min\n",
      "[Parallel(n_jobs=4)]: Done  20 tasks      | elapsed:  1.9min\n",
      "[Parallel(n_jobs=4)]: Done  21 tasks      | elapsed:  2.2min\n",
      "[Parallel(n_jobs=4)]: Done  22 tasks      | elapsed:  2.2min\n",
      "[Parallel(n_jobs=4)]: Done  23 tasks      | elapsed:  2.2min\n",
      "[Parallel(n_jobs=4)]: Done  26 out of  30 | elapsed:  2.5min remaining:   23.4s\n",
      "[Parallel(n_jobs=4)]: Done  30 out of  30 | elapsed:  2.9min finished\n"
     ]
    },
    {
     "data": {
      "text/plain": [
       "RandomizedSearchCV(cv=3, error_score=nan,\n",
       "                   estimator=Pipeline(memory=None,\n",
       "                                      steps=[('preprocessor',\n",
       "                                              ColumnTransformer(n_jobs=None,\n",
       "                                                                remainder='drop',\n",
       "                                                                sparse_threshold=0.3,\n",
       "                                                                transformer_weights=None,\n",
       "                                                                transformers=[('num',\n",
       "                                                                               Pipeline(memory=None,\n",
       "                                                                                        steps=[('scale',\n",
       "                                                                                                StandardScaler(copy=True,\n",
       "                                                                                                               with_mean=True,\n",
       "                                                                                                               with_std=True))],\n",
       "                                                                                        verbose=False),\n",
       "                                                                               ['accommodates',\n",
       "                                                                                'bathrooms',\n",
       "                                                                                'beds...\n",
       "       4.09491506e+01, 4.94171336e+01, 5.96362332e+01, 7.19685673e+01,\n",
       "       8.68511374e+01, 1.04811313e+02, 1.26485522e+02, 1.52641797e+02,\n",
       "       1.84206997e+02, 2.22299648e+02, 2.68269580e+02, 3.23745754e+02,\n",
       "       3.90693994e+02, 4.71486636e+02, 5.68986603e+02, 6.86648845e+02,\n",
       "       8.28642773e+02, 1.00000000e+03])},\n",
       "                   pre_dispatch='2*n_jobs', random_state=12, refit=True,\n",
       "                   return_train_score=False, scoring='r2', verbose=15)"
      ]
     },
     "execution_count": 12,
     "metadata": {},
     "output_type": "execute_result"
    }
   ],
   "source": [
    "#create Bag of words pipeline with logistic regression\n",
    "pipe1 = Pipeline(steps=[('preprocessor', preprocessor1),\n",
    "                      ('regressor', Ridge())])\n",
    "\n",
    "#Randomized cross validation with fine tuning alpha\n",
    "param_grid = {'regressor__alpha': np.logspace(-1,3, num = 50)}\n",
    "\n",
    "clf1 = RandomizedSearchCV(pipe1, param_grid, cv = 3, verbose = 15, n_iter = 10, \n",
    "                           scoring = 'r2', n_jobs = 4, random_state = 12)\n",
    "\n",
    "clf1.fit(X_train, y_train)"
   ]
  },
  {
   "cell_type": "code",
   "execution_count": 13,
   "metadata": {},
   "outputs": [
    {
     "name": "stdout",
     "output_type": "stream",
     "text": [
      "{'regressor__alpha': 568.9866029018293}\n"
     ]
    }
   ],
   "source": [
    "#model the test set\n",
    "print(clf1.best_params_)"
   ]
  },
  {
   "cell_type": "code",
   "execution_count": 14,
   "metadata": {
    "scrolled": true
   },
   "outputs": [
    {
     "name": "stdout",
     "output_type": "stream",
     "text": [
      "Training set r2: 0.41\n",
      "Testing set r2: 0.32\n"
     ]
    }
   ],
   "source": [
    "#model the test set\n",
    "y_pred = clf1.predict(X_test)\n",
    "\n",
    "train_r2 = round(clf1.score(X_train, y_train), 2)\n",
    "test_r2 = round(r2_score(y_test, y_pred), 2)\n",
    "\n",
    "print(\"Training set r2:\", train_r2)\n",
    "print(\"Testing set r2:\", test_r2)"
   ]
  },
  {
   "cell_type": "code",
   "execution_count": 15,
   "metadata": {},
   "outputs": [
    {
     "name": "stdout",
     "output_type": "stream",
     "text": [
      "Mean square error: 2541.68\n",
      "Max error: 777.17\n",
      "Mean absolute error: 31.42\n"
     ]
    }
   ],
   "source": [
    "mse = round(mean_squared_error(y_test, y_pred), 2)\n",
    "print('Mean square error:', mse)\n",
    "\n",
    "me = round(max_error(y_test, y_pred), 2)\n",
    "print('Max error:', me)\n",
    "\n",
    "mae = round(mean_absolute_error(y_test, y_pred), 2)\n",
    "print('Mean absolute error:', mae)"
   ]
  },
  {
   "cell_type": "code",
   "execution_count": 16,
   "metadata": {},
   "outputs": [
    {
     "data": {
      "text/plain": [
       "array([[ 70.40107429],\n",
       "       [ 19.63992243],\n",
       "       [ 11.86245884],\n",
       "       [ 54.48486863],\n",
       "       [ -3.17349722],\n",
       "       [111.94884716],\n",
       "       [ 94.83829028],\n",
       "       [ 98.47895474],\n",
       "       [ 41.57601679],\n",
       "       [ 19.69729657]])"
      ]
     },
     "execution_count": 16,
     "metadata": {},
     "output_type": "execute_result"
    }
   ],
   "source": [
    "y_pred[:10]"
   ]
  },
  {
   "cell_type": "markdown",
   "metadata": {},
   "source": [
    "We have values less than zero, which does not make sense. We can modified the y_pred to better match reality by setting it to zero"
   ]
  },
  {
   "cell_type": "code",
   "execution_count": 17,
   "metadata": {},
   "outputs": [],
   "source": [
    "#set everything less than 0 to 0\n",
    "def zero_baseline(prediction):\n",
    "    for ind, predict in enumerate(prediction):\n",
    "        if predict<0:\n",
    "            prediction[ind] = 0\n",
    "    return prediction\n",
    "y_pred = zero_baseline(y_pred)"
   ]
  },
  {
   "cell_type": "code",
   "execution_count": 18,
   "metadata": {
    "scrolled": true
   },
   "outputs": [
    {
     "data": {
      "text/plain": [
       "array([[ 70.40107429],\n",
       "       [ 19.63992243],\n",
       "       [ 11.86245884],\n",
       "       [ 54.48486863],\n",
       "       [  0.        ],\n",
       "       [111.94884716],\n",
       "       [ 94.83829028],\n",
       "       [ 98.47895474],\n",
       "       [ 41.57601679],\n",
       "       [ 19.69729657]])"
      ]
     },
     "execution_count": 18,
     "metadata": {},
     "output_type": "execute_result"
    }
   ],
   "source": [
    "y_pred[:10]"
   ]
  },
  {
   "cell_type": "markdown",
   "metadata": {},
   "source": [
    "All the negative reviews have become zero"
   ]
  },
  {
   "cell_type": "code",
   "execution_count": 19,
   "metadata": {},
   "outputs": [
    {
     "name": "stdout",
     "output_type": "stream",
     "text": [
      "Testing set r2 after setting baseline: 0.33\n",
      "Mean square error after setting baseline: 2494.71\n",
      "Max error after setting baseline: 777.17\n",
      "Mean absolute error after setting baseline: 29.53\n"
     ]
    }
   ],
   "source": [
    "y_pred = zero_baseline(y_pred)\n",
    "\n",
    "test_r2 = round(r2_score(y_test, y_pred), 2)\n",
    "print(\"Testing set r2 after setting baseline:\", test_r2)\n",
    "\n",
    "mse = round(mean_squared_error(y_test, y_pred), 2)\n",
    "print('Mean square error after setting baseline:', mse)\n",
    "\n",
    "me = round(max_error(y_test, y_pred), 2)\n",
    "print('Max error after setting baseline:', me)\n",
    "\n",
    "mae = round(mean_absolute_error(y_test, y_pred), 2)\n",
    "print('Mean absolute error after setting baseline:', mae)"
   ]
  },
  {
   "cell_type": "markdown",
   "metadata": {},
   "source": [
    "All metrics have a moderate improvement"
   ]
  },
  {
   "cell_type": "markdown",
   "metadata": {},
   "source": [
    "### c. Ridge with TfidVectorizer\n",
    "<a id='tfid'></a>"
   ]
  },
  {
   "cell_type": "code",
   "execution_count": 20,
   "metadata": {
    "scrolled": false
   },
   "outputs": [
    {
     "name": "stdout",
     "output_type": "stream",
     "text": [
      "Fitting 3 folds for each of 10 candidates, totalling 30 fits\n"
     ]
    },
    {
     "name": "stderr",
     "output_type": "stream",
     "text": [
      "[Parallel(n_jobs=4)]: Using backend LokyBackend with 4 concurrent workers.\n",
      "[Parallel(n_jobs=4)]: Done   1 tasks      | elapsed:   20.0s\n",
      "[Parallel(n_jobs=4)]: Done   2 tasks      | elapsed:   20.1s\n",
      "[Parallel(n_jobs=4)]: Done   3 tasks      | elapsed:   20.1s\n",
      "[Parallel(n_jobs=4)]: Done   4 tasks      | elapsed:   20.4s\n",
      "[Parallel(n_jobs=4)]: Done   5 tasks      | elapsed:   38.9s\n",
      "[Parallel(n_jobs=4)]: Done   6 tasks      | elapsed:   39.1s\n",
      "[Parallel(n_jobs=4)]: Done   7 tasks      | elapsed:   40.6s\n",
      "[Parallel(n_jobs=4)]: Done   8 tasks      | elapsed:   40.7s\n",
      "[Parallel(n_jobs=4)]: Done   9 tasks      | elapsed:   55.4s\n",
      "[Parallel(n_jobs=4)]: Done  10 tasks      | elapsed:   56.6s\n",
      "[Parallel(n_jobs=4)]: Done  11 tasks      | elapsed:   57.4s\n",
      "[Parallel(n_jobs=4)]: Done  12 tasks      | elapsed:   57.4s\n",
      "[Parallel(n_jobs=4)]: Done  13 tasks      | elapsed:  1.2min\n",
      "[Parallel(n_jobs=4)]: Done  14 tasks      | elapsed:  1.2min\n",
      "[Parallel(n_jobs=4)]: Done  15 tasks      | elapsed:  1.2min\n",
      "[Parallel(n_jobs=4)]: Done  16 tasks      | elapsed:  1.2min\n",
      "[Parallel(n_jobs=4)]: Done  17 tasks      | elapsed:  1.5min\n",
      "[Parallel(n_jobs=4)]: Done  18 tasks      | elapsed:  1.5min\n",
      "[Parallel(n_jobs=4)]: Done  19 tasks      | elapsed:  1.5min\n",
      "[Parallel(n_jobs=4)]: Done  20 tasks      | elapsed:  1.5min\n",
      "[Parallel(n_jobs=4)]: Done  21 tasks      | elapsed:  1.7min\n",
      "[Parallel(n_jobs=4)]: Done  22 tasks      | elapsed:  1.8min\n",
      "[Parallel(n_jobs=4)]: Done  23 tasks      | elapsed:  1.8min\n",
      "[Parallel(n_jobs=4)]: Done  26 out of  30 | elapsed:  2.1min remaining:   18.9s\n",
      "[Parallel(n_jobs=4)]: Done  30 out of  30 | elapsed:  2.3min finished\n"
     ]
    },
    {
     "data": {
      "text/plain": [
       "RandomizedSearchCV(cv=3, error_score=nan,\n",
       "                   estimator=Pipeline(memory=None,\n",
       "                                      steps=[('preprocessor',\n",
       "                                              ColumnTransformer(n_jobs=None,\n",
       "                                                                remainder='drop',\n",
       "                                                                sparse_threshold=0.3,\n",
       "                                                                transformer_weights=None,\n",
       "                                                                transformers=[('num',\n",
       "                                                                               Pipeline(memory=None,\n",
       "                                                                                        steps=[('scale',\n",
       "                                                                                                StandardScaler(copy=True,\n",
       "                                                                                                               with_mean=True,\n",
       "                                                                                                               with_std=True))],\n",
       "                                                                                        verbose=False),\n",
       "                                                                               ['accommodates',\n",
       "                                                                                'bathrooms',\n",
       "                                                                                'beds...\n",
       "       4.09491506e+01, 4.94171336e+01, 5.96362332e+01, 7.19685673e+01,\n",
       "       8.68511374e+01, 1.04811313e+02, 1.26485522e+02, 1.52641797e+02,\n",
       "       1.84206997e+02, 2.22299648e+02, 2.68269580e+02, 3.23745754e+02,\n",
       "       3.90693994e+02, 4.71486636e+02, 5.68986603e+02, 6.86648845e+02,\n",
       "       8.28642773e+02, 1.00000000e+03])},\n",
       "                   pre_dispatch='2*n_jobs', random_state=12, refit=True,\n",
       "                   return_train_score=False, scoring='r2', verbose=15)"
      ]
     },
     "execution_count": 20,
     "metadata": {},
     "output_type": "execute_result"
    }
   ],
   "source": [
    "pipe2 = Pipeline(steps=[('preprocessor', preprocessor2),\n",
    "                      ('regressor', Ridge())])\n",
    "\n",
    "clf2 = RandomizedSearchCV(pipe2, param_grid, cv = 3, n_iter = 10, n_jobs = 4,\n",
    "                         scoring = 'r2', random_state = 12, verbose = 15)\n",
    "clf2.fit(X_train, y_train)"
   ]
  },
  {
   "cell_type": "code",
   "execution_count": 21,
   "metadata": {},
   "outputs": [
    {
     "name": "stdout",
     "output_type": "stream",
     "text": [
      "{'regressor__alpha': 5.17947467923121}\n"
     ]
    }
   ],
   "source": [
    "print(clf2.best_params_)"
   ]
  },
  {
   "cell_type": "code",
   "execution_count": 22,
   "metadata": {
    "scrolled": true
   },
   "outputs": [
    {
     "name": "stdout",
     "output_type": "stream",
     "text": [
      "Training set r2: 0.43\n",
      "Testing set r2: 0.32\n"
     ]
    }
   ],
   "source": [
    "#model the test set\n",
    "y_pred = clf2.predict(X_test)\n",
    "\n",
    "train_r2 = round(clf2.score(X_train, y_train), 2)\n",
    "test_r2 = round(r2_score(y_test, y_pred), 2)\n",
    "\n",
    "print(\"Training set r2:\", train_r2)\n",
    "print(\"Testing set r2:\", test_r2)"
   ]
  },
  {
   "cell_type": "code",
   "execution_count": 23,
   "metadata": {},
   "outputs": [
    {
     "name": "stdout",
     "output_type": "stream",
     "text": [
      "Testing set r2 after setting baseline: 0.34\n",
      "Mean square error after setting baseline: 2479.73\n",
      "Max error after setting baseline: 779.7\n",
      "Mean absolute error after setting baseline: 29.39\n"
     ]
    }
   ],
   "source": [
    "y_pred = zero_baseline(y_pred)\n",
    "\n",
    "test_r2 = round(r2_score(y_test, y_pred), 2)\n",
    "print(\"Testing set r2 after setting baseline:\", test_r2)\n",
    "\n",
    "mse = round(mean_squared_error(y_test, y_pred), 2)\n",
    "print('Mean square error after setting baseline:', mse)\n",
    "\n",
    "me = round(max_error(y_test, y_pred), 2)\n",
    "print('Max error after setting baseline:', me)\n",
    "\n",
    "mae = round(mean_absolute_error(y_test, y_pred), 2)\n",
    "print('Mean absolute error after setting baseline:', mae)"
   ]
  },
  {
   "cell_type": "markdown",
   "metadata": {},
   "source": [
    "### d. Random Forest\n",
    "<a id='forest'></a>"
   ]
  },
  {
   "cell_type": "code",
   "execution_count": 24,
   "metadata": {},
   "outputs": [
    {
     "name": "stdout",
     "output_type": "stream",
     "text": [
      "Fitting 3 folds for each of 10 candidates, totalling 30 fits\n"
     ]
    },
    {
     "name": "stderr",
     "output_type": "stream",
     "text": [
      "[Parallel(n_jobs=4)]: Using backend LokyBackend with 4 concurrent workers.\n",
      "[Parallel(n_jobs=4)]: Done   1 tasks      | elapsed:  5.1min\n",
      "[Parallel(n_jobs=4)]: Done   2 tasks      | elapsed:  5.1min\n",
      "[Parallel(n_jobs=4)]: Done   3 tasks      | elapsed:  5.1min\n",
      "[Parallel(n_jobs=4)]: Done   4 tasks      | elapsed:  8.6min\n",
      "[Parallel(n_jobs=4)]: Done   5 tasks      | elapsed: 15.3min\n",
      "[Parallel(n_jobs=4)]: Done   6 tasks      | elapsed: 15.5min\n",
      "[Parallel(n_jobs=4)]: Done   7 tasks      | elapsed: 19.9min\n",
      "[Parallel(n_jobs=4)]: Done   8 tasks      | elapsed: 24.4min\n",
      "[Parallel(n_jobs=4)]: Done   9 tasks      | elapsed: 28.6min\n",
      "[Parallel(n_jobs=4)]: Done  10 tasks      | elapsed: 31.6min\n",
      "[Parallel(n_jobs=4)]: Done  11 tasks      | elapsed: 32.1min\n",
      "[Parallel(n_jobs=4)]: Done  12 tasks      | elapsed: 37.4min\n",
      "[Parallel(n_jobs=4)]: Done  13 tasks      | elapsed: 37.4min\n",
      "[Parallel(n_jobs=4)]: Done  14 tasks      | elapsed: 40.2min\n",
      "[Parallel(n_jobs=4)]: Done  15 tasks      | elapsed: 40.9min\n",
      "[Parallel(n_jobs=4)]: Done  16 tasks      | elapsed: 44.3min\n",
      "[Parallel(n_jobs=4)]: Done  17 tasks      | elapsed: 44.3min\n",
      "[Parallel(n_jobs=4)]: Done  18 tasks      | elapsed: 47.4min\n",
      "[Parallel(n_jobs=4)]: Done  19 tasks      | elapsed: 56.6min\n",
      "[Parallel(n_jobs=4)]: Done  20 tasks      | elapsed: 57.4min\n",
      "[Parallel(n_jobs=4)]: Done  21 tasks      | elapsed: 59.3min\n",
      "[Parallel(n_jobs=4)]: Done  22 tasks      | elapsed: 59.4min\n",
      "[Parallel(n_jobs=4)]: Done  23 tasks      | elapsed: 65.2min\n",
      "[Parallel(n_jobs=4)]: Done  26 out of  30 | elapsed: 73.3min remaining: 11.3min\n",
      "[Parallel(n_jobs=4)]: Done  30 out of  30 | elapsed: 82.8min finished\n",
      "A column-vector y was passed when a 1d array was expected. Please change the shape of y to (n_samples,), for example using ravel().\n"
     ]
    },
    {
     "data": {
      "text/plain": [
       "RandomizedSearchCV(cv=3, error_score=nan,\n",
       "                   estimator=Pipeline(memory=None,\n",
       "                                      steps=[('preprocessor',\n",
       "                                              ColumnTransformer(n_jobs=None,\n",
       "                                                                remainder='drop',\n",
       "                                                                sparse_threshold=0.3,\n",
       "                                                                transformer_weights=None,\n",
       "                                                                transformers=[('num',\n",
       "                                                                               Pipeline(memory=None,\n",
       "                                                                                        steps=[('scale',\n",
       "                                                                                                StandardScaler(copy=True,\n",
       "                                                                                                               with_mean=True,\n",
       "                                                                                                               with_std=True))],\n",
       "                                                                                        verbose=False),\n",
       "                                                                               ['accommodates',\n",
       "                                                                                'bathrooms',\n",
       "                                                                                'beds...\n",
       "                                                                    random_state=None,\n",
       "                                                                    verbose=0,\n",
       "                                                                    warm_start=False))],\n",
       "                                      verbose=False),\n",
       "                   iid='deprecated', n_iter=10, n_jobs=4,\n",
       "                   param_distributions={'regressor__min_samples_leaf': array([1, 2, 3, 4]),\n",
       "                                        'regressor__min_samples_split': array([2, 3, 4, 5]),\n",
       "                                        'regressor__n_estimators': array([ 8, 10, 12, 14, 16])},\n",
       "                   pre_dispatch='2*n_jobs', random_state=12, refit=True,\n",
       "                   return_train_score=False, scoring='r2', verbose=15)"
      ]
     },
     "execution_count": 24,
     "metadata": {},
     "output_type": "execute_result"
    }
   ],
   "source": [
    "#create pipeline for random forest algorithm\n",
    "pipe3 = Pipeline([('preprocessor', preprocessor1),\n",
    "                  ('regressor', RandomForestRegressor())])\n",
    "\n",
    "param_grid = {'regressor__n_estimators': np.arange(8,17,2), \n",
    "              'regressor__min_samples_split': np.arange(2,6),\n",
    "             'regressor__min_samples_leaf': np.arange(1,5)}\n",
    "\n",
    "clf3 = RandomizedSearchCV(pipe3, param_grid, cv = 3, n_iter = 10, n_jobs = 4,\n",
    "                         scoring = 'r2', random_state = 12, verbose = 15)\n",
    "clf3.fit(X_train, y_train)"
   ]
  },
  {
   "cell_type": "code",
   "execution_count": 25,
   "metadata": {
    "scrolled": true
   },
   "outputs": [
    {
     "name": "stdout",
     "output_type": "stream",
     "text": [
      "{'regressor__n_estimators': 16, 'regressor__min_samples_split': 4, 'regressor__min_samples_leaf': 4}\n"
     ]
    }
   ],
   "source": [
    "print(clf3.best_params_)"
   ]
  },
  {
   "cell_type": "code",
   "execution_count": 26,
   "metadata": {
    "scrolled": true
   },
   "outputs": [
    {
     "name": "stdout",
     "output_type": "stream",
     "text": [
      "Training set r2: 0.77\n",
      "Testing set r2: 0.41\n"
     ]
    }
   ],
   "source": [
    "#model the test set\n",
    "y_pred = clf3.predict(X_test)\n",
    "\n",
    "train_r2 = round(clf3.score(X_train, y_train), 2)\n",
    "test_r2 = round(r2_score(y_test, y_pred), 2)\n",
    "\n",
    "print(\"Training set r2:\", train_r2)\n",
    "print(\"Testing set r2:\", test_r2)"
   ]
  },
  {
   "cell_type": "code",
   "execution_count": 27,
   "metadata": {},
   "outputs": [
    {
     "name": "stdout",
     "output_type": "stream",
     "text": [
      "Testing set r2 after setting baseline: 0.41\n",
      "Mean square error after setting baseline: 2193.45\n",
      "Max error after setting baseline: 784.85\n",
      "Mean absolute error after setting baseline: 23.5\n"
     ]
    }
   ],
   "source": [
    "y_pred = zero_baseline(y_pred)\n",
    "\n",
    "test_r2 = round(r2_score(y_test, y_pred), 2)\n",
    "print(\"Testing set r2 after setting baseline:\", test_r2)\n",
    "\n",
    "mse = round(mean_squared_error(y_test, y_pred), 2)\n",
    "print('Mean square error after setting baseline:', mse)\n",
    "\n",
    "me = round(max_error(y_test, y_pred), 2)\n",
    "print('Max error after setting baseline:', me)\n",
    "\n",
    "mae = round(mean_absolute_error(y_test, y_pred), 2)\n",
    "print('Mean absolute error after setting baseline:', mae)"
   ]
  },
  {
   "cell_type": "code",
   "execution_count": 28,
   "metadata": {},
   "outputs": [
    {
     "name": "stdout",
     "output_type": "stream",
     "text": [
      "Number of feature importance: 9140\n"
     ]
    }
   ],
   "source": [
    "#get feature importance\n",
    "importance = clf3.best_estimator_['regressor'].feature_importances_\n",
    "print('Number of feature importance: {}'.format(len(importance)))"
   ]
  },
  {
   "cell_type": "code",
   "execution_count": 29,
   "metadata": {},
   "outputs": [],
   "source": [
    "#because of pipeline processing, we need to get the updated categorical labels\n",
    "\n",
    "#We get teh label names after onehotencoder\n",
    "label_for_ohe = clf3.best_estimator_['preprocessor'].named_transformers_['cat']['onehot'].get_feature_names()\n",
    "\n",
    "#we get booleans of the features used after VarianceThreshold\n",
    "boolean_feature_used = clf3.best_estimator_['preprocessor'].named_transformers_['cat']['varthres'].get_support()\n",
    "\n",
    "#list of used categorical features\n",
    "cat_label_used = []\n",
    "\n",
    "#a function to identify which labels were used in categorical features\n",
    "for ind, boolean in enumerate(boolean_feature_used):\n",
    "    if boolean:\n",
    "        cat_label_used.append(label_for_ohe[ind])"
   ]
  },
  {
   "cell_type": "code",
   "execution_count": 30,
   "metadata": {},
   "outputs": [],
   "source": [
    "#find the vocabulary used after bag of words\n",
    "vocabulary_used = list(clf3.best_estimator_['preprocessor'].named_transformers_['text1']['Count'].vocabulary_.keys())"
   ]
  },
  {
   "cell_type": "code",
   "execution_count": 31,
   "metadata": {},
   "outputs": [
    {
     "name": "stdout",
     "output_type": "stream",
     "text": [
      "Number of labels: 9140\n"
     ]
    }
   ],
   "source": [
    "#combine labels and print number of labels for validation\n",
    "labels = get_numeric+cat_label_used + vocabulary_used\n",
    "print('Number of labels: {}'.format(len(labels)))"
   ]
  },
  {
   "cell_type": "code",
   "execution_count": 32,
   "metadata": {},
   "outputs": [],
   "source": [
    "#sort the labels by importance\n",
    "sorted_importance = sorted(list(zip(labels, importance)), key = lambda x: x[1], reverse = True)\n",
    "\n",
    "#get the sorted labels and feature importance\n",
    "sort_label = []\n",
    "sort_importance = []\n",
    "for label, value in sorted_importance:\n",
    "    sort_label.append(label)\n",
    "    sort_importance.append(value)"
   ]
  },
  {
   "cell_type": "code",
   "execution_count": 33,
   "metadata": {},
   "outputs": [
    {
     "data": {
      "text/plain": [
       "Text(0, 0.5, 'Feature Importances')"
      ]
     },
     "execution_count": 33,
     "metadata": {},
     "output_type": "execute_result"
    },
    {
     "data": {
      "image/png": "[encoded data removed]",
      "text/plain": [
       "<Figure size 576x432 with 1 Axes>"
      ]
     },
     "metadata": {
      "needs_background": "light"
     },
     "output_type": "display_data"
    }
   ],
   "source": [
    "plt.figure(figsize = (8,6))\n",
    "plt.barh(sort_label[:15], sort_importance[:15])\n",
    "plt.xlabel('Features')\n",
    "plt.ylabel('Feature Importances')"
   ]
  },
  {
   "cell_type": "markdown",
   "metadata": {},
   "source": [
    "Review scores rating overwelmingly contributes to the overall prediction of number of reviews compared other features."
   ]
  },
  {
   "cell_type": "markdown",
   "metadata": {},
   "source": [
    "### e. XG Boosting\n",
    "<a id='boost'></a>"
   ]
  },
  {
   "cell_type": "code",
   "execution_count": 34,
   "metadata": {},
   "outputs": [
    {
     "name": "stdout",
     "output_type": "stream",
     "text": [
      "Fitting 3 folds for each of 10 candidates, totalling 30 fits\n"
     ]
    },
    {
     "name": "stderr",
     "output_type": "stream",
     "text": [
      "[Parallel(n_jobs=4)]: Using backend LokyBackend with 4 concurrent workers.\n",
      "[Parallel(n_jobs=4)]: Done   1 tasks      | elapsed:  2.4min\n",
      "[Parallel(n_jobs=4)]: Done   2 tasks      | elapsed:  2.8min\n",
      "[Parallel(n_jobs=4)]: Done   3 tasks      | elapsed:  2.8min\n",
      "[Parallel(n_jobs=4)]: Done   4 tasks      | elapsed:  2.8min\n",
      "[Parallel(n_jobs=4)]: Done   5 tasks      | elapsed:  4.7min\n",
      "[Parallel(n_jobs=4)]: Done   6 tasks      | elapsed:  5.1min\n",
      "[Parallel(n_jobs=4)]: Done   7 tasks      | elapsed:  6.8min\n",
      "[Parallel(n_jobs=4)]: Done   8 tasks      | elapsed:  6.9min\n",
      "[Parallel(n_jobs=4)]: Done   9 tasks      | elapsed:  7.9min\n",
      "[Parallel(n_jobs=4)]: Done  10 tasks      | elapsed:  9.2min\n",
      "[Parallel(n_jobs=4)]: Done  11 tasks      | elapsed:  9.8min\n",
      "[Parallel(n_jobs=4)]: Done  12 tasks      | elapsed:  9.9min\n",
      "[Parallel(n_jobs=4)]: Done  13 tasks      | elapsed: 13.1min\n",
      "[Parallel(n_jobs=4)]: Done  14 tasks      | elapsed: 14.2min\n",
      "[Parallel(n_jobs=4)]: Done  15 tasks      | elapsed: 14.9min\n",
      "[Parallel(n_jobs=4)]: Done  16 tasks      | elapsed: 16.0min\n",
      "[Parallel(n_jobs=4)]: Done  17 tasks      | elapsed: 19.1min\n",
      "[Parallel(n_jobs=4)]: Done  18 tasks      | elapsed: 19.3min\n",
      "[Parallel(n_jobs=4)]: Done  19 tasks      | elapsed: 20.0min\n",
      "[Parallel(n_jobs=4)]: Done  20 tasks      | elapsed: 20.3min\n",
      "[Parallel(n_jobs=4)]: Done  21 tasks      | elapsed: 22.9min\n",
      "[Parallel(n_jobs=4)]: Done  22 tasks      | elapsed: 24.0min\n",
      "[Parallel(n_jobs=4)]: Done  23 tasks      | elapsed: 24.3min\n",
      "[Parallel(n_jobs=4)]: Done  26 out of  30 | elapsed: 25.5min remaining:  3.9min\n",
      "[Parallel(n_jobs=4)]: Done  30 out of  30 | elapsed: 28.6min finished\n"
     ]
    },
    {
     "name": "stdout",
     "output_type": "stream",
     "text": [
      "[12:37:36] WARNING: C:/Jenkins/workspace/xgboost-win64_release_0.90/src/objective/regression_obj.cu:152: reg:linear is now deprecated in favor of reg:squarederror.\n"
     ]
    },
    {
     "data": {
      "text/plain": [
       "RandomizedSearchCV(cv=3, error_score=nan,\n",
       "                   estimator=Pipeline(memory=None,\n",
       "                                      steps=[('preprocessor',\n",
       "                                              ColumnTransformer(n_jobs=None,\n",
       "                                                                remainder='drop',\n",
       "                                                                sparse_threshold=0.3,\n",
       "                                                                transformer_weights=None,\n",
       "                                                                transformers=[('num',\n",
       "                                                                               Pipeline(memory=None,\n",
       "                                                                                        steps=[('scale',\n",
       "                                                                                                StandardScaler(copy=True,\n",
       "                                                                                                               with_mean=True,\n",
       "                                                                                                               with_std=True))],\n",
       "                                                                                        verbose=False),\n",
       "                                                                               ['accommodates',\n",
       "                                                                                'bathrooms',\n",
       "                                                                                'beds...\n",
       "                   iid='deprecated', n_iter=10, n_jobs=4,\n",
       "                   param_distributions={'regressor__learning_rate': [0.001,\n",
       "                                                                     0.01, 0.1,\n",
       "                                                                     0.3],\n",
       "                                        'regressor__max_depth': array([3, 4, 5]),\n",
       "                                        'regressor__n_estimators': [100, 200,\n",
       "                                                                    300, 400,\n",
       "                                                                    500],\n",
       "                                        'regressor__reg_alpha': array([0. , 0.1, 0.2, 0.3, 0.4, 0.5, 0.6, 0.7, 0.8, 0.9])},\n",
       "                   pre_dispatch='2*n_jobs', random_state=12, refit=True,\n",
       "                   return_train_score=False, scoring='r2', verbose=15)"
      ]
     },
     "execution_count": 34,
     "metadata": {},
     "output_type": "execute_result"
    }
   ],
   "source": [
    "#create pipeline for gradient boosted random forest algorithm\n",
    "pipe4 = Pipeline([('preprocessor', preprocessor1), \n",
    "                  ('regressor', XGBRegressor())])\n",
    "\n",
    "param_grid = {'regressor__n_estimators': [100, 200, 300, 400, 500],\n",
    "              'regressor__learning_rate': [0.001, 0.01, 0.1, 0.3],\n",
    "              'regressor__max_depth': np.arange(3,6), \n",
    "              'regressor__reg_alpha': np.arange(0,1,0.1)}\n",
    "\n",
    "clf4 = RandomizedSearchCV(pipe4, param_grid, cv = 3, n_iter = 10, n_jobs = 4,\n",
    "                         scoring = 'r2', random_state = 12, verbose = 15)\n",
    "clf4.fit(X_train, y_train)"
   ]
  },
  {
   "cell_type": "code",
   "execution_count": 35,
   "metadata": {
    "scrolled": true
   },
   "outputs": [
    {
     "name": "stdout",
     "output_type": "stream",
     "text": [
      "{'regressor__reg_alpha': 0.30000000000000004, 'regressor__n_estimators': 400, 'regressor__max_depth': 4, 'regressor__learning_rate': 0.1}\n"
     ]
    }
   ],
   "source": [
    "print(clf4.best_params_)"
   ]
  },
  {
   "cell_type": "code",
   "execution_count": 36,
   "metadata": {
    "scrolled": true
   },
   "outputs": [
    {
     "name": "stdout",
     "output_type": "stream",
     "text": [
      "Training set r2: 0.63\n",
      "Testing set r2: 0.42\n"
     ]
    }
   ],
   "source": [
    "#model the test set\n",
    "y_pred = clf4.predict(X_test)\n",
    "\n",
    "train_r2 = round(clf4.score(X_train, y_train), 2)\n",
    "test_r2 = round(r2_score(y_test, y_pred), 2)\n",
    "\n",
    "print(\"Training set r2:\", train_r2)\n",
    "print(\"Testing set r2:\", test_r2)"
   ]
  },
  {
   "cell_type": "code",
   "execution_count": 37,
   "metadata": {},
   "outputs": [
    {
     "name": "stdout",
     "output_type": "stream",
     "text": [
      "Testing set r2 after setting baseline: 0.42\n",
      "Mean square error after setting baseline: 2163.8\n",
      "Max error after setting baseline: 759.86\n",
      "Mean absolute error after setting baseline: 25.41\n"
     ]
    }
   ],
   "source": [
    "y_pred = zero_baseline(y_pred)\n",
    "\n",
    "test_r2 = round(r2_score(y_test, y_pred), 2)\n",
    "print(\"Testing set r2 after setting baseline:\", test_r2)\n",
    "\n",
    "mse = round(mean_squared_error(y_test, y_pred), 2)\n",
    "print('Mean square error after setting baseline:', mse)\n",
    "\n",
    "me = round(max_error(y_test, y_pred), 2)\n",
    "print('Max error after setting baseline:', me)\n",
    "\n",
    "mae = round(mean_absolute_error(y_test, y_pred), 2)\n",
    "print('Mean absolute error after setting baseline:', mae)"
   ]
  },
  {
   "cell_type": "code",
   "execution_count": 38,
   "metadata": {},
   "outputs": [
    {
     "data": {
      "text/plain": [
       "Text(0, 0.5, 'Feature Importances')"
      ]
     },
     "execution_count": 38,
     "metadata": {},
     "output_type": "execute_result"
    },
    {
     "data": {
      "image/png": "[encoded data removed]",
      "text/plain": [
       "<Figure size 576x432 with 1 Axes>"
      ]
     },
     "metadata": {
      "needs_background": "light"
     },
     "output_type": "display_data"
    }
   ],
   "source": [
    "xgImportance = clf4.best_estimator_['regressor'].feature_importances_\n",
    "\n",
    "\n",
    "#sort the labels by importance\n",
    "sorted_xgImportance = sorted(list(zip(labels, xgImportance)), key = lambda x: x[1], reverse = True)\n",
    "\n",
    "#get the sorted labels and feature importance\n",
    "sort_xglabel = []\n",
    "sort_xgimportance = []\n",
    "for label, value in sorted_xgImportance:\n",
    "    sort_xglabel.append(label)\n",
    "    sort_xgimportance.append(value)\n",
    "\n",
    "    \n",
    "plt.figure(figsize = (8,6))\n",
    "plt.barh(sort_xglabel[:15], sort_xgimportance[:15])\n",
    "plt.xlabel('Features')\n",
    "plt.ylabel('Feature Importances')"
   ]
  },
  {
   "cell_type": "code",
   "execution_count": 39,
   "metadata": {},
   "outputs": [],
   "source": [
    "#explain model with shap\n",
    "#because shap only accepts arrays as arguments we must convert the processed X_train to an array\n",
    "x_process = clf4.best_estimator_['preprocessor'].fit_transform(X_train)\n",
    "x_array_train = x_process.toarray()"
   ]
  },
  {
   "cell_type": "code",
   "execution_count": 40,
   "metadata": {},
   "outputs": [
    {
     "name": "stdout",
     "output_type": "stream",
     "text": [
      "[12:40:39] WARNING: C:/Jenkins/workspace/xgboost-win64_release_0.90/src/objective/regression_obj.cu:152: reg:linear is now deprecated in favor of reg:squarederror.\n"
     ]
    },
    {
     "data": {
      "text/plain": [
       "XGBRegressor(base_score=0.5, booster='gbtree', colsample_bylevel=1,\n",
       "             colsample_bynode=1, colsample_bytree=1, gamma=0,\n",
       "             importance_type='gain', learning_rate=0.1, max_delta_step=0,\n",
       "             max_depth=4, min_child_weight=1, missing=None, n_estimators=400,\n",
       "             n_jobs=1, nthread=None, objective='reg:linear', random_state=0,\n",
       "             reg_alpha=0.30000000000000004, reg_lambda=1, scale_pos_weight=1,\n",
       "             seed=None, silent=None, subsample=1, verbosity=1)"
      ]
     },
     "execution_count": 40,
     "metadata": {},
     "output_type": "execute_result"
    }
   ],
   "source": [
    "#retrain the classifier with the new array while keeping the best estimator\n",
    "classifier = clf4.best_estimator_['regressor']\n",
    "classifier.fit(x_array_train,y_train)"
   ]
  },
  {
   "cell_type": "code",
   "execution_count": 41,
   "metadata": {},
   "outputs": [],
   "source": [
    "#fit the XGB to the TreeExplainer\n",
    "XGBexplainer = shap.TreeExplainer(classifier, data = x_array_train[:100])\n",
    "\n",
    "shap_values = XGBexplainer.shap_values(x_array_train[:100])"
   ]
  },
  {
   "cell_type": "code",
   "execution_count": 42,
   "metadata": {},
   "outputs": [
    {
     "data": {
      "image/png": "[encoded data removed]",
      "text/plain": [
       "<Figure size 576x684 with 2 Axes>"
      ]
     },
     "metadata": {
      "needs_background": "light"
     },
     "output_type": "display_data"
    }
   ],
   "source": [
    "shap.summary_plot(shap_values, x_array_train[:100], feature_names=labels)"
   ]
  },
  {
   "cell_type": "code",
   "execution_count": 43,
   "metadata": {
    "scrolled": false
   },
   "outputs": [
    {
     "data": {
      "image/png": "[encoded data removed]",
      "text/plain": [
       "<Figure size 1440x216 with 1 Axes>"
      ]
     },
     "metadata": {
      "needs_background": "light"
     },
     "output_type": "display_data"
    }
   ],
   "source": [
    "shap.force_plot(XGBexplainer.expected_value, shap_values[0], x_array_train[0], matplotlib=True, \n",
    "                feature_names=labels, text_rotation=20)"
   ]
  },
  {
   "cell_type": "markdown",
   "metadata": {},
   "source": [
    "### f. Deep Learning\n",
    "<a id='learn'></a>"
   ]
  },
  {
   "cell_type": "code",
   "execution_count": 44,
   "metadata": {},
   "outputs": [],
   "source": [
    "#text to sequence for title with max # words of 10000\n",
    "tokenizer_tit = Tokenizer(num_words=10000, filters='!\"#$%&()*+,-./:;<=>?@[\\]^_`{|}~', lower=True)\n",
    "tokenizer_tit.fit_on_texts(df['name_description'])\n",
    "X_name = tokenizer_tit.texts_to_sequences(df['name_description'])"
   ]
  },
  {
   "cell_type": "code",
   "execution_count": 45,
   "metadata": {},
   "outputs": [],
   "source": [
    "X_name = pad_sequences(X_name, maxlen=50, padding = 'post')"
   ]
  },
  {
   "cell_type": "code",
   "execution_count": 46,
   "metadata": {},
   "outputs": [],
   "source": [
    "#scale numerical features\n",
    "scale = StandardScaler()\n",
    "temp1 = scale.fit_transform(df[get_numeric])\n",
    "\n",
    "#encode categorical features\n",
    "onehot = OneHotEncoder(sparse = False, handle_unknown = 'ignore')\n",
    "temp2 = onehot.fit_transform(df[get_categorical])\n",
    "varthre = VarianceThreshold(threshold = 0.99*(1-0.99))\n",
    "temp2 = varthre.fit_transform(temp2)\n",
    "\n",
    "#concatenate numerical and categorical features\n",
    "X = np.concatenate((temp1,temp2), axis = 1)\n",
    "\n",
    "#set target variable\n",
    "y = df['number_of_reviews']\n",
    "y = np.array(y).reshape((-1,1))"
   ]
  },
  {
   "cell_type": "code",
   "execution_count": 47,
   "metadata": {},
   "outputs": [],
   "source": [
    "X_name_train, X_name_test, X_train, X_test, y_train, y_test = (\n",
    "    train_test_split(X_name, X, y, test_size = 0.2, random_state = 10))"
   ]
  },
  {
   "cell_type": "code",
   "execution_count": 48,
   "metadata": {},
   "outputs": [],
   "source": [
    "#input shape\n",
    "seq_length = X_name.shape[1]\n",
    "meta_length = X.shape[1]"
   ]
  },
  {
   "cell_type": "code",
   "execution_count": 49,
   "metadata": {
    "scrolled": false
   },
   "outputs": [
    {
     "name": "stdout",
     "output_type": "stream",
     "text": [
      "WARNING:tensorflow:From C:\\Users\\sadmin\\Anaconda3\\lib\\site-packages\\keras\\backend\\tensorflow_backend.py:517: The name tf.placeholder is deprecated. Please use tf.compat.v1.placeholder instead.\n",
      "\n",
      "WARNING:tensorflow:From C:\\Users\\sadmin\\Anaconda3\\lib\\site-packages\\keras\\backend\\tensorflow_backend.py:74: The name tf.get_default_graph is deprecated. Please use tf.compat.v1.get_default_graph instead.\n",
      "\n",
      "WARNING:tensorflow:From C:\\Users\\sadmin\\Anaconda3\\lib\\site-packages\\keras\\backend\\tensorflow_backend.py:4138: The name tf.random_uniform is deprecated. Please use tf.random.uniform instead.\n",
      "\n",
      "WARNING:tensorflow:From C:\\Users\\sadmin\\Anaconda3\\lib\\site-packages\\keras\\backend\\tensorflow_backend.py:133: The name tf.placeholder_with_default is deprecated. Please use tf.compat.v1.placeholder_with_default instead.\n",
      "\n",
      "WARNING:tensorflow:From C:\\Users\\sadmin\\Anaconda3\\lib\\site-packages\\keras\\backend\\tensorflow_backend.py:3445: calling dropout (from tensorflow.python.ops.nn_ops) with keep_prob is deprecated and will be removed in a future version.\n",
      "Instructions for updating:\n",
      "Please use `rate` instead of `keep_prob`. Rate should be set to `rate = 1 - keep_prob`.\n",
      "WARNING:tensorflow:From C:\\Users\\sadmin\\Anaconda3\\lib\\site-packages\\keras\\optimizers.py:790: The name tf.train.Optimizer is deprecated. Please use tf.compat.v1.train.Optimizer instead.\n",
      "\n",
      "WARNING:tensorflow:From C:\\Users\\sadmin\\Anaconda3\\lib\\site-packages\\tensorflow\\python\\ops\\math_grad.py:1250: add_dispatch_support.<locals>.wrapper (from tensorflow.python.ops.array_ops) is deprecated and will be removed in a future version.\n",
      "Instructions for updating:\n",
      "Use tf.where in 2.0, which has the same broadcast rule as np.where\n",
      "WARNING:tensorflow:From C:\\Users\\sadmin\\Anaconda3\\lib\\site-packages\\keras\\backend\\tensorflow_backend.py:986: The name tf.assign_add is deprecated. Please use tf.compat.v1.assign_add instead.\n",
      "\n",
      "Train on 21417 samples, validate on 5355 samples\n",
      "Epoch 1/500\n",
      " - 29s - loss: 4982.8548 - mean_absolute_error: 35.3619 - val_loss: 4857.3756 - val_mean_absolute_error: 34.9901\n",
      "Epoch 2/500\n",
      " - 27s - loss: 4601.0599 - mean_absolute_error: 33.1171 - val_loss: 4043.4942 - val_mean_absolute_error: 31.2860\n",
      "Epoch 3/500\n",
      " - 27s - loss: 3697.7721 - mean_absolute_error: 31.5241 - val_loss: 3246.0125 - val_mean_absolute_error: 32.1737\n",
      "Epoch 4/500\n",
      " - 36s - loss: 3149.5434 - mean_absolute_error: 33.3570 - val_loss: 2914.6002 - val_mean_absolute_error: 33.6825\n",
      "Epoch 5/500\n",
      " - 38s - loss: 2909.2058 - mean_absolute_error: 33.6258 - val_loss: 2745.5790 - val_mean_absolute_error: 32.8205\n",
      "Epoch 6/500\n",
      " - 30s - loss: 2752.9740 - mean_absolute_error: 32.4196 - val_loss: 2621.1025 - val_mean_absolute_error: 31.1169\n",
      "Epoch 7/500\n",
      " - 31s - loss: 2638.5462 - mean_absolute_error: 30.8382 - val_loss: 2541.4689 - val_mean_absolute_error: 29.7636\n",
      "Epoch 8/500\n",
      " - 27s - loss: 2566.2895 - mean_absolute_error: 29.8619 - val_loss: 2493.2338 - val_mean_absolute_error: 28.6636\n",
      "Epoch 9/500\n",
      " - 30s - loss: 2504.9468 - mean_absolute_error: 28.8311 - val_loss: 2453.3876 - val_mean_absolute_error: 27.8976\n",
      "Epoch 10/500\n",
      " - 24s - loss: 2472.3661 - mean_absolute_error: 28.5503 - val_loss: 2417.1934 - val_mean_absolute_error: 26.9643\n",
      "Epoch 11/500\n",
      " - 33s - loss: 2429.3210 - mean_absolute_error: 27.9941 - val_loss: 2376.8577 - val_mean_absolute_error: 27.0034\n",
      "Epoch 12/500\n",
      " - 32s - loss: 2407.2859 - mean_absolute_error: 27.9021 - val_loss: 2349.9220 - val_mean_absolute_error: 26.6744\n",
      "Epoch 13/500\n",
      " - 38s - loss: 2366.3109 - mean_absolute_error: 27.6466 - val_loss: 2331.6467 - val_mean_absolute_error: 26.1956\n",
      "Epoch 14/500\n",
      " - 33s - loss: 2340.7279 - mean_absolute_error: 27.2638 - val_loss: 2306.2855 - val_mean_absolute_error: 26.5102\n",
      "Epoch 15/500\n",
      " - 36s - loss: 2314.4613 - mean_absolute_error: 27.1616 - val_loss: 2291.8920 - val_mean_absolute_error: 26.3260\n",
      "Epoch 16/500\n",
      " - 32s - loss: 2292.7299 - mean_absolute_error: 27.0171 - val_loss: 2277.4288 - val_mean_absolute_error: 26.0347\n",
      "Epoch 17/500\n",
      " - 27s - loss: 2272.2726 - mean_absolute_error: 26.8886 - val_loss: 2265.8277 - val_mean_absolute_error: 25.8046\n",
      "Epoch 18/500\n",
      " - 31s - loss: 2248.1378 - mean_absolute_error: 26.6985 - val_loss: 2249.9064 - val_mean_absolute_error: 25.7289\n",
      "Epoch 19/500\n",
      " - 32s - loss: 2229.5924 - mean_absolute_error: 26.4879 - val_loss: 2241.8051 - val_mean_absolute_error: 25.6426\n",
      "Epoch 20/500\n",
      " - 31s - loss: 2203.4609 - mean_absolute_error: 26.3687 - val_loss: 2238.4906 - val_mean_absolute_error: 25.2912\n",
      "Epoch 21/500\n",
      " - 29s - loss: 2181.6966 - mean_absolute_error: 26.1581 - val_loss: 2224.9280 - val_mean_absolute_error: 25.4714\n",
      "Epoch 22/500\n",
      " - 29s - loss: 2168.3410 - mean_absolute_error: 26.0450 - val_loss: 2218.3728 - val_mean_absolute_error: 25.4906\n",
      "Epoch 23/500\n",
      " - 29s - loss: 2156.4311 - mean_absolute_error: 25.9618 - val_loss: 2208.9575 - val_mean_absolute_error: 25.4450\n",
      "Epoch 24/500\n",
      " - 30s - loss: 2112.1173 - mean_absolute_error: 25.7018 - val_loss: 2211.1760 - val_mean_absolute_error: 25.4714\n",
      "Epoch 25/500\n",
      " - 31s - loss: 2121.0895 - mean_absolute_error: 25.7379 - val_loss: 2212.1005 - val_mean_absolute_error: 25.9643\n",
      "Epoch 26/500\n",
      " - 35s - loss: 2096.1567 - mean_absolute_error: 25.6180 - val_loss: 2206.8973 - val_mean_absolute_error: 25.4672\n",
      "Epoch 27/500\n",
      " - 32s - loss: 2084.2273 - mean_absolute_error: 25.5182 - val_loss: 2204.3764 - val_mean_absolute_error: 25.1112\n",
      "Epoch 28/500\n",
      " - 36s - loss: 2067.4988 - mean_absolute_error: 25.2897 - val_loss: 2200.6815 - val_mean_absolute_error: 25.1434\n",
      "Epoch 29/500\n",
      " - 34s - loss: 2038.8373 - mean_absolute_error: 25.1456 - val_loss: 2196.5572 - val_mean_absolute_error: 25.3647\n",
      "Epoch 30/500\n",
      " - 35s - loss: 2015.7738 - mean_absolute_error: 25.0097 - val_loss: 2193.8771 - val_mean_absolute_error: 24.9891\n",
      "Epoch 31/500\n",
      " - 36s - loss: 1987.7129 - mean_absolute_error: 24.7714 - val_loss: 2196.7818 - val_mean_absolute_error: 25.4073\n",
      "Epoch 32/500\n",
      " - 40s - loss: 1974.8159 - mean_absolute_error: 24.6726 - val_loss: 2186.4245 - val_mean_absolute_error: 25.0553\n",
      "Epoch 33/500\n",
      " - 39s - loss: 1958.5043 - mean_absolute_error: 24.7329 - val_loss: 2184.4191 - val_mean_absolute_error: 25.0496\n",
      "Epoch 34/500\n",
      " - 37s - loss: 1919.5830 - mean_absolute_error: 24.3338 - val_loss: 2191.6869 - val_mean_absolute_error: 25.5539\n",
      "Epoch 35/500\n",
      " - 38s - loss: 1892.6740 - mean_absolute_error: 24.2230 - val_loss: 2204.5120 - val_mean_absolute_error: 25.6574\n",
      "Epoch 36/500\n",
      " - 41s - loss: 1864.8061 - mean_absolute_error: 24.1368 - val_loss: 2209.6989 - val_mean_absolute_error: 25.8534\n",
      "Epoch 37/500\n",
      " - 41s - loss: 1855.1729 - mean_absolute_error: 23.9711 - val_loss: 2188.0543 - val_mean_absolute_error: 25.3586\n"
     ]
    }
   ],
   "source": [
    "#create nlp input\n",
    "nlp_input = Input(shape=(seq_length,), name='nlp_input')\n",
    "\n",
    "#create categorical and numerical input\n",
    "meta_input = Input(shape=(meta_length,), name='meta_input')\n",
    "\n",
    "#embedding for title with word vector size of 50 \n",
    "emb = Embedding(input_dim = 10000, output_dim=100, input_length=seq_length)(nlp_input)\n",
    "#LSTM network with 64 memory unit\n",
    "nlp_out = LSTM(64, dropout=0.3, recurrent_dropout=0.3)(emb)\n",
    "\n",
    "\n",
    "#meta input and layer1\n",
    "meta_layer1 = Dense(256, input_shape = (meta_length,))(meta_input)\n",
    "meta_layer1 = Activation('relu')(meta_layer1)\n",
    "\n",
    "#layer2\n",
    "meta_layer2 = Dense(128)(meta_layer1)\n",
    "meta_layer2 = Dropout(0.3)(meta_layer2)\n",
    "meta_layer2 = Activation('relu')(meta_layer2)\n",
    "\n",
    "#layer3\n",
    "meta_layer3 = Dense(64, kernel_regularizer=regularizers.l2(0.02))(meta_layer2)\n",
    "meta_layer3 = BatchNormalization()(meta_layer3)\n",
    "meta_out = Activation('relu')(meta_layer3)\n",
    "\n",
    "\n",
    "#merge layers\n",
    "merged_X = Concatenate(axis = 1)([nlp_out, meta_out])\n",
    "\n",
    "#fully connected layers\n",
    "FC1 = Dense(64, activation='relu')(merged_X)\n",
    "FC2 = Dense(64, activation='relu')(FC1)\n",
    "FC3 = Dense(1, activation='linear')(FC2)\n",
    "model = Model(inputs=[nlp_input, meta_input], outputs=[FC3])\n",
    "\n",
    "#use binary cross entropy because we have a binary classification with Adam optimizer at learning rate of 0.00003\n",
    "model.compile(optimizer =  Adam(lr=0.00004), loss = 'mean_squared_error', metrics = ['mae'])\n",
    "callbacks = [EarlyStopping(monitor='val_loss', patience=4)]\n",
    "                         \n",
    "hist = model.fit([X_name_train, X_train], y_train, \n",
    "               validation_split = 0.2, batch_size = 128, epochs = 500, verbose = 2, callbacks=callbacks)"
   ]
  },
  {
   "cell_type": "code",
   "execution_count": 50,
   "metadata": {},
   "outputs": [
    {
     "name": "stdout",
     "output_type": "stream",
     "text": [
      "__________________________________________________________________________________________________\n",
      "Layer (type)                    Output Shape         Param #     Connected to                     \n",
      "==================================================================================================\n",
      "meta_input (InputLayer)         (None, 76)           0                                            \n",
      "__________________________________________________________________________________________________\n",
      "dense_1 (Dense)                 (None, 256)          19712       meta_input[0][0]                 \n",
      "__________________________________________________________________________________________________\n",
      "activation_1 (Activation)       (None, 256)          0           dense_1[0][0]                    \n",
      "__________________________________________________________________________________________________\n",
      "dense_2 (Dense)                 (None, 128)          32896       activation_1[0][0]               \n",
      "__________________________________________________________________________________________________\n",
      "dropout_1 (Dropout)             (None, 128)          0           dense_2[0][0]                    \n",
      "__________________________________________________________________________________________________\n",
      "activation_2 (Activation)       (None, 128)          0           dropout_1[0][0]                  \n",
      "__________________________________________________________________________________________________\n",
      "nlp_input (InputLayer)          (None, 50)           0                                            \n",
      "__________________________________________________________________________________________________\n",
      "dense_3 (Dense)                 (None, 64)           8256        activation_2[0][0]               \n",
      "__________________________________________________________________________________________________\n",
      "embedding_1 (Embedding)         (None, 50, 100)      1000000     nlp_input[0][0]                  \n",
      "__________________________________________________________________________________________________\n",
      "batch_normalization_1 (BatchNor (None, 64)           256         dense_3[0][0]                    \n",
      "__________________________________________________________________________________________________\n",
      "lstm_1 (LSTM)                   (None, 64)           42240       embedding_1[0][0]                \n",
      "__________________________________________________________________________________________________\n",
      "activation_3 (Activation)       (None, 64)           0           batch_normalization_1[0][0]      \n",
      "__________________________________________________________________________________________________\n",
      "concatenate_1 (Concatenate)     (None, 128)          0           lstm_1[0][0]                     \n",
      "                                                                 activation_3[0][0]               \n",
      "__________________________________________________________________________________________________\n",
      "dense_4 (Dense)                 (None, 64)           8256        concatenate_1[0][0]              \n",
      "__________________________________________________________________________________________________\n",
      "dense_5 (Dense)                 (None, 64)           4160        dense_4[0][0]                    \n",
      "__________________________________________________________________________________________________\n",
      "dense_6 (Dense)                 (None, 1)            65          dense_5[0][0]                    \n",
      "==================================================================================================\n",
      "Total params: 1,115,841\n",
      "Trainable params: 1,115,713\n",
      "Non-trainable params: 128\n",
      "__________________________________________________________________________________________________\n"
     ]
    }
   ],
   "source": [
    "model.summary()"
   ]
  },
  {
   "cell_type": "code",
   "execution_count": 51,
   "metadata": {},
   "outputs": [
    {
     "data": {
      "text/plain": [
       "<matplotlib.legend.Legend at 0x224b448dbc8>"
      ]
     },
     "execution_count": 51,
     "metadata": {},
     "output_type": "execute_result"
    },
    {
     "data": {
      "image/png": "[encoded data removed]",
      "text/plain": [
       "<Figure size 432x288 with 1 Axes>"
      ]
     },
     "metadata": {
      "needs_background": "light"
     },
     "output_type": "display_data"
    }
   ],
   "source": [
    "plt.plot(hist.history['loss'])\n",
    "plt.plot(hist.history['val_loss'])\n",
    "plt.ylabel('Loss')\n",
    "plt.xlabel('Epoch')\n",
    "plt.title('Model Loss')\n",
    "plt.legend(['Train', 'Validation'])"
   ]
  },
  {
   "cell_type": "code",
   "execution_count": 52,
   "metadata": {
    "scrolled": true
   },
   "outputs": [
    {
     "name": "stdout",
     "output_type": "stream",
     "text": [
      "Training set r2: 0.52\n",
      "Testing set r2: 0.41\n"
     ]
    }
   ],
   "source": [
    "#model the test set\n",
    "y_pred_train = model.predict([X_name_train, X_train])\n",
    "y_pred = model.predict([X_name_test, X_test])\n",
    "\n",
    "\n",
    "train_r2 = round(r2_score(y_train, y_pred_train), 2)\n",
    "test_r2 = round(r2_score(y_test, y_pred), 2)\n",
    "\n",
    "print(\"Training set r2:\", train_r2)\n",
    "print(\"Testing set r2:\", test_r2)"
   ]
  },
  {
   "cell_type": "code",
   "execution_count": 53,
   "metadata": {},
   "outputs": [
    {
     "name": "stdout",
     "output_type": "stream",
     "text": [
      "Testing set r2 after setting baseline: 0.41\n",
      "Mean square error after setting baseline: 2207.13\n",
      "Max error after setting baseline: 708.25\n",
      "Mean absolute error after setting baseline: 25.12\n"
     ]
    }
   ],
   "source": [
    "y_pred = zero_baseline(y_pred)\n",
    "\n",
    "test_r2 = round(r2_score(y_test, y_pred), 2)\n",
    "print(\"Testing set r2 after setting baseline:\", test_r2)\n",
    "\n",
    "mse = round(mean_squared_error(y_test, y_pred), 2)\n",
    "print('Mean square error after setting baseline:', mse)\n",
    "\n",
    "me = round(max_error(y_test, y_pred), 2)\n",
    "print('Max error after setting baseline:', me)\n",
    "\n",
    "mae = round(mean_absolute_error(y_test, y_pred), 2)\n",
    "print('Mean absolute error after setting baseline:', mae)"
   ]
  },
  {
   "cell_type": "code",
   "execution_count": null,
   "metadata": {},
   "outputs": [],
   "source": []
  }
 ],
 "metadata": {
  "kernelspec": {
   "display_name": "Python 3",
   "language": "python",
   "name": "python3"
  },
  "language_info": {
   "codemirror_mode": {
    "name": "ipython",
    "version": 3
   },
   "file_extension": ".py",
   "mimetype": "text/x-python",
   "name": "python",
   "nbconvert_exporter": "python",
   "pygments_lexer": "ipython3",
   "version": "3.7.6"
  }
 },
 "nbformat": 4,
 "nbformat_minor": 2
}
